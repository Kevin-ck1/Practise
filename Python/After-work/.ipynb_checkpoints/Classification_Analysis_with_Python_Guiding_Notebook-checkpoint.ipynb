{
 "cells": [
  {
   "cell_type": "markdown",
   "metadata": {
    "id": "kLG2VTrnTvYL"
   },
   "source": [
    "## <font color='#2F4F4F'>1. Defining the Question</font>"
   ]
  },
  {
   "cell_type": "markdown",
   "metadata": {
    "id": "XecOwPNorl2W"
   },
   "source": [
    "### a) Specifying the Data Analysis Question\n",
    "\n",
    "What is your research question? What problem is it that you are trying to solve?"
   ]
  },
  {
   "cell_type": "markdown",
   "metadata": {
    "id": "J4wfHZwQrs-t"
   },
   "source": [
    "### b) Defining the Metric for Success\n",
    "\n",
    "What will convince you that your project has succeeded?"
   ]
  },
  {
   "cell_type": "markdown",
   "metadata": {
    "id": "a9BPYqunry97"
   },
   "source": [
    "### c) Understanding the Context \n",
    "\n",
    "The background information surrounding the problem or research question."
   ]
  },
  {
   "cell_type": "markdown",
   "metadata": {
    "id": "7KMRBJ7zr9HD"
   },
   "source": [
    "### d) Recording the Experimental Design\n",
    "\n",
    "The steps you will take from the beginning to the end of this project."
   ]
  },
  {
   "cell_type": "markdown",
   "metadata": {
    "id": "zSGyg6kWsBUl"
   },
   "source": [
    "### e) Data Relevance\n",
    "\n",
    "Is the provided data relevant to the problem or research question?"
   ]
  },
  {
   "cell_type": "markdown",
   "metadata": {
    "id": "iUNbvIvnT7ep"
   },
   "source": [
    "## <font color='#2F4F4F'>2. Data Cleaning & Preparation</font>"
   ]
  },
  {
   "cell_type": "code",
   "execution_count": null,
   "metadata": {
    "id": "0mdPO_JOasC1"
   },
   "outputs": [],
   "source": [
    "# load libraries\n",
    "import pandas as pd\n",
    "import numpy as np\n",
    "import matplotlib.pyplot as plt\n",
    "import seaborn as sns\n",
    "\n",
    "%matplotlib inline\n",
    "\n",
    "# to display all columns\n",
    "pd.set_option('display.max.columns', None)\n",
    "\n",
    "# to display the entire contents of a cell\n",
    "pd.set_option('display.max_colwidth', None)"
   ]
  },
  {
   "cell_type": "code",
   "execution_count": null,
   "metadata": {
    "id": "XJn2KjW-WMlG"
   },
   "outputs": [],
   "source": [
    "# load and preview dataset\n",
    "df = pd.read_csv('call-center-data-QueryResult.csv')\n",
    "df.sample(3)"
   ]
  },
  {
   "cell_type": "code",
   "execution_count": null,
   "metadata": {
    "id": "rUCMVxAVasDI"
   },
   "outputs": [],
   "source": [
    "# load glossary\n",
    "glossary = pd.read_csv('classification_analysis_glossary.csv',header = None)\n",
    "glossary"
   ]
  },
  {
   "cell_type": "code",
   "execution_count": null,
   "metadata": {
    "id": "T3nO8Pr0asDa"
   },
   "outputs": [],
   "source": [
    "# check dataset shape\n",
    "df.shape"
   ]
  },
  {
   "cell_type": "markdown",
   "metadata": {
    "id": "V0L7v6F2asDt"
   },
   "source": [
    "Our dataset has 12,892 records and 23 variables."
   ]
  },
  {
   "cell_type": "markdown",
   "metadata": {
    "id": "Wj_MLc33asDv"
   },
   "source": [
    "We will drop 'recordid' and 'customer_id' since we have no need of them and they would interfere with our analysis."
   ]
  },
  {
   "cell_type": "code",
   "execution_count": null,
   "metadata": {
    "id": "OK4RrExBasD4"
   },
   "outputs": [],
   "source": [
    "df.drop(columns = ['recordid', 'customer_id'], inplace = True)"
   ]
  },
  {
   "cell_type": "code",
   "execution_count": null,
   "metadata": {
    "id": "t8WGzIueasEB"
   },
   "outputs": [],
   "source": [
    "# preview variable datatypes\n",
    "df.dtypes"
   ]
  },
  {
   "cell_type": "markdown",
   "metadata": {
    "id": "W0swT5hLasEU"
   },
   "source": [
    "With the exception of the 'international_plan', 'voice_mail_plan', and 'churn' variables which are boolean, this dataset is numerical."
   ]
  },
  {
   "cell_type": "code",
   "execution_count": null,
   "metadata": {
    "id": "Lncux1rmasEW"
   },
   "outputs": [],
   "source": [
    "# check for duplicates\n",
    "df.duplicated().sum()"
   ]
  },
  {
   "cell_type": "markdown",
   "metadata": {
    "id": "sEH9EDx-asEZ"
   },
   "source": [
    "7,892 duplicated records are found. We will drop them."
   ]
  },
  {
   "cell_type": "code",
   "execution_count": null,
   "metadata": {
    "id": "UzmhHpehasEa"
   },
   "outputs": [],
   "source": [
    "df = df.drop_duplicates()\n",
    "df.shape"
   ]
  },
  {
   "cell_type": "code",
   "execution_count": null,
   "metadata": {
    "id": "7tOe_SdmasEd"
   },
   "outputs": [],
   "source": [
    "# check for missing values\n",
    "df.isna().sum()"
   ]
  },
  {
   "cell_type": "markdown",
   "metadata": {
    "id": "VUq1Soc9asEh"
   },
   "source": [
    "No missing values found. We will look at the unique values in each variable just to be safe."
   ]
  },
  {
   "cell_type": "code",
   "execution_count": null,
   "metadata": {
    "id": "Sc73gdLSasEi"
   },
   "outputs": [],
   "source": [
    "columns = df.columns\n",
    "\n",
    "for col in columns:\n",
    "    print(\"Variable:\", col)\n",
    "    print(\"Number of unique values:\", df[col].nunique())\n",
    "    print(df[col].unique())\n",
    "    print()"
   ]
  },
  {
   "cell_type": "markdown",
   "metadata": {
    "id": "hFhi0sj6asEm"
   },
   "source": [
    "We can confirm that there are no missing values in this dataset."
   ]
  },
  {
   "cell_type": "code",
   "execution_count": null,
   "metadata": {
    "id": "Ud9j8MuYasEn"
   },
   "outputs": [],
   "source": []
  },
  {
   "cell_type": "markdown",
   "metadata": {
    "id": "W2ztYk64asEq"
   },
   "source": [
    "An anomaly has been noted: there appears to be duplicated columns between 'total_intl_minutes' and 'total_intl_minutes_2', and 'total_intl_calls' and 'total_intl_calls_2'. Let's preview them:"
   ]
  },
  {
   "cell_type": "code",
   "execution_count": null,
   "metadata": {
    "id": "44g9GeRSasEr"
   },
   "outputs": [],
   "source": [
    "# previewing the possibly duplicated columns\n",
    "df[['total_intl_minutes', 'total_intl_calls', 'total_intl_minutes_2', 'total_intl_calls_2']]"
   ]
  },
  {
   "cell_type": "markdown",
   "metadata": {
    "id": "1g82qmkGasEx"
   },
   "source": [
    "The last two columns appear to be complete copies of the first two. We will confirm this so that we do not blindly drop them."
   ]
  },
  {
   "cell_type": "code",
   "execution_count": null,
   "metadata": {
    "id": "gZsoHsPbasE0"
   },
   "outputs": [],
   "source": [
    "# selecting the total number of records where the values of 'total_intl_minutes' are equal to the values of \n",
    "# 'total_intl_minutes_2', AND the values of 'total_intl_calls' are equal to the values of 'total_intl_calls_2'\n",
    "df[(df['total_intl_minutes'] == df['total_intl_minutes_2']) & (df['total_intl_calls'] == df['total_intl_calls_2'])].count()"
   ]
  },
  {
   "cell_type": "markdown",
   "metadata": {
    "id": "rVFYq4WoasE7"
   },
   "source": [
    "We see that the columns are indeed duplicates so we can safely drop them."
   ]
  },
  {
   "cell_type": "code",
   "execution_count": null,
   "metadata": {
    "id": "AqsIQOJ7asE8"
   },
   "outputs": [],
   "source": [
    "df = df.drop(columns = ['total_intl_minutes_2', 'total_intl_calls_2'])\n",
    "df.shape"
   ]
  },
  {
   "cell_type": "code",
   "execution_count": null,
   "metadata": {
    "id": "HmMOFIOaasFR"
   },
   "outputs": [],
   "source": []
  },
  {
   "cell_type": "markdown",
   "metadata": {
    "id": "xNmGe1f1asFW"
   },
   "source": [
    "Another anomaly noted is that where there are records of 'total_intl_minutes', 'total_int_calls', and 'total_intl_charge' when 'international_plan' is False."
   ]
  },
  {
   "cell_type": "code",
   "execution_count": null,
   "metadata": {
    "id": "RLfEw2Q0asFX"
   },
   "outputs": [],
   "source": [
    "df[(df['international_plan'] == False) & ((df['total_intl_minutes'] > 0) | (df['total_intl_calls'] > 0) |\n",
    "                                         df['total_intl_charge'] > 0)]"
   ]
  },
  {
   "cell_type": "code",
   "execution_count": null,
   "metadata": {
    "id": "FyVdZxRUasFc"
   },
   "outputs": [],
   "source": [
    "df.international_plan.value_counts()"
   ]
  },
  {
   "cell_type": "markdown",
   "metadata": {
    "id": "s6KzIz33asFf"
   },
   "source": [
    "Much as we'd like to remove these invalid variables, doing so would result in a huge loss of data. We will therefore leave them as is, but flag them for future work."
   ]
  },
  {
   "cell_type": "code",
   "execution_count": null,
   "metadata": {
    "id": "aMatTvHpasFf"
   },
   "outputs": [],
   "source": []
  },
  {
   "cell_type": "markdown",
   "metadata": {
    "id": "jO0WlCpaasFi"
   },
   "source": [
    "We will check to confirm that there are no 'number_vmail_messages' when 'voice_mail_plan' is set to False."
   ]
  },
  {
   "cell_type": "code",
   "execution_count": null,
   "metadata": {
    "id": "0Vqb2AsjasFi"
   },
   "outputs": [],
   "source": [
    "df[(df['voice_mail_plan'] == False) & (df['number_vmail_messages'] > 0)]"
   ]
  },
  {
   "cell_type": "markdown",
   "metadata": {
    "id": "neiYQ2LgasFm"
   },
   "source": [
    "After confirming this, we can now drop the 'voice_mail_plan' column."
   ]
  },
  {
   "cell_type": "code",
   "execution_count": null,
   "metadata": {
    "id": "rbzi1m9EasFm"
   },
   "outputs": [],
   "source": [
    "df.drop(columns = ['voice_mail_plan'], inplace = True)"
   ]
  },
  {
   "cell_type": "code",
   "execution_count": null,
   "metadata": {
    "id": "5_RxkatPasFp"
   },
   "outputs": [],
   "source": []
  },
  {
   "cell_type": "code",
   "execution_count": null,
   "metadata": {
    "id": "4Fwke7e9asFu"
   },
   "outputs": [],
   "source": [
    "df.dtypes"
   ]
  },
  {
   "cell_type": "code",
   "execution_count": null,
   "metadata": {
    "id": "aCas6x9RasF1"
   },
   "outputs": [],
   "source": [
    "# looking for outliers\n",
    "num_cols = df.columns.to_list()\n",
    "num_cols.remove('international_plan')\n",
    "num_cols.remove('churn')\n",
    "\n",
    "plt.figure(figsize = (14, 6))\n",
    "df.boxplot(num_cols)\n",
    "plt.xticks(rotation = 45)\n",
    "plt.show()"
   ]
  },
  {
   "cell_type": "markdown",
   "metadata": {
    "id": "iSHmG33KasF4"
   },
   "source": [
    "We see that all the remaining variables have outliers, which we will not drop."
   ]
  },
  {
   "cell_type": "code",
   "execution_count": null,
   "metadata": {
    "id": "FK8qc8xWasF5"
   },
   "outputs": [],
   "source": []
  },
  {
   "cell_type": "markdown",
   "metadata": {
    "id": "mELIvxYqasF8"
   },
   "source": [
    "We now save our clean dataset to a new CSV file."
   ]
  },
  {
   "cell_type": "code",
   "execution_count": null,
   "metadata": {
    "id": "t6cDaIdSasF9"
   },
   "outputs": [],
   "source": [
    "# save the data set to a clean CSV file\n",
    "\n",
    "df.to_csv('call_center_clean.csv', index = False)\n",
    "\n",
    "df = pd.read_csv('call_center_clean.csv')\n",
    "df.head()"
   ]
  },
  {
   "cell_type": "markdown",
   "metadata": {
    "id": "eU3KA88JasGD"
   },
   "source": [
    "## <font color='#2F4F4F'>3. Data Analysis</font>"
   ]
  },
  {
   "cell_type": "markdown",
   "metadata": {
    "id": "8AC0Ib2lasGE"
   },
   "source": [
    "### 3.1 Univariate Analysis"
   ]
  },
  {
   "cell_type": "code",
   "execution_count": null,
   "metadata": {
    "id": "mF2m8qlfasGE"
   },
   "outputs": [],
   "source": [
    "# get the summary statistics\n",
    "df.describe()"
   ]
  },
  {
   "cell_type": "code",
   "execution_count": null,
   "metadata": {
    "id": "r_2FDdrCasGP"
   },
   "outputs": [],
   "source": [
    "print(df.area_code.value_counts())\n",
    "\n",
    "plt.figure(figsize = (6, 6))\n",
    "df.area_code.value_counts().plot(kind = 'pie', autopct = '%1.1f%%')\n",
    "plt.title('Pie Chart of Area Code')\n",
    "plt.show()"
   ]
  },
  {
   "cell_type": "markdown",
   "metadata": {
    "id": "XUTXcPj8asGT"
   },
   "source": [
    "Area Code 415 consists of almost half of the area codes in this dataset. Area Code 510 very slightly outnumbers Area Code 408."
   ]
  },
  {
   "cell_type": "code",
   "execution_count": null,
   "metadata": {
    "id": "3dS-KVIkasGU"
   },
   "outputs": [],
   "source": [
    "print(df.international_plan.value_counts())\n",
    "\n",
    "plt.figure(figsize = (6, 6))\n",
    "df.international_plan.value_counts().plot(kind = 'bar', rot = 0, color = ['skyblue', 'darkorange'])\n",
    "plt.title('Distribution of International Plan')\n",
    "plt.xlabel('International Plan')\n",
    "plt.show()"
   ]
  },
  {
   "cell_type": "markdown",
   "metadata": {
    "id": "XnAsY6f8asGY"
   },
   "source": [
    "Very few of the customers are subscribed to an international plan."
   ]
  },
  {
   "cell_type": "code",
   "execution_count": null,
   "metadata": {
    "id": "bXumquNYasGZ"
   },
   "outputs": [],
   "source": [
    "print(df.number_customer_service_calls.value_counts())\n",
    "\n",
    "plt.figure(figsize = (8, 8))\n",
    "df.number_customer_service_calls.value_counts().plot(kind = 'bar', rot = 0)\n",
    "plt.xlabel(\"Number of Calls to Customer Service\")\n",
    "plt.show()"
   ]
  },
  {
   "cell_type": "markdown",
   "metadata": {
    "id": "kkP0E4MbasGf"
   },
   "source": [
    "Most customers made exactly 1 call to customer service followed by those who made 2 calls, and then those who made 0 calls. Those who made more than 5 calls make up the minority."
   ]
  },
  {
   "cell_type": "code",
   "execution_count": null,
   "metadata": {
    "id": "k5GGY5BbasGf"
   },
   "outputs": [],
   "source": [
    "print(df.churn.value_counts())\n",
    "\n",
    "plt.figure(figsize = (6, 6))\n",
    "df.churn.value_counts().plot(kind ='bar', rot = 0, color = ['darkgreen', 'darkred'])\n",
    "plt.xlabel(\"Churn\")\n",
    "plt.show()"
   ]
  },
  {
   "cell_type": "markdown",
   "metadata": {
    "id": "K1kdL5KTasGi"
   },
   "source": [
    "Majority of the customers in this dataset have not churned, thereby making this dataset very biased."
   ]
  },
  {
   "cell_type": "code",
   "execution_count": null,
   "metadata": {
    "id": "uYjrFyjMasGl",
    "scrolled": false
   },
   "outputs": [],
   "source": [
    "# plotting the histograms of all our numerical variables with the\n",
    "# exception of 'area_code' and 'number_customer_service_calls'\n",
    "num_cols.remove('area_code')\n",
    "num_cols.remove('number_customer_service_calls')\n",
    "\n",
    "fig, axes = plt.subplots(nrows = 7, ncols = 2, figsize = (14, 30))\n",
    "plt.suptitle('Countplots of Tests Measured', fontsize = 20, y = 1.01, color = 'blue')\n",
    "\n",
    "colors = ['#00FF7F', '#8B0000', '#C71585', '#0000FF', '#DB7093', '#FFFF00', '#FF4500',\n",
    "          '#7B68EE', '#FF00FF', '#ADFF2F', '#FFD700', '#A52A2A', '#2F4F4F', '#8B008B']\n",
    "for ax, column, color in zip(axes.flatten(), num_cols, colors):\n",
    "    sns.distplot(df[column], ax = ax, color = color, hist_kws = dict(alpha = 0.75))\n",
    "    \n",
    "plt.tight_layout()"
   ]
  },
  {
   "cell_type": "markdown",
   "metadata": {
    "id": "nf3xFgCWasGs"
   },
   "source": [
    "Majority of the numerical variables have normal distributions. Apart from having most of its values in the 0-5 bin, the 'number_vmail_messages' variable appears to be normally distributed. The 'total_intl_calls' variable is skewed to the right and is not continuous."
   ]
  },
  {
   "cell_type": "markdown",
   "metadata": {
    "id": "M31MLioIasGt"
   },
   "source": [
    "### 3.2 Bivariata Analysis"
   ]
  },
  {
   "cell_type": "markdown",
   "metadata": {
    "id": "2u9K_UW_asGu"
   },
   "source": [
    "We will make 'churn' our target variable and look at how the other variables relate to it."
   ]
  },
  {
   "cell_type": "code",
   "execution_count": null,
   "metadata": {
    "id": "5eN2qk6XasGv"
   },
   "outputs": [],
   "source": [
    "# churn by area code\n",
    "plt.figure(figsize = (8, 6))\n",
    "churn_area_code = sns.countplot('area_code', hue = 'churn', data = df)\n",
    "churn_area_code.set(title = \"Churn by Area Code\", ylabel = 'Area Code')\n",
    "plt.show()"
   ]
  },
  {
   "cell_type": "markdown",
   "metadata": {
    "id": "54N-Z7w0asGy"
   },
   "source": [
    "Area code 415 reports the highest churn rates."
   ]
  },
  {
   "cell_type": "code",
   "execution_count": null,
   "metadata": {
    "id": "L2FNasXSasGy"
   },
   "outputs": [],
   "source": [
    "# churn by international plan\n",
    "plt.figure(figsize = (8, 6))\n",
    "churn_area_code = sns.countplot('international_plan', hue = 'churn', data = df)\n",
    "churn_area_code.set(title = \"Churn by International Plan\", ylabel = 'International Plan')\n",
    "plt.show()"
   ]
  },
  {
   "cell_type": "markdown",
   "metadata": {
    "id": "kNprofaYasG1"
   },
   "source": [
    "Those without international plans churned more than those with international plans."
   ]
  },
  {
   "cell_type": "code",
   "execution_count": null,
   "metadata": {
    "id": "bDY0XJOFasG2"
   },
   "outputs": [],
   "source": [
    "# churn by number of customer service calls\n",
    "plt.figure(figsize = (8, 6))\n",
    "churn_area_code = sns.countplot('number_customer_service_calls', hue = 'churn', data = df)\n",
    "churn_area_code.set(title = \"Churn by Number of Customer Service Calls\",\n",
    "                    ylabel = 'Number of Customer Service Calls')\n",
    "plt.show()"
   ]
  },
  {
   "cell_type": "markdown",
   "metadata": {
    "id": "_O6DZfCWasG_"
   },
   "source": [
    "The interesting thing to note here is that those who made 0 or 2 calls to customer service churned at around the same rate. Similarly, those who made more than 3 calls reported high churn rates."
   ]
  },
  {
   "cell_type": "markdown",
   "metadata": {
    "id": "ZQjql-lgasHJ"
   },
   "source": [
    "### 3.3 Feature Engineering & Test for Multicollinearity"
   ]
  },
  {
   "cell_type": "markdown",
   "metadata": {
    "id": "zKvXZkbLasHJ"
   },
   "source": [
    "Before we can carry out the test for multicollinearity (a requirement for logistic regression), we need to convert the values of 'international_plan' and 'churn' to binary."
   ]
  },
  {
   "cell_type": "code",
   "execution_count": null,
   "metadata": {
    "id": "300tIugMasHT"
   },
   "outputs": [],
   "source": [
    "df['international_plan'] = df['international_plan'].replace({False : 0, True : 1})\n",
    "df['churn'] = df['churn'].replace({False : 0, True : 1})\n",
    "df.head()"
   ]
  },
  {
   "cell_type": "code",
   "execution_count": null,
   "metadata": {
    "id": "Io_efH3JasHb"
   },
   "outputs": [],
   "source": [
    "# checking the correlations between the numerical variables\n",
    "YOUR CODE HERE\n",
    "\n",
    "# plotting the correlations onto a heatmap\n",
    "YOUR CODE HERE"
   ]
  },
  {
   "cell_type": "markdown",
   "metadata": {
    "id": "phY6GZ1_asHk"
   },
   "source": [
    "We see some perfect correlations between the following variables:\n",
    "- 'total_day_minutes' and 'total_day_charge'\n",
    "- 'total_eve_minutes' and 'total_eve_charge'\n",
    "- 'total_night_minutes' and 'total_night_charge'\n",
    "- 'total_intl_minutes' and 'total_intl_charge'\n",
    "\n",
    "We will drop the minutes."
   ]
  },
  {
   "cell_type": "code",
   "execution_count": null,
   "metadata": {
    "id": "xp_78zjxasHn"
   },
   "outputs": [],
   "source": [
    "# drop the columns with minutes, e.g., 'total_day_minutes', etc.\n",
    "YOUR CODE HERE"
   ]
  },
  {
   "cell_type": "code",
   "execution_count": null,
   "metadata": {
    "id": "vbY0MHVkasHz"
   },
   "outputs": [],
   "source": [
    "# checking the correlations between the numerical variables\n",
    "YOUR CODE HERE\n",
    "\n",
    "# plotting the correlations onto a heatmap\n",
    "YOUR CODE HERE"
   ]
  },
  {
   "cell_type": "markdown",
   "metadata": {
    "id": "PpvlSJG-asH2"
   },
   "source": [
    "We will then check the Variance Inflation Factor (VIF) scores to ensure there is no high multicollinearity."
   ]
  },
  {
   "cell_type": "code",
   "execution_count": null,
   "metadata": {
    "id": "RwwGqhvOasH3"
   },
   "outputs": [],
   "source": [
    "# calculate VIF and plot the heatmap\n",
    "YOUR CODE HERE"
   ]
  },
  {
   "cell_type": "markdown",
   "metadata": {
    "id": "op19kKC7asH-"
   },
   "source": [
    "We don't see any VIF score of 5 and above, which means our dataset does not have high levels of multicollinearity. We are, therefore, good to go."
   ]
  },
  {
   "cell_type": "markdown",
   "metadata": {
    "id": "z58VpwHoasH_"
   },
   "source": [
    "## <font color='#2F4F4F'>4. Data Modeling</font>"
   ]
  },
  {
   "cell_type": "markdown",
   "metadata": {
    "id": "WKm33MJYasH_"
   },
   "source": [
    "We will carry out 5 types of classification analysis, namely:\n",
    "1. Logistic Regression\n",
    "2. Gaussian Naive Bayes (NB) classification\n",
    "3. Decision Trees Classification\n",
    "4. K-Nearest Neighbors (KNN) Classification\n",
    "5. Support Vector Machine (SVM) Classification\n",
    "\n",
    "We will then compare the different classification models to assess the best performing one(s)."
   ]
  },
  {
   "cell_type": "code",
   "execution_count": null,
   "metadata": {
    "id": "wCVbM0xcasIL"
   },
   "outputs": [],
   "source": [
    "# dividing our dataset into features (X) and target (y)\n",
    "\n",
    "YOUR CODE HERE"
   ]
  },
  {
   "cell_type": "code",
   "execution_count": null,
   "metadata": {
    "id": "kByQ2gGOasIN"
   },
   "outputs": [],
   "source": [
    "# splitting into 80-20 train-test sets\n",
    "\n",
    "YOUR CODE HERE"
   ]
  },
  {
   "cell_type": "code",
   "execution_count": null,
   "metadata": {
    "id": "cLa8VQrUasIS"
   },
   "outputs": [],
   "source": [
    "# performing feature scaling on our training data\n",
    "from sklearn.preprocessing import StandardScaler\n",
    "scaler = StandardScaler()\n",
    "\n",
    "# fitting and transforming X_train while transforming X_test\n",
    "YOUR CODE HERE"
   ]
  },
  {
   "cell_type": "code",
   "execution_count": null,
   "metadata": {
    "id": "E3hBaXKTasIV"
   },
   "outputs": [],
   "source": [
    "# loading our classification libraries\n",
    "YOUR CODE HERE\n",
    "\n",
    "# instantiating our classifiers\n",
    "YOUR CODE HERE\n",
    "\n",
    "# fitting our classifiers to the training data\n",
    "YOUR CODE HERE\n",
    "\n",
    "# making predictions\n",
    "YOUR CODE HERE"
   ]
  },
  {
   "cell_type": "code",
   "execution_count": null,
   "metadata": {
    "id": "KfXCA87-asIf"
   },
   "outputs": [],
   "source": [
    "# printing the classification report for each classifier to assess performance\n",
    "from sklearn.metrics import classification_report\n",
    "\n",
    "# classification report for Logistic Regression\n",
    "print(\"Logistic Regression classification report:\")\n",
    "YOUR CODE HERE\n",
    "\n",
    "# classification report for Gaussian Naive Bayes Classifier\n",
    "print(\"Gaussian Naive Bayes classification report:\")\n",
    "YOUR CODE HERE\n",
    "\n",
    "# classification report for Decision Tree Classifier\n",
    "print(\"Decision Tree classification report:\")\n",
    "YOUR CODE HERE\n",
    "\n",
    "# classification report for K-Nearest Neighbors Classifier\n",
    "print(\"K-Nearest Neighbors classification report:\")\n",
    "YOUR CODE HERE\n",
    "\n",
    "# classification report for Support Vector Machine Classifier\n",
    "print(\"Support Vector Machine classification report:\")\n",
    "YOUR CODE HERE"
   ]
  },
  {
   "cell_type": "markdown",
   "metadata": {
    "id": "UopMes2SasIl"
   },
   "source": [
    "WHat have you noticed about the performance of the various models?"
   ]
  },
  {
   "cell_type": "markdown",
   "metadata": {
    "id": "vTbdjSrhVIiT"
   },
   "source": [
    "## <font color='#2F4F4F'>5. Summary of Findings</font>\n",
    "\n",
    "Include your findings from the analysis and modeling stages."
   ]
  },
  {
   "cell_type": "markdown",
   "metadata": {
    "id": "noZz5YRQXKzi"
   },
   "source": [
    "## <font color='#2F4F4F'>6. Recommendations</font>\n",
    "\n",
    "What recommendations can you provide?"
   ]
  },
  {
   "cell_type": "markdown",
   "metadata": {
    "id": "xrmHVMVsVS--"
   },
   "source": [
    "## <font color='#2F4F4F'>7. Challenging your Solution</font>\n",
    "\n",
    "What can you do to improve your project?"
   ]
  }
 ],
 "metadata": {
  "colab": {
   "collapsed_sections": [
    "kLG2VTrnTvYL",
    "XecOwPNorl2W",
    "J4wfHZwQrs-t",
    "a9BPYqunry97",
    "7KMRBJ7zr9HD",
    "zSGyg6kWsBUl",
    "iUNbvIvnT7ep",
    "eU3KA88JasGD",
    "z58VpwHoasH_",
    "vTbdjSrhVIiT",
    "noZz5YRQXKzi",
    "xrmHVMVsVS--"
   ],
   "name": "Classification_Analysis_with_Python_Guiding_Notebook.ipynb",
   "provenance": [],
   "toc_visible": true
  },
  "kernelspec": {
   "display_name": "Python 3",
   "language": "python",
   "name": "python3"
  },
  "language_info": {
   "codemirror_mode": {
    "name": "ipython",
    "version": 3
   },
   "file_extension": ".py",
   "mimetype": "text/x-python",
   "name": "python",
   "nbconvert_exporter": "python",
   "pygments_lexer": "ipython3",
   "version": "3.8.3"
  }
 },
 "nbformat": 4,
 "nbformat_minor": 1
}
