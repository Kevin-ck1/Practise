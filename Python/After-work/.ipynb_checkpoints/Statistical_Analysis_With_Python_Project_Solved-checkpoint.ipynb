{
 "cells": [
  {
   "cell_type": "markdown",
   "metadata": {
    "id": "ATDwMjleBJ4y"
   },
   "source": [
    "# <font color='#6a5acd'>Statistical Analysis with Python - Guiding Notebook</font>"
   ]
  },
  {
   "cell_type": "markdown",
   "metadata": {
    "id": "yy9C9dLyBJ40"
   },
   "source": [
    "## <font color='#2F4F4F'>1. Defining the Question</font>"
   ]
  },
  {
   "cell_type": "markdown",
   "metadata": {
    "id": "Ee45mguRBJ40"
   },
   "source": [
    "### a) Specifying the Data Analysis Question\n",
    "\n",
    "What main factors help determine the number of total children born by a woman of reproductive age in Kenya?"
   ]
  },
  {
   "cell_type": "markdown",
   "metadata": {
    "id": "ctyrDbwjBJ41"
   },
   "source": [
    "### b) Defining the Metric for Success\n",
    "\n",
    "The success of this project will be achieved when we find out the factors that determine the number of children born by a woman of reproductive age."
   ]
  },
  {
   "cell_type": "markdown",
   "metadata": {
    "id": "t5knWWM6BJ42"
   },
   "source": [
    "### c) Understanding the context \n",
    "\n",
    "I have been provided with the Kenya Demographics Health Survey (KDHS 2014) data set. The Demographic and Health Surveys (DHS) Program has collected, analyzed, and disseminated accurate and representative data on population, health, HIV, and nutrition through more than 400 surveys in over 90 countries.\n"
   ]
  },
  {
   "cell_type": "markdown",
   "metadata": {
    "id": "SsRaHFwfBJ43"
   },
   "source": [
    "### d) Recording the Experimental Design\n",
    "\n",
    "The steps to be taken include:\n",
    "\n",
    "1. Load dataset and preview its summarized information to get a feel of what you will be working with.\n",
    "\n",
    "2. Carry out data cleaning.\n",
    "\n",
    "3. Carry out data analysis.\n",
    "\n",
    "4. Interpret results.\n",
    "\n",
    "5. Provide recommendations based on results of analysis.\n",
    "\n",
    "6. Challenge your solution."
   ]
  },
  {
   "cell_type": "markdown",
   "metadata": {
    "id": "1YLTcqDMBJ43"
   },
   "source": [
    "### e) Data Relevance\n",
    "\n",
    "The data is relevant to solving the problem, in that it contains statistics on women who give birth in Kenya."
   ]
  },
  {
   "cell_type": "markdown",
   "metadata": {
    "id": "VkB4k57ZBJ44"
   },
   "source": [
    "## <font color='#2F4F4F'>2. Data Cleaning & Analysis</font>"
   ]
  },
  {
   "cell_type": "code",
   "execution_count": null,
   "metadata": {
    "id": "HaTRnjkOBJ44"
   },
   "outputs": [],
   "source": [
    "# loading libraries\n",
    "import pandas as pd\n",
    "import numpy as np\n",
    "\n",
    "import matplotlib.pyplot as plt\n",
    "import seaborn as sns"
   ]
  },
  {
   "cell_type": "code",
   "execution_count": null,
   "metadata": {
    "colab": {
     "base_uri": "https://localhost:8080/",
     "height": 571
    },
    "id": "PYGpdTddBJ4-",
    "outputId": "09882eeb-9449-481e-8ec7-b60f47b01bc9"
   },
   "outputs": [
    {
     "name": "stderr",
     "output_type": "stream",
     "text": [
      "/usr/local/lib/python3.6/dist-packages/IPython/core/interactiveshell.py:2718: DtypeWarning: Columns (47,71,89,123,125,133,135,136,145,146,147,148,203,206,291,292,293,294,295,296,297,298,299,300,301,343,344,392,413,430,439,449,450,451,453,461,463,468,502,517,549,551,553,554,578,664,668,672,676,684,691,817,821,838,849,850,851,852,882,883,884,885,886,887,888,889,890,891,892,893,904,905,912,914,929,933,934,935,936,979,980,981,1007,1008,1009,1010,1011,1021,1022,1023) have mixed types.Specify dtype option on import or set low_memory=False.\n",
      "  interactivity=interactivity, compiler=compiler, result=result)\n"
     ]
    },
    {
     "data": {
      "text/html": [
       "<div>\n",
       "<style scoped>\n",
       "    .dataframe tbody tr th:only-of-type {\n",
       "        vertical-align: middle;\n",
       "    }\n",
       "\n",
       "    .dataframe tbody tr th {\n",
       "        vertical-align: top;\n",
       "    }\n",
       "\n",
       "    .dataframe thead th {\n",
       "        text-align: right;\n",
       "    }\n",
       "</style>\n",
       "<table border=\"1\" class=\"dataframe\">\n",
       "  <thead>\n",
       "    <tr style=\"text-align: right;\">\n",
       "      <th></th>\n",
       "      <th>Unnamed: 0</th>\n",
       "      <th>CASEID</th>\n",
       "      <th>MIDX</th>\n",
       "      <th>V000</th>\n",
       "      <th>V001</th>\n",
       "      <th>V002</th>\n",
       "      <th>V003</th>\n",
       "      <th>V004</th>\n",
       "      <th>V005</th>\n",
       "      <th>V006</th>\n",
       "      <th>V007</th>\n",
       "      <th>V008</th>\n",
       "      <th>V009</th>\n",
       "      <th>V010</th>\n",
       "      <th>V011</th>\n",
       "      <th>V012</th>\n",
       "      <th>V013</th>\n",
       "      <th>V014</th>\n",
       "      <th>V015</th>\n",
       "      <th>V016</th>\n",
       "      <th>V017</th>\n",
       "      <th>V018</th>\n",
       "      <th>V019</th>\n",
       "      <th>V019A</th>\n",
       "      <th>V020</th>\n",
       "      <th>V021</th>\n",
       "      <th>V022</th>\n",
       "      <th>V023</th>\n",
       "      <th>V024</th>\n",
       "      <th>V025</th>\n",
       "      <th>V026</th>\n",
       "      <th>V027</th>\n",
       "      <th>V028</th>\n",
       "      <th>V029</th>\n",
       "      <th>V030</th>\n",
       "      <th>V031</th>\n",
       "      <th>V032</th>\n",
       "      <th>V034</th>\n",
       "      <th>V040</th>\n",
       "      <th>V042</th>\n",
       "      <th>...</th>\n",
       "      <th>SYPN1</th>\n",
       "      <th>SPN2</th>\n",
       "      <th>SDPN2</th>\n",
       "      <th>SMPN2</th>\n",
       "      <th>SYPN2</th>\n",
       "      <th>SPN3</th>\n",
       "      <th>SDPN3</th>\n",
       "      <th>SMPN3</th>\n",
       "      <th>SYPN3</th>\n",
       "      <th>SRV1</th>\n",
       "      <th>SDRV1</th>\n",
       "      <th>SMRV1</th>\n",
       "      <th>SYRV1</th>\n",
       "      <th>SRV2</th>\n",
       "      <th>SDRV2</th>\n",
       "      <th>SMRV2</th>\n",
       "      <th>SYRV2</th>\n",
       "      <th>SYF</th>\n",
       "      <th>SDYF</th>\n",
       "      <th>SMYF</th>\n",
       "      <th>SYYF</th>\n",
       "      <th>SAMZ</th>\n",
       "      <th>SDAMZ</th>\n",
       "      <th>SMAMZ</th>\n",
       "      <th>SYAMZ</th>\n",
       "      <th>S521BA</th>\n",
       "      <th>S521BB</th>\n",
       "      <th>S521BC</th>\n",
       "      <th>S521BD</th>\n",
       "      <th>S521BE</th>\n",
       "      <th>S521BX</th>\n",
       "      <th>S539AA</th>\n",
       "      <th>S539AB</th>\n",
       "      <th>S539AC</th>\n",
       "      <th>S539AD</th>\n",
       "      <th>S539AE</th>\n",
       "      <th>S539AF</th>\n",
       "      <th>S539AG</th>\n",
       "      <th>S539AY</th>\n",
       "      <th>S522C</th>\n",
       "    </tr>\n",
       "  </thead>\n",
       "  <tbody>\n",
       "    <tr>\n",
       "      <th>0</th>\n",
       "      <td>1</td>\n",
       "      <td>0001019 02</td>\n",
       "      <td>1</td>\n",
       "      <td>KE6</td>\n",
       "      <td>1</td>\n",
       "      <td>19</td>\n",
       "      <td>2</td>\n",
       "      <td>1</td>\n",
       "      <td>5476381</td>\n",
       "      <td>8</td>\n",
       "      <td>2014</td>\n",
       "      <td>1376</td>\n",
       "      <td>8</td>\n",
       "      <td>1991</td>\n",
       "      <td>1100</td>\n",
       "      <td>23</td>\n",
       "      <td>20-24</td>\n",
       "      <td>Month and year - information complete</td>\n",
       "      <td>Completed</td>\n",
       "      <td>19</td>\n",
       "      <td>1309</td>\n",
       "      <td>13</td>\n",
       "      <td>68</td>\n",
       "      <td>2</td>\n",
       "      <td>All woman sample</td>\n",
       "      <td>1</td>\n",
       "      <td>1</td>\n",
       "      <td>1</td>\n",
       "      <td>Nairobi</td>\n",
       "      <td>Urban</td>\n",
       "      <td>NaN</td>\n",
       "      <td>1</td>\n",
       "      <td>178</td>\n",
       "      <td>7</td>\n",
       "      <td>175</td>\n",
       "      <td>177</td>\n",
       "      <td>6.0</td>\n",
       "      <td>NaN</td>\n",
       "      <td>NaN</td>\n",
       "      <td>NaN</td>\n",
       "      <td>...</td>\n",
       "      <td>NaN</td>\n",
       "      <td>NaN</td>\n",
       "      <td>NaN</td>\n",
       "      <td>NaN</td>\n",
       "      <td>NaN</td>\n",
       "      <td>NaN</td>\n",
       "      <td>NaN</td>\n",
       "      <td>NaN</td>\n",
       "      <td>NaN</td>\n",
       "      <td>NaN</td>\n",
       "      <td>NaN</td>\n",
       "      <td>NaN</td>\n",
       "      <td>NaN</td>\n",
       "      <td>NaN</td>\n",
       "      <td>NaN</td>\n",
       "      <td>NaN</td>\n",
       "      <td>NaN</td>\n",
       "      <td>NaN</td>\n",
       "      <td>NaN</td>\n",
       "      <td>NaN</td>\n",
       "      <td>NaN</td>\n",
       "      <td>NaN</td>\n",
       "      <td>NaN</td>\n",
       "      <td>NaN</td>\n",
       "      <td>NaN</td>\n",
       "      <td>NaN</td>\n",
       "      <td>NaN</td>\n",
       "      <td>NaN</td>\n",
       "      <td>NaN</td>\n",
       "      <td>NaN</td>\n",
       "      <td>NaN</td>\n",
       "      <td>NaN</td>\n",
       "      <td>NaN</td>\n",
       "      <td>NaN</td>\n",
       "      <td>NaN</td>\n",
       "      <td>NaN</td>\n",
       "      <td>NaN</td>\n",
       "      <td>NaN</td>\n",
       "      <td>NaN</td>\n",
       "      <td>NaN</td>\n",
       "    </tr>\n",
       "    <tr>\n",
       "      <th>1</th>\n",
       "      <td>2</td>\n",
       "      <td>0001019 03</td>\n",
       "      <td>1</td>\n",
       "      <td>KE6</td>\n",
       "      <td>1</td>\n",
       "      <td>19</td>\n",
       "      <td>3</td>\n",
       "      <td>1</td>\n",
       "      <td>5476381</td>\n",
       "      <td>8</td>\n",
       "      <td>2014</td>\n",
       "      <td>1376</td>\n",
       "      <td>2</td>\n",
       "      <td>1991</td>\n",
       "      <td>1094</td>\n",
       "      <td>23</td>\n",
       "      <td>20-24</td>\n",
       "      <td>Month and year - information complete</td>\n",
       "      <td>Completed</td>\n",
       "      <td>31</td>\n",
       "      <td>1309</td>\n",
       "      <td>13</td>\n",
       "      <td>68</td>\n",
       "      <td>2</td>\n",
       "      <td>All woman sample</td>\n",
       "      <td>1</td>\n",
       "      <td>1</td>\n",
       "      <td>1</td>\n",
       "      <td>Nairobi</td>\n",
       "      <td>Urban</td>\n",
       "      <td>NaN</td>\n",
       "      <td>3</td>\n",
       "      <td>178</td>\n",
       "      <td>7</td>\n",
       "      <td>175</td>\n",
       "      <td>177</td>\n",
       "      <td>6.0</td>\n",
       "      <td>NaN</td>\n",
       "      <td>NaN</td>\n",
       "      <td>NaN</td>\n",
       "      <td>...</td>\n",
       "      <td>NaN</td>\n",
       "      <td>NaN</td>\n",
       "      <td>NaN</td>\n",
       "      <td>NaN</td>\n",
       "      <td>NaN</td>\n",
       "      <td>NaN</td>\n",
       "      <td>NaN</td>\n",
       "      <td>NaN</td>\n",
       "      <td>NaN</td>\n",
       "      <td>NaN</td>\n",
       "      <td>NaN</td>\n",
       "      <td>NaN</td>\n",
       "      <td>NaN</td>\n",
       "      <td>NaN</td>\n",
       "      <td>NaN</td>\n",
       "      <td>NaN</td>\n",
       "      <td>NaN</td>\n",
       "      <td>NaN</td>\n",
       "      <td>NaN</td>\n",
       "      <td>NaN</td>\n",
       "      <td>NaN</td>\n",
       "      <td>NaN</td>\n",
       "      <td>NaN</td>\n",
       "      <td>NaN</td>\n",
       "      <td>NaN</td>\n",
       "      <td>NaN</td>\n",
       "      <td>NaN</td>\n",
       "      <td>NaN</td>\n",
       "      <td>NaN</td>\n",
       "      <td>NaN</td>\n",
       "      <td>NaN</td>\n",
       "      <td>NaN</td>\n",
       "      <td>NaN</td>\n",
       "      <td>NaN</td>\n",
       "      <td>NaN</td>\n",
       "      <td>NaN</td>\n",
       "      <td>NaN</td>\n",
       "      <td>NaN</td>\n",
       "      <td>NaN</td>\n",
       "      <td>NaN</td>\n",
       "    </tr>\n",
       "    <tr>\n",
       "      <th>2</th>\n",
       "      <td>3</td>\n",
       "      <td>0001033 02</td>\n",
       "      <td>1</td>\n",
       "      <td>KE6</td>\n",
       "      <td>1</td>\n",
       "      <td>33</td>\n",
       "      <td>2</td>\n",
       "      <td>1</td>\n",
       "      <td>5476381</td>\n",
       "      <td>8</td>\n",
       "      <td>2014</td>\n",
       "      <td>1376</td>\n",
       "      <td>8</td>\n",
       "      <td>1988</td>\n",
       "      <td>1064</td>\n",
       "      <td>26</td>\n",
       "      <td>25-29</td>\n",
       "      <td>Month and year - information complete</td>\n",
       "      <td>Completed</td>\n",
       "      <td>19</td>\n",
       "      <td>1309</td>\n",
       "      <td>13</td>\n",
       "      <td>68</td>\n",
       "      <td>2</td>\n",
       "      <td>All woman sample</td>\n",
       "      <td>1</td>\n",
       "      <td>1</td>\n",
       "      <td>1</td>\n",
       "      <td>Nairobi</td>\n",
       "      <td>Urban</td>\n",
       "      <td>NaN</td>\n",
       "      <td>1</td>\n",
       "      <td>179</td>\n",
       "      <td>7</td>\n",
       "      <td>175</td>\n",
       "      <td>177</td>\n",
       "      <td>6.0</td>\n",
       "      <td>1</td>\n",
       "      <td>NaN</td>\n",
       "      <td>NaN</td>\n",
       "      <td>...</td>\n",
       "      <td>NaN</td>\n",
       "      <td>NaN</td>\n",
       "      <td>NaN</td>\n",
       "      <td>NaN</td>\n",
       "      <td>NaN</td>\n",
       "      <td>NaN</td>\n",
       "      <td>NaN</td>\n",
       "      <td>NaN</td>\n",
       "      <td>NaN</td>\n",
       "      <td>NaN</td>\n",
       "      <td>NaN</td>\n",
       "      <td>NaN</td>\n",
       "      <td>NaN</td>\n",
       "      <td>NaN</td>\n",
       "      <td>NaN</td>\n",
       "      <td>NaN</td>\n",
       "      <td>NaN</td>\n",
       "      <td>NaN</td>\n",
       "      <td>NaN</td>\n",
       "      <td>NaN</td>\n",
       "      <td>NaN</td>\n",
       "      <td>NaN</td>\n",
       "      <td>NaN</td>\n",
       "      <td>NaN</td>\n",
       "      <td>NaN</td>\n",
       "      <td>NaN</td>\n",
       "      <td>NaN</td>\n",
       "      <td>NaN</td>\n",
       "      <td>NaN</td>\n",
       "      <td>NaN</td>\n",
       "      <td>NaN</td>\n",
       "      <td>NaN</td>\n",
       "      <td>NaN</td>\n",
       "      <td>NaN</td>\n",
       "      <td>NaN</td>\n",
       "      <td>NaN</td>\n",
       "      <td>NaN</td>\n",
       "      <td>NaN</td>\n",
       "      <td>NaN</td>\n",
       "      <td>NaN</td>\n",
       "    </tr>\n",
       "    <tr>\n",
       "      <th>3</th>\n",
       "      <td>4</td>\n",
       "      <td>0001033 02</td>\n",
       "      <td>2</td>\n",
       "      <td>KE6</td>\n",
       "      <td>1</td>\n",
       "      <td>33</td>\n",
       "      <td>2</td>\n",
       "      <td>1</td>\n",
       "      <td>5476381</td>\n",
       "      <td>8</td>\n",
       "      <td>2014</td>\n",
       "      <td>1376</td>\n",
       "      <td>8</td>\n",
       "      <td>1988</td>\n",
       "      <td>1064</td>\n",
       "      <td>26</td>\n",
       "      <td>25-29</td>\n",
       "      <td>Month and year - information complete</td>\n",
       "      <td>Completed</td>\n",
       "      <td>19</td>\n",
       "      <td>1309</td>\n",
       "      <td>13</td>\n",
       "      <td>68</td>\n",
       "      <td>2</td>\n",
       "      <td>All woman sample</td>\n",
       "      <td>1</td>\n",
       "      <td>1</td>\n",
       "      <td>1</td>\n",
       "      <td>Nairobi</td>\n",
       "      <td>Urban</td>\n",
       "      <td>NaN</td>\n",
       "      <td>1</td>\n",
       "      <td>179</td>\n",
       "      <td>7</td>\n",
       "      <td>175</td>\n",
       "      <td>177</td>\n",
       "      <td>6.0</td>\n",
       "      <td>1</td>\n",
       "      <td>NaN</td>\n",
       "      <td>NaN</td>\n",
       "      <td>...</td>\n",
       "      <td>NaN</td>\n",
       "      <td>NaN</td>\n",
       "      <td>NaN</td>\n",
       "      <td>NaN</td>\n",
       "      <td>NaN</td>\n",
       "      <td>NaN</td>\n",
       "      <td>NaN</td>\n",
       "      <td>NaN</td>\n",
       "      <td>NaN</td>\n",
       "      <td>NaN</td>\n",
       "      <td>NaN</td>\n",
       "      <td>NaN</td>\n",
       "      <td>NaN</td>\n",
       "      <td>NaN</td>\n",
       "      <td>NaN</td>\n",
       "      <td>NaN</td>\n",
       "      <td>NaN</td>\n",
       "      <td>NaN</td>\n",
       "      <td>NaN</td>\n",
       "      <td>NaN</td>\n",
       "      <td>NaN</td>\n",
       "      <td>NaN</td>\n",
       "      <td>NaN</td>\n",
       "      <td>NaN</td>\n",
       "      <td>NaN</td>\n",
       "      <td>NaN</td>\n",
       "      <td>NaN</td>\n",
       "      <td>NaN</td>\n",
       "      <td>NaN</td>\n",
       "      <td>NaN</td>\n",
       "      <td>NaN</td>\n",
       "      <td>NaN</td>\n",
       "      <td>NaN</td>\n",
       "      <td>NaN</td>\n",
       "      <td>NaN</td>\n",
       "      <td>NaN</td>\n",
       "      <td>NaN</td>\n",
       "      <td>NaN</td>\n",
       "      <td>NaN</td>\n",
       "      <td>NaN</td>\n",
       "    </tr>\n",
       "    <tr>\n",
       "      <th>4</th>\n",
       "      <td>5</td>\n",
       "      <td>0001037 02</td>\n",
       "      <td>1</td>\n",
       "      <td>KE6</td>\n",
       "      <td>1</td>\n",
       "      <td>37</td>\n",
       "      <td>2</td>\n",
       "      <td>1</td>\n",
       "      <td>5476381</td>\n",
       "      <td>8</td>\n",
       "      <td>2014</td>\n",
       "      <td>1376</td>\n",
       "      <td>2</td>\n",
       "      <td>1992</td>\n",
       "      <td>1106</td>\n",
       "      <td>22</td>\n",
       "      <td>20-24</td>\n",
       "      <td>Month and year - information complete</td>\n",
       "      <td>Completed</td>\n",
       "      <td>19</td>\n",
       "      <td>1309</td>\n",
       "      <td>13</td>\n",
       "      <td>68</td>\n",
       "      <td>2</td>\n",
       "      <td>All woman sample</td>\n",
       "      <td>1</td>\n",
       "      <td>1</td>\n",
       "      <td>1</td>\n",
       "      <td>Nairobi</td>\n",
       "      <td>Urban</td>\n",
       "      <td>NaN</td>\n",
       "      <td>1</td>\n",
       "      <td>178</td>\n",
       "      <td>7</td>\n",
       "      <td>175</td>\n",
       "      <td>177</td>\n",
       "      <td>6.0</td>\n",
       "      <td>1</td>\n",
       "      <td>NaN</td>\n",
       "      <td>NaN</td>\n",
       "      <td>...</td>\n",
       "      <td>NaN</td>\n",
       "      <td>NaN</td>\n",
       "      <td>NaN</td>\n",
       "      <td>NaN</td>\n",
       "      <td>NaN</td>\n",
       "      <td>NaN</td>\n",
       "      <td>NaN</td>\n",
       "      <td>NaN</td>\n",
       "      <td>NaN</td>\n",
       "      <td>NaN</td>\n",
       "      <td>NaN</td>\n",
       "      <td>NaN</td>\n",
       "      <td>NaN</td>\n",
       "      <td>NaN</td>\n",
       "      <td>NaN</td>\n",
       "      <td>NaN</td>\n",
       "      <td>NaN</td>\n",
       "      <td>NaN</td>\n",
       "      <td>NaN</td>\n",
       "      <td>NaN</td>\n",
       "      <td>NaN</td>\n",
       "      <td>NaN</td>\n",
       "      <td>NaN</td>\n",
       "      <td>NaN</td>\n",
       "      <td>NaN</td>\n",
       "      <td>NaN</td>\n",
       "      <td>NaN</td>\n",
       "      <td>NaN</td>\n",
       "      <td>NaN</td>\n",
       "      <td>NaN</td>\n",
       "      <td>NaN</td>\n",
       "      <td>NaN</td>\n",
       "      <td>NaN</td>\n",
       "      <td>NaN</td>\n",
       "      <td>NaN</td>\n",
       "      <td>NaN</td>\n",
       "      <td>NaN</td>\n",
       "      <td>NaN</td>\n",
       "      <td>NaN</td>\n",
       "      <td>NaN</td>\n",
       "    </tr>\n",
       "  </tbody>\n",
       "</table>\n",
       "<p>5 rows × 1100 columns</p>\n",
       "</div>"
      ],
      "text/plain": [
       "   Unnamed: 0           CASEID  MIDX V000  ...  S539AF  S539AG  S539AY  S522C\n",
       "0           1       0001019 02     1  KE6  ...     NaN     NaN     NaN    NaN\n",
       "1           2       0001019 03     1  KE6  ...     NaN     NaN     NaN    NaN\n",
       "2           3       0001033 02     1  KE6  ...     NaN     NaN     NaN    NaN\n",
       "3           4       0001033 02     2  KE6  ...     NaN     NaN     NaN    NaN\n",
       "4           5       0001037 02     1  KE6  ...     NaN     NaN     NaN    NaN\n",
       "\n",
       "[5 rows x 1100 columns]"
      ]
     },
     "execution_count": 3,
     "metadata": {
      "tags": []
     },
     "output_type": "execute_result"
    }
   ],
   "source": [
    "# loading the main data set\n",
    "# kdhs2014 = pd.read_csv('kdhs2014_childfile.csv')\n",
    "kdhs2014 = pd.read_csv('https://bit.ly/khds_dataset')\n",
    "kdhs2014.head(5)"
   ]
  },
  {
   "cell_type": "code",
   "execution_count": null,
   "metadata": {
    "colab": {
     "base_uri": "https://localhost:8080/",
     "height": 206
    },
    "id": "dwb38gMWBJ5C",
    "outputId": "091ff38c-aaa0-4e59-ab92-57d60401e10f"
   },
   "outputs": [
    {
     "data": {
      "text/html": [
       "<div>\n",
       "<style scoped>\n",
       "    .dataframe tbody tr th:only-of-type {\n",
       "        vertical-align: middle;\n",
       "    }\n",
       "\n",
       "    .dataframe tbody tr th {\n",
       "        vertical-align: top;\n",
       "    }\n",
       "\n",
       "    .dataframe thead th {\n",
       "        text-align: right;\n",
       "    }\n",
       "</style>\n",
       "<table border=\"1\" class=\"dataframe\">\n",
       "  <thead>\n",
       "    <tr style=\"text-align: right;\">\n",
       "      <th></th>\n",
       "      <th>CASEID</th>\n",
       "      <th>V010</th>\n",
       "      <th>V012</th>\n",
       "      <th>V025</th>\n",
       "      <th>V024</th>\n",
       "      <th>V106</th>\n",
       "      <th>V152</th>\n",
       "      <th>V201</th>\n",
       "    </tr>\n",
       "  </thead>\n",
       "  <tbody>\n",
       "    <tr>\n",
       "      <th>0</th>\n",
       "      <td>0001019 02</td>\n",
       "      <td>1991</td>\n",
       "      <td>23</td>\n",
       "      <td>Urban</td>\n",
       "      <td>Nairobi</td>\n",
       "      <td>Secondary</td>\n",
       "      <td>52.0</td>\n",
       "      <td>2</td>\n",
       "    </tr>\n",
       "    <tr>\n",
       "      <th>1</th>\n",
       "      <td>0001019 03</td>\n",
       "      <td>1991</td>\n",
       "      <td>23</td>\n",
       "      <td>Urban</td>\n",
       "      <td>Nairobi</td>\n",
       "      <td>Secondary</td>\n",
       "      <td>52.0</td>\n",
       "      <td>1</td>\n",
       "    </tr>\n",
       "    <tr>\n",
       "      <th>2</th>\n",
       "      <td>0001033 02</td>\n",
       "      <td>1988</td>\n",
       "      <td>26</td>\n",
       "      <td>Urban</td>\n",
       "      <td>Nairobi</td>\n",
       "      <td>Secondary</td>\n",
       "      <td>27.0</td>\n",
       "      <td>2</td>\n",
       "    </tr>\n",
       "    <tr>\n",
       "      <th>3</th>\n",
       "      <td>0001033 02</td>\n",
       "      <td>1988</td>\n",
       "      <td>26</td>\n",
       "      <td>Urban</td>\n",
       "      <td>Nairobi</td>\n",
       "      <td>Secondary</td>\n",
       "      <td>27.0</td>\n",
       "      <td>2</td>\n",
       "    </tr>\n",
       "    <tr>\n",
       "      <th>4</th>\n",
       "      <td>0001037 02</td>\n",
       "      <td>1992</td>\n",
       "      <td>22</td>\n",
       "      <td>Urban</td>\n",
       "      <td>Nairobi</td>\n",
       "      <td>Primary</td>\n",
       "      <td>29.0</td>\n",
       "      <td>3</td>\n",
       "    </tr>\n",
       "  </tbody>\n",
       "</table>\n",
       "</div>"
      ],
      "text/plain": [
       "            CASEID  V010  V012   V025     V024       V106  V152  V201\n",
       "0       0001019 02  1991    23  Urban  Nairobi  Secondary  52.0     2\n",
       "1       0001019 03  1991    23  Urban  Nairobi  Secondary  52.0     1\n",
       "2       0001033 02  1988    26  Urban  Nairobi  Secondary  27.0     2\n",
       "3       0001033 02  1988    26  Urban  Nairobi  Secondary  27.0     2\n",
       "4       0001037 02  1992    22  Urban  Nairobi    Primary  29.0     3"
      ]
     },
     "execution_count": 50,
     "metadata": {
      "tags": []
     },
     "output_type": "execute_result"
    }
   ],
   "source": [
    "# selecting only the relevant columns\n",
    "df = kdhs2014[['CASEID', 'V010', 'V012', 'V025', 'V024', 'V106', 'V152', 'V201']]\n",
    "df.head()"
   ]
  },
  {
   "cell_type": "code",
   "execution_count": null,
   "metadata": {
    "colab": {
     "base_uri": "https://localhost:8080/",
     "height": 297
    },
    "id": "Ujo55ZIgDRjv",
    "outputId": "65c57cf1-b179-4540-fdb8-ada55fb6b63d"
   },
   "outputs": [
    {
     "name": "stderr",
     "output_type": "stream",
     "text": [
      "/usr/local/lib/python3.6/dist-packages/ipykernel_launcher.py:9: SettingWithCopyWarning: \n",
      "A value is trying to be set on a copy of a slice from a DataFrame.\n",
      "Try using .loc[row_indexer,col_indexer] = value instead\n",
      "\n",
      "See the caveats in the documentation: https://pandas.pydata.org/pandas-docs/stable/user_guide/indexing.html#returning-a-view-versus-a-copy\n",
      "  if __name__ == '__main__':\n"
     ]
    },
    {
     "data": {
      "text/plain": [
       "CASEID    0\n",
       "V010      0\n",
       "V012      0\n",
       "V025      0\n",
       "V024      0\n",
       "V106      0\n",
       "V152      0\n",
       "V201      0\n",
       "dtype: int64"
      ]
     },
     "execution_count": 51,
     "metadata": {
      "tags": []
     },
     "output_type": "execute_result"
    }
   ],
   "source": [
    "# finding and dealing with null values\n",
    "\n",
    "#To check for null values\n",
    "df.isnull().sum()\n",
    "#Column V152 has one null value, which we will replace with the mean of the column\n",
    "\n",
    "mean = round(df['V152'].mean(skipna=True),0) #We get a mean value of 38.0\n",
    "\n",
    "df['V152'] = df['V152'].replace(np.nan, mean)\n",
    "\n",
    "df.isnull().sum()"
   ]
  },
  {
   "cell_type": "code",
   "execution_count": null,
   "metadata": {
    "colab": {
     "base_uri": "https://localhost:8080/",
     "height": 185
    },
    "id": "dwSYPwiJDRW5",
    "outputId": "406c0378-7663-4f51-ae81-374e8691da3a"
   },
   "outputs": [
    {
     "data": {
      "text/plain": [
       "CASEID    object\n",
       "V010       int64\n",
       "V012       int64\n",
       "V025      object\n",
       "V024      object\n",
       "V106      object\n",
       "V152       int64\n",
       "V201       int64\n",
       "dtype: object"
      ]
     },
     "execution_count": 52,
     "metadata": {
      "tags": []
     },
     "output_type": "execute_result"
    }
   ],
   "source": [
    "# performing data conversion\n",
    "\n",
    "df = df.apply(lambda x: x.astype(int) if (x.dtypes == 'float64') else x)\n",
    "\n",
    "df.dtypes"
   ]
  },
  {
   "cell_type": "code",
   "execution_count": null,
   "metadata": {
    "colab": {
     "base_uri": "https://localhost:8080/",
     "height": 36
    },
    "id": "xt407vvhBJ5G",
    "outputId": "7178bc54-60d1-487b-edb0-eb2000851f1b"
   },
   "outputs": [
    {
     "data": {
      "text/plain": [
       "0"
      ]
     },
     "execution_count": 54,
     "metadata": {
      "tags": []
     },
     "output_type": "execute_result"
    }
   ],
   "source": [
    "# dropping duplicates, if any\n",
    "#Note it has 6015 duplicates befor dropping\n",
    "\n",
    "df = df.drop_duplicates()\n",
    "\n",
    "sum(df.duplicated())\n"
   ]
  },
  {
   "cell_type": "code",
   "execution_count": null,
   "metadata": {
    "colab": {
     "base_uri": "https://localhost:8080/",
     "height": 36
    },
    "id": "MUQMkWjCDf0j",
    "outputId": "9af35947-f941-49bf-d83c-997277c27e77"
   },
   "outputs": [
    {
     "data": {
      "text/plain": [
       "(14949, 8)"
      ]
     },
     "execution_count": 55,
     "metadata": {
      "tags": []
     },
     "output_type": "execute_result"
    }
   ],
   "source": [
    "# checking for the shape of the dataset\n",
    "\n",
    "df.shape"
   ]
  },
  {
   "cell_type": "code",
   "execution_count": null,
   "metadata": {
    "colab": {
     "base_uri": "https://localhost:8080/",
     "height": 36
    },
    "id": "KmEeRXQfBJ5M",
    "outputId": "7432ea09-368e-4459-b970-a7960935a6be"
   },
   "outputs": [
    {
     "data": {
      "text/plain": [
       "{'Mean': 28.88, 'Median': 28.0, 'Mode': 25}"
      ]
     },
     "execution_count": 60,
     "metadata": {
      "tags": []
     },
     "output_type": "execute_result"
    }
   ],
   "source": [
    "# calculating the mean, median, and mode of the V012 variable\n",
    "#Taking CT to present measures of central Tendecy\n",
    "\n",
    "CT={}\n",
    "\n",
    "CT['Mean'] = round( df['V012'].mean(), 2)\n",
    "CT['Median'] = df['V012'].median()\n",
    "CT['Mode'] = df['V012'].mode().iloc[0]\n",
    "\n",
    "CT"
   ]
  },
  {
   "cell_type": "code",
   "execution_count": null,
   "metadata": {
    "colab": {
     "base_uri": "https://localhost:8080/",
     "height": 36
    },
    "id": "BQWmJ6qoBJ5Q",
    "outputId": "88885810-20b0-446f-d702-8de45aab9354"
   },
   "outputs": [
    {
     "data": {
      "text/plain": [
       "{'Mean': 38.34, 'Median': 35.0, 'Mode': 30}"
      ]
     },
     "execution_count": 61,
     "metadata": {
      "tags": []
     },
     "output_type": "execute_result"
    }
   ],
   "source": [
    "# calculating the mean, median, and mode of the V152 variable\n",
    "\n",
    "CT1={}\n",
    "\n",
    "CT1['Mean'] = round( df['V152'].mean(), 2)\n",
    "CT1['Median'] = df['V152'].median()\n",
    "CT1['Mode'] = df['V152'].mode().iloc[0]\n",
    "\n",
    "CT1"
   ]
  },
  {
   "cell_type": "code",
   "execution_count": null,
   "metadata": {
    "colab": {
     "base_uri": "https://localhost:8080/",
     "height": 36
    },
    "id": "6OvHGXW4BJ5T",
    "outputId": "41137b97-7c8a-4578-d12e-6c1bece0c7f1"
   },
   "outputs": [
    {
     "data": {
      "text/plain": [
       "{'Mean': 3.48, 'Median': 3.0, 'Mode': 1}"
      ]
     },
     "execution_count": 70,
     "metadata": {
      "tags": []
     },
     "output_type": "execute_result"
    }
   ],
   "source": [
    "# calculating the mean, median, and mode of the V201 variable\n",
    "CT2={}\n",
    "\n",
    "CT2['Mean'] = round( df['V201'].mean(), 2)\n",
    "CT2['Median'] = df['V201'].median()\n",
    "CT2['Mode'] = df['V201'].mode().iloc[0]\n",
    "\n",
    "CT2"
   ]
  },
  {
   "cell_type": "markdown",
   "metadata": {
    "id": "CHjc8onQBJ5W"
   },
   "source": [
    "Would you prefer mean or median for V201?\n",
    "\n",
    "Median would be more preferable since it gives a whole number, this is because the variable V201 is the count of children, which is a value that can only be in whole numbers."
   ]
  },
  {
   "cell_type": "code",
   "execution_count": null,
   "metadata": {
    "colab": {
     "base_uri": "https://localhost:8080/",
     "height": 73
    },
    "id": "PFsrMvDMBJ5Z",
    "outputId": "b12917f6-6999-419e-8e4c-201ba0347093"
   },
   "outputs": [
    {
     "data": {
      "text/plain": [
       "{'IQR': {0.25: 24.0, 0.5: 28.0, 0.75: 34.0},\n",
       " 'Range': 34,\n",
       " 'std': 6.795209999264812}"
      ]
     },
     "execution_count": 83,
     "metadata": {
      "tags": []
     },
     "output_type": "execute_result"
    }
   ],
   "source": [
    "# calculating the range, IQR, and standard deviation of the V012 variable\n",
    "\n",
    "#Taking MD to represent Measures of dispersion \n",
    "\n",
    "def measures_of_dispersion(x):\n",
    "  MD = {}\n",
    "\n",
    "  max = df[x].max()\n",
    "  min = df[x].min()\n",
    "  range = max -min\n",
    "\n",
    "  MD[\"Range\"] = range\n",
    "\n",
    "  MD['std'] = df[x].std()\n",
    "\n",
    "  MD['IQR'] = dict(df[x].quantile([0.25, 0.5, 0.75]))\n",
    "\n",
    "  return MD\n",
    "\n",
    "measures_of_dispersion('V012')"
   ]
  },
  {
   "cell_type": "code",
   "execution_count": null,
   "metadata": {
    "colab": {
     "base_uri": "https://localhost:8080/",
     "height": 73
    },
    "id": "sOEP6fcBBJ5c",
    "outputId": "23f444f4-4b7d-4f5d-bf21-ab8539759953"
   },
   "outputs": [
    {
     "data": {
      "text/plain": [
       "{'IQR': {0.25: 30.0, 0.5: 35.0, 0.75: 44.0},\n",
       " 'Range': 80,\n",
       " 'std': 12.434054100701}"
      ]
     },
     "execution_count": 87,
     "metadata": {
      "tags": []
     },
     "output_type": "execute_result"
    }
   ],
   "source": [
    "# calculating the range, IQR, and standard deviation of the V152 variable\n",
    "#Using the function created earlier\n",
    "\n",
    "measures_of_dispersion('V152')"
   ]
  },
  {
   "cell_type": "markdown",
   "metadata": {
    "id": "xGRCz7I5BJ5g"
   },
   "source": [
    "What have you noticed about the variability of these two variables?\n",
    "\n",
    "The two are not similar, the variable V012 has values which are more close together while the variable V152 has values that are more apart."
   ]
  },
  {
   "cell_type": "code",
   "execution_count": null,
   "metadata": {
    "colab": {
     "base_uri": "https://localhost:8080/",
     "height": 340
    },
    "id": "HDB7KDRHBJ5k",
    "outputId": "65c23b0a-4339-476d-c3cb-a89c6a9a9d77"
   },
   "outputs": [
    {
     "data": {
      "text/plain": [
       "(array([ 496., 1595., 3185., 2668., 2217., 2034., 1207., 1059.,  306.,\n",
       "         182.]),\n",
       " array([15. , 18.4, 21.8, 25.2, 28.6, 32. , 35.4, 38.8, 42.2, 45.6, 49. ]),\n",
       " <a list of 10 Patch objects>)"
      ]
     },
     "execution_count": 95,
     "metadata": {
      "tags": []
     },
     "output_type": "execute_result"
    },
    {
     "data": {
      "image/png": "[encoded data removed]",
      "text/plain": [
       "<Figure size 432x288 with 1 Axes>"
      ]
     },
     "metadata": {
      "needs_background": "light",
      "tags": []
     },
     "output_type": "display_data"
    }
   ],
   "source": [
    "# histogram of V012 variable\n",
    "\n",
    "plt.hist(df['V012'], bins=10, histtype='bar', rwidth=0.9)"
   ]
  },
  {
   "cell_type": "code",
   "execution_count": null,
   "metadata": {
    "colab": {
     "base_uri": "https://localhost:8080/",
     "height": 340
    },
    "id": "7-Jr6G4JBJ5n",
    "outputId": "2c48086a-e870-4518-fa82-ac54b8bb0064"
   },
   "outputs": [
    {
     "data": {
      "text/plain": [
       "(array([ 480., 4187., 4440., 2782., 1269.,  945.,  500.,  218.,   99.,\n",
       "          29.]),\n",
       " array([15., 23., 31., 39., 47., 55., 63., 71., 79., 87., 95.]),\n",
       " <a list of 10 Patch objects>)"
      ]
     },
     "execution_count": 96,
     "metadata": {
      "tags": []
     },
     "output_type": "execute_result"
    },
    {
     "data": {
      "image/png": "[encoded data removed]",
      "text/plain": [
       "<Figure size 432x288 with 1 Axes>"
      ]
     },
     "metadata": {
      "needs_background": "light",
      "tags": []
     },
     "output_type": "display_data"
    }
   ],
   "source": [
    "# histogram of V152 variable\n",
    "\n",
    "plt.hist(df['V152'], bins=10, histtype='bar', rwidth=0.9)"
   ]
  },
  {
   "cell_type": "markdown",
   "metadata": {
    "id": "i1kt250HBJ5q"
   },
   "source": [
    "What have you noticed about the skewness of the two variables?\n",
    "\n",
    "* Both of the the variables are Positived-Skewed, with the V152 been more skewed"
   ]
  },
  {
   "cell_type": "code",
   "execution_count": null,
   "metadata": {
    "colab": {
     "base_uri": "https://localhost:8080/",
     "height": 185
    },
    "id": "Tofkf-U6BJ5t",
    "outputId": "42a685ae-91f1-4bf9-efc0-dd9cc1ef399d"
   },
   "outputs": [
    {
     "data": {
      "text/plain": [
       "Rift Valley      4760\n",
       "Eastern          2299\n",
       "Nyanza           2085\n",
       "Coast            1857\n",
       "Western          1398\n",
       "Central          1197\n",
       "North Eastern     925\n",
       "Nairobi           428\n",
       "Name: V024, dtype: int64"
      ]
     },
     "execution_count": 97,
     "metadata": {
      "tags": []
     },
     "output_type": "execute_result"
    }
   ],
   "source": [
    "# displaying the frequency table of the V024 variable\n",
    "\n",
    "df['V024'].value_counts()"
   ]
  },
  {
   "cell_type": "code",
   "execution_count": null,
   "metadata": {
    "colab": {
     "base_uri": "https://localhost:8080/",
     "height": 343
    },
    "id": "_f4CKAj0BJ5z",
    "outputId": "b70ed9c2-977a-46be-8be6-70d6cda229d8"
   },
   "outputs": [
    {
     "data": {
      "text/plain": [
       "<matplotlib.axes._subplots.AxesSubplot at 0x7fcbc06a6cc0>"
      ]
     },
     "execution_count": 98,
     "metadata": {
      "tags": []
     },
     "output_type": "execute_result"
    },
    {
     "data": {
      "image/png": "[encoded data removed]",
      "text/plain": [
       "<Figure size 432x288 with 1 Axes>"
      ]
     },
     "metadata": {
      "needs_background": "light",
      "tags": []
     },
     "output_type": "display_data"
    }
   ],
   "source": [
    "# plotting the bar chart of the V024 frequency table\n",
    "df['V024'].value_counts().plot(kind=\"bar\")"
   ]
  },
  {
   "cell_type": "code",
   "execution_count": null,
   "metadata": {
    "colab": {
     "base_uri": "https://localhost:8080/",
     "height": 110
    },
    "id": "ZS33hhsuBJ51",
    "outputId": "8e869b23-44d5-418b-e217-f4508dadc4f4"
   },
   "outputs": [
    {
     "data": {
      "text/plain": [
       "Primary         7843\n",
       "Secondary       3210\n",
       "No education    2790\n",
       "Higher          1106\n",
       "Name: V106, dtype: int64"
      ]
     },
     "execution_count": 100,
     "metadata": {
      "tags": []
     },
     "output_type": "execute_result"
    }
   ],
   "source": [
    "# displaying the frequency table of the V106 variable\n",
    "\n",
    "df['V106'].value_counts()"
   ]
  },
  {
   "cell_type": "code",
   "execution_count": null,
   "metadata": {
    "colab": {
     "base_uri": "https://localhost:8080/",
     "height": 341
    },
    "id": "FT7fBr-5BJ54",
    "outputId": "5836faa7-885f-439b-ecdb-f14057566f79"
   },
   "outputs": [
    {
     "data": {
      "text/plain": [
       "<matplotlib.axes._subplots.AxesSubplot at 0x7fcbc0686ac8>"
      ]
     },
     "execution_count": 101,
     "metadata": {
      "tags": []
     },
     "output_type": "execute_result"
    },
    {
     "data": {
      "image/png": "[encoded data removed]",
      "text/plain": [
       "<Figure size 432x288 with 1 Axes>"
      ]
     },
     "metadata": {
      "needs_background": "light",
      "tags": []
     },
     "output_type": "display_data"
    }
   ],
   "source": [
    "# plotting the bar chart of the V106 frequency table\n",
    "\n",
    "df['V106'].value_counts().plot(kind=\"bar\")"
   ]
  },
  {
   "cell_type": "code",
   "execution_count": null,
   "metadata": {
    "colab": {
     "base_uri": "https://localhost:8080/",
     "height": 279
    },
    "id": "uhMQ_eHwBJ59",
    "outputId": "30efe42d-313c-4bd2-d67f-d87c655861ed"
   },
   "outputs": [
    {
     "data": {
      "image/png": "[encoded data removed]",
      "text/plain": [
       "<Figure size 432x288 with 1 Axes>"
      ]
     },
     "metadata": {
      "needs_background": "light",
      "tags": []
     },
     "output_type": "display_data"
    }
   ],
   "source": [
    "# plotting a boxplot of V201 by V025\n",
    "\n",
    "sns.boxplot(x = df[\"V201\"], y = df[\"V025\"]);\n",
    "\n"
   ]
  },
  {
   "cell_type": "code",
   "execution_count": null,
   "metadata": {
    "colab": {
     "base_uri": "https://localhost:8080/",
     "height": 279
    },
    "id": "RuMurijzBJ6C",
    "outputId": "12a08674-7be2-4c2d-bddb-0aedffb0843f"
   },
   "outputs": [
    {
     "data": {
      "image/png": "[encoded data removed]",
      "text/plain": [
       "<Figure size 432x288 with 1 Axes>"
      ]
     },
     "metadata": {
      "needs_background": "light",
      "tags": []
     },
     "output_type": "display_data"
    }
   ],
   "source": [
    "# plotting a boxplot of V201 by V106\n",
    "\n",
    "sns.boxplot(x = df[\"V201\"], y = df[\"V106\"]);"
   ]
  },
  {
   "cell_type": "code",
   "execution_count": null,
   "metadata": {
    "colab": {
     "base_uri": "https://localhost:8080/",
     "height": 279
    },
    "id": "7BqxU7URBJ6G",
    "outputId": "52931838-c396-441e-fde6-2fc2a173ff53"
   },
   "outputs": [
    {
     "data": {
      "image/png": "[encoded data removed]",
      "text/plain": [
       "<Figure size 432x288 with 1 Axes>"
      ]
     },
     "metadata": {
      "needs_background": "light",
      "tags": []
     },
     "output_type": "display_data"
    }
   ],
   "source": [
    "# plotting a boxplot of V201 by V024\n",
    "\n",
    "sns.boxplot(x = df[\"V201\"], y = df[\"V024\"]);"
   ]
  },
  {
   "cell_type": "code",
   "execution_count": null,
   "metadata": {
    "colab": {
     "base_uri": "https://localhost:8080/",
     "height": 298
    },
    "id": "Qv38s1xnBJ6W",
    "outputId": "3924f610-90a2-49ce-de13-5ef08725a020"
   },
   "outputs": [
    {
     "data": {
      "text/plain": [
       "<matplotlib.axes._subplots.AxesSubplot at 0x7fcbc0220828>"
      ]
     },
     "execution_count": 123,
     "metadata": {
      "tags": []
     },
     "output_type": "execute_result"
    },
    {
     "data": {
      "image/png": "[encoded data removed]",
      "text/plain": [
       "<Figure size 432x288 with 1 Axes>"
      ]
     },
     "metadata": {
      "needs_background": "light",
      "tags": []
     },
     "output_type": "display_data"
    }
   ],
   "source": [
    "# scatter plot of V201 by V012\n",
    "\n",
    "sns.scatterplot(x=\"V201\", y=\"V012\", data = df) \n"
   ]
  },
  {
   "cell_type": "code",
   "execution_count": null,
   "metadata": {
    "colab": {
     "base_uri": "https://localhost:8080/",
     "height": 36
    },
    "id": "kRdc3lwPBJ6Z",
    "outputId": "ac146a7f-c57d-46b8-cb08-b32a69ce8d38"
   },
   "outputs": [
    {
     "data": {
      "text/plain": [
       "0.7104720955348267"
      ]
     },
     "execution_count": 127,
     "metadata": {
      "tags": []
     },
     "output_type": "execute_result"
    }
   ],
   "source": [
    "# previewing the correlation between the V201 and the V012 variables\n",
    "\n",
    "df['V201'].corr(df['V012'], method=\"pearson\")"
   ]
  },
  {
   "cell_type": "markdown",
   "metadata": {
    "id": "EZCXOuEGBJ6c"
   },
   "source": [
    "The variable have a positive correlation,where with the increase in V201 the number of V012 values decrease."
   ]
  },
  {
   "cell_type": "markdown",
   "metadata": {
    "id": "EyIzV1noBJ6d"
   },
   "source": [
    "## <font color='#2F4F4F'>3. Summary of Findings</font>"
   ]
  },
  {
   "cell_type": "markdown",
   "metadata": {
    "id": "B3U6TxE-BJ6e"
   },
   "source": [
    "\n",
    "* The histograms of age of respondent and age of household head show positive skewness\n",
    "* The region that had the most number of respondents was Riftvalley while Nairobi had the lowest number of respondents.\n",
    "* The level of education attained by majority of the respondents is Primary while higher has been attained by the minority?\n",
    "* More children are born in the rural areas.\n",
    "* More children are born from younger respondents.\n",
    "\n"
   ]
  }
 ],
 "metadata": {
  "colab": {
   "collapsed_sections": [
    "ctyrDbwjBJ41",
    "t5knWWM6BJ42",
    "SsRaHFwfBJ43",
    "1YLTcqDMBJ43"
   ],
   "name": "Statistical Analysis With Python - Project Solved.ipynb",
   "provenance": [],
   "toc_visible": true
  },
  "kernelspec": {
   "display_name": "Python 3",
   "language": "python",
   "name": "python3"
  },
  "language_info": {
   "codemirror_mode": {
    "name": "ipython",
    "version": 3
   },
   "file_extension": ".py",
   "mimetype": "text/x-python",
   "name": "python",
   "nbconvert_exporter": "python",
   "pygments_lexer": "ipython3",
   "version": "3.8.3"
  }
 },
 "nbformat": 4,
 "nbformat_minor": 1
}
