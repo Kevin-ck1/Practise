{
 "cells": [
  {
   "cell_type": "markdown",
   "metadata": {
    "id": "FRotGY1k8iIp"
   },
   "source": [
    "## <font color='#2F4F4F'>1. Defining the Question</font>"
   ]
  },
  {
   "cell_type": "markdown",
   "metadata": {
    "id": "SMdePzNZ8iIq"
   },
   "source": [
    "### a) Specifying the Data Analysis Question\n",
    "\n",
    "Provition of a descriptive analysis report for each cluster, highlighting how each cluster is different from the other.\n"
   ]
  },
  {
   "cell_type": "markdown",
   "metadata": {
    "id": "i4S43KyW8iIr"
   },
   "source": [
    "### b) Defining the Metric for Success\n",
    "\n",
    "The project will be a success when we are able to create a model that can accurately classify new\n",
    "nuclear test explosions using the new labelPerform wine segmentation.clusters with clear boundaries."
   ]
  },
  {
   "cell_type": "markdown",
   "metadata": {
    "id": "YE0Zisl-8iIs"
   },
   "source": [
    "### c) Understanding the Context \n",
    "\n",
    "There has been quite a large number of nuclear explosions in the past, with nuclear test\n",
    "explosions being the most. Such tests have been done on test sites on land or waters\n",
    "owned, controlled or leased from the owners by one of the eight nuclear nations: the\n",
    "United States, the Soviet Union, United Kingdom, France, China, India, Pakistan or\n",
    "North Korea, or has been done on or over ocean sites far from territorial waters."
   ]
  },
  {
   "cell_type": "markdown",
   "metadata": {
    "id": "e5WzpVnI8iIt"
   },
   "source": [
    "### d) Recording the Experimental Design\n",
    "\n",
    "- Define the Research Question\n",
    "- Data Importation\n",
    "- Data Exploration\n",
    "- Data Cleaning\n",
    "- Data Analysis (Univariate and Bivariate)\n",
    "- Data Preparation\n",
    "- Data Modeling\n",
    "- Model Evaluation\n",
    "- Recommendations / Conclusion\n",
    "- Challenging your Solution"
   ]
  },
  {
   "cell_type": "markdown",
   "metadata": {
    "id": "7tICJILU8iIu"
   },
   "source": [
    "### e) Data Relevance\n",
    "\n",
    "The dataset is appropriate to answering the research question."
   ]
  },
  {
   "cell_type": "markdown",
   "metadata": {
    "id": "XhIVwJVk8iIv"
   },
   "source": [
    "## <font color='#2F4F4F'>2. Data Cleaning & Preparation</font>"
   ]
  },
  {
   "cell_type": "code",
   "execution_count": 2,
   "metadata": {
    "id": "39w8ezh68iIw"
   },
   "outputs": [],
   "source": [
    "import pandas as pd\n",
    "import os\n",
    "import numpy as np\n",
    "import matplotlib.pyplot as plt\n",
    "import seaborn as sns\n",
    "\n",
    "pd.set_option('display.max.columns', None)"
   ]
  },
  {
   "cell_type": "code",
   "execution_count": 2,
   "metadata": {},
   "outputs": [
    {
     "data": {
      "text/plain": [
       "'D:\\\\Coding\\\\Python\\\\After-work'"
      ]
     },
     "execution_count": 2,
     "metadata": {},
     "output_type": "execute_result"
    }
   ],
   "source": [
    "pwd"
   ]
  },
  {
   "cell_type": "code",
   "execution_count": 3,
   "metadata": {
    "colab": {
     "base_uri": "https://localhost:8080/",
     "height": 226
    },
    "id": "O3S53XFD8iI2",
    "outputId": "e0eb7760-ecd8-4835-88db-27dc7cc2c3e3",
    "scrolled": true
   },
   "outputs": [
    {
     "data": {
      "text/html": [
       "<div>\n",
       "<style scoped>\n",
       "    .dataframe tbody tr th:only-of-type {\n",
       "        vertical-align: middle;\n",
       "    }\n",
       "\n",
       "    .dataframe tbody tr th {\n",
       "        vertical-align: top;\n",
       "    }\n",
       "\n",
       "    .dataframe thead th {\n",
       "        text-align: right;\n",
       "    }\n",
       "</style>\n",
       "<table border=\"1\" class=\"dataframe\">\n",
       "  <thead>\n",
       "    <tr style=\"text-align: right;\">\n",
       "      <th></th>\n",
       "      <th>date_long</th>\n",
       "      <th>year</th>\n",
       "      <th>id_no</th>\n",
       "      <th>country</th>\n",
       "      <th>region</th>\n",
       "      <th>source</th>\n",
       "      <th>latitude</th>\n",
       "      <th>longitude</th>\n",
       "      <th>magnitude_body</th>\n",
       "      <th>magnitude_surface</th>\n",
       "      <th>depth</th>\n",
       "      <th>yield_lower</th>\n",
       "      <th>yield_upper</th>\n",
       "      <th>purpose</th>\n",
       "      <th>name</th>\n",
       "      <th>type</th>\n",
       "    </tr>\n",
       "  </thead>\n",
       "  <tbody>\n",
       "    <tr>\n",
       "      <th>0</th>\n",
       "      <td>19450716</td>\n",
       "      <td>1945</td>\n",
       "      <td>45001</td>\n",
       "      <td>USA</td>\n",
       "      <td>ALAMOGORDO</td>\n",
       "      <td>DOE</td>\n",
       "      <td>32.54</td>\n",
       "      <td>-105.57</td>\n",
       "      <td>0.0</td>\n",
       "      <td>0.0</td>\n",
       "      <td>-0.10</td>\n",
       "      <td>21.0</td>\n",
       "      <td>21.0</td>\n",
       "      <td>WR</td>\n",
       "      <td>TRINITY</td>\n",
       "      <td>TOWER</td>\n",
       "    </tr>\n",
       "    <tr>\n",
       "      <th>1</th>\n",
       "      <td>19450805</td>\n",
       "      <td>1945</td>\n",
       "      <td>45002</td>\n",
       "      <td>USA</td>\n",
       "      <td>HIROSHIMA</td>\n",
       "      <td>DOE</td>\n",
       "      <td>34.23</td>\n",
       "      <td>132.27</td>\n",
       "      <td>0.0</td>\n",
       "      <td>0.0</td>\n",
       "      <td>-0.60</td>\n",
       "      <td>15.0</td>\n",
       "      <td>15.0</td>\n",
       "      <td>COMBAT</td>\n",
       "      <td>LITTLEBOY</td>\n",
       "      <td>AIRDROP</td>\n",
       "    </tr>\n",
       "    <tr>\n",
       "      <th>2</th>\n",
       "      <td>19450809</td>\n",
       "      <td>1945</td>\n",
       "      <td>45003</td>\n",
       "      <td>USA</td>\n",
       "      <td>NAGASAKI</td>\n",
       "      <td>DOE</td>\n",
       "      <td>32.45</td>\n",
       "      <td>129.52</td>\n",
       "      <td>0.0</td>\n",
       "      <td>0.0</td>\n",
       "      <td>-0.60</td>\n",
       "      <td>21.0</td>\n",
       "      <td>21.0</td>\n",
       "      <td>COMBAT</td>\n",
       "      <td>FATMAN</td>\n",
       "      <td>AIRDROP</td>\n",
       "    </tr>\n",
       "    <tr>\n",
       "      <th>3</th>\n",
       "      <td>19460630</td>\n",
       "      <td>1946</td>\n",
       "      <td>46001</td>\n",
       "      <td>USA</td>\n",
       "      <td>BIKINI</td>\n",
       "      <td>DOE</td>\n",
       "      <td>11.35</td>\n",
       "      <td>165.20</td>\n",
       "      <td>0.0</td>\n",
       "      <td>0.0</td>\n",
       "      <td>-0.20</td>\n",
       "      <td>21.0</td>\n",
       "      <td>21.0</td>\n",
       "      <td>WE</td>\n",
       "      <td>ABLE</td>\n",
       "      <td>AIRDROP</td>\n",
       "    </tr>\n",
       "    <tr>\n",
       "      <th>4</th>\n",
       "      <td>19460724</td>\n",
       "      <td>1946</td>\n",
       "      <td>46002</td>\n",
       "      <td>USA</td>\n",
       "      <td>BIKINI</td>\n",
       "      <td>DOE</td>\n",
       "      <td>11.35</td>\n",
       "      <td>165.20</td>\n",
       "      <td>0.0</td>\n",
       "      <td>0.0</td>\n",
       "      <td>0.03</td>\n",
       "      <td>21.0</td>\n",
       "      <td>21.0</td>\n",
       "      <td>WE</td>\n",
       "      <td>BAKER</td>\n",
       "      <td>UW</td>\n",
       "    </tr>\n",
       "  </tbody>\n",
       "</table>\n",
       "</div>"
      ],
      "text/plain": [
       "   date_long  year  id_no country      region source  latitude  longitude  \\\n",
       "0   19450716  1945  45001     USA  ALAMOGORDO    DOE     32.54    -105.57   \n",
       "1   19450805  1945  45002     USA   HIROSHIMA    DOE     34.23     132.27   \n",
       "2   19450809  1945  45003     USA    NAGASAKI    DOE     32.45     129.52   \n",
       "3   19460630  1946  46001     USA      BIKINI    DOE     11.35     165.20   \n",
       "4   19460724  1946  46002     USA      BIKINI    DOE     11.35     165.20   \n",
       "\n",
       "   magnitude_body  magnitude_surface  depth  yield_lower  yield_upper purpose  \\\n",
       "0             0.0                0.0  -0.10         21.0         21.0      WR   \n",
       "1             0.0                0.0  -0.60         15.0         15.0  COMBAT   \n",
       "2             0.0                0.0  -0.60         21.0         21.0  COMBAT   \n",
       "3             0.0                0.0  -0.20         21.0         21.0      WE   \n",
       "4             0.0                0.0   0.03         21.0         21.0      WE   \n",
       "\n",
       "        name     type  \n",
       "0    TRINITY    TOWER  \n",
       "1  LITTLEBOY  AIRDROP  \n",
       "2     FATMAN  AIRDROP  \n",
       "3       ABLE  AIRDROP  \n",
       "4      BAKER       UW  "
      ]
     },
     "execution_count": 3,
     "metadata": {},
     "output_type": "execute_result"
    }
   ],
   "source": [
    "df = pd.read_csv('nuclear_explosions.csv')\n",
    "df.head()"
   ]
  },
  {
   "cell_type": "code",
   "execution_count": 3,
   "metadata": {
    "colab": {
     "base_uri": "https://localhost:8080/",
     "height": 35
    },
    "id": "4el60eMz8iI6",
    "outputId": "7db0e44e-440a-411b-be67-a8cc79b7854a"
   },
   "outputs": [
    {
     "data": {
      "text/plain": [
       "(2051, 16)"
      ]
     },
     "execution_count": 3,
     "metadata": {},
     "output_type": "execute_result"
    }
   ],
   "source": [
    "# check dataset shape\n",
    "df.shape"
   ]
  },
  {
   "cell_type": "code",
   "execution_count": 4,
   "metadata": {
    "colab": {
     "base_uri": "https://localhost:8080/",
     "height": 271
    },
    "id": "tKBZaFT28iJs",
    "outputId": "a586f383-757c-437a-d809-41e0246e48ad"
   },
   "outputs": [
    {
     "data": {
      "text/plain": [
       "date_long              int64\n",
       "year                   int64\n",
       "id_no                  int64\n",
       "country               object\n",
       "region                object\n",
       "source                object\n",
       "latitude             float64\n",
       "longitude            float64\n",
       "magnitude_body       float64\n",
       "magnitude_surface    float64\n",
       "depth                float64\n",
       "yield_lower          float64\n",
       "yield_upper          float64\n",
       "purpose               object\n",
       "name                  object\n",
       "type                  object\n",
       "dtype: object"
      ]
     },
     "execution_count": 4,
     "metadata": {},
     "output_type": "execute_result"
    }
   ],
   "source": [
    "# chekc data types\n",
    "df.dtypes"
   ]
  },
  {
   "cell_type": "code",
   "execution_count": 4,
   "metadata": {
    "colab": {
     "base_uri": "https://localhost:8080/",
     "height": 35
    },
    "id": "p6I0Nu7q8iJ0",
    "outputId": "8c616ebb-4773-4bbf-f61b-e596c8839e09"
   },
   "outputs": [
    {
     "data": {
      "text/plain": [
       "(2051, 16)"
      ]
     },
     "execution_count": 4,
     "metadata": {},
     "output_type": "execute_result"
    }
   ],
   "source": [
    "# dropping duplicates, if any\n",
    "df.drop_duplicates(inplace = True)\n",
    "df.shape"
   ]
  },
  {
   "cell_type": "code",
   "execution_count": 5,
   "metadata": {
    "colab": {
     "base_uri": "https://localhost:8080/",
     "height": 271
    },
    "id": "p_PYlRVj8iJ6",
    "outputId": "3b0c2af8-d318-452a-daea-c34feb277105"
   },
   "outputs": [
    {
     "data": {
      "text/plain": [
       "date_long              0\n",
       "year                   0\n",
       "id_no                  0\n",
       "country                0\n",
       "region                 0\n",
       "source                 0\n",
       "latitude               0\n",
       "longitude              0\n",
       "magnitude_body         0\n",
       "magnitude_surface      0\n",
       "depth                  0\n",
       "yield_lower            3\n",
       "yield_upper            5\n",
       "purpose                1\n",
       "name                 665\n",
       "type                   0\n",
       "dtype: int64"
      ]
     },
     "execution_count": 5,
     "metadata": {},
     "output_type": "execute_result"
    }
   ],
   "source": [
    "# check for missing data\n",
    "df.isna().sum()"
   ]
  },
  {
   "cell_type": "code",
   "execution_count": 6,
   "metadata": {},
   "outputs": [
    {
     "data": {
      "text/html": [
       "<div>\n",
       "<style scoped>\n",
       "    .dataframe tbody tr th:only-of-type {\n",
       "        vertical-align: middle;\n",
       "    }\n",
       "\n",
       "    .dataframe tbody tr th {\n",
       "        vertical-align: top;\n",
       "    }\n",
       "\n",
       "    .dataframe thead th {\n",
       "        text-align: right;\n",
       "    }\n",
       "</style>\n",
       "<table border=\"1\" class=\"dataframe\">\n",
       "  <thead>\n",
       "    <tr style=\"text-align: right;\">\n",
       "      <th></th>\n",
       "      <th>date_long</th>\n",
       "      <th>year</th>\n",
       "      <th>id_no</th>\n",
       "      <th>country</th>\n",
       "      <th>region</th>\n",
       "      <th>source</th>\n",
       "      <th>latitude</th>\n",
       "      <th>longitude</th>\n",
       "      <th>magnitude_body</th>\n",
       "      <th>magnitude_surface</th>\n",
       "      <th>depth</th>\n",
       "      <th>yield_lower</th>\n",
       "      <th>yield_upper</th>\n",
       "      <th>purpose</th>\n",
       "      <th>name</th>\n",
       "      <th>type</th>\n",
       "    </tr>\n",
       "  </thead>\n",
       "  <tbody>\n",
       "    <tr>\n",
       "      <th>239</th>\n",
       "      <td>19580906</td>\n",
       "      <td>1958</td>\n",
       "      <td>58056</td>\n",
       "      <td>USA</td>\n",
       "      <td>S.ATLANTIC</td>\n",
       "      <td>DOE</td>\n",
       "      <td>-48.50</td>\n",
       "      <td>-9.70</td>\n",
       "      <td>0.0</td>\n",
       "      <td>0.0</td>\n",
       "      <td>-160.000</td>\n",
       "      <td>1.000</td>\n",
       "      <td>2.0</td>\n",
       "      <td>WE</td>\n",
       "      <td>ARGUS:III</td>\n",
       "      <td>ROCKET</td>\n",
       "    </tr>\n",
       "    <tr>\n",
       "      <th>1538</th>\n",
       "      <td>19790924</td>\n",
       "      <td>1979</td>\n",
       "      <td>79038</td>\n",
       "      <td>USSR</td>\n",
       "      <td>NZ RUSS</td>\n",
       "      <td>ISC</td>\n",
       "      <td>73.37</td>\n",
       "      <td>54.58</td>\n",
       "      <td>5.7</td>\n",
       "      <td>4.5</td>\n",
       "      <td>0.000</td>\n",
       "      <td>0.001</td>\n",
       "      <td>150.0</td>\n",
       "      <td>WE</td>\n",
       "      <td>NaN</td>\n",
       "      <td>TUNNEL</td>\n",
       "    </tr>\n",
       "    <tr>\n",
       "      <th>108</th>\n",
       "      <td>19560611</td>\n",
       "      <td>1956</td>\n",
       "      <td>56013</td>\n",
       "      <td>USA</td>\n",
       "      <td>ENEWETAK</td>\n",
       "      <td>DOE</td>\n",
       "      <td>11.30</td>\n",
       "      <td>162.15</td>\n",
       "      <td>0.0</td>\n",
       "      <td>0.0</td>\n",
       "      <td>-0.100</td>\n",
       "      <td>8.000</td>\n",
       "      <td>8.0</td>\n",
       "      <td>WR</td>\n",
       "      <td>BLACKFOOT</td>\n",
       "      <td>TOWER</td>\n",
       "    </tr>\n",
       "    <tr>\n",
       "      <th>1378</th>\n",
       "      <td>19770219</td>\n",
       "      <td>1977</td>\n",
       "      <td>77001</td>\n",
       "      <td>FRANCE</td>\n",
       "      <td>MURUROA</td>\n",
       "      <td>ISC</td>\n",
       "      <td>-22.14</td>\n",
       "      <td>-138.72</td>\n",
       "      <td>5.2</td>\n",
       "      <td>0.0</td>\n",
       "      <td>0.000</td>\n",
       "      <td>0.000</td>\n",
       "      <td>20.0</td>\n",
       "      <td>WR</td>\n",
       "      <td>ULYSSE B</td>\n",
       "      <td>SHAFT/GR</td>\n",
       "    </tr>\n",
       "    <tr>\n",
       "      <th>1494</th>\n",
       "      <td>19781218</td>\n",
       "      <td>1978</td>\n",
       "      <td>78051</td>\n",
       "      <td>USSR</td>\n",
       "      <td>AZGIE KAZAKH</td>\n",
       "      <td>ISC</td>\n",
       "      <td>47.78</td>\n",
       "      <td>48.14</td>\n",
       "      <td>5.9</td>\n",
       "      <td>5.2</td>\n",
       "      <td>0.000</td>\n",
       "      <td>103.000</td>\n",
       "      <td>103.0</td>\n",
       "      <td>PNE</td>\n",
       "      <td>NaN</td>\n",
       "      <td>SHAFT</td>\n",
       "    </tr>\n",
       "    <tr>\n",
       "      <th>221</th>\n",
       "      <td>19580629</td>\n",
       "      <td>1958</td>\n",
       "      <td>58038</td>\n",
       "      <td>USA</td>\n",
       "      <td>BIKINI</td>\n",
       "      <td>DOE</td>\n",
       "      <td>11.35</td>\n",
       "      <td>165.20</td>\n",
       "      <td>0.0</td>\n",
       "      <td>0.0</td>\n",
       "      <td>-0.001</td>\n",
       "      <td>14.000</td>\n",
       "      <td>14.0</td>\n",
       "      <td>WR</td>\n",
       "      <td>HICKORY</td>\n",
       "      <td>BARGE</td>\n",
       "    </tr>\n",
       "    <tr>\n",
       "      <th>1152</th>\n",
       "      <td>19720727</td>\n",
       "      <td>1972</td>\n",
       "      <td>72017</td>\n",
       "      <td>FRANCE</td>\n",
       "      <td>MURUROA</td>\n",
       "      <td>DOE</td>\n",
       "      <td>-22.00</td>\n",
       "      <td>-139.00</td>\n",
       "      <td>0.0</td>\n",
       "      <td>0.0</td>\n",
       "      <td>0.000</td>\n",
       "      <td>0.000</td>\n",
       "      <td>20.0</td>\n",
       "      <td>WR</td>\n",
       "      <td>OBERON</td>\n",
       "      <td>BALLOON</td>\n",
       "    </tr>\n",
       "    <tr>\n",
       "      <th>1819</th>\n",
       "      <td>19841228</td>\n",
       "      <td>1984</td>\n",
       "      <td>84053</td>\n",
       "      <td>USSR</td>\n",
       "      <td>SEMI KAZAKH</td>\n",
       "      <td>NOA</td>\n",
       "      <td>49.00</td>\n",
       "      <td>80.00</td>\n",
       "      <td>6.6</td>\n",
       "      <td>0.0</td>\n",
       "      <td>0.000</td>\n",
       "      <td>0.001</td>\n",
       "      <td>150.0</td>\n",
       "      <td>WR/PNE</td>\n",
       "      <td>NaN</td>\n",
       "      <td>SHAFT</td>\n",
       "    </tr>\n",
       "    <tr>\n",
       "      <th>335</th>\n",
       "      <td>19611004</td>\n",
       "      <td>1961</td>\n",
       "      <td>61033</td>\n",
       "      <td>USSR</td>\n",
       "      <td>SEMI KAZAKH</td>\n",
       "      <td>MTM</td>\n",
       "      <td>50.00</td>\n",
       "      <td>78.00</td>\n",
       "      <td>0.0</td>\n",
       "      <td>0.0</td>\n",
       "      <td>0.000</td>\n",
       "      <td>13.000</td>\n",
       "      <td>13.0</td>\n",
       "      <td>WR</td>\n",
       "      <td>NaN</td>\n",
       "      <td>ATMOSPH</td>\n",
       "    </tr>\n",
       "    <tr>\n",
       "      <th>632</th>\n",
       "      <td>19640719</td>\n",
       "      <td>1964</td>\n",
       "      <td>64021</td>\n",
       "      <td>USSR</td>\n",
       "      <td>SEMI KAZAKH</td>\n",
       "      <td>UGS</td>\n",
       "      <td>49.90</td>\n",
       "      <td>78.10</td>\n",
       "      <td>5.5</td>\n",
       "      <td>0.0</td>\n",
       "      <td>0.000</td>\n",
       "      <td>20.000</td>\n",
       "      <td>150.0</td>\n",
       "      <td>FMS</td>\n",
       "      <td>NaN</td>\n",
       "      <td>TUNNEL</td>\n",
       "    </tr>\n",
       "  </tbody>\n",
       "</table>\n",
       "</div>"
      ],
      "text/plain": [
       "      date_long  year  id_no country        region source  latitude  \\\n",
       "239    19580906  1958  58056     USA    S.ATLANTIC    DOE    -48.50   \n",
       "1538   19790924  1979  79038    USSR       NZ RUSS    ISC     73.37   \n",
       "108    19560611  1956  56013     USA      ENEWETAK    DOE     11.30   \n",
       "1378   19770219  1977  77001  FRANCE       MURUROA    ISC    -22.14   \n",
       "1494   19781218  1978  78051    USSR  AZGIE KAZAKH    ISC     47.78   \n",
       "221    19580629  1958  58038     USA        BIKINI    DOE     11.35   \n",
       "1152   19720727  1972  72017  FRANCE       MURUROA    DOE    -22.00   \n",
       "1819   19841228  1984  84053    USSR   SEMI KAZAKH    NOA     49.00   \n",
       "335    19611004  1961  61033    USSR   SEMI KAZAKH    MTM     50.00   \n",
       "632    19640719  1964  64021    USSR   SEMI KAZAKH    UGS     49.90   \n",
       "\n",
       "      longitude  magnitude_body  magnitude_surface    depth  yield_lower  \\\n",
       "239       -9.70             0.0                0.0 -160.000        1.000   \n",
       "1538      54.58             5.7                4.5    0.000        0.001   \n",
       "108      162.15             0.0                0.0   -0.100        8.000   \n",
       "1378    -138.72             5.2                0.0    0.000        0.000   \n",
       "1494      48.14             5.9                5.2    0.000      103.000   \n",
       "221      165.20             0.0                0.0   -0.001       14.000   \n",
       "1152    -139.00             0.0                0.0    0.000        0.000   \n",
       "1819      80.00             6.6                0.0    0.000        0.001   \n",
       "335       78.00             0.0                0.0    0.000       13.000   \n",
       "632       78.10             5.5                0.0    0.000       20.000   \n",
       "\n",
       "      yield_upper purpose       name      type  \n",
       "239           2.0      WE  ARGUS:III    ROCKET  \n",
       "1538        150.0      WE        NaN    TUNNEL  \n",
       "108           8.0      WR  BLACKFOOT     TOWER  \n",
       "1378         20.0      WR   ULYSSE B  SHAFT/GR  \n",
       "1494        103.0     PNE        NaN     SHAFT  \n",
       "221          14.0      WR    HICKORY     BARGE  \n",
       "1152         20.0      WR     OBERON   BALLOON  \n",
       "1819        150.0  WR/PNE        NaN     SHAFT  \n",
       "335          13.0      WR        NaN   ATMOSPH  \n",
       "632         150.0     FMS        NaN    TUNNEL  "
      ]
     },
     "execution_count": 6,
     "metadata": {},
     "output_type": "execute_result"
    }
   ],
   "source": [
    "df_copy = df.copy()\n",
    "df_copy.sample(10)"
   ]
  },
  {
   "cell_type": "code",
   "execution_count": 7,
   "metadata": {},
   "outputs": [
    {
     "data": {
      "text/html": [
       "<div>\n",
       "<style scoped>\n",
       "    .dataframe tbody tr th:only-of-type {\n",
       "        vertical-align: middle;\n",
       "    }\n",
       "\n",
       "    .dataframe tbody tr th {\n",
       "        vertical-align: top;\n",
       "    }\n",
       "\n",
       "    .dataframe thead th {\n",
       "        text-align: right;\n",
       "    }\n",
       "</style>\n",
       "<table border=\"1\" class=\"dataframe\">\n",
       "  <thead>\n",
       "    <tr style=\"text-align: right;\">\n",
       "      <th></th>\n",
       "      <th>date_long</th>\n",
       "      <th>year</th>\n",
       "      <th>id_no</th>\n",
       "      <th>country</th>\n",
       "      <th>region</th>\n",
       "      <th>source</th>\n",
       "      <th>latitude</th>\n",
       "      <th>longitude</th>\n",
       "      <th>magnitude_body</th>\n",
       "      <th>magnitude_surface</th>\n",
       "      <th>depth</th>\n",
       "      <th>yield_lower</th>\n",
       "      <th>yield_upper</th>\n",
       "      <th>purpose</th>\n",
       "      <th>name</th>\n",
       "      <th>type</th>\n",
       "      <th>month</th>\n",
       "      <th>day</th>\n",
       "    </tr>\n",
       "  </thead>\n",
       "  <tbody>\n",
       "    <tr>\n",
       "      <th>0</th>\n",
       "      <td>1945-07-16</td>\n",
       "      <td>1945</td>\n",
       "      <td>45001</td>\n",
       "      <td>USA</td>\n",
       "      <td>ALAMOGORDO</td>\n",
       "      <td>DOE</td>\n",
       "      <td>32.54</td>\n",
       "      <td>-105.57</td>\n",
       "      <td>0.0</td>\n",
       "      <td>0.0</td>\n",
       "      <td>-0.10</td>\n",
       "      <td>21.0</td>\n",
       "      <td>21.0</td>\n",
       "      <td>WR</td>\n",
       "      <td>TRINITY</td>\n",
       "      <td>TOWER</td>\n",
       "      <td>7</td>\n",
       "      <td>16</td>\n",
       "    </tr>\n",
       "    <tr>\n",
       "      <th>1</th>\n",
       "      <td>1945-08-05</td>\n",
       "      <td>1945</td>\n",
       "      <td>45002</td>\n",
       "      <td>USA</td>\n",
       "      <td>HIROSHIMA</td>\n",
       "      <td>DOE</td>\n",
       "      <td>34.23</td>\n",
       "      <td>132.27</td>\n",
       "      <td>0.0</td>\n",
       "      <td>0.0</td>\n",
       "      <td>-0.60</td>\n",
       "      <td>15.0</td>\n",
       "      <td>15.0</td>\n",
       "      <td>COMBAT</td>\n",
       "      <td>LITTLEBOY</td>\n",
       "      <td>AIRDROP</td>\n",
       "      <td>8</td>\n",
       "      <td>5</td>\n",
       "    </tr>\n",
       "    <tr>\n",
       "      <th>2</th>\n",
       "      <td>1945-08-09</td>\n",
       "      <td>1945</td>\n",
       "      <td>45003</td>\n",
       "      <td>USA</td>\n",
       "      <td>NAGASAKI</td>\n",
       "      <td>DOE</td>\n",
       "      <td>32.45</td>\n",
       "      <td>129.52</td>\n",
       "      <td>0.0</td>\n",
       "      <td>0.0</td>\n",
       "      <td>-0.60</td>\n",
       "      <td>21.0</td>\n",
       "      <td>21.0</td>\n",
       "      <td>COMBAT</td>\n",
       "      <td>FATMAN</td>\n",
       "      <td>AIRDROP</td>\n",
       "      <td>8</td>\n",
       "      <td>9</td>\n",
       "    </tr>\n",
       "    <tr>\n",
       "      <th>3</th>\n",
       "      <td>1946-06-30</td>\n",
       "      <td>1946</td>\n",
       "      <td>46001</td>\n",
       "      <td>USA</td>\n",
       "      <td>BIKINI</td>\n",
       "      <td>DOE</td>\n",
       "      <td>11.35</td>\n",
       "      <td>165.20</td>\n",
       "      <td>0.0</td>\n",
       "      <td>0.0</td>\n",
       "      <td>-0.20</td>\n",
       "      <td>21.0</td>\n",
       "      <td>21.0</td>\n",
       "      <td>WE</td>\n",
       "      <td>ABLE</td>\n",
       "      <td>AIRDROP</td>\n",
       "      <td>6</td>\n",
       "      <td>30</td>\n",
       "    </tr>\n",
       "    <tr>\n",
       "      <th>4</th>\n",
       "      <td>1946-07-24</td>\n",
       "      <td>1946</td>\n",
       "      <td>46002</td>\n",
       "      <td>USA</td>\n",
       "      <td>BIKINI</td>\n",
       "      <td>DOE</td>\n",
       "      <td>11.35</td>\n",
       "      <td>165.20</td>\n",
       "      <td>0.0</td>\n",
       "      <td>0.0</td>\n",
       "      <td>0.03</td>\n",
       "      <td>21.0</td>\n",
       "      <td>21.0</td>\n",
       "      <td>WE</td>\n",
       "      <td>BAKER</td>\n",
       "      <td>UW</td>\n",
       "      <td>7</td>\n",
       "      <td>24</td>\n",
       "    </tr>\n",
       "  </tbody>\n",
       "</table>\n",
       "</div>"
      ],
      "text/plain": [
       "   date_long  year  id_no country      region source  latitude  longitude  \\\n",
       "0 1945-07-16  1945  45001     USA  ALAMOGORDO    DOE     32.54    -105.57   \n",
       "1 1945-08-05  1945  45002     USA   HIROSHIMA    DOE     34.23     132.27   \n",
       "2 1945-08-09  1945  45003     USA    NAGASAKI    DOE     32.45     129.52   \n",
       "3 1946-06-30  1946  46001     USA      BIKINI    DOE     11.35     165.20   \n",
       "4 1946-07-24  1946  46002     USA      BIKINI    DOE     11.35     165.20   \n",
       "\n",
       "   magnitude_body  magnitude_surface  depth  yield_lower  yield_upper purpose  \\\n",
       "0             0.0                0.0  -0.10         21.0         21.0      WR   \n",
       "1             0.0                0.0  -0.60         15.0         15.0  COMBAT   \n",
       "2             0.0                0.0  -0.60         21.0         21.0  COMBAT   \n",
       "3             0.0                0.0  -0.20         21.0         21.0      WE   \n",
       "4             0.0                0.0   0.03         21.0         21.0      WE   \n",
       "\n",
       "        name     type  month  day  \n",
       "0    TRINITY    TOWER      7   16  \n",
       "1  LITTLEBOY  AIRDROP      8    5  \n",
       "2     FATMAN  AIRDROP      8    9  \n",
       "3       ABLE  AIRDROP      6   30  \n",
       "4      BAKER       UW      7   24  "
      ]
     },
     "execution_count": 7,
     "metadata": {},
     "output_type": "execute_result"
    }
   ],
   "source": [
    "#Retrieve month and date\n",
    "from datetime import datetime\n",
    "df['date_long'] = df['date_long'].apply(lambda x: pd.to_datetime(str(x), format='%Y%m%d'))\n",
    "\n",
    "df['month'] = df['date_long'].map(lambda x: x.month)\n",
    "df['day'] = df['date_long'].map(lambda x: x.day)\n",
    "df.head()\n"
   ]
  },
  {
   "cell_type": "code",
   "execution_count": 8,
   "metadata": {},
   "outputs": [
    {
     "data": {
      "text/plain": [
       "year                 0\n",
       "country              0\n",
       "region               0\n",
       "source               0\n",
       "latitude             0\n",
       "longitude            0\n",
       "magnitude_body       0\n",
       "magnitude_surface    0\n",
       "depth                0\n",
       "yield_lower          3\n",
       "yield_upper          5\n",
       "purpose              1\n",
       "type                 0\n",
       "month                0\n",
       "day                  0\n",
       "dtype: int64"
      ]
     },
     "execution_count": 8,
     "metadata": {},
     "output_type": "execute_result"
    }
   ],
   "source": [
    "#Dropping columns that are not required\n",
    "df.drop(columns=['date_long', 'id_no', 'name'], inplace=True)\n",
    "df.isnull().sum()"
   ]
  },
  {
   "cell_type": "code",
   "execution_count": 9,
   "metadata": {},
   "outputs": [
    {
     "data": {
      "image/png": "[encoded data removed]",
      "text/plain": [
       "<Figure size 1080x576 with 1 Axes>"
      ]
     },
     "metadata": {
      "needs_background": "light"
     },
     "output_type": "display_data"
    }
   ],
   "source": [
    "# visualizing the distribution of outliers\n",
    "plt.figure(figsize = (15, 8))\n",
    "df.boxplot(rot = 45)\n",
    "plt.xticks(ha = 'right')\n",
    "plt.show()"
   ]
  },
  {
   "cell_type": "markdown",
   "metadata": {},
   "source": [
    "From this we can tell that the columns yield_lower and yield_upper hve a lot of outliers.\n"
   ]
  },
  {
   "cell_type": "code",
   "execution_count": 10,
   "metadata": {},
   "outputs": [
    {
     "name": "stdout",
     "output_type": "stream",
     "text": [
      "(893, 15)\n"
     ]
    },
    {
     "data": {
      "text/html": [
       "<div>\n",
       "<style scoped>\n",
       "    .dataframe tbody tr th:only-of-type {\n",
       "        vertical-align: middle;\n",
       "    }\n",
       "\n",
       "    .dataframe tbody tr th {\n",
       "        vertical-align: top;\n",
       "    }\n",
       "\n",
       "    .dataframe thead th {\n",
       "        text-align: right;\n",
       "    }\n",
       "</style>\n",
       "<table border=\"1\" class=\"dataframe\">\n",
       "  <thead>\n",
       "    <tr style=\"text-align: right;\">\n",
       "      <th></th>\n",
       "      <th>year</th>\n",
       "      <th>country</th>\n",
       "      <th>region</th>\n",
       "      <th>source</th>\n",
       "      <th>latitude</th>\n",
       "      <th>longitude</th>\n",
       "      <th>magnitude_body</th>\n",
       "      <th>magnitude_surface</th>\n",
       "      <th>depth</th>\n",
       "      <th>yield_lower</th>\n",
       "      <th>yield_upper</th>\n",
       "      <th>purpose</th>\n",
       "      <th>type</th>\n",
       "      <th>month</th>\n",
       "      <th>day</th>\n",
       "    </tr>\n",
       "  </thead>\n",
       "  <tbody>\n",
       "    <tr>\n",
       "      <th>1361</th>\n",
       "      <td>1976</td>\n",
       "      <td>USSR</td>\n",
       "      <td>NZ RUSS</td>\n",
       "      <td>ISC</td>\n",
       "      <td>73.400</td>\n",
       "      <td>54.470</td>\n",
       "      <td>5.1</td>\n",
       "      <td>0.0</td>\n",
       "      <td>0.000</td>\n",
       "      <td>0.0</td>\n",
       "      <td>20.0</td>\n",
       "      <td>WR/F/SA</td>\n",
       "      <td>TUNNEL</td>\n",
       "      <td>10</td>\n",
       "      <td>20</td>\n",
       "    </tr>\n",
       "    <tr>\n",
       "      <th>1387</th>\n",
       "      <td>1977</td>\n",
       "      <td>USA</td>\n",
       "      <td>NTS</td>\n",
       "      <td>ISC</td>\n",
       "      <td>37.100</td>\n",
       "      <td>-116.060</td>\n",
       "      <td>5.3</td>\n",
       "      <td>0.0</td>\n",
       "      <td>0.564</td>\n",
       "      <td>20.0</td>\n",
       "      <td>150.0</td>\n",
       "      <td>WR</td>\n",
       "      <td>SHAFT</td>\n",
       "      <td>5</td>\n",
       "      <td>25</td>\n",
       "    </tr>\n",
       "    <tr>\n",
       "      <th>86</th>\n",
       "      <td>1955</td>\n",
       "      <td>USA</td>\n",
       "      <td>NTS</td>\n",
       "      <td>DOE</td>\n",
       "      <td>37.000</td>\n",
       "      <td>-116.000</td>\n",
       "      <td>0.0</td>\n",
       "      <td>0.0</td>\n",
       "      <td>-0.200</td>\n",
       "      <td>28.0</td>\n",
       "      <td>28.0</td>\n",
       "      <td>WR</td>\n",
       "      <td>TOWER</td>\n",
       "      <td>5</td>\n",
       "      <td>15</td>\n",
       "    </tr>\n",
       "    <tr>\n",
       "      <th>180</th>\n",
       "      <td>1957</td>\n",
       "      <td>UK</td>\n",
       "      <td>CHRISTMAS IS</td>\n",
       "      <td>DOE</td>\n",
       "      <td>2.000</td>\n",
       "      <td>-157.000</td>\n",
       "      <td>0.0</td>\n",
       "      <td>0.0</td>\n",
       "      <td>0.000</td>\n",
       "      <td>1800.0</td>\n",
       "      <td>1800.0</td>\n",
       "      <td>WR</td>\n",
       "      <td>AIRDROP</td>\n",
       "      <td>11</td>\n",
       "      <td>8</td>\n",
       "    </tr>\n",
       "    <tr>\n",
       "      <th>1960</th>\n",
       "      <td>1988</td>\n",
       "      <td>FRANCE</td>\n",
       "      <td>FANGATAUFA</td>\n",
       "      <td>WTN</td>\n",
       "      <td>-22.244</td>\n",
       "      <td>-138.836</td>\n",
       "      <td>0.0</td>\n",
       "      <td>0.0</td>\n",
       "      <td>0.000</td>\n",
       "      <td>0.0</td>\n",
       "      <td>150.0</td>\n",
       "      <td>WR</td>\n",
       "      <td>SHAFT/LG</td>\n",
       "      <td>11</td>\n",
       "      <td>30</td>\n",
       "    </tr>\n",
       "    <tr>\n",
       "      <th>1111</th>\n",
       "      <td>1971</td>\n",
       "      <td>USA</td>\n",
       "      <td>AMCHITKA AK</td>\n",
       "      <td>UGS</td>\n",
       "      <td>51.500</td>\n",
       "      <td>179.100</td>\n",
       "      <td>6.8</td>\n",
       "      <td>5.7</td>\n",
       "      <td>0.000</td>\n",
       "      <td>0.0</td>\n",
       "      <td>5000.0</td>\n",
       "      <td>WR</td>\n",
       "      <td>SHAFT</td>\n",
       "      <td>11</td>\n",
       "      <td>6</td>\n",
       "    </tr>\n",
       "    <tr>\n",
       "      <th>1062</th>\n",
       "      <td>1970</td>\n",
       "      <td>USSR</td>\n",
       "      <td>MANGY KAZAKH</td>\n",
       "      <td>ISC</td>\n",
       "      <td>43.870</td>\n",
       "      <td>54.780</td>\n",
       "      <td>6.0</td>\n",
       "      <td>0.0</td>\n",
       "      <td>0.000</td>\n",
       "      <td>80.0</td>\n",
       "      <td>80.0</td>\n",
       "      <td>PNE</td>\n",
       "      <td>SHAFT</td>\n",
       "      <td>12</td>\n",
       "      <td>12</td>\n",
       "    </tr>\n",
       "    <tr>\n",
       "      <th>1780</th>\n",
       "      <td>1984</td>\n",
       "      <td>FRANCE</td>\n",
       "      <td>MURUROA</td>\n",
       "      <td>UGS</td>\n",
       "      <td>-21.933</td>\n",
       "      <td>-138.992</td>\n",
       "      <td>5.3</td>\n",
       "      <td>0.0</td>\n",
       "      <td>0.000</td>\n",
       "      <td>0.0</td>\n",
       "      <td>150.0</td>\n",
       "      <td>WR</td>\n",
       "      <td>SHAFT/LG</td>\n",
       "      <td>6</td>\n",
       "      <td>16</td>\n",
       "    </tr>\n",
       "    <tr>\n",
       "      <th>1535</th>\n",
       "      <td>1979</td>\n",
       "      <td>USA</td>\n",
       "      <td>NTS</td>\n",
       "      <td>ISC</td>\n",
       "      <td>37.150</td>\n",
       "      <td>-116.040</td>\n",
       "      <td>0.0</td>\n",
       "      <td>0.0</td>\n",
       "      <td>0.200</td>\n",
       "      <td>0.0</td>\n",
       "      <td>20.0</td>\n",
       "      <td>WR</td>\n",
       "      <td>SHAFT</td>\n",
       "      <td>9</td>\n",
       "      <td>8</td>\n",
       "    </tr>\n",
       "    <tr>\n",
       "      <th>230</th>\n",
       "      <td>1958</td>\n",
       "      <td>USA</td>\n",
       "      <td>ENEWETAK</td>\n",
       "      <td>DOE</td>\n",
       "      <td>11.300</td>\n",
       "      <td>162.150</td>\n",
       "      <td>0.0</td>\n",
       "      <td>0.0</td>\n",
       "      <td>-0.001</td>\n",
       "      <td>2000.0</td>\n",
       "      <td>2000.0</td>\n",
       "      <td>WR</td>\n",
       "      <td>BARGE</td>\n",
       "      <td>7</td>\n",
       "      <td>26</td>\n",
       "    </tr>\n",
       "  </tbody>\n",
       "</table>\n",
       "</div>"
      ],
      "text/plain": [
       "      year country        region source  latitude  longitude  magnitude_body  \\\n",
       "1361  1976    USSR       NZ RUSS    ISC    73.400     54.470             5.1   \n",
       "1387  1977     USA           NTS    ISC    37.100   -116.060             5.3   \n",
       "86    1955     USA           NTS    DOE    37.000   -116.000             0.0   \n",
       "180   1957      UK  CHRISTMAS IS    DOE     2.000   -157.000             0.0   \n",
       "1960  1988  FRANCE    FANGATAUFA    WTN   -22.244   -138.836             0.0   \n",
       "1111  1971     USA   AMCHITKA AK    UGS    51.500    179.100             6.8   \n",
       "1062  1970    USSR  MANGY KAZAKH    ISC    43.870     54.780             6.0   \n",
       "1780  1984  FRANCE       MURUROA    UGS   -21.933   -138.992             5.3   \n",
       "1535  1979     USA           NTS    ISC    37.150   -116.040             0.0   \n",
       "230   1958     USA      ENEWETAK    DOE    11.300    162.150             0.0   \n",
       "\n",
       "      magnitude_surface  depth  yield_lower  yield_upper  purpose      type  \\\n",
       "1361                0.0  0.000          0.0         20.0  WR/F/SA    TUNNEL   \n",
       "1387                0.0  0.564         20.0        150.0       WR     SHAFT   \n",
       "86                  0.0 -0.200         28.0         28.0       WR     TOWER   \n",
       "180                 0.0  0.000       1800.0       1800.0       WR   AIRDROP   \n",
       "1960                0.0  0.000          0.0        150.0       WR  SHAFT/LG   \n",
       "1111                5.7  0.000          0.0       5000.0       WR     SHAFT   \n",
       "1062                0.0  0.000         80.0         80.0      PNE     SHAFT   \n",
       "1780                0.0  0.000          0.0        150.0       WR  SHAFT/LG   \n",
       "1535                0.0  0.200          0.0         20.0       WR     SHAFT   \n",
       "230                 0.0 -0.001       2000.0       2000.0       WR     BARGE   \n",
       "\n",
       "      month  day  \n",
       "1361     10   20  \n",
       "1387      5   25  \n",
       "86        5   15  \n",
       "180      11    8  \n",
       "1960     11   30  \n",
       "1111     11    6  \n",
       "1062     12   12  \n",
       "1780      6   16  \n",
       "1535      9    8  \n",
       "230       7   26  "
      ]
     },
     "execution_count": 10,
     "metadata": {},
     "output_type": "execute_result"
    }
   ],
   "source": [
    "# getting the records with outliers\n",
    "q1 = df.quantile(0.25)\n",
    "q3 = df.quantile(0.75)\n",
    "iqr = q3 - q1\n",
    "\n",
    "outliers_df = df[((df < (q1 - 1.5 * iqr)) | (df > (q3 + 1.5 * iqr))).any(axis = 1)]\n",
    "print(outliers_df.shape)\n",
    "outliers_df.sample(10)"
   ]
  },
  {
   "cell_type": "code",
   "execution_count": 11,
   "metadata": {},
   "outputs": [
    {
     "data": {
      "text/plain": [
       "43.54"
      ]
     },
     "execution_count": 11,
     "metadata": {},
     "output_type": "execute_result"
    }
   ],
   "source": [
    "# calculating percentage of outliers\n",
    "round((outliers_df.shape[0] / df.shape[0]) * 100, 2)"
   ]
  },
  {
   "cell_type": "markdown",
   "metadata": {},
   "source": [
    "The outliers, are 43.54% of the total records hence, we will work with the outliers."
   ]
  },
  {
   "cell_type": "code",
   "execution_count": 12,
   "metadata": {},
   "outputs": [],
   "source": [
    "#Dealing with null values\n",
    "df['yield_lower'] = df['yield_lower'].fillna(df['yield_lower'].mean())\n",
    "df['yield_upper'] = df['yield_upper'].fillna(df['yield_upper'].mean())"
   ]
  },
  {
   "cell_type": "code",
   "execution_count": 13,
   "metadata": {},
   "outputs": [
    {
     "name": "stdout",
     "output_type": "stream",
     "text": [
      "Variable: year\n",
      "Number of unique variables: 50\n",
      "[1945 1946 1948 1949 1951 1952 1953 1954 1955 1956 1957 1958 1960 1961\n",
      " 1962 1963 1964 1965 1966 1967 1968 1969 1970 1971 1972 1973 1974 1975\n",
      " 1976 1977 1978 1979 1980 1981 1982 1983 1984 1985 1986 1987 1988 1989\n",
      " 1990 1991 1992 1993 1994 1995 1996 1998]\n",
      "\n",
      "Variable: country\n",
      "Number of unique variables: 7\n",
      "['USA' 'USSR' 'UK' 'FRANCE' 'CHINA' 'INDIA' 'PAKIST']\n",
      "\n",
      "Variable: region\n",
      "Number of unique variables: 79\n",
      "['ALAMOGORDO' 'HIROSHIMA' 'NAGASAKI' 'BIKINI' 'ENEWETAK' 'SEMI KAZAKH'\n",
      " 'NTS' 'MONTEB AUSTR' 'EMU AUSTR' 'ORENBG RUSS' 'OFFUSWCOAST' 'NZ RUSS'\n",
      " 'KAZAKH' 'MARALI AUSTR' 'MTR RUSS' 'MELLIS NV' 'MALDEN IS' 'N2 RUSS'\n",
      " 'CHRISTMAS IS' 'PACIFIC' 'JOHNSTON IS' 'S. ATLANTIC' 'S.ATLANTIC'\n",
      " 'HTR RUSS' 'REGGANE ALG' 'IN ECKER ALG' 'CARLSBAD NM' 'NELLIS NV'\n",
      " 'FALLON NV' 'LOP NOR' 'HATTIESB MS' 'BASHKIR RUSS' 'AMCHITKA AK'\n",
      " 'AZGIR KAZAKH' 'MURUHOA' 'MURUROA' 'FANGATAUFA' 'UZBEK' 'HATTIESE MS'\n",
      " 'MURUEOA' 'TYUMEN RUSS' 'FARMINGT NM' 'C. NEVADA' 'PAMUK UZBEK'\n",
      " 'PERM RUSS' 'GRAND V CO' 'STAVRO RUSS' 'MANGY KAZAKH' 'URAL RUSS'\n",
      " 'ARKHAN RUSS' 'MARY TURKMEN' 'UKRAINE' 'MURM RUSS' 'KALMYK RUSS'\n",
      " 'RIFLE CO' 'W MURUROA' 'POKHRAN' 'WSW MURUROA' 'KOMI RUSS' 'JAKUTS RUSS'\n",
      " 'KRASNO RUSS' 'CHITA RUSS' 'IRKUTS RUSS' 'JAKUTS RUSE' 'AZGIE KAZAKH'\n",
      " 'AZGIR' 'MUEUEOA' 'UKEAINE' 'BASHKI RUSS' 'ASTRAK RUSS' 'KZ RUSS'\n",
      " 'KAZAKHSTAN' 'KEMERO RUSS' 'TUYMEN RUSS' 'W KAZAKH' 'HURUROA'\n",
      " 'FANGATAUFAA' 'CHAGAI' 'KHARAN']\n",
      "\n",
      "Variable: source\n",
      "Number of unique variables: 13\n",
      "['DOE' 'MTM' 'UGS' 'ISC' 'DIS' 'SPA' 'ZAR' 'WTN' 'HFS' 'MTU' 'NRD' 'BKY'\n",
      " 'NOA']\n",
      "\n",
      "Variable: latitude\n",
      "Number of unique variables: 527\n",
      "[ 32.54   34.23   32.45   11.35   11.3    48.     37.    -20.4    50.\n",
      " -28.7    52.     29.     73.     46.    -20.23  -30.     -4.      2.\n",
      "  12.617  16.45  -38.5   -49.5   -48.5    26.19   26.     48.45   74.2\n",
      "  74.6    74.     73.7    74.3    73.8    73.9    70.7    73.6    75.1\n",
      "  24.     32.25   36.7    49.7    23.8     4.833  37.046  31.233  37.065\n",
      "  37.122  37.125  37.177  37.055  36.8    37.13   74.7    74.4    73.2\n",
      "  73.4    37.1    37.2    24.1    39.2    36.9    24.054  49.9    24.067\n",
      "  72.9    41.5    31.     73.5    24.042  37.07   49.88   36.99   36.72\n",
      "  24.16   49.81   37.01   37.11   53.     36.95   37.26   36.97   36.96\n",
      "  37.14   49.79   36.83   49.83   37.06   50.4    37.02   37.08   36.98\n",
      "  49.78   49.92   51.61   37.03   49.86   24.04   37.17   49.77   37.15\n",
      "  36.94   49.72   37.05   47.9    36.82   37.32   49.74   37.09   37.16\n",
      " -22.     37.3    50.5    36.84   37.12   38.8    36.91   36.92   49.76\n",
      "  37.04   37.27   37.21   40.8    49.87   49.82   37.18   50.01   50.02\n",
      "  57.69   49.8    49.93   36.67   37.23   38.65   37.24   36.89   37.44\n",
      "  49.84   37.31    0.     49.96   47.85  -22.207  36.85   37.28   49.75\n",
      " -21.83   36.88   36.87   73.39   37.19   37.25   57.35   51.31   39.5\n",
      "  37.33   41.35   45.88   40.72   51.59   37.22   49.94   43.79   49.98\n",
      "  36.93  -22.2    52.2   -21.8    49.95   73.31   40.92   43.87   49.73\n",
      "  43.81   61.3    64.     64.2   -21.9    57.8    61.6    51.6    51.5\n",
      "  37.4    37.004  37.215  71.     49.5    73.3    67.7    52.1    37.082\n",
      "  46.8    52.8    51.8    50.1    51.7    37.103  37.005  37.123  39.793\n",
      "  37.185  37.245  40.6    37.148  42.7    45.6    70.8    53.7    37.104\n",
      "  49.743  26.9    49.952  49.889  53.8    49.789  37.068  37.023  68.913\n",
      "  73.366  67.233  37.133  49.972  70.817  49.908  49.755  49.824  48.1\n",
      " -15.45   37.35   73.34   69.6    55.8    70.84   73.32   41.43   37.271\n",
      "  49.89   49.85  -22.1    47.81   73.41   41.64   61.52   40.78   49.97\n",
      " -22.14  -21.89  -22.4    69.54   50.95   64.13   73.37   50.05   57.29\n",
      "  73.47   50.06  -21.86   49.71   37.034  63.65   65.87   49.91   66.53\n",
      "  73.38   61.53   41.42   63.21   37.29   50.03  -21.85   47.78   47.87\n",
      "  50.08  -21.88  -22.06  -21.81   61.86   64.06   60.66   61.85   47.79\n",
      " -21.77   49.822 -21.75   46.79   73.36   41.04   60.79  -21.87   61.73\n",
      " -21.67   68.21   37.102 -22.18   60.59   46.82   63.79  -21.917  37.076\n",
      "  37.108  49.736 -21.4   -21.91   37.114  37.236  49.795 -21.766  49.995\n",
      " -21.864  53.813  37.084  49.747  69.206  49.854  37.212  37.175  64.313\n",
      "  37.091  41.632  61.553  73.392  46.73   46.748  46.754  46.743  37.024\n",
      "  49.928  49.871  50.066  37.051  37.163  37.301  49.     49.815  37.073\n",
      " -21.847  37.112  37.012 -21.895  37.158  49.906 -21.745  51.308  51.34\n",
      "  51.344  37.119 -21.835  36.998  73.383  37.192  37.273  49.878  37.106\n",
      "  46.816  46.817  46.86   46.78   46.796  46.837  73.348  49.932  41.566\n",
      "  49.921  49.764  37.021  49.838  49.888  50.022  49.934  49.766 -21.852\n",
      " -21.933  49.891  51.356  51.374  51.353  65.025  61.889  74.1    67.774\n",
      "  61.     49.873  55.835  41.633  73.365  47.044  46.843  36.     49.869\n",
      "  37.058  37.095  37.201  49.907  37.253  37.248  37.008  37.124  65.965\n",
      "  37.297  37.002  37.209  37.053  37.238  37.083  37.157  37.264 -22.15\n",
      " -21.913  37.098  37.265  37.279  37.143  37.069 -21.894 -21.877  37.263\n",
      "  37.225  37.011  49.851  60.781  60.674  36.983  37.233  41.6    49.865\n",
      "  37.194  49.901 -21.984  62.11   49.797  62.7    49.828  73.289  61.426\n",
      "  37.061  37.228  47.633  37.142 -22.34   49.872 -21.878  36.996  37.235\n",
      "  49.955  49.753  49.831  49.799  49.905  37.314  49.884  37.013  73.364\n",
      " -21.867  37.032 -21.903  50.045 -21.     37.166 -21.906  37.252  66.316\n",
      "  37.001  37.086  61.331  49.833  41.75   37.089  49.866 -21.883  50.078\n",
      "  49.818 -21.991 -22.244  73.387  37.199  49.886  49.924  37.077  49.925\n",
      "  49.868  37.128 -21.881 -21.832 -22.252  37.283  37.275  50.039  37.376\n",
      "  49.746 -21.902  37.107 -22.258  37.231  37.113  41.654 -21.819  37.262\n",
      "  36.993 -22.192 -21.866  37.207  41.586 -22.147  37.227  37.296 -22.267\n",
      " -21.865 -21.833  37.087  37.226  37.063  37.096  37.272  41.604  41.763\n",
      "  41.667  41.527  41.662  41.603  41.559 -22.25  -21.891 -21.879 -22.236\n",
      "  41.65   41.69   27.07   28.9    28.49 ]\n",
      "\n",
      "Variable: longitude\n",
      "Number of unique variables: 575\n",
      "[-1.05570e+02  1.32270e+02  1.29520e+02  1.65200e+02  1.62150e+02\n",
      "  7.60000e+01 -1.16000e+02  1.15570e+02  7.80000e+01  1.32350e+02\n",
      "  5.50000e+01 -1.26000e+02  6.10000e+01  1.15550e+02  1.15530e+02\n",
      "  1.31000e+02  4.60000e+01 -1.15000e+02 -1.55000e+02 -1.57000e+02\n",
      "  1.63017e+02 -1.69320e+02 -1.15000e+01 -8.20000e+00 -9.70000e+00\n",
      " -4.00000e-02 -9.00000e-02 -1.00000e-01  4.43000e+01  5.25000e+01\n",
      "  5.21000e+01  5.11000e+01  5.19000e+01  5.20000e+01  5.38000e+01\n",
      "  5.16000e+01  7.77000e+01  5.32000e+01  5.35000e+01  5.62000e+01\n",
      "  5.67000e+01  5.57000e+01  5.00000e+00 -1.04140e+02 -1.16200e+02\n",
      " -1.16100e+02  7.81000e+01  5.40000e+00 -1.49417e+02 -1.16025e+02\n",
      " -1.24217e+02 -1.16030e+02 -1.16047e+02 -1.16052e+02 -1.16045e+02\n",
      " -1.16033e+02 -1.15925e+02 -1.16064e+02  5.15000e+01  5.33000e+01\n",
      " -1.16009e+02 -1.16024e+02  5.03000e+01  5.47000e+01  5.24000e+01\n",
      "  5.49000e+01  5.23000e+01  5.75000e+01  5.65000e+01  5.10000e+00\n",
      " -1.18380e+02 -1.16300e+02 -1.15900e+02  5.05300e+00  7.83000e+01\n",
      "  5.03400e+00  5.52000e+01  8.90000e+01 -8.90000e+01  5.37000e+01\n",
      "  5.04100e+00 -1.16010e+02  7.89600e+01 -1.15940e+02  5.03000e+00\n",
      "  7.81300e+01 -1.16080e+02 -1.16090e+02  5.60000e+01 -1.16540e+02\n",
      " -1.16230e+02  7.81200e+01 -1.16500e+02 -1.16050e+02 -1.16040e+02\n",
      " -1.16060e+02  7.81700e+01  7.79000e+01 -1.16110e+02 -1.15990e+02\n",
      "  7.81500e+01 -1.16020e+02  1.79220e+02  7.80400e+01 -1.15970e+02\n",
      " -1.16420e+02 -1.16130e+02 -1.16150e+02  7.80700e+01 -1.16160e+02\n",
      " -1.15880e+02 -1.16450e+02  7.82000e+01  4.77000e+01 -1.15960e+02\n",
      " -1.16320e+02  7.79500e+01 -1.16140e+02  7.80600e+01 -1.16280e+02\n",
      " -1.39000e+02 -1.15890e+02  7.80500e+01  7.78600e+01  7.79200e+01\n",
      " -1.15920e+02 -1.15980e+02  6.45000e+01  7.80300e+01  5.45700e+01\n",
      " -1.16070e+02  7.77600e+01 -1.16360e+02 -1.16180e+02 -1.15910e+02\n",
      "  7.81400e+01  7.82300e+01 -1.16350e+02  7.81100e+01  8.94000e+01\n",
      " -1.15950e+02  7.81600e+01 -1.16120e+02  7.78000e+01  7.77200e+01\n",
      "  6.52700e+01  5.44200e+01  7.80200e+01  7.74000e+01  7.82100e+01\n",
      " -1.07170e+02  7.83200e+01 -1.16190e+02 -1.14120e+02 -1.16380e+02\n",
      " -1.16270e+02 -1.15930e+02 -1.16410e+02  0.00000e+00  7.90500e+01\n",
      " -1.16480e+02  4.77200e+01  7.80900e+01 -1.38809e+02 -1.16290e+02\n",
      " -1.39050e+02  7.81800e+01 -1.16260e+02  5.45800e+01 -1.16310e+02\n",
      " -1.16370e+02 -1.16220e+02 -1.16460e+02  7.78100e+01  5.47700e+01\n",
      "  5.50300e+01 -1.07880e+02 -1.16430e+02  8.83300e+01  4.24900e+01\n",
      "  8.93000e+01  1.79190e+02  5.45000e+01  7.89800e+01 -1.16240e+02\n",
      "  5.47500e+01  7.77900e+01  7.82700e+01 -1.16210e+02 -1.16490e+02\n",
      " -1.38800e+02  7.82200e+01 -1.39200e+02  7.77700e+01  5.48900e+01\n",
      "  7.78200e+01  5.47800e+01  5.48200e+01  7.91000e+01  4.11000e+01\n",
      "  5.51000e+01  4.71000e+01  7.76000e+01  1.79100e+02  4.82000e+01\n",
      " -1.15810e+02  7.89000e+01  6.20000e+01 -1.16083e+02 -1.16088e+02\n",
      " -1.16002e+02 -1.16183e+02  5.40000e+01  7.70000e+01  3.34000e+01\n",
      " -1.16037e+02 -1.16085e+02  4.50000e+01  7.88000e+01  6.42000e+01\n",
      "  7.72000e+01 -1.16027e+02 -1.16028e+02 -1.16059e+02 -1.08366e+02\n",
      " -1.16215e+02 -1.16346e+02  8.95000e+01 -1.16086e+02  6.74000e+01\n",
      "  6.84000e+01 -1.40000e+02  6.78000e+01  5.39000e+01  5.46000e+01\n",
      " -1.16203e+02  5.54000e+01  5.42000e+01 -1.16570e+02  7.90000e+01\n",
      " -1.16053e+02  7.17000e+01  7.88440e+01  7.81150e+01  7.81390e+01\n",
      " -1.16032e+02 -1.16036e+02  7.58990e+01  5.50940e+01  6.21190e+01\n",
      "  7.80910e+01 -1.16068e+02  5.40630e+01  7.76480e+01  7.80640e+01\n",
      "  7.81170e+01  7.90460e+01  4.72000e+01  7.90200e+01 -1.16470e+02\n",
      " -1.16520e+02 -1.40500e+02  7.80800e+01  7.89200e+01  9.04600e+01\n",
      "  7.51000e+01  5.35300e+01  5.49300e+01  8.84000e+01  7.89100e+01\n",
      "  7.82400e+01  7.88600e+01 -1.16330e+02  7.82500e+01 -1.16488e+02\n",
      "  4.70000e+01  7.88300e+01 -1.16250e+02  7.79700e+01  7.90700e+01\n",
      "  7.89700e+01 -1.38700e+02  4.81000e+01  8.82100e+01  5.44700e+01\n",
      " -1.38000e+02  1.12730e+02  8.96600e+01  7.90100e+01  7.88900e+01\n",
      " -1.38720e+02 -1.38960e+02 -1.16062e+02  7.88400e+01  9.05100e+01\n",
      "  1.10780e+02  9.96200e+01  5.44100e+01  7.89300e+01  1.06230e+02\n",
      "  4.81300e+01  7.88700e+01 -1.38940e+02  7.88100e+01  1.25340e+02\n",
      "  1.12560e+02  7.89400e+01  7.84000e+01  8.62600e+01  5.44400e+01\n",
      "  1.12870e+02  8.86600e+01  4.80900e+01  6.32600e+01  7.87700e+01\n",
      "  4.81400e+01 -1.38900e+02  4.80600e+01  7.88800e+01  7.77400e+01\n",
      " -1.39040e+02  7.81900e+01 -1.38640e+02 -1.38980e+02  7.90600e+01\n",
      "  4.80700e+01  7.78300e+01 -1.38890e+02  1.22220e+02  7.14400e+01\n",
      "  1.13120e+02  5.47300e+01  4.81100e+01 -1.38970e+02 -1.38880e+02\n",
      " -1.16400e+02  4.82900e+01  8.99400e+01  9.75700e+01  6.67600e+01\n",
      "  7.80100e+01  7.90300e+01 -1.38840e+02 -1.16004e+02 -1.38730e+02\n",
      "  4.82800e+01  4.82700e+01  5.45500e+01  9.75400e+01 -1.38996e+02\n",
      " -1.16049e+02  7.81830e+01  7.88570e+01 -1.39400e+02 -1.39030e+02\n",
      " -1.16017e+02  7.81580e+01  7.88560e+01 -1.38943e+02 -1.16075e+02\n",
      "  1.04132e+02 -1.16007e+02 -1.16048e+02  7.79710e+01  7.88120e+01\n",
      " -1.16016e+02  8.16470e+01  7.82160e+01 -1.16207e+02  9.18340e+01\n",
      "  8.83010e+01  1.12864e+02  5.45590e+01  4.81970e+01  4.82150e+01\n",
      "  4.82130e+01  7.88690e+01 -1.16072e+02  7.80950e+01  7.90430e+01\n",
      " -1.16063e+02  7.82220e+01 -1.38906e+02 -1.16022e+02 -1.16089e+02\n",
      " -1.38918e+02 -1.16006e+02  7.82060e+01  7.89810e+01  7.81070e+01\n",
      " -1.38917e+02  5.32730e+01  5.32700e+01  5.32910e+01 -1.16084e+02\n",
      " -1.38922e+02 -1.16003e+02  5.49130e+01 -1.15992e+02 -1.16355e+02\n",
      " -1.16209e+02  4.82910e+01  4.82790e+01  4.82720e+01  4.83000e+01\n",
      "  4.82970e+01  4.82310e+01  5.44950e+01  7.88430e+01  8.87660e+01\n",
      "  7.89070e+01  7.90360e+01  7.81690e+01 -1.15975e+02  7.82180e+01\n",
      "  7.87880e+01  7.89780e+01  7.90130e+01  7.81850e+01  7.89150e+01\n",
      " -1.38961e+02 -1.38992e+02  7.89630e+01  5.32490e+01  5.32570e+01\n",
      "  5.32710e+01  5.51870e+01  7.21490e+01  3.36880e+01  5.80000e+01\n",
      "  7.82080e+01  8.74080e+01  8.87810e+01  8.00000e+01  5.49790e+01\n",
      "  7.88420e+01  4.79190e+01  4.80230e+01  8.10000e+01 -1.12000e+02\n",
      "  7.88180e+01  7.89320e+01 -1.16325e+02 -1.16489e+02 -1.16122e+02\n",
      "  4.07540e+01 -1.16438e+02 -1.16043e+02 -1.16152e+02 -1.16121e+02\n",
      " -1.16473e+02 -1.16066e+02 -1.16204e+02 -1.16440e+02 -1.39120e+02\n",
      " -1.16061e+02 -1.39100e+02 -1.16499e+02 -1.16356e+02 -1.16071e+02\n",
      " -1.16307e+02 -1.16462e+02 -1.39068e+02 -1.38986e+02 -1.16412e+02\n",
      "  7.86900e+01 -1.16509e+02  5.62200e+01  5.62950e+01 -1.16005e+02\n",
      " -1.16423e+02  7.79900e+01  8.89000e+01  7.81430e+01 -1.16035e+02\n",
      "  7.87260e+01 -1.16178e+02 -1.38844e+02  1.12770e+02 -1.16023e+02\n",
      "  7.82350e+01  1.12700e+02  7.88980e+01  5.47130e+01  1.12708e+02\n",
      " -1.16375e+02  5.62180e+01 -1.16079e+02  7.87950e+01 -1.39037e+02\n",
      " -1.16163e+02  7.88520e+01  7.80240e+01  7.87440e+01  7.89050e+01\n",
      " -1.16471e+02  7.89650e+01 -1.16044e+02  7.81190e+01  7.87690e+01\n",
      "  5.44450e+01 -1.39072e+02 -1.15987e+02 -1.39009e+02 -1.16441e+02\n",
      "  7.90050e+01 -1.39016e+02 -1.16377e+02  7.85480e+01 -1.16069e+02\n",
      "  4.79550e+01  7.88080e+01  8.84740e+01  7.80810e+01 -1.39046e+02\n",
      "  7.89880e+01  7.80710e+01 -1.38907e+02 -1.38836e+02  5.49980e+01\n",
      "  7.89260e+01  7.88310e+01 -1.16001e+02  7.87400e+01  7.80790e+01\n",
      " -1.16067e+02 -1.38978e+02 -1.16055e+02 -1.39010e+02 -1.38740e+02\n",
      " -1.16354e+02  7.88150e+01  7.90190e+01  7.80130e+01  7.90010e+01\n",
      " -1.16491e+02 -1.16013e+02 -1.38965e+02 -1.38843e+02 -1.16409e+02\n",
      "  8.87360e+01 -1.38841e+02 -1.16214e+02  8.87990e+01 -1.16494e+02\n",
      "  5.48270e+01 -1.38852e+02 -1.16371e+02 -1.16074e+02 -1.16313e+02\n",
      " -1.16442e+02 -1.39014e+02 -1.38766e+02 -1.39065e+02 -1.38995e+02\n",
      " -1.16428e+02 -1.16166e+02  8.88130e+01 -1.16031e+02 -1.15988e+02\n",
      "  8.83870e+01  8.86950e+01  8.87100e+01  8.87530e+01  8.88200e+01\n",
      "  8.88000e+01 -1.38745e+02 -1.38983e+02 -1.39032e+02 -1.38973e+02\n",
      " -1.38815e+02  8.87600e+01  8.83500e+01  6.48900e+01  6.37800e+01]\n",
      "\n",
      "Variable: magnitude_body\n",
      "Number of unique variables: 43\n",
      "[0.  4.1 2.6 4.4 4.8 2.5 4.3 4.6 3.4 3.5 4.9 3.9 4.5 5.3 5.6 5.5 6.  5.8\n",
      " 5.  5.4 4.2 5.1 5.2 6.1 6.6 5.9 5.7 6.3 6.4 4.7 6.2 6.8 6.9 6.7 3.8 4.\n",
      " 3.3 7.2 7.1 7.3 7.4 7.  6.5]\n",
      "\n",
      "Variable: magnitude_surface\n",
      "Number of unique variables: 26\n",
      "[0.  5.2 5.7 4.7 4.3 4.1 5.  4.9 4.4 5.5 4.2 5.3 5.1 5.4 6.  4.  4.5 3.5\n",
      " 3.6 3.7 3.8 4.6 3.4 3.  3.1 3.2]\n",
      "\n",
      "Variable: depth\n",
      "Number of unique variables: 137\n",
      "[-1.000e-01 -6.000e-01 -2.000e-01  3.000e-02 -8.000e-02  0.000e+00\n",
      " -3.500e-01 -4.000e-01 -5.000e-01 -7.000e-02 -3.000e-02 -4.500e-01\n",
      " -1.000e-03  1.000e-02 -2.500e-01 -1.150e+00 -2.000e+00 -8.000e-01\n",
      "  2.000e-02 -1.200e+01 -1.500e+00 -6.800e+00  3.000e-01 -2.800e+01\n",
      "  2.000e-01  5.000e-02 -8.500e+01 -4.500e+01 -1.600e+02  1.000e-01\n",
      " -2.000e-03 -1.500e-01 -2.500e-02 -2.000e-02 -1.000e-02  4.500e-01\n",
      "  2.500e-01  1.500e-01 -4.000e+02  6.000e-01  3.500e-01  5.000e-01\n",
      "  9.000e-01  7.130e-01  3.050e-01  4.120e-01  7.650e-01  7.320e-01\n",
      "  6.370e-01  9.120e-01  1.311e+00  4.170e-01  3.480e-01  1.265e+00\n",
      "  8.170e-01  3.200e-01  7.160e-01  1.451e+00  6.400e-01  6.550e-01\n",
      "  1.219e+00  1.167e+00  8.690e-01  1.237e+00  8.790e-01  7.800e-01\n",
      "  3.170e-01  4.270e-01  3.310e-01  6.900e-01  5.940e-01  5.640e-01\n",
      "  5.180e-01  7.010e-01  3.810e-01  5.300e-01  3.850e-01  3.720e-01\n",
      "  6.680e-01  6.580e-01  6.330e-01  6.110e-01  6.810e-01  3.880e-01\n",
      "  4.420e-01  5.760e-01  5.420e-01  6.890e-01  3.260e-01  5.790e-01\n",
      "  5.360e-01  3.350e-01  5.370e-01  3.960e-01  4.640e-01  2.290e-01\n",
      "  2.050e-01  3.690e-01  2.710e-01  3.510e-01  6.450e-01  6.800e-01\n",
      "  3.660e-01  4.240e-01  3.900e-01  5.730e-01  3.540e-01  3.230e-01\n",
      "  3.410e-01  2.040e-01  2.940e-01  2.130e-01  4.720e-01  4.450e-01\n",
      "  4.940e-01  6.510e-01  3.570e-01  5.700e-01  2.890e-01  4.000e-01\n",
      "  2.160e-01  4.510e-01  3.360e-01  4.130e-01  3.040e-01  3.430e-01\n",
      "  5.330e-01  2.650e-01  3.840e-01  6.250e-01  4.050e-01  5.150e-01\n",
      "  6.610e-01  6.080e-01  2.930e-01  3.320e-01  4.150e-01]\n",
      "\n",
      "Variable: yield_lower\n",
      "Number of unique variables: 309\n",
      "[2.10000000e+01 1.50000000e+01 3.70000000e+01 4.90000000e+01\n",
      " 1.80000000e+01 2.20000000e+01 1.00000000e+00 8.00000000e+00\n",
      " 8.10000000e+01 4.70000000e+01 2.25000000e+02 4.55000000e+01\n",
      " 3.80000000e+01 4.20000000e+01 0.00000000e+00 3.50000000e+00\n",
      " 1.40000000e+01 3.10000000e+01 1.20000000e+00 1.90000000e+01\n",
      " 1.20000000e+01 1.10000000e+01 2.50000000e+01 1.04000000e+04\n",
      " 5.00000000e+02 1.60000000e+01 2.40000000e+01 2.00000000e-01\n",
      " 2.30000000e+01 4.30000000e+01 2.70000000e+01 3.20000000e+01\n",
      " 6.10000000e+01 4.00000000e+02 2.80000000e+01 5.80000000e+00\n",
      " 1.60000000e+00 4.90000000e+00 1.00000000e+01 1.50000000e+04\n",
      " 1.10000000e+04 1.10000000e+02 6.90000000e+03 1.35000000e+04\n",
      " 1.69000000e+03 4.00000000e+01 3.00000000e-02 2.00000000e+00\n",
      " 4.00000000e+00 8.00000000e-01 6.20000000e+01 2.80000000e+00\n",
      " 7.00000000e+00 3.00000000e+00 2.90000000e+01 3.00000000e+01\n",
      " 1.30000000e+00 2.50000000e+02 1.60000000e+03 3.00000000e-01\n",
      " 5.50000000e+00 3.80000000e+03 3.50000000e+03 1.90000000e-01\n",
      " 1.49000000e+01 1.37000000e+01 3.65000000e+02 1.49000000e+00\n",
      " 1.70000000e+00 6.00000000e+01 1.52000000e+01 1.10000000e+03\n",
      " 3.60000000e+02 1.85000000e+03 4.50000000e+03 5.00000000e+03\n",
      " 9.00000000e+02 5.10000000e+01 1.50000000e+00 5.70000000e+01\n",
      " 6.80000000e+02 3.20000000e+02 3.00000000e+02 7.20000000e+02\n",
      " 1.40000000e-01 5.00000000e-04 2.00000000e+02 7.40000000e+01\n",
      " 1.70000000e+01 9.70000000e+00 5.20000000e+02 1.00000000e-01\n",
      " 4.70000000e+00 4.40000000e+01 5.90000000e+00 6.00000000e+00\n",
      " 1.30000000e+01 2.90000000e+03 1.80000000e+03 5.00000000e-01\n",
      " 8.60000000e+02 1.50000000e+03 3.50000000e+01 1.60000000e-01\n",
      " 6.50000000e+02 3.00000000e+03 1.36000000e+03 1.37000000e+03\n",
      " 9.00000000e+00 2.51000000e+01 3.30000000e+02 1.16000000e+01\n",
      " 9.20000000e+01 2.13000000e+02 3.19000000e+02 1.45000000e+03\n",
      " 4.12000000e+02 8.80000000e+02 8.90000000e+03 5.20000000e+00\n",
      " 2.20000000e+02 3.97000000e+02 9.30000000e+03 2.55000000e+02\n",
      " 6.50000000e+01 2.02000000e+02 2.00000000e+03 2.00000000e-02\n",
      " 1.00000000e+03 8.00000000e+02 3.80000000e-02 1.50000000e-02\n",
      " 8.30000000e-02 1.50000000e-03 2.00000000e-03 1.30000000e-02\n",
      " 1.20000000e+03 2.90000000e+02 7.70000000e-02 5.50000000e-03\n",
      " 7.20000000e-02 6.80000000e+01 7.90000000e-02 1.40000000e+00\n",
      " 1.15000000e-01 1.20000000e-03 5.00000000e+00 3.70000000e-02\n",
      " 2.40000000e-02 9.00000000e-02 4.40000000e+02 2.80000000e+03\n",
      " 1.88000000e-01 2.10000000e-02 1.70000000e-03 1.90000000e+02\n",
      " 7.00000000e-04 2.20000000e+00 6.00000000e-04 5.50000000e-02\n",
      " 7.80000000e-03 2.00000000e-04 1.10000000e+00 3.80000000e-01\n",
      " 2.70000000e+03 8.80000000e-01 1.15000000e+03 1.00000000e-03\n",
      " 4.00000000e-01 2.60000000e+00 8.30000000e+02 2.00000000e+01\n",
      " 4.00000000e-03 7.50000000e-01 4.80000000e+00 1.50000000e+02\n",
      " 2.60000000e+02 4.00000000e+03 6.60000000e+00 1.25000000e+04\n",
      " 5.00000000e+04 2.70000000e+00 1.20000000e+02 2.80000000e+02\n",
      " 6.00000000e-01 9.00000000e-01 1.34000000e+01 1.50000000e-01\n",
      " 5.10000000e+00 6.40000000e+00 3.07000000e+00 7.10000000e+00\n",
      " 5.70000000e+00 1.90000000e+00 1.19000000e+01 9.50000000e+00\n",
      " 4.30000000e-01 8.40000000e+00 3.40000000e+00 1.06000000e+01\n",
      " 1.85000000e+00 4.10000000e+02 1.09000000e+03 6.70000000e+02\n",
      " 2.09217532e+02 1.00000000e+02 5.00000000e+01 9.70000000e+01\n",
      " 4.50000000e+00 7.30000000e+01 7.82000000e+02 2.10000000e+02\n",
      " 2.90000000e+00 5.20000000e+01 8.15000000e+01 7.65000000e+03\n",
      " 6.70000000e+01 1.27000000e+03 1.04000000e+02 1.40000000e+03\n",
      " 3.88000000e+03 2.40000000e+00 3.80000000e+00 2.11000000e+04\n",
      " 9.90000000e+00 7.40000000e+00 2.50000000e+00 4.20000000e+03\n",
      " 8.00000000e+01 1.90000000e+03 3.10000000e+03 3.25000000e+03\n",
      " 1.35000000e+03 2.40000000e+03 2.10000000e-01 1.91000000e+04\n",
      " 1.00000000e+04 7.50000000e+01 1.15000000e+02 1.13000000e+01\n",
      " 9.20000000e+00 1.59000000e+03 1.25000000e+01 6.70000000e+00\n",
      " 8.20000000e+03 7.80000000e+00 8.30000000e+03 2.40000000e+02\n",
      " 3.90000000e+02 4.50000000e+01 3.10000000e-02 6.90000000e+01\n",
      " 8.30000000e+00 6.30000000e+00 4.30000000e+02 7.00000000e-03\n",
      " 2.80000000e-02 2.42000000e+04 8.50000000e+00 3.10000000e+00\n",
      " 2.49000000e+02 5.30000000e+00 1.05000000e+01 4.40000000e+00\n",
      " 9.20000000e-02 1.40000000e+02 3.30000000e-01 1.01000000e+01\n",
      " 2.30000000e+00 4.30000000e+00 7.60000000e+00 1.25000000e+02\n",
      " 7.00000000e+01 8.70000000e+02 1.22000000e+02 3.90000000e+01\n",
      " 1.55000000e+02 7.60000000e+01 3.30000000e+03 1.30000000e+03\n",
      " 2.40000000e-01 1.67000000e+01 8.70000000e+00 1.27000000e+01\n",
      " 3.40000000e+03 2.30000000e-01 9.00000000e+01 8.30000000e+01\n",
      " 6.40000000e+01 1.70000000e+02 2.10000000e+00 1.65000000e+02\n",
      " 3.30000000e+01 3.50000000e-01 5.80000000e+01 1.00000000e-02\n",
      " 8.00000000e-02 6.00000000e-02 1.03000000e+02 2.06000000e+01\n",
      " 3.20000000e+00 1.07000000e+02 3.76000000e+01 1.39000000e+02\n",
      " 1.38000000e+02 1.35000000e+01 1.43000000e+02 1.19000000e+02\n",
      " 6.60000000e+02]\n",
      "\n",
      "Variable: yield_upper\n",
      "Number of unique variables: 311\n",
      "[2.10000000e+01 1.50000000e+01 3.70000000e+01 4.90000000e+01\n",
      " 1.80000000e+01 2.20000000e+01 1.00000000e+00 8.00000000e+00\n",
      " 8.10000000e+01 4.70000000e+01 2.25000000e+02 4.55000000e+01\n",
      " 3.80000000e+01 4.20000000e+01 1.00000000e-01 3.50000000e+00\n",
      " 1.40000000e+01 3.10000000e+01 1.20000000e+00 1.90000000e+01\n",
      " 1.20000000e+01 1.10000000e+01 2.50000000e+01 1.04000000e+04\n",
      " 5.00000000e+02 1.60000000e+01 2.40000000e+01 2.00000000e-01\n",
      " 2.30000000e+01 4.30000000e+01 2.70000000e+01 3.20000000e+01\n",
      " 6.10000000e+01 4.00000000e+02 2.80000000e+01 5.80000000e+00\n",
      " 1.60000000e+00 4.90000000e+00 1.00000000e+01 1.50000000e+04\n",
      " 1.10000000e+04 1.10000000e+02 6.90000000e+03 1.35000000e+04\n",
      " 1.69000000e+03 4.00000000e+01 3.00000000e-02 2.00000000e+00\n",
      " 4.00000000e+00 8.00000000e-01 1.00000000e-03 6.20000000e+01\n",
      " 2.80000000e+00 7.00000000e+00 3.00000000e+00 2.90000000e+01\n",
      " 3.00000000e+01 1.30000000e+00 0.00000000e+00 2.50000000e+02\n",
      " 1.60000000e+03 2.00000000e+01 3.00000000e-01 5.50000000e+00\n",
      " 3.80000000e+03 3.50000000e+03 1.90000000e-01 1.49000000e+01\n",
      " 1.37000000e+01 3.65000000e+02 1.49000000e+00 1.70000000e+00\n",
      " 6.00000000e+01 1.52000000e+01 1.10000000e+03 3.60000000e+02\n",
      " 1.85000000e+03 4.50000000e+03 5.00000000e+03 9.00000000e+02\n",
      " 5.10000000e+01 1.50000000e+00 5.70000000e+01 6.80000000e+02\n",
      " 3.20000000e+02 3.00000000e+02 7.20000000e+02 1.40000000e-01\n",
      " 5.00000000e-04 2.00000000e+02 7.40000000e+01 1.70000000e+01\n",
      " 9.70000000e+00 5.20000000e+02 4.70000000e+00 4.40000000e+01\n",
      " 5.90000000e+00 6.00000000e+00 1.30000000e+01 2.90000000e+03\n",
      " 1.80000000e+03 5.00000000e-01 8.60000000e+02 1.50000000e+03\n",
      " 3.50000000e+01 1.60000000e-01 6.50000000e+02 3.00000000e+03\n",
      " 1.36000000e+03 1.37000000e+03 9.00000000e+00 2.51000000e+01\n",
      " 3.30000000e+02 1.16000000e+01 9.20000000e+01 2.13000000e+02\n",
      " 3.19000000e+02 1.45000000e+03 4.12000000e+02 8.80000000e+02\n",
      " 8.90000000e+03 5.20000000e+00 2.20000000e+02 3.97000000e+02\n",
      " 9.30000000e+03 2.55000000e+02 6.50000000e+01 2.02000000e+02\n",
      " 2.00000000e+03 2.00000000e-02 1.00000000e+03 8.00000000e+02\n",
      " 3.80000000e-02 1.50000000e-02 8.30000000e-02 1.50000000e-03\n",
      " 2.00000000e-03 1.30000000e-02 1.20000000e+03 2.90000000e+02\n",
      " 7.70000000e-02 5.50000000e-03 7.20000000e-02 6.80000000e+01\n",
      " 7.90000000e-02 1.40000000e+00 1.15000000e-01 1.20000000e-03\n",
      " 5.00000000e+00 3.70000000e-02 2.40000000e-02 9.00000000e-02\n",
      " 4.40000000e+02 2.80000000e+03 1.88000000e-01 2.10000000e-02\n",
      " 1.70000000e-03 1.90000000e+02 7.00000000e-04 2.20000000e+00\n",
      " 6.00000000e-04 5.50000000e-02 7.80000000e-03 2.00000000e-04\n",
      " 1.10000000e+00 3.80000000e-01 2.70000000e+03 8.80000000e-01\n",
      " 1.15000000e+03 4.00000000e-01 2.60000000e+00 8.30000000e+02\n",
      " 1.50000000e+02 4.00000000e-03 7.50000000e-01 4.80000000e+00\n",
      " 2.60000000e+02 1.00000000e+04 4.00000000e+03 6.60000000e+00\n",
      " 1.25000000e+04 5.00000000e+04 2.70000000e+00 1.20000000e+02\n",
      " 2.80000000e+02 6.00000000e-01 9.00000000e-01 1.34000000e+01\n",
      " 1.50000000e-01 5.10000000e+00 6.40000000e+00 3.07000000e+00\n",
      " 7.10000000e+00 5.70000000e+00 1.90000000e+00 1.19000000e+01\n",
      " 9.50000000e+00 4.30000000e-01 8.40000000e+00 3.40000000e+00\n",
      " 1.06000000e+01 1.85000000e+00 4.10000000e+02 1.09000000e+03\n",
      " 6.70000000e+02 3.23431021e+02 1.00000000e+02 5.00000000e+01\n",
      " 9.70000000e+01 4.50000000e+00 7.30000000e+01 7.82000000e+02\n",
      " 2.10000000e+02 2.90000000e+00 5.20000000e+01 8.15000000e+01\n",
      " 7.65000000e+03 6.70000000e+01 1.27000000e+03 1.04000000e+02\n",
      " 1.40000000e+03 3.88000000e+03 2.40000000e+00 3.80000000e+00\n",
      " 2.11000000e+04 9.90000000e+00 7.40000000e+00 2.50000000e+00\n",
      " 4.20000000e+03 8.00000000e+01 1.90000000e+03 3.10000000e+03\n",
      " 3.25000000e+03 1.35000000e+03 2.40000000e+03 2.10000000e-01\n",
      " 1.91000000e+04 7.50000000e+01 1.15000000e+02 1.13000000e+01\n",
      " 9.20000000e+00 1.59000000e+03 1.25000000e+01 6.70000000e+00\n",
      " 8.20000000e+03 7.80000000e+00 8.30000000e+03 2.40000000e+02\n",
      " 3.90000000e+02 4.50000000e+01 3.10000000e-02 6.90000000e+01\n",
      " 8.30000000e+00 6.30000000e+00 4.30000000e+02 7.00000000e-03\n",
      " 2.80000000e-02 2.42000000e+04 8.50000000e+00 3.10000000e+00\n",
      " 2.49000000e+02 5.30000000e+00 1.05000000e+01 4.40000000e+00\n",
      " 9.20000000e-02 1.40000000e+02 3.30000000e-01 1.01000000e+01\n",
      " 2.30000000e+00 4.30000000e+00 7.60000000e+00 1.25000000e+02\n",
      " 7.00000000e+01 8.70000000e+02 1.22000000e+02 3.90000000e+01\n",
      " 1.55000000e+02 7.60000000e+01 3.30000000e+03 1.30000000e+03\n",
      " 2.40000000e-01 1.67000000e+01 8.70000000e+00 1.27000000e+01\n",
      " 1.05000000e+02 3.40000000e+03 2.30000000e-01 9.00000000e+01\n",
      " 8.30000000e+01 6.40000000e+01 1.70000000e+02 2.10000000e+00\n",
      " 1.65000000e+02 3.30000000e+01 3.50000000e-01 5.80000000e+01\n",
      " 8.00000000e+03 1.00000000e-02 8.00000000e-02 6.00000000e-02\n",
      " 1.03000000e+02 3.20000000e+00 1.07000000e+02 3.76000000e+01\n",
      " 1.33000000e+02 1.38000000e+02 1.35000000e+01 1.43000000e+02\n",
      " 1.19000000e+02 6.60000000e+02 1.60000000e+02]\n",
      "\n",
      "Variable: purpose\n",
      "Number of unique variables: 27\n",
      "['WR' 'COMBAT' 'WE' 'ME' 'SE' 'FMS' 'SB' 'SAM' 'PNE:PLO' 'TRANSP' 'PNE:V'\n",
      " nan 'PNE' 'WR/SE' 'WR/WE' 'WR/PNE' 'WR/SAM' 'PNE/WR' 'SE/WR' 'WR/P/SA'\n",
      " 'WE/SAM' 'WE/WR' 'WR/F/SA' 'WR/FMS' 'FMS/WR' 'WR/P/S' 'WR/F/S' 'WR/WE/S']\n",
      "\n",
      "Variable: type\n",
      "Number of unique variables: 20\n",
      "['TOWER' 'AIRDROP' 'UW' 'SURFACE' 'CRATER' 'SHIP' 'ATMOSPH' 'BARGE'\n",
      " 'BALLOON' 'ROCKET' 'SHAFT' 'TUNNEL' 'WATERSUR' 'SPACE' 'GALLERY'\n",
      " 'WATER SU' 'UG' 'SHAFT/GR' 'MINE' 'SHAFT/LG']\n",
      "\n",
      "Variable: month\n",
      "Number of unique variables: 12\n",
      "[ 7  8  6  4  5  1  2  9 10 11  3 12]\n",
      "\n",
      "Variable: day\n",
      "Number of unique variables: 31\n",
      "[16  5  9 30 24 14 29 27 28  1  2  6  7 20  8 18 22 19 15 25  3 31 17 11\n",
      "  4 12 23 10 26 13 21]\n",
      "\n"
     ]
    }
   ],
   "source": [
    "# get the unique value of each variable to ensure there are no anomalies\n",
    "cols = df.columns.to_list()\n",
    "\n",
    "for col in cols:\n",
    "    print(\"Variable:\", col)\n",
    "    print(\"Number of unique variables:\", df[col].nunique())\n",
    "    print(df[col].unique())\n",
    "    print()"
   ]
  },
  {
   "cell_type": "markdown",
   "metadata": {
    "id": "6BtzcOdn8iJ-"
   },
   "source": [
    "## <font color='#2F4F4F'>3. Data Analysis</font>"
   ]
  },
  {
   "cell_type": "markdown",
   "metadata": {},
   "source": [
    "### 3.1 Univariate Analysis"
   ]
  },
  {
   "cell_type": "code",
   "execution_count": 14,
   "metadata": {
    "colab": {
     "base_uri": "https://localhost:8080/",
     "height": 320
    },
    "id": "gJ6CpIfu8iJ_",
    "outputId": "48024a50-72d4-41c3-dfd8-99caddefcc77"
   },
   "outputs": [
    {
     "data": {
      "text/html": [
       "<div>\n",
       "<style scoped>\n",
       "    .dataframe tbody tr th:only-of-type {\n",
       "        vertical-align: middle;\n",
       "    }\n",
       "\n",
       "    .dataframe tbody tr th {\n",
       "        vertical-align: top;\n",
       "    }\n",
       "\n",
       "    .dataframe thead th {\n",
       "        text-align: right;\n",
       "    }\n",
       "</style>\n",
       "<table border=\"1\" class=\"dataframe\">\n",
       "  <thead>\n",
       "    <tr style=\"text-align: right;\">\n",
       "      <th></th>\n",
       "      <th>year</th>\n",
       "      <th>latitude</th>\n",
       "      <th>longitude</th>\n",
       "      <th>magnitude_body</th>\n",
       "      <th>magnitude_surface</th>\n",
       "      <th>depth</th>\n",
       "      <th>yield_lower</th>\n",
       "      <th>yield_upper</th>\n",
       "      <th>month</th>\n",
       "      <th>day</th>\n",
       "    </tr>\n",
       "  </thead>\n",
       "  <tbody>\n",
       "    <tr>\n",
       "      <th>count</th>\n",
       "      <td>2051.000000</td>\n",
       "      <td>2051.000000</td>\n",
       "      <td>2051.000000</td>\n",
       "      <td>2051.000000</td>\n",
       "      <td>2051.000000</td>\n",
       "      <td>2051.000000</td>\n",
       "      <td>2051.000000</td>\n",
       "      <td>2051.000000</td>\n",
       "      <td>2051.000000</td>\n",
       "      <td>2051.000000</td>\n",
       "    </tr>\n",
       "    <tr>\n",
       "      <th>mean</th>\n",
       "      <td>1970.899074</td>\n",
       "      <td>35.397331</td>\n",
       "      <td>-36.048777</td>\n",
       "      <td>2.144905</td>\n",
       "      <td>0.355826</td>\n",
       "      <td>-0.489633</td>\n",
       "      <td>209.217532</td>\n",
       "      <td>323.431021</td>\n",
       "      <td>7.282301</td>\n",
       "      <td>16.669917</td>\n",
       "    </tr>\n",
       "    <tr>\n",
       "      <th>std</th>\n",
       "      <td>10.367353</td>\n",
       "      <td>23.403654</td>\n",
       "      <td>100.864340</td>\n",
       "      <td>2.624897</td>\n",
       "      <td>1.202229</td>\n",
       "      <td>10.967699</td>\n",
       "      <td>1640.145504</td>\n",
       "      <td>2052.695191</td>\n",
       "      <td>3.129837</td>\n",
       "      <td>8.800708</td>\n",
       "    </tr>\n",
       "    <tr>\n",
       "      <th>min</th>\n",
       "      <td>1945.000000</td>\n",
       "      <td>-49.500000</td>\n",
       "      <td>-169.320000</td>\n",
       "      <td>0.000000</td>\n",
       "      <td>0.000000</td>\n",
       "      <td>-400.000000</td>\n",
       "      <td>0.000000</td>\n",
       "      <td>0.000000</td>\n",
       "      <td>1.000000</td>\n",
       "      <td>1.000000</td>\n",
       "    </tr>\n",
       "    <tr>\n",
       "      <th>25%</th>\n",
       "      <td>1962.000000</td>\n",
       "      <td>37.000000</td>\n",
       "      <td>-116.054000</td>\n",
       "      <td>0.000000</td>\n",
       "      <td>0.000000</td>\n",
       "      <td>0.000000</td>\n",
       "      <td>0.000000</td>\n",
       "      <td>19.000000</td>\n",
       "      <td>5.000000</td>\n",
       "      <td>9.000000</td>\n",
       "    </tr>\n",
       "    <tr>\n",
       "      <th>50%</th>\n",
       "      <td>1970.000000</td>\n",
       "      <td>37.100000</td>\n",
       "      <td>-116.000000</td>\n",
       "      <td>0.000000</td>\n",
       "      <td>0.000000</td>\n",
       "      <td>0.000000</td>\n",
       "      <td>0.001000</td>\n",
       "      <td>20.000000</td>\n",
       "      <td>8.000000</td>\n",
       "      <td>17.000000</td>\n",
       "    </tr>\n",
       "    <tr>\n",
       "      <th>75%</th>\n",
       "      <td>1979.000000</td>\n",
       "      <td>49.870000</td>\n",
       "      <td>78.000000</td>\n",
       "      <td>5.100000</td>\n",
       "      <td>0.000000</td>\n",
       "      <td>0.000000</td>\n",
       "      <td>20.000000</td>\n",
       "      <td>150.000000</td>\n",
       "      <td>10.000000</td>\n",
       "      <td>24.500000</td>\n",
       "    </tr>\n",
       "    <tr>\n",
       "      <th>max</th>\n",
       "      <td>1998.000000</td>\n",
       "      <td>75.100000</td>\n",
       "      <td>179.220000</td>\n",
       "      <td>7.400000</td>\n",
       "      <td>6.000000</td>\n",
       "      <td>1.451000</td>\n",
       "      <td>50000.000000</td>\n",
       "      <td>50000.000000</td>\n",
       "      <td>12.000000</td>\n",
       "      <td>31.000000</td>\n",
       "    </tr>\n",
       "  </tbody>\n",
       "</table>\n",
       "</div>"
      ],
      "text/plain": [
       "              year     latitude    longitude  magnitude_body  \\\n",
       "count  2051.000000  2051.000000  2051.000000     2051.000000   \n",
       "mean   1970.899074    35.397331   -36.048777        2.144905   \n",
       "std      10.367353    23.403654   100.864340        2.624897   \n",
       "min    1945.000000   -49.500000  -169.320000        0.000000   \n",
       "25%    1962.000000    37.000000  -116.054000        0.000000   \n",
       "50%    1970.000000    37.100000  -116.000000        0.000000   \n",
       "75%    1979.000000    49.870000    78.000000        5.100000   \n",
       "max    1998.000000    75.100000   179.220000        7.400000   \n",
       "\n",
       "       magnitude_surface        depth   yield_lower   yield_upper  \\\n",
       "count        2051.000000  2051.000000   2051.000000   2051.000000   \n",
       "mean            0.355826    -0.489633    209.217532    323.431021   \n",
       "std             1.202229    10.967699   1640.145504   2052.695191   \n",
       "min             0.000000  -400.000000      0.000000      0.000000   \n",
       "25%             0.000000     0.000000      0.000000     19.000000   \n",
       "50%             0.000000     0.000000      0.001000     20.000000   \n",
       "75%             0.000000     0.000000     20.000000    150.000000   \n",
       "max             6.000000     1.451000  50000.000000  50000.000000   \n",
       "\n",
       "             month          day  \n",
       "count  2051.000000  2051.000000  \n",
       "mean      7.282301    16.669917  \n",
       "std       3.129837     8.800708  \n",
       "min       1.000000     1.000000  \n",
       "25%       5.000000     9.000000  \n",
       "50%       8.000000    17.000000  \n",
       "75%      10.000000    24.500000  \n",
       "max      12.000000    31.000000  "
      ]
     },
     "execution_count": 14,
     "metadata": {},
     "output_type": "execute_result"
    }
   ],
   "source": [
    "# get descriptive statistics\n",
    "df.describe()"
   ]
  },
  {
   "cell_type": "markdown",
   "metadata": {
    "id": "rGCikgTX8iKD"
   },
   "source": [
    "Some of the values have large ranges hence need to scale them. "
   ]
  },
  {
   "cell_type": "code",
   "execution_count": 15,
   "metadata": {
    "colab": {
     "base_uri": "https://localhost:8080/",
     "height": 1000
    },
    "id": "JnEYg1_38iKE",
    "outputId": "b943a393-e77b-4195-c5a3-bba05cdc3bc5"
   },
   "outputs": [
    {
     "data": {
      "image/png": "[encoded data removed]",
      "text/plain": [
       "<Figure size 1080x2160 with 10 Axes>"
      ]
     },
     "metadata": {
      "needs_background": "light"
     },
     "output_type": "display_data"
    }
   ],
   "source": [
    "# previewing the histograms of each variable\n",
    "\n",
    "# selecting the columns that are numerical variables\n",
    "num_var = df.select_dtypes(include = ['int64', 'float64']).columns.to_list()\n",
    "num_length = round(len(num_var) / 2)\n",
    "\n",
    "colors = sns.color_palette(\"twilight\", len(num_var))\n",
    "\n",
    "fig, axes = plt.subplots(nrows = num_length, ncols = 2, figsize = (15, 30))\n",
    "\n",
    "for var, color, ax in zip(num_var, colors, axes.flatten()):\n",
    "    sns.distplot(df[var], ax = ax, color = color, kde = False, kde_kws = {'alpha' : 0.6})\n",
    "    plt.title(var)\n",
    "    \n",
    "plt.tight_layout()"
   ]
  },
  {
   "cell_type": "markdown",
   "metadata": {},
   "source": [
    "From the bar graphs it can be noted that, most of the columns have outliers."
   ]
  },
  {
   "cell_type": "code",
   "execution_count": 16,
   "metadata": {
    "colab": {
     "base_uri": "https://localhost:8080/",
     "height": 1000
    },
    "id": "NZCVHfIg8iKI",
    "outputId": "232051bb-1b55-42c8-957c-e8499ec0fdf0",
    "scrolled": false
   },
   "outputs": [
    {
     "data": {
      "image/png": "[encoded data removed]",
      "text/plain": [
       "<Figure size 1080x2160 with 10 Axes>"
      ]
     },
     "metadata": {
      "needs_background": "light"
     },
     "output_type": "display_data"
    }
   ],
   "source": [
    "# previewing the boxplots of each variable\n",
    "\n",
    "# selecting the columns that are numerical variables\n",
    "num_var = df.select_dtypes(include = ['int64', 'float64']).columns.to_list()\n",
    "num_length = round(len(num_var) / 2)\n",
    "\n",
    "colors = sns.color_palette(\"twilight\", len(num_var))\n",
    "\n",
    "fig, axes = plt.subplots(nrows = num_length, ncols = 2, figsize = (15, 30))\n",
    "\n",
    "for var, color, ax in zip(num_var, colors, axes.flatten()):\n",
    "    sns.boxplot(df[var], ax = ax, color = color)\n",
    "    plt.title(var)\n",
    "    \n",
    "plt.tight_layout()"
   ]
  },
  {
   "cell_type": "markdown",
   "metadata": {
    "id": "imvrkpGc8iKN"
   },
   "source": [
    "Just as seen in the bar plot most of the variables have outliers."
   ]
  },
  {
   "cell_type": "code",
   "execution_count": 17,
   "metadata": {},
   "outputs": [
    {
     "data": {
      "image/png": "[encoded data removed]",
      "text/plain": [
       "<Figure size 432x432 with 1 Axes>"
      ]
     },
     "metadata": {},
     "output_type": "display_data"
    }
   ],
   "source": [
    "#Checking distribution per country\n",
    "\n",
    "plt.figure(figsize = (6, 6))\n",
    "df.country.value_counts().plot(kind = 'pie', autopct = '%1.1f%%')\n",
    "plt.title('Pie Chart of Country')\n",
    "plt.show()"
   ]
  },
  {
   "cell_type": "markdown",
   "metadata": {},
   "source": [
    "From the chart it can be seen that USA diployed the most of the bombs."
   ]
  },
  {
   "cell_type": "code",
   "execution_count": 18,
   "metadata": {},
   "outputs": [
    {
     "data": {
      "image/png": "[encoded data removed]",
      "text/plain": [
       "<Figure size 1080x432 with 1 Axes>"
      ]
     },
     "metadata": {
      "needs_background": "light"
     },
     "output_type": "display_data"
    }
   ],
   "source": [
    "#Checking distribution per purpose\n",
    "\n",
    "\n",
    "plt.figure(figsize = (15, 6))\n",
    "df.purpose.value_counts().plot(kind = 'bar', rot = 0, color = ['skyblue', 'darkorange'])\n",
    "plt.title('Purpose of Deployment')\n",
    "plt.xlabel('Purpose of Deployment')\n",
    "plt.show()"
   ]
  },
  {
   "cell_type": "markdown",
   "metadata": {},
   "source": [
    "It is seen that most of the bombs were for Weapons development program (WR)"
   ]
  },
  {
   "cell_type": "code",
   "execution_count": 19,
   "metadata": {},
   "outputs": [
    {
     "data": {
      "image/png": "[encoded data removed]",
      "text/plain": [
       "<Figure size 1080x432 with 1 Axes>"
      ]
     },
     "metadata": {
      "needs_background": "light"
     },
     "output_type": "display_data"
    }
   ],
   "source": [
    "#Checking distribution per type\n",
    "\n",
    "\n",
    "plt.figure(figsize = (15, 6))\n",
    "df.type.value_counts().plot(kind = 'bar', rot = 0, color = ['skyblue', 'darkorange'])\n",
    "plt.title('Method of Deployment')\n",
    "plt.xlabel('Method of Deployment')\n",
    "plt.show()"
   ]
  },
  {
   "cell_type": "markdown",
   "metadata": {},
   "source": [
    "### 3.2 Bivariate Analysis"
   ]
  },
  {
   "cell_type": "code",
   "execution_count": 20,
   "metadata": {},
   "outputs": [
    {
     "data": {
      "image/png": "[encoded data removed]",
      "text/plain": [
       "<Figure size 1440x432 with 1 Axes>"
      ]
     },
     "metadata": {
      "needs_background": "light"
     },
     "output_type": "display_data"
    }
   ],
   "source": [
    "plt.figure(figsize = (20, 6))\n",
    "country_type = sns.countplot('type', hue = 'country', data = df)\n",
    "country_type.set(title = \"Churn by Area Code\", ylabel = 'Area Code')\n",
    "plt.show()"
   ]
  },
  {
   "cell_type": "markdown",
   "metadata": {},
   "source": [
    "It is noted that USA is leading in Tower, Airdrop, Crater, Barge, Rocket and Shaft type of explosion with shaft explosion having the highest count.\n",
    "As for USSR is the second country with explosion counts.\n"
   ]
  },
  {
   "cell_type": "code",
   "execution_count": 21,
   "metadata": {
    "colab": {
     "base_uri": "https://localhost:8080/",
     "height": 696
    },
    "id": "lXYwMvkG8iKO",
    "outputId": "d8aeb685-0fcb-4c88-d474-e20cde4c11bf"
   },
   "outputs": [
    {
     "data": {
      "image/png": "[encoded data removed]",
      "text/plain": [
       "<Figure size 720x720 with 2 Axes>"
      ]
     },
     "metadata": {
      "needs_background": "light"
     },
     "output_type": "display_data"
    }
   ],
   "source": [
    "# previewing the correlations between the variables\n",
    "corr = df.corr()\n",
    "\n",
    "plt.figure(figsize = (10, 10))\n",
    "sns.heatmap(corr, annot = True, cmap = 'coolwarm')\n",
    "plt.show()"
   ]
  },
  {
   "cell_type": "markdown",
   "metadata": {
    "id": "fgqwj_rl8iKc"
   },
   "source": [
    "There is correlation between some of the variables, with yield_lower and yield_upper haveing the hightest corrlation with a value of 0.86"
   ]
  },
  {
   "cell_type": "markdown",
   "metadata": {},
   "source": [
    "### 3.3 Feature Engineering"
   ]
  },
  {
   "cell_type": "code",
   "execution_count": 22,
   "metadata": {},
   "outputs": [
    {
     "data": {
      "text/plain": [
       "year                   int64\n",
       "country               object\n",
       "region                object\n",
       "source                object\n",
       "latitude             float64\n",
       "longitude            float64\n",
       "magnitude_body       float64\n",
       "magnitude_surface    float64\n",
       "depth                float64\n",
       "yield_lower          float64\n",
       "yield_upper          float64\n",
       "purpose               object\n",
       "type                  object\n",
       "month                  int64\n",
       "day                    int64\n",
       "dtype: object"
      ]
     },
     "execution_count": 22,
     "metadata": {},
     "output_type": "execute_result"
    }
   ],
   "source": [
    "df.dtypes"
   ]
  },
  {
   "cell_type": "code",
   "execution_count": 23,
   "metadata": {},
   "outputs": [
    {
     "data": {
      "text/plain": [
       "year                   int64\n",
       "country                 int8\n",
       "region                  int8\n",
       "source                  int8\n",
       "latitude             float64\n",
       "longitude            float64\n",
       "magnitude_body       float64\n",
       "magnitude_surface    float64\n",
       "depth                float64\n",
       "yield_lower          float64\n",
       "yield_upper          float64\n",
       "purpose                 int8\n",
       "type                    int8\n",
       "month                  int64\n",
       "day                    int64\n",
       "dtype: object"
      ]
     },
     "execution_count": 23,
     "metadata": {},
     "output_type": "execute_result"
    }
   ],
   "source": [
    "#Encoding the object elements to numbers\n",
    "\n",
    "var_encode = ['country', 'region', 'source', 'purpose','type']\n",
    "\n",
    "df['country'] = df['country'].astype('category').cat.codes\n",
    "df['region'] = df['region'].astype('category').cat.codes\n",
    "df['source'] = df['source'].astype('category').cat.codes\n",
    "df['purpose'] = df['purpose'].astype('category').cat.codes\n",
    "df['type'] = df['type'].astype('category').cat.codes\n",
    "\n",
    "df.dtypes"
   ]
  },
  {
   "cell_type": "code",
   "execution_count": null,
   "metadata": {},
   "outputs": [],
   "source": [
    "from sklearn.preprocessing import LabelEncoder\n",
    "\n",
    "to_encode = df.select_dtypes(include = ['object']).columns.to_list()\n",
    "\n",
    "for x in to_encode:\n",
    "  le = LabelEncoder().fit(df[x].unique())\n",
    "  df[x] = le.transform(df[x].values)\n"
   ]
  },
  {
   "cell_type": "code",
   "execution_count": null,
   "metadata": {},
   "outputs": [],
   "source": [
    "to_encode = df.select_dtypes(include = ['object']).columns.to_list()\n",
    "to_encode"
   ]
  },
  {
   "cell_type": "markdown",
   "metadata": {
    "id": "SYg5V60h8iKg"
   },
   "source": [
    "## <font color='#2F4F4F'>4. Data Modeling</font>"
   ]
  },
  {
   "cell_type": "code",
   "execution_count": 26,
   "metadata": {
    "colab": {
     "base_uri": "https://localhost:8080/",
     "height": 35
    },
    "id": "o8Mmw2k08iKg",
    "outputId": "6273d9ab-498f-4c29-dac9-597e4b777bb9"
   },
   "outputs": [
    {
     "data": {
      "text/plain": [
       "(2051, 15)"
      ]
     },
     "execution_count": 26,
     "metadata": {},
     "output_type": "execute_result"
    }
   ],
   "source": [
    "# set all the features into X\n",
    "X = df.iloc[:,].values\n",
    "\n",
    "X.shape"
   ]
  },
  {
   "cell_type": "code",
   "execution_count": 27,
   "metadata": {
    "id": "Egh-LmB38iK2"
   },
   "outputs": [],
   "source": [
    "# scale our features\n",
    "from sklearn.preprocessing import StandardScaler\n",
    "sc = StandardScaler()\n",
    "X = sc.fit_transform(X)"
   ]
  },
  {
   "cell_type": "markdown",
   "metadata": {
    "id": "vuixkvLB8iK5"
   },
   "source": [
    "### 4.1 KMeans Clustering"
   ]
  },
  {
   "cell_type": "code",
   "execution_count": 28,
   "metadata": {},
   "outputs": [
    {
     "data": {
      "image/png": "[encoded data removed]",
      "text/plain": [
       "<Figure size 432x288 with 1 Axes>"
      ]
     },
     "metadata": {
      "needs_background": "light"
     },
     "output_type": "display_data"
    }
   ],
   "source": [
    "# getting the optimum value of k for our KMeans model using the Elbow Method\n",
    "\n",
    "from sklearn.cluster import KMeans\n",
    "\n",
    "# Creating an empty list, to place the SSE\n",
    "Error = []\n",
    "\n",
    "# Next we run the Kmeans algorithm sevral times lets say 11, and using a for loop, we append the values of SSE to the Error list\n",
    "for i in range(1, 12):\n",
    "    kmeans = KMeans(n_clusters = i).fit(X)\n",
    "    kmeans.fit(X)\n",
    "    Error.append(kmeans.inertia_)\n",
    "    \n",
    "# Next plot the graph of No of clusters vs Error\n",
    "plt.plot(range(1, 12), Error, 'bx-')\n",
    "plt.title('Elbow method')\n",
    "plt.xlabel('No of clusters')\n",
    "plt.ylabel('Error')\n",
    "plt.grid(True);"
   ]
  },
  {
   "cell_type": "markdown",
   "metadata": {},
   "source": [
    "From the elbow graph, a cluster of k = 4 is ideal."
   ]
  },
  {
   "cell_type": "code",
   "execution_count": 29,
   "metadata": {
    "colab": {
     "base_uri": "https://localhost:8080/",
     "height": 181
    },
    "id": "qiJDAoPB8iK6",
    "outputId": "2b921ebb-71d0-4132-d70e-9449c856440a"
   },
   "outputs": [
    {
     "data": {
      "text/plain": [
       "array([0, 0, 0, ..., 2, 2, 1])"
      ]
     },
     "execution_count": 29,
     "metadata": {},
     "output_type": "execute_result"
    }
   ],
   "source": [
    "# fitting KMeans with 12 clusters\n",
    "from sklearn.cluster import KMeans\n",
    "\n",
    "kmeans = KMeans(4, random_state=0)\n",
    "kmeans.fit(X)\n",
    "\n",
    "# getting the cluster labels\n",
    "kmeans.labels_"
   ]
  },
  {
   "cell_type": "code",
   "execution_count": 30,
   "metadata": {
    "colab": {
     "base_uri": "https://localhost:8080/",
     "height": 390
    },
    "id": "UvLSks1o8iK9",
    "outputId": "25acce9a-7dbc-4587-83e5-43b8bf7c8ffa"
   },
   "outputs": [
    {
     "data": {
      "image/png": "[encoded data removed]",
      "text/plain": [
       "<Figure size 576x432 with 1 Axes>"
      ]
     },
     "metadata": {
      "needs_background": "light"
     },
     "output_type": "display_data"
    }
   ],
   "source": [
    "# getting the KMeans scatter plot\n",
    "kmeans_pred = kmeans.labels_\n",
    "kmeans_clust = np.unique(kmeans_pred)\n",
    "\n",
    "plt.figure(figsize = (8, 6))\n",
    "for cluster in kmeans_clust:\n",
    "    row_ix = np.where(kmeans_pred == cluster)\n",
    "    plt.scatter(X[row_ix, 0], X[row_ix, 1], label = cluster)\n",
    "    \n",
    "plt.title(\"Clustering by K-Means Clustering (k = 4)\")\n",
    "plt.legend()\n",
    "plt.show()"
   ]
  },
  {
   "cell_type": "code",
   "execution_count": 31,
   "metadata": {
    "colab": {
     "base_uri": "https://localhost:8080/",
     "height": 295
    },
    "id": "bKIrHhVY8iLI",
    "outputId": "39ed7959-e4e3-4f98-fb1e-6f26da715fb4"
   },
   "outputs": [
    {
     "data": {
      "image/png": "[encoded data removed]",
      "text/plain": [
       "<Figure size 432x288 with 1 Axes>"
      ]
     },
     "metadata": {
      "needs_background": "light"
     },
     "output_type": "display_data"
    }
   ],
   "source": [
    "# visualizing the distribution of errors per number of clusters\n",
    "\n",
    "# Using Silhouette Analysis\n",
    "from sklearn.metrics import silhouette_score\n",
    "silhouette = [] # list of separation distance between the resulting clusters for each value of k \n",
    "\n",
    "K = range(2, 12)\n",
    "for k in K:\n",
    "    kmeans = KMeans(n_clusters=k, random_state=0)\n",
    "    kmeans.fit(X) \n",
    "    silhouette.append(silhouette_score(X, kmeans.labels_))\n",
    "\n",
    "# Ploting the graph\n",
    "plt.plot(range(2, 12), silhouette, 'bx-')\n",
    "plt.title('Silhouette score vs No. of clusters (k)')\n",
    "plt.xlabel('No of clusters (k)')\n",
    "plt.ylabel('Silhouette coefficient')\n",
    "plt.grid(True);"
   ]
  },
  {
   "cell_type": "code",
   "execution_count": 32,
   "metadata": {
    "colab": {
     "base_uri": "https://localhost:8080/",
     "height": 383
    },
    "id": "SmRdjgoO8iLP",
    "outputId": "799e9cbd-fa07-4764-df0c-35f882442468"
   },
   "outputs": [
    {
     "data": {
      "text/html": [
       "<div>\n",
       "<style scoped>\n",
       "    .dataframe tbody tr th:only-of-type {\n",
       "        vertical-align: middle;\n",
       "    }\n",
       "\n",
       "    .dataframe tbody tr th {\n",
       "        vertical-align: top;\n",
       "    }\n",
       "\n",
       "    .dataframe thead th {\n",
       "        text-align: right;\n",
       "    }\n",
       "</style>\n",
       "<table border=\"1\" class=\"dataframe\">\n",
       "  <thead>\n",
       "    <tr style=\"text-align: right;\">\n",
       "      <th></th>\n",
       "      <th>year</th>\n",
       "      <th>country</th>\n",
       "      <th>region</th>\n",
       "      <th>source</th>\n",
       "      <th>latitude</th>\n",
       "      <th>longitude</th>\n",
       "      <th>magnitude_body</th>\n",
       "      <th>magnitude_surface</th>\n",
       "      <th>depth</th>\n",
       "      <th>yield_lower</th>\n",
       "      <th>yield_upper</th>\n",
       "      <th>purpose</th>\n",
       "      <th>type</th>\n",
       "      <th>month</th>\n",
       "      <th>day</th>\n",
       "      <th>kmeans_cluster_group</th>\n",
       "    </tr>\n",
       "  </thead>\n",
       "  <tbody>\n",
       "    <tr>\n",
       "      <th>165</th>\n",
       "      <td>1957</td>\n",
       "      <td>5</td>\n",
       "      <td>56</td>\n",
       "      <td>2</td>\n",
       "      <td>37.000</td>\n",
       "      <td>-116.000</td>\n",
       "      <td>0.0</td>\n",
       "      <td>0.0</td>\n",
       "      <td>-0.25</td>\n",
       "      <td>1.000</td>\n",
       "      <td>1.00</td>\n",
       "      <td>16</td>\n",
       "      <td>2</td>\n",
       "      <td>9</td>\n",
       "      <td>8</td>\n",
       "      <td>3</td>\n",
       "    </tr>\n",
       "    <tr>\n",
       "      <th>342</th>\n",
       "      <td>1961</td>\n",
       "      <td>6</td>\n",
       "      <td>68</td>\n",
       "      <td>2</td>\n",
       "      <td>50.000</td>\n",
       "      <td>78.000</td>\n",
       "      <td>0.0</td>\n",
       "      <td>0.0</td>\n",
       "      <td>0.00</td>\n",
       "      <td>15.000</td>\n",
       "      <td>15.00</td>\n",
       "      <td>16</td>\n",
       "      <td>1</td>\n",
       "      <td>10</td>\n",
       "      <td>12</td>\n",
       "      <td>10</td>\n",
       "    </tr>\n",
       "    <tr>\n",
       "      <th>809</th>\n",
       "      <td>1967</td>\n",
       "      <td>5</td>\n",
       "      <td>56</td>\n",
       "      <td>2</td>\n",
       "      <td>37.000</td>\n",
       "      <td>-116.000</td>\n",
       "      <td>0.0</td>\n",
       "      <td>0.0</td>\n",
       "      <td>0.00</td>\n",
       "      <td>0.000</td>\n",
       "      <td>20.00</td>\n",
       "      <td>16</td>\n",
       "      <td>8</td>\n",
       "      <td>4</td>\n",
       "      <td>4</td>\n",
       "      <td>3</td>\n",
       "    </tr>\n",
       "    <tr>\n",
       "      <th>1474</th>\n",
       "      <td>1978</td>\n",
       "      <td>6</td>\n",
       "      <td>29</td>\n",
       "      <td>4</td>\n",
       "      <td>61.530</td>\n",
       "      <td>112.870</td>\n",
       "      <td>5.2</td>\n",
       "      <td>0.0</td>\n",
       "      <td>0.00</td>\n",
       "      <td>15.000</td>\n",
       "      <td>15.00</td>\n",
       "      <td>4</td>\n",
       "      <td>15</td>\n",
       "      <td>10</td>\n",
       "      <td>7</td>\n",
       "      <td>9</td>\n",
       "    </tr>\n",
       "    <tr>\n",
       "      <th>1666</th>\n",
       "      <td>1982</td>\n",
       "      <td>1</td>\n",
       "      <td>52</td>\n",
       "      <td>9</td>\n",
       "      <td>-22.000</td>\n",
       "      <td>-139.000</td>\n",
       "      <td>0.0</td>\n",
       "      <td>0.0</td>\n",
       "      <td>0.00</td>\n",
       "      <td>0.000</td>\n",
       "      <td>5.00</td>\n",
       "      <td>16</td>\n",
       "      <td>9</td>\n",
       "      <td>3</td>\n",
       "      <td>23</td>\n",
       "      <td>2</td>\n",
       "    </tr>\n",
       "    <tr>\n",
       "      <th>1933</th>\n",
       "      <td>1988</td>\n",
       "      <td>6</td>\n",
       "      <td>57</td>\n",
       "      <td>3</td>\n",
       "      <td>73.364</td>\n",
       "      <td>54.445</td>\n",
       "      <td>6.4</td>\n",
       "      <td>3.8</td>\n",
       "      <td>0.00</td>\n",
       "      <td>0.001</td>\n",
       "      <td>20.00</td>\n",
       "      <td>13</td>\n",
       "      <td>15</td>\n",
       "      <td>5</td>\n",
       "      <td>7</td>\n",
       "      <td>0</td>\n",
       "    </tr>\n",
       "    <tr>\n",
       "      <th>64</th>\n",
       "      <td>1954</td>\n",
       "      <td>6</td>\n",
       "      <td>68</td>\n",
       "      <td>5</td>\n",
       "      <td>50.000</td>\n",
       "      <td>78.000</td>\n",
       "      <td>0.0</td>\n",
       "      <td>0.0</td>\n",
       "      <td>0.00</td>\n",
       "      <td>0.030</td>\n",
       "      <td>0.03</td>\n",
       "      <td>16</td>\n",
       "      <td>1</td>\n",
       "      <td>10</td>\n",
       "      <td>1</td>\n",
       "      <td>10</td>\n",
       "    </tr>\n",
       "    <tr>\n",
       "      <th>1087</th>\n",
       "      <td>1971</td>\n",
       "      <td>5</td>\n",
       "      <td>56</td>\n",
       "      <td>2</td>\n",
       "      <td>37.000</td>\n",
       "      <td>-116.000</td>\n",
       "      <td>0.0</td>\n",
       "      <td>0.0</td>\n",
       "      <td>0.00</td>\n",
       "      <td>0.000</td>\n",
       "      <td>20.00</td>\n",
       "      <td>7</td>\n",
       "      <td>15</td>\n",
       "      <td>7</td>\n",
       "      <td>1</td>\n",
       "      <td>3</td>\n",
       "    </tr>\n",
       "    <tr>\n",
       "      <th>1731</th>\n",
       "      <td>1983</td>\n",
       "      <td>6</td>\n",
       "      <td>33</td>\n",
       "      <td>10</td>\n",
       "      <td>51.344</td>\n",
       "      <td>53.291</td>\n",
       "      <td>5.2</td>\n",
       "      <td>0.0</td>\n",
       "      <td>0.00</td>\n",
       "      <td>15.000</td>\n",
       "      <td>15.00</td>\n",
       "      <td>4</td>\n",
       "      <td>8</td>\n",
       "      <td>7</td>\n",
       "      <td>10</td>\n",
       "      <td>9</td>\n",
       "    </tr>\n",
       "    <tr>\n",
       "      <th>1696</th>\n",
       "      <td>1982</td>\n",
       "      <td>6</td>\n",
       "      <td>30</td>\n",
       "      <td>10</td>\n",
       "      <td>61.553</td>\n",
       "      <td>112.864</td>\n",
       "      <td>5.3</td>\n",
       "      <td>0.0</td>\n",
       "      <td>0.00</td>\n",
       "      <td>15.000</td>\n",
       "      <td>15.00</td>\n",
       "      <td>4</td>\n",
       "      <td>8</td>\n",
       "      <td>10</td>\n",
       "      <td>10</td>\n",
       "      <td>9</td>\n",
       "    </tr>\n",
       "  </tbody>\n",
       "</table>\n",
       "</div>"
      ],
      "text/plain": [
       "      year  country  region  source  latitude  longitude  magnitude_body  \\\n",
       "165   1957        5      56       2    37.000   -116.000             0.0   \n",
       "342   1961        6      68       2    50.000     78.000             0.0   \n",
       "809   1967        5      56       2    37.000   -116.000             0.0   \n",
       "1474  1978        6      29       4    61.530    112.870             5.2   \n",
       "1666  1982        1      52       9   -22.000   -139.000             0.0   \n",
       "1933  1988        6      57       3    73.364     54.445             6.4   \n",
       "64    1954        6      68       5    50.000     78.000             0.0   \n",
       "1087  1971        5      56       2    37.000   -116.000             0.0   \n",
       "1731  1983        6      33      10    51.344     53.291             5.2   \n",
       "1696  1982        6      30      10    61.553    112.864             5.3   \n",
       "\n",
       "      magnitude_surface  depth  yield_lower  yield_upper  purpose  type  \\\n",
       "165                 0.0  -0.25        1.000         1.00       16     2   \n",
       "342                 0.0   0.00       15.000        15.00       16     1   \n",
       "809                 0.0   0.00        0.000        20.00       16     8   \n",
       "1474                0.0   0.00       15.000        15.00        4    15   \n",
       "1666                0.0   0.00        0.000         5.00       16     9   \n",
       "1933                3.8   0.00        0.001        20.00       13    15   \n",
       "64                  0.0   0.00        0.030         0.03       16     1   \n",
       "1087                0.0   0.00        0.000        20.00        7    15   \n",
       "1731                0.0   0.00       15.000        15.00        4     8   \n",
       "1696                0.0   0.00       15.000        15.00        4     8   \n",
       "\n",
       "      month  day  kmeans_cluster_group  \n",
       "165       9    8                     3  \n",
       "342      10   12                    10  \n",
       "809       4    4                     3  \n",
       "1474     10    7                     9  \n",
       "1666      3   23                     2  \n",
       "1933      5    7                     0  \n",
       "64       10    1                    10  \n",
       "1087      7    1                     3  \n",
       "1731      7   10                     9  \n",
       "1696     10   10                     9  "
      ]
     },
     "execution_count": 32,
     "metadata": {},
     "output_type": "execute_result"
    }
   ],
   "source": [
    "# add these cluster labels to our dataset\n",
    "df['kmeans_cluster_group'] = kmeans.labels_\n",
    "\n",
    "# previewing a sample of our dataset\n",
    "df.sample(10)"
   ]
  },
  {
   "cell_type": "markdown",
   "metadata": {
    "id": "1q_syzFy8iLb"
   },
   "source": [
    "### 4.2 Hierarchical Agglomerative Clustering"
   ]
  },
  {
   "cell_type": "code",
   "execution_count": 33,
   "metadata": {
    "colab": {
     "base_uri": "https://localhost:8080/",
     "height": 181
    },
    "id": "HS3gNlTJ8iLi",
    "outputId": "6671c625-b8e0-4fb8-c181-9ef78175db2a"
   },
   "outputs": [
    {
     "data": {
      "text/plain": [
       "array([0, 0, 0, ..., 1, 1, 1], dtype=int64)"
      ]
     },
     "execution_count": 33,
     "metadata": {},
     "output_type": "execute_result"
    }
   ],
   "source": [
    "# fitting agglomerative clustering with 5 clusters\n",
    "from sklearn.cluster import AgglomerativeClustering as AC\n",
    "agglo_clusterer = AC().fit(X)\n",
    "\n",
    "\n",
    "# get the labels\n",
    "labels = agglo_clusterer.labels_\n",
    "labels"
   ]
  },
  {
   "cell_type": "code",
   "execution_count": 34,
   "metadata": {
    "colab": {
     "base_uri": "https://localhost:8080/",
     "height": 390
    },
    "id": "xJZMZN6q8iLt",
    "outputId": "0333e850-31fc-4f80-b8a3-525cf8e482fd"
   },
   "outputs": [
    {
     "data": {
      "image/png": "[encoded data removed]",
      "text/plain": [
       "<Figure size 576x432 with 1 Axes>"
      ]
     },
     "metadata": {
      "needs_background": "light"
     },
     "output_type": "display_data"
    }
   ],
   "source": [
    "# Creating a scatter plot of the cluster analysis\n",
    "agglo_clust = np.unique(labels)\n",
    "\n",
    "plt.figure(figsize = (8, 6))\n",
    "for cluster in agglo_clust:\n",
    "    row_ix = np.where(labels == cluster)\n",
    "    plt.scatter(X[row_ix, 0], X[row_ix, 1], label = cluster)\n",
    "    \n",
    "plt.title(\"Agglomerative Clustering\")\n",
    "plt.legend()\n",
    "plt.show()"
   ]
  },
  {
   "cell_type": "code",
   "execution_count": 35,
   "metadata": {
    "colab": {
     "base_uri": "https://localhost:8080/",
     "height": 444
    },
    "id": "SBflNGcg8iLw",
    "outputId": "fa78305c-79c5-47cf-b376-3de7269e4a2c"
   },
   "outputs": [
    {
     "data": {
      "image/png": "[encoded data removed]",
      "text/plain": [
       "<Figure size 720x504 with 1 Axes>"
      ]
     },
     "metadata": {
      "needs_background": "light"
     },
     "output_type": "display_data"
    }
   ],
   "source": [
    "# creating a dendrogram of our agglomerative clustering analysis\n",
    "from scipy.cluster import hierarchy\n",
    "\n",
    "import scipy.cluster.hierarchy as shc\n",
    "\n",
    "plt.figure(figsize=(10, 7))\n",
    "plt.title(\"Hierarchical Clustering Dendrogram\")\n",
    "dend = shc.dendrogram(shc.linkage(X, method='ward'))"
   ]
  },
  {
   "cell_type": "markdown",
   "metadata": {
    "id": "iHDJpdRC8iL-"
   },
   "source": [
    "By drawing a line perpendicular to the largest vertical distance that doesn’t intersect any of the other clusters, the best obtimal cluster is three."
   ]
  },
  {
   "cell_type": "code",
   "execution_count": 36,
   "metadata": {
    "colab": {
     "base_uri": "https://localhost:8080/",
     "height": 408
    },
    "id": "ZtRWu3vz8iL-",
    "outputId": "2985c674-1c64-4c54-e33e-7d16e8ddc033"
   },
   "outputs": [
    {
     "data": {
      "text/plain": [
       "<matplotlib.legend.Legend at 0x1a68b44d9a0>"
      ]
     },
     "execution_count": 36,
     "metadata": {},
     "output_type": "execute_result"
    },
    {
     "data": {
      "image/png": "[encoded data removed]",
      "text/plain": [
       "<Figure size 576x432 with 1 Axes>"
      ]
     },
     "metadata": {
      "needs_background": "light"
     },
     "output_type": "display_data"
    }
   ],
   "source": [
    "# improve your agglomerative clustering model\n",
    "agglo_new = AC(n_clusters=3, affinity='euclidean', linkage='ward').fit(X)\n",
    "labels = agglo_new.labels_\n",
    "#plotting the new cluster\n",
    "agglo_clust = np.unique(labels)\n",
    "\n",
    "plt.figure(figsize = (8, 6))\n",
    "for cluster in agglo_clust:\n",
    "    row_ix = np.where(labels == cluster)\n",
    "    plt.scatter(X[row_ix, 0], X[row_ix, 1], label = cluster)\n",
    "    \n",
    "plt.title(\"Agglomerative Clustering(n = 3)\")\n",
    "plt.legend()"
   ]
  },
  {
   "cell_type": "code",
   "execution_count": 37,
   "metadata": {
    "colab": {
     "base_uri": "https://localhost:8080/",
     "height": 383
    },
    "id": "idfoHaKX8iMM",
    "outputId": "50022fa1-b097-4b7b-c6e0-1e54b352b3ff"
   },
   "outputs": [
    {
     "data": {
      "text/html": [
       "<div>\n",
       "<style scoped>\n",
       "    .dataframe tbody tr th:only-of-type {\n",
       "        vertical-align: middle;\n",
       "    }\n",
       "\n",
       "    .dataframe tbody tr th {\n",
       "        vertical-align: top;\n",
       "    }\n",
       "\n",
       "    .dataframe thead th {\n",
       "        text-align: right;\n",
       "    }\n",
       "</style>\n",
       "<table border=\"1\" class=\"dataframe\">\n",
       "  <thead>\n",
       "    <tr style=\"text-align: right;\">\n",
       "      <th></th>\n",
       "      <th>year</th>\n",
       "      <th>country</th>\n",
       "      <th>region</th>\n",
       "      <th>source</th>\n",
       "      <th>latitude</th>\n",
       "      <th>longitude</th>\n",
       "      <th>magnitude_body</th>\n",
       "      <th>magnitude_surface</th>\n",
       "      <th>depth</th>\n",
       "      <th>yield_lower</th>\n",
       "      <th>yield_upper</th>\n",
       "      <th>purpose</th>\n",
       "      <th>type</th>\n",
       "      <th>month</th>\n",
       "      <th>day</th>\n",
       "      <th>kmeans_cluster_group</th>\n",
       "      <th>agglo_clust</th>\n",
       "    </tr>\n",
       "  </thead>\n",
       "  <tbody>\n",
       "    <tr>\n",
       "      <th>987</th>\n",
       "      <td>1969</td>\n",
       "      <td>5</td>\n",
       "      <td>56</td>\n",
       "      <td>2</td>\n",
       "      <td>37.000</td>\n",
       "      <td>-116.000</td>\n",
       "      <td>0.0</td>\n",
       "      <td>0.0</td>\n",
       "      <td>0.0</td>\n",
       "      <td>0.0</td>\n",
       "      <td>20.0</td>\n",
       "      <td>10</td>\n",
       "      <td>8</td>\n",
       "      <td>10</td>\n",
       "      <td>16</td>\n",
       "      <td>3</td>\n",
       "      <td>0</td>\n",
       "    </tr>\n",
       "    <tr>\n",
       "      <th>126</th>\n",
       "      <td>1956</td>\n",
       "      <td>4</td>\n",
       "      <td>43</td>\n",
       "      <td>2</td>\n",
       "      <td>-30.000</td>\n",
       "      <td>131.000</td>\n",
       "      <td>0.0</td>\n",
       "      <td>0.0</td>\n",
       "      <td>0.0</td>\n",
       "      <td>10.0</td>\n",
       "      <td>10.0</td>\n",
       "      <td>16</td>\n",
       "      <td>14</td>\n",
       "      <td>10</td>\n",
       "      <td>22</td>\n",
       "      <td>7</td>\n",
       "      <td>0</td>\n",
       "    </tr>\n",
       "    <tr>\n",
       "      <th>1197</th>\n",
       "      <td>1973</td>\n",
       "      <td>5</td>\n",
       "      <td>56</td>\n",
       "      <td>2</td>\n",
       "      <td>37.000</td>\n",
       "      <td>-116.000</td>\n",
       "      <td>0.0</td>\n",
       "      <td>0.0</td>\n",
       "      <td>0.0</td>\n",
       "      <td>0.0</td>\n",
       "      <td>20.0</td>\n",
       "      <td>16</td>\n",
       "      <td>8</td>\n",
       "      <td>6</td>\n",
       "      <td>28</td>\n",
       "      <td>3</td>\n",
       "      <td>0</td>\n",
       "    </tr>\n",
       "    <tr>\n",
       "      <th>740</th>\n",
       "      <td>1966</td>\n",
       "      <td>6</td>\n",
       "      <td>6</td>\n",
       "      <td>1</td>\n",
       "      <td>47.900</td>\n",
       "      <td>47.700</td>\n",
       "      <td>0.0</td>\n",
       "      <td>0.0</td>\n",
       "      <td>0.0</td>\n",
       "      <td>1.1</td>\n",
       "      <td>1.1</td>\n",
       "      <td>4</td>\n",
       "      <td>8</td>\n",
       "      <td>4</td>\n",
       "      <td>22</td>\n",
       "      <td>9</td>\n",
       "      <td>2</td>\n",
       "    </tr>\n",
       "    <tr>\n",
       "      <th>855</th>\n",
       "      <td>1967</td>\n",
       "      <td>5</td>\n",
       "      <td>56</td>\n",
       "      <td>2</td>\n",
       "      <td>37.000</td>\n",
       "      <td>-116.000</td>\n",
       "      <td>0.0</td>\n",
       "      <td>0.0</td>\n",
       "      <td>0.0</td>\n",
       "      <td>0.0</td>\n",
       "      <td>20.0</td>\n",
       "      <td>16</td>\n",
       "      <td>8</td>\n",
       "      <td>12</td>\n",
       "      <td>6</td>\n",
       "      <td>3</td>\n",
       "      <td>0</td>\n",
       "    </tr>\n",
       "    <tr>\n",
       "      <th>1932</th>\n",
       "      <td>1988</td>\n",
       "      <td>6</td>\n",
       "      <td>68</td>\n",
       "      <td>3</td>\n",
       "      <td>49.928</td>\n",
       "      <td>78.769</td>\n",
       "      <td>7.2</td>\n",
       "      <td>4.4</td>\n",
       "      <td>0.0</td>\n",
       "      <td>20.0</td>\n",
       "      <td>150.0</td>\n",
       "      <td>1</td>\n",
       "      <td>8</td>\n",
       "      <td>5</td>\n",
       "      <td>4</td>\n",
       "      <td>0</td>\n",
       "      <td>2</td>\n",
       "    </tr>\n",
       "    <tr>\n",
       "      <th>125</th>\n",
       "      <td>1956</td>\n",
       "      <td>4</td>\n",
       "      <td>43</td>\n",
       "      <td>2</td>\n",
       "      <td>-30.000</td>\n",
       "      <td>131.000</td>\n",
       "      <td>0.0</td>\n",
       "      <td>0.0</td>\n",
       "      <td>0.0</td>\n",
       "      <td>3.0</td>\n",
       "      <td>3.0</td>\n",
       "      <td>16</td>\n",
       "      <td>0</td>\n",
       "      <td>10</td>\n",
       "      <td>11</td>\n",
       "      <td>7</td>\n",
       "      <td>0</td>\n",
       "    </tr>\n",
       "    <tr>\n",
       "      <th>105</th>\n",
       "      <td>1956</td>\n",
       "      <td>5</td>\n",
       "      <td>16</td>\n",
       "      <td>2</td>\n",
       "      <td>11.300</td>\n",
       "      <td>162.150</td>\n",
       "      <td>0.0</td>\n",
       "      <td>0.0</td>\n",
       "      <td>-0.1</td>\n",
       "      <td>14.9</td>\n",
       "      <td>14.9</td>\n",
       "      <td>16</td>\n",
       "      <td>14</td>\n",
       "      <td>5</td>\n",
       "      <td>30</td>\n",
       "      <td>7</td>\n",
       "      <td>0</td>\n",
       "    </tr>\n",
       "    <tr>\n",
       "      <th>313</th>\n",
       "      <td>1961</td>\n",
       "      <td>6</td>\n",
       "      <td>68</td>\n",
       "      <td>5</td>\n",
       "      <td>50.000</td>\n",
       "      <td>78.000</td>\n",
       "      <td>0.0</td>\n",
       "      <td>0.0</td>\n",
       "      <td>0.0</td>\n",
       "      <td>0.3</td>\n",
       "      <td>0.3</td>\n",
       "      <td>16</td>\n",
       "      <td>1</td>\n",
       "      <td>9</td>\n",
       "      <td>11</td>\n",
       "      <td>10</td>\n",
       "      <td>0</td>\n",
       "    </tr>\n",
       "    <tr>\n",
       "      <th>1012</th>\n",
       "      <td>1970</td>\n",
       "      <td>5</td>\n",
       "      <td>56</td>\n",
       "      <td>4</td>\n",
       "      <td>37.130</td>\n",
       "      <td>-116.210</td>\n",
       "      <td>0.0</td>\n",
       "      <td>0.0</td>\n",
       "      <td>0.0</td>\n",
       "      <td>0.0</td>\n",
       "      <td>20.0</td>\n",
       "      <td>13</td>\n",
       "      <td>15</td>\n",
       "      <td>2</td>\n",
       "      <td>11</td>\n",
       "      <td>3</td>\n",
       "      <td>0</td>\n",
       "    </tr>\n",
       "  </tbody>\n",
       "</table>\n",
       "</div>"
      ],
      "text/plain": [
       "      year  country  region  source  latitude  longitude  magnitude_body  \\\n",
       "987   1969        5      56       2    37.000   -116.000             0.0   \n",
       "126   1956        4      43       2   -30.000    131.000             0.0   \n",
       "1197  1973        5      56       2    37.000   -116.000             0.0   \n",
       "740   1966        6       6       1    47.900     47.700             0.0   \n",
       "855   1967        5      56       2    37.000   -116.000             0.0   \n",
       "1932  1988        6      68       3    49.928     78.769             7.2   \n",
       "125   1956        4      43       2   -30.000    131.000             0.0   \n",
       "105   1956        5      16       2    11.300    162.150             0.0   \n",
       "313   1961        6      68       5    50.000     78.000             0.0   \n",
       "1012  1970        5      56       4    37.130   -116.210             0.0   \n",
       "\n",
       "      magnitude_surface  depth  yield_lower  yield_upper  purpose  type  \\\n",
       "987                 0.0    0.0          0.0         20.0       10     8   \n",
       "126                 0.0    0.0         10.0         10.0       16    14   \n",
       "1197                0.0    0.0          0.0         20.0       16     8   \n",
       "740                 0.0    0.0          1.1          1.1        4     8   \n",
       "855                 0.0    0.0          0.0         20.0       16     8   \n",
       "1932                4.4    0.0         20.0        150.0        1     8   \n",
       "125                 0.0    0.0          3.0          3.0       16     0   \n",
       "105                 0.0   -0.1         14.9         14.9       16    14   \n",
       "313                 0.0    0.0          0.3          0.3       16     1   \n",
       "1012                0.0    0.0          0.0         20.0       13    15   \n",
       "\n",
       "      month  day  kmeans_cluster_group  agglo_clust  \n",
       "987      10   16                     3            0  \n",
       "126      10   22                     7            0  \n",
       "1197      6   28                     3            0  \n",
       "740       4   22                     9            2  \n",
       "855      12    6                     3            0  \n",
       "1932      5    4                     0            2  \n",
       "125      10   11                     7            0  \n",
       "105       5   30                     7            0  \n",
       "313       9   11                    10            0  \n",
       "1012      2   11                     3            0  "
      ]
     },
     "execution_count": 37,
     "metadata": {},
     "output_type": "execute_result"
    }
   ],
   "source": [
    "# adding to our dataset\n",
    "df['agglo_clust'] = labels\n",
    "\n",
    "# previewing a sample of our dataset\n",
    "df.sample(10)"
   ]
  },
  {
   "cell_type": "markdown",
   "metadata": {},
   "source": [
    "### 4.2 Classification"
   ]
  },
  {
   "cell_type": "code",
   "execution_count": 38,
   "metadata": {},
   "outputs": [
    {
     "data": {
      "text/html": [
       "<div>\n",
       "<style scoped>\n",
       "    .dataframe tbody tr th:only-of-type {\n",
       "        vertical-align: middle;\n",
       "    }\n",
       "\n",
       "    .dataframe tbody tr th {\n",
       "        vertical-align: top;\n",
       "    }\n",
       "\n",
       "    .dataframe thead th {\n",
       "        text-align: right;\n",
       "    }\n",
       "</style>\n",
       "<table border=\"1\" class=\"dataframe\">\n",
       "  <thead>\n",
       "    <tr style=\"text-align: right;\">\n",
       "      <th></th>\n",
       "      <th>year</th>\n",
       "      <th>country</th>\n",
       "      <th>region</th>\n",
       "      <th>source</th>\n",
       "      <th>latitude</th>\n",
       "      <th>longitude</th>\n",
       "      <th>magnitude_body</th>\n",
       "      <th>magnitude_surface</th>\n",
       "      <th>depth</th>\n",
       "      <th>yield_lower</th>\n",
       "      <th>yield_upper</th>\n",
       "      <th>purpose</th>\n",
       "      <th>type</th>\n",
       "      <th>month</th>\n",
       "      <th>day</th>\n",
       "      <th>kmeans_cluster_group</th>\n",
       "      <th>agglo_clust</th>\n",
       "      <th>label</th>\n",
       "    </tr>\n",
       "  </thead>\n",
       "  <tbody>\n",
       "    <tr>\n",
       "      <th>0</th>\n",
       "      <td>1945</td>\n",
       "      <td>5</td>\n",
       "      <td>0</td>\n",
       "      <td>2</td>\n",
       "      <td>32.54</td>\n",
       "      <td>-105.57</td>\n",
       "      <td>0.0</td>\n",
       "      <td>0.0</td>\n",
       "      <td>-0.10</td>\n",
       "      <td>21.0</td>\n",
       "      <td>21.0</td>\n",
       "      <td>16</td>\n",
       "      <td>14</td>\n",
       "      <td>7</td>\n",
       "      <td>16</td>\n",
       "      <td>7</td>\n",
       "      <td>2</td>\n",
       "      <td>0</td>\n",
       "    </tr>\n",
       "    <tr>\n",
       "      <th>1</th>\n",
       "      <td>1945</td>\n",
       "      <td>5</td>\n",
       "      <td>24</td>\n",
       "      <td>2</td>\n",
       "      <td>34.23</td>\n",
       "      <td>132.27</td>\n",
       "      <td>0.0</td>\n",
       "      <td>0.0</td>\n",
       "      <td>-0.60</td>\n",
       "      <td>15.0</td>\n",
       "      <td>15.0</td>\n",
       "      <td>0</td>\n",
       "      <td>0</td>\n",
       "      <td>8</td>\n",
       "      <td>5</td>\n",
       "      <td>9</td>\n",
       "      <td>0</td>\n",
       "      <td>0</td>\n",
       "    </tr>\n",
       "    <tr>\n",
       "      <th>2</th>\n",
       "      <td>1945</td>\n",
       "      <td>5</td>\n",
       "      <td>54</td>\n",
       "      <td>2</td>\n",
       "      <td>32.45</td>\n",
       "      <td>129.52</td>\n",
       "      <td>0.0</td>\n",
       "      <td>0.0</td>\n",
       "      <td>-0.60</td>\n",
       "      <td>21.0</td>\n",
       "      <td>21.0</td>\n",
       "      <td>0</td>\n",
       "      <td>0</td>\n",
       "      <td>8</td>\n",
       "      <td>9</td>\n",
       "      <td>9</td>\n",
       "      <td>0</td>\n",
       "      <td>0</td>\n",
       "    </tr>\n",
       "    <tr>\n",
       "      <th>3</th>\n",
       "      <td>1946</td>\n",
       "      <td>5</td>\n",
       "      <td>9</td>\n",
       "      <td>2</td>\n",
       "      <td>11.35</td>\n",
       "      <td>165.20</td>\n",
       "      <td>0.0</td>\n",
       "      <td>0.0</td>\n",
       "      <td>-0.20</td>\n",
       "      <td>21.0</td>\n",
       "      <td>21.0</td>\n",
       "      <td>13</td>\n",
       "      <td>0</td>\n",
       "      <td>6</td>\n",
       "      <td>30</td>\n",
       "      <td>7</td>\n",
       "      <td>0</td>\n",
       "      <td>0</td>\n",
       "    </tr>\n",
       "    <tr>\n",
       "      <th>4</th>\n",
       "      <td>1946</td>\n",
       "      <td>5</td>\n",
       "      <td>9</td>\n",
       "      <td>2</td>\n",
       "      <td>11.35</td>\n",
       "      <td>165.20</td>\n",
       "      <td>0.0</td>\n",
       "      <td>0.0</td>\n",
       "      <td>0.03</td>\n",
       "      <td>21.0</td>\n",
       "      <td>21.0</td>\n",
       "      <td>13</td>\n",
       "      <td>17</td>\n",
       "      <td>7</td>\n",
       "      <td>24</td>\n",
       "      <td>7</td>\n",
       "      <td>0</td>\n",
       "      <td>0</td>\n",
       "    </tr>\n",
       "  </tbody>\n",
       "</table>\n",
       "</div>"
      ],
      "text/plain": [
       "   year  country  region  source  latitude  longitude  magnitude_body  \\\n",
       "0  1945        5       0       2     32.54    -105.57             0.0   \n",
       "1  1945        5      24       2     34.23     132.27             0.0   \n",
       "2  1945        5      54       2     32.45     129.52             0.0   \n",
       "3  1946        5       9       2     11.35     165.20             0.0   \n",
       "4  1946        5       9       2     11.35     165.20             0.0   \n",
       "\n",
       "   magnitude_surface  depth  yield_lower  yield_upper  purpose  type  month  \\\n",
       "0                0.0  -0.10         21.0         21.0       16    14      7   \n",
       "1                0.0  -0.60         15.0         15.0        0     0      8   \n",
       "2                0.0  -0.60         21.0         21.0        0     0      8   \n",
       "3                0.0  -0.20         21.0         21.0       13     0      6   \n",
       "4                0.0   0.03         21.0         21.0       13    17      7   \n",
       "\n",
       "   day  kmeans_cluster_group  agglo_clust  label  \n",
       "0   16                     7            2      0  \n",
       "1    5                     9            0      0  \n",
       "2    9                     9            0      0  \n",
       "3   30                     7            0      0  \n",
       "4   24                     7            0      0  "
      ]
     },
     "execution_count": 38,
     "metadata": {},
     "output_type": "execute_result"
    }
   ],
   "source": [
    "#Adding a new column, label and prefixing the available records as old.\n",
    "#Where the old are to have a value of 0 and new a value of 1\n",
    "df['label'] = 0\n",
    "df.head()"
   ]
  },
  {
   "cell_type": "code",
   "execution_count": 39,
   "metadata": {},
   "outputs": [],
   "source": [
    "#Pre-requisites\n",
    "\n",
    "from sklearn.model_selection import train_test_split #For spliting the dataset\n",
    "\n",
    "from sklearn.linear_model import LogisticRegression # Logistic Regression Classifier\n",
    "from sklearn.tree import DecisionTreeClassifier     # Decision Tree Classifier\n",
    "from sklearn.svm import SVC                         # SVM Classifier\n",
    "from sklearn.naive_bayes import GaussianNB          # Naive Bayes Classifier\n",
    "from sklearn.neighbors import KNeighborsClassifier  # KNN Classifier\n",
    "\n",
    "from sklearn.metrics import classification_report, accuracy_score # For checking accuracy\n",
    "\n",
    "from sklearn.metrics import confusion_matrix  # For confusion Matrix"
   ]
  },
  {
   "cell_type": "code",
   "execution_count": 40,
   "metadata": {},
   "outputs": [
    {
     "name": "stdout",
     "output_type": "stream",
     "text": [
      "(2051, 15)\n",
      "(2051,)\n"
     ]
    }
   ],
   "source": [
    "#Setting y values\n",
    "y = df['label'].values\n",
    "\n",
    "print(X.shape)\n",
    "print(y.shape)"
   ]
  },
  {
   "cell_type": "code",
   "execution_count": 43,
   "metadata": {},
   "outputs": [
    {
     "ename": "ValueError",
     "evalue": "This solver needs samples of at least 2 classes in the data, but the data contains only one class: 0",
     "output_type": "error",
     "traceback": [
      "\u001b[1;31m---------------------------------------------------------------------------\u001b[0m",
      "\u001b[1;31mValueError\u001b[0m                                Traceback (most recent call last)",
      "\u001b[1;32m<ipython-input-43-fbb87922380d>\u001b[0m in \u001b[0;36m<module>\u001b[1;34m\u001b[0m\n\u001b[0;32m     11\u001b[0m \u001b[1;33m\u001b[0m\u001b[0m\n\u001b[0;32m     12\u001b[0m \u001b[1;31m# Train the classifiers, i.e fit them\u001b[0m\u001b[1;33m\u001b[0m\u001b[1;33m\u001b[0m\u001b[1;33m\u001b[0m\u001b[0m\n\u001b[1;32m---> 13\u001b[1;33m \u001b[0mlogistic_classifier\u001b[0m\u001b[1;33m.\u001b[0m\u001b[0mfit\u001b[0m\u001b[1;33m(\u001b[0m\u001b[0mX_train\u001b[0m\u001b[1;33m,\u001b[0m \u001b[0my_train\u001b[0m\u001b[1;33m)\u001b[0m\u001b[1;33m\u001b[0m\u001b[1;33m\u001b[0m\u001b[0m\n\u001b[0m\u001b[0;32m     14\u001b[0m \u001b[0mdecision_classifier\u001b[0m\u001b[1;33m.\u001b[0m\u001b[0mfit\u001b[0m\u001b[1;33m(\u001b[0m\u001b[0mX_train\u001b[0m\u001b[1;33m,\u001b[0m \u001b[0my_train\u001b[0m\u001b[1;33m)\u001b[0m\u001b[1;33m\u001b[0m\u001b[1;33m\u001b[0m\u001b[0m\n\u001b[0;32m     15\u001b[0m \u001b[0msvm_classifier\u001b[0m\u001b[1;33m.\u001b[0m\u001b[0mfit\u001b[0m\u001b[1;33m(\u001b[0m\u001b[0mX_train\u001b[0m\u001b[1;33m,\u001b[0m \u001b[0my_train\u001b[0m\u001b[1;33m)\u001b[0m\u001b[1;33m\u001b[0m\u001b[1;33m\u001b[0m\u001b[0m\n",
      "\u001b[1;32m~\\anaconda3\\lib\\site-packages\\sklearn\\linear_model\\_logistic.py\u001b[0m in \u001b[0;36mfit\u001b[1;34m(self, X, y, sample_weight)\u001b[0m\n\u001b[0;32m   1370\u001b[0m         \u001b[0mclasses_\u001b[0m \u001b[1;33m=\u001b[0m \u001b[0mself\u001b[0m\u001b[1;33m.\u001b[0m\u001b[0mclasses_\u001b[0m\u001b[1;33m\u001b[0m\u001b[1;33m\u001b[0m\u001b[0m\n\u001b[0;32m   1371\u001b[0m         \u001b[1;32mif\u001b[0m \u001b[0mn_classes\u001b[0m \u001b[1;33m<\u001b[0m \u001b[1;36m2\u001b[0m\u001b[1;33m:\u001b[0m\u001b[1;33m\u001b[0m\u001b[1;33m\u001b[0m\u001b[0m\n\u001b[1;32m-> 1372\u001b[1;33m             raise ValueError(\"This solver needs samples of at least 2 classes\"\n\u001b[0m\u001b[0;32m   1373\u001b[0m                              \u001b[1;34m\" in the data, but the data contains only one\"\u001b[0m\u001b[1;33m\u001b[0m\u001b[1;33m\u001b[0m\u001b[0m\n\u001b[0;32m   1374\u001b[0m                              \" class: %r\" % classes_[0])\n",
      "\u001b[1;31mValueError\u001b[0m: This solver needs samples of at least 2 classes in the data, but the data contains only one class: 0"
     ]
    }
   ],
   "source": [
    "# For the New records, we are to record them as (df2)\n",
    "\n",
    "#Creating a method to classify the combined New and Old records\n",
    "\n",
    "def classify_records(df, df2):\n",
    "    #Joining the two two dataframe\n",
    "    df.append(df2)\n",
    "    \n",
    "    #Setting the values\n",
    "    X = df.drop(columns=\"label\").values\n",
    "    y = df['label'].values\n",
    "\n",
    "\n",
    "    # Split the dataset into training and test subsets\n",
    "    X_train, X_test, y_train, y_test = train_test_split(X, y, test_size = 0.25, random_state = 0)\n",
    "\n",
    "\n",
    "    #Make Instace of Classifier\n",
    "    logistic_classifier = LogisticRegression()\n",
    "    decision_classifier = DecisionTreeClassifier()\n",
    "    svm_classifier = SVC()\n",
    "    knn_classifier = KNeighborsClassifier()\n",
    "    naive_classifier = GaussianNB()\n",
    "\n",
    "    # Train the classifiers, i.e fit them\n",
    "    logistic_classifier.fit(X_train, y_train)\n",
    "    decision_classifier.fit(X_train, y_train)\n",
    "    svm_classifier.fit(X_train, y_train)\n",
    "    knn_classifier.fit(X_train, y_train)\n",
    "    naive_classifier.fit(X_train, y_train)\n",
    "\n",
    "    #Finding Predicted Values\n",
    "    logistic_y_prediction = logistic_classifier.predict(X_test) \n",
    "    decision_y_prediction = decision_classifier.predict(X_test) \n",
    "    svm_y_prediction = svm_classifier.predict(X_test) \n",
    "    knn_y_prediction = knn_classifier.predict(X_test) \n",
    "    naive_y_prediction = naive_classifier.predict(X_test) \n",
    "\n",
    "    #Calculation of the accuracy score\n",
    "    print(accuracy_score(logistic_y_prediction, y_test))\n",
    "    print(accuracy_score(decision_y_prediction, y_test))\n",
    "    print(accuracy_score(svm_y_prediction, y_test))\n",
    "    print(accuracy_score(knn_y_prediction, y_test))\n",
    "    print(accuracy_score(naive_y_prediction, y_test))\n",
    "\n",
    "    #Print the classification Score \n",
    "    print('Logistic classifier:')\n",
    "    print(classification_report(y_test, logistic_y_prediction))\n",
    "\n",
    "    print('Decision Tree classifier:')\n",
    "    print(classification_report(y_test, decision_y_prediction))\n",
    "\n",
    "    print('SVM Classifier:')\n",
    "    print(classification_report(y_test, svm_y_prediction))\n",
    "\n",
    "    print('KNN Classifier:')\n",
    "    print(classification_report(y_test, knn_y_prediction))\n",
    "\n",
    "    print('Naive Bayes Classifier:')\n",
    "    print(classification_report(y_test, naive_y_prediction)) \n"
   ]
  },
  {
   "cell_type": "markdown",
   "metadata": {},
   "source": [
    "The classifier with the best accuracy is to be taken."
   ]
  },
  {
   "cell_type": "markdown",
   "metadata": {
    "id": "7KX6mL6M8iMU"
   },
   "source": [
    "## <font color='#2F4F4F'>5. Summary of Findings</font>\n",
    "\n",
    "We found out that the initial K-means Clusters as five was not ideal, and th k=3 was the obtimal number of clusters. To confirm this, the obtimal number of clusters obtained from the dendrogram of our agglomerative clustering analysis was 3"
   ]
  },
  {
   "cell_type": "markdown",
   "metadata": {
    "id": "qVOLFUk28iMV"
   },
   "source": [
    "## <font color='#2F4F4F'>6. Recommendations</font>\n",
    "\n",
    "\n",
    "To improve the data collections on the variables with outlies,(Malic acid, Hue, Color intensity, Ash, Ash Alcalinity, MAgnesium and Proanthocyanins0. \n",
    "\n",
    "To collect more data obalance variables Malic Acid,Magnesium and Proline."
   ]
  },
  {
   "cell_type": "markdown",
   "metadata": {
    "id": "det4_d9T8iMW"
   },
   "source": [
    "## <font color='#2F4F4F'>7. Challenging your Solution</font>\n",
    "\n",
    "#### a) Did we have the right question?\n",
    "Yes\n",
    "\n",
    "#### b) Did we have the right data?\n",
    "Yes\n",
    "\n",
    "#### c) What can be done to improve the solution?\n",
    "- We could try removing outliers and highly correlated variables and seeing if those would imporve our solution.\n",
    "- We could also look into other clustering methods.\n"
   ]
  }
 ],
 "metadata": {
  "colab": {
   "collapsed_sections": [],
   "name": "Cluster_Analysis_with_Python_Project:Soved.ipynb",
   "provenance": [],
   "toc_visible": true
  },
  "kernelspec": {
   "display_name": "Python 3",
   "language": "python",
   "name": "python3"
  },
  "language_info": {
   "codemirror_mode": {
    "name": "ipython",
    "version": 3
   },
   "file_extension": ".py",
   "mimetype": "text/x-python",
   "name": "python",
   "nbconvert_exporter": "python",
   "pygments_lexer": "ipython3",
   "version": "3.8.3"
  }
 },
 "nbformat": 4,
 "nbformat_minor": 1
}
