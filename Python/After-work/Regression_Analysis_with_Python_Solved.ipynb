{
 "cells": [
  {
   "cell_type": "markdown",
   "metadata": {
    "id": "_XzGFitQl60K"
   },
   "source": [
    "# Practice Section: Regression Analysis with Python"
   ]
  },
  {
   "cell_type": "markdown",
   "metadata": {
    "id": "oRCD6ZOWUA_q"
   },
   "source": [
    "## Pre-requisites"
   ]
  },
  {
   "cell_type": "code",
   "execution_count": null,
   "metadata": {
    "id": "0tT77qApuuLP"
   },
   "outputs": [],
   "source": [
    "# Importing the required libraries\n",
    "# ---\n",
    "#\n",
    "import pandas as pd \n",
    "import numpy as np  \n",
    "import matplotlib.pyplot as plt\n",
    "%matplotlib inline"
   ]
  },
  {
   "cell_type": "markdown",
   "metadata": {
    "id": "8tAUAu98l-E6"
   },
   "source": [
    "## Examples"
   ]
  },
  {
   "cell_type": "markdown",
   "metadata": {
    "id": "o39LEL0PmKJa"
   },
   "source": [
    "#### <font color=\"blue\">Example 1: Simple Linear Regression</font>"
   ]
  },
  {
   "cell_type": "code",
   "execution_count": null,
   "metadata": {
    "id": "Ql23JRMAlvv2"
   },
   "outputs": [],
   "source": [
    "# Example 1\n",
    "# --- \n",
    "# Question: Create a linear regression model to predict the output y given the input x from the dataset below.\n",
    "# ---\n",
    "# Dataset url = http://bit.ly/SimpleLinearRegresionDataset\n",
    "# ---\n"
   ]
  },
  {
   "cell_type": "markdown",
   "metadata": {
    "id": "Jo5xObcPABVI"
   },
   "source": [
    "##### Step 1. Loading our Data "
   ]
  },
  {
   "cell_type": "code",
   "execution_count": null,
   "metadata": {
    "id": "71_0owU6DNQE"
   },
   "outputs": [],
   "source": [
    "# The first step that we will take is to import our dataset and store it in our dataframe named df\n",
    "# --- \n",
    "# \n",
    "df = pd.read_csv('http://bit.ly/SimpleLinearRegresionDataset')"
   ]
  },
  {
   "cell_type": "markdown",
   "metadata": {
    "id": "P4BQ8leaAIK0"
   },
   "source": [
    "##### Step 2. Checking the Data "
   ]
  },
  {
   "cell_type": "code",
   "execution_count": null,
   "metadata": {
    "colab": {
     "base_uri": "https://localhost:8080/",
     "height": 36
    },
    "id": "OxbiC833DYNU",
    "outputId": "4c746be2-275b-4cf4-e0a4-3d683c2f19d4"
   },
   "outputs": [
    {
     "data": {
      "text/plain": [
       "(700, 2)"
      ]
     },
     "execution_count": 131,
     "metadata": {
      "tags": []
     },
     "output_type": "execute_result"
    }
   ],
   "source": [
    "# We will then determine the size of our dataset using the keyword shape\n",
    "# ---\n",
    "# \n",
    "df.shape"
   ]
  },
  {
   "cell_type": "code",
   "execution_count": null,
   "metadata": {
    "colab": {
     "base_uri": "https://localhost:8080/",
     "height": 206
    },
    "id": "1kTseyUaD_7X",
    "outputId": "fe145c37-cdbf-4d2d-940b-40bd64b782c5"
   },
   "outputs": [
    {
     "data": {
      "text/html": [
       "<div>\n",
       "<style scoped>\n",
       "    .dataframe tbody tr th:only-of-type {\n",
       "        vertical-align: middle;\n",
       "    }\n",
       "\n",
       "    .dataframe tbody tr th {\n",
       "        vertical-align: top;\n",
       "    }\n",
       "\n",
       "    .dataframe thead th {\n",
       "        text-align: right;\n",
       "    }\n",
       "</style>\n",
       "<table border=\"1\" class=\"dataframe\">\n",
       "  <thead>\n",
       "    <tr style=\"text-align: right;\">\n",
       "      <th></th>\n",
       "      <th>x</th>\n",
       "      <th>y</th>\n",
       "    </tr>\n",
       "  </thead>\n",
       "  <tbody>\n",
       "    <tr>\n",
       "      <th>0</th>\n",
       "      <td>24.0</td>\n",
       "      <td>21.549452</td>\n",
       "    </tr>\n",
       "    <tr>\n",
       "      <th>1</th>\n",
       "      <td>50.0</td>\n",
       "      <td>47.464463</td>\n",
       "    </tr>\n",
       "    <tr>\n",
       "      <th>2</th>\n",
       "      <td>15.0</td>\n",
       "      <td>17.218656</td>\n",
       "    </tr>\n",
       "    <tr>\n",
       "      <th>3</th>\n",
       "      <td>38.0</td>\n",
       "      <td>36.586398</td>\n",
       "    </tr>\n",
       "    <tr>\n",
       "      <th>4</th>\n",
       "      <td>87.0</td>\n",
       "      <td>87.288984</td>\n",
       "    </tr>\n",
       "  </tbody>\n",
       "</table>\n",
       "</div>"
      ],
      "text/plain": [
       "      x          y\n",
       "0  24.0  21.549452\n",
       "1  50.0  47.464463\n",
       "2  15.0  17.218656\n",
       "3  38.0  36.586398\n",
       "4  87.0  87.288984"
      ]
     },
     "execution_count": 132,
     "metadata": {
      "tags": []
     },
     "output_type": "execute_result"
    }
   ],
   "source": [
    "# Then preview our dataset using the head function()\n",
    "# ---\n",
    "#\n",
    "df.head()"
   ]
  },
  {
   "cell_type": "code",
   "execution_count": null,
   "metadata": {
    "colab": {
     "base_uri": "https://localhost:8080/",
     "height": 300
    },
    "id": "x1HMWVJLEeB7",
    "outputId": "06850099-921a-4e26-a780-3a53c6c44157"
   },
   "outputs": [
    {
     "data": {
      "text/html": [
       "<div>\n",
       "<style scoped>\n",
       "    .dataframe tbody tr th:only-of-type {\n",
       "        vertical-align: middle;\n",
       "    }\n",
       "\n",
       "    .dataframe tbody tr th {\n",
       "        vertical-align: top;\n",
       "    }\n",
       "\n",
       "    .dataframe thead th {\n",
       "        text-align: right;\n",
       "    }\n",
       "</style>\n",
       "<table border=\"1\" class=\"dataframe\">\n",
       "  <thead>\n",
       "    <tr style=\"text-align: right;\">\n",
       "      <th></th>\n",
       "      <th>x</th>\n",
       "      <th>y</th>\n",
       "    </tr>\n",
       "  </thead>\n",
       "  <tbody>\n",
       "    <tr>\n",
       "      <th>count</th>\n",
       "      <td>700.000000</td>\n",
       "      <td>699.000000</td>\n",
       "    </tr>\n",
       "    <tr>\n",
       "      <th>mean</th>\n",
       "      <td>54.985939</td>\n",
       "      <td>49.939869</td>\n",
       "    </tr>\n",
       "    <tr>\n",
       "      <th>std</th>\n",
       "      <td>134.681703</td>\n",
       "      <td>29.109217</td>\n",
       "    </tr>\n",
       "    <tr>\n",
       "      <th>min</th>\n",
       "      <td>0.000000</td>\n",
       "      <td>-3.839981</td>\n",
       "    </tr>\n",
       "    <tr>\n",
       "      <th>25%</th>\n",
       "      <td>25.000000</td>\n",
       "      <td>24.929968</td>\n",
       "    </tr>\n",
       "    <tr>\n",
       "      <th>50%</th>\n",
       "      <td>49.000000</td>\n",
       "      <td>48.973020</td>\n",
       "    </tr>\n",
       "    <tr>\n",
       "      <th>75%</th>\n",
       "      <td>75.000000</td>\n",
       "      <td>74.929911</td>\n",
       "    </tr>\n",
       "    <tr>\n",
       "      <th>max</th>\n",
       "      <td>3530.157369</td>\n",
       "      <td>108.871618</td>\n",
       "    </tr>\n",
       "  </tbody>\n",
       "</table>\n",
       "</div>"
      ],
      "text/plain": [
       "                 x           y\n",
       "count   700.000000  699.000000\n",
       "mean     54.985939   49.939869\n",
       "std     134.681703   29.109217\n",
       "min       0.000000   -3.839981\n",
       "25%      25.000000   24.929968\n",
       "50%      49.000000   48.973020\n",
       "75%      75.000000   74.929911\n",
       "max    3530.157369  108.871618"
      ]
     },
     "execution_count": 41,
     "metadata": {
      "tags": []
     },
     "output_type": "execute_result"
    }
   ],
   "source": [
    "# We can also display the statistical summary of our dataset. \n",
    "# ---\n",
    "# \n",
    "df.describe()"
   ]
  },
  {
   "cell_type": "markdown",
   "metadata": {
    "id": "xusxA9SxAZ2E"
   },
   "source": [
    "##### Step 3. Cleaning Our Data"
   ]
  },
  {
   "cell_type": "code",
   "execution_count": null,
   "metadata": {
    "colab": {
     "base_uri": "https://localhost:8080/",
     "height": 73
    },
    "id": "SG4iODLNq5lv",
    "outputId": "0c1b081e-83a5-40b7-f2c9-6f5d0f0a1f28"
   },
   "outputs": [
    {
     "data": {
      "text/plain": [
       "x    0\n",
       "y    1\n",
       "dtype: int64"
      ]
     },
     "execution_count": 133,
     "metadata": {
      "tags": []
     },
     "output_type": "execute_result"
    }
   ],
   "source": [
    "# Lets confirm for missing values in our dataset. \n",
    "# We can already see from our summary that the count \n",
    "# of the y variable is not equal to x\n",
    "# ---\n",
    "#\n",
    "df.isnull().sum()\n",
    "\n",
    "# Observation \n",
    "# ---\n",
    "# One record has a missing"
   ]
  },
  {
   "cell_type": "code",
   "execution_count": null,
   "metadata": {
    "id": "XztWiGW7xaMk"
   },
   "outputs": [],
   "source": [
    "# We can then resolve to dropping all records with N/A from our dataset\n",
    "# This would be for the reason that there won't be any significant effect in analysis.\n",
    "# ---\n",
    "#\n",
    "df = df.dropna() "
   ]
  },
  {
   "cell_type": "code",
   "execution_count": null,
   "metadata": {
    "colab": {
     "base_uri": "https://localhost:8080/",
     "height": 73
    },
    "id": "NRB6-fVOxftx",
    "outputId": "8978f88f-a738-484f-cc80-587eaae55f86"
   },
   "outputs": [
    {
     "data": {
      "text/plain": [
       "x    0\n",
       "y    0\n",
       "dtype: int64"
      ]
     },
     "execution_count": 135,
     "metadata": {
      "tags": []
     },
     "output_type": "execute_result"
    }
   ],
   "source": [
    "# Lets check again for missing values in our dataset\n",
    "# ---\n",
    "#\n",
    "df.isnull().sum()"
   ]
  },
  {
   "cell_type": "markdown",
   "metadata": {
    "id": "vrcZrvkxAT5V"
   },
   "source": [
    "##### Step 4. Performing Exploratory Analysis"
   ]
  },
  {
   "cell_type": "code",
   "execution_count": null,
   "metadata": {
    "colab": {
     "base_uri": "https://localhost:8080/",
     "height": 295
    },
    "id": "8mK6q8rPFVtD",
    "outputId": "2f3b5041-9321-4bef-d46d-605d92c6f67e"
   },
   "outputs": [
    {
     "data": {
      "image/png": "[encoded data removed]",
      "text/plain": [
       "<Figure size 432x288 with 1 Axes>"
      ]
     },
     "metadata": {
      "needs_background": "light",
      "tags": []
     },
     "output_type": "display_data"
    }
   ],
   "source": [
    "# We then perform exploratory analysis (bivariate analysis) to understand more our dataset\n",
    "# ---\n",
    "# In our case here, we will only find if there is any relationships between the two variables.\n",
    "# ---\n",
    "# \n",
    "df.plot(x='x', y='y', style='o')\n",
    "plt.title('x vs y')\n",
    "plt.xlabel('x')\n",
    "plt.ylabel('y')\n",
    "plt.show()\n",
    "\n",
    "# Observation\n",
    "# ---\n",
    "# Positive linear relation"
   ]
  },
  {
   "cell_type": "markdown",
   "metadata": {
    "id": "El-bGzLnAs79"
   },
   "source": [
    "##### Step 5. Implementation and Evaluation"
   ]
  },
  {
   "cell_type": "code",
   "execution_count": null,
   "metadata": {
    "colab": {
     "base_uri": "https://localhost:8080/",
     "height": 36
    },
    "id": "Vdl8aB28GTPN",
    "outputId": "d0ee1e53-7149-44c9-d7a1-f477daf857d0"
   },
   "outputs": [
    {
     "data": {
      "text/plain": [
       "(699,)"
      ]
     },
     "execution_count": 138,
     "metadata": {
      "tags": []
     },
     "output_type": "execute_result"
    }
   ],
   "source": [
    "# Data Preparation\n",
    "# ---\n",
    "# We now divide our data into \"attributes\" and \"labels\".\n",
    "# a) Attributes are the independent variables. \n",
    "# They will be stored in the X variable, specifying \"-1\" as the range for columns \n",
    "# since we want our attribute set to contain all the columns \n",
    "# except the last one which is \"scores\".\n",
    "# \n",
    "# b) Labels are the dependent variables. \n",
    "# They will be contained in the y variable, specifying 1 for the label colum \n",
    "# since the index for \"scores\" column is 1.\n",
    "# \n",
    "# * NB: Column indexes start with 0, 1 being the second, 2 being third etc.\n",
    "# - Because We are predicting the percentage score depending on hours studied, \n",
    "# our attribute set will consist of \"hours\", while the lable will be \"score\"\n",
    "# \n",
    "# * As we will get to see in another example, we can also specify the column names to \n",
    "# select our attributes and label \n",
    "# ---\n",
    "# \n",
    "X = df.iloc[:, :-1].values\n",
    "y = df.iloc[:, 1].values\n",
    "\n"
   ]
  },
  {
   "cell_type": "code",
   "execution_count": null,
   "metadata": {
    "id": "3XJeYehR__an"
   },
   "outputs": [],
   "source": [
    "# Splitting the Dataset \n",
    "# ---\n",
    "# We split our dataset into training and test sets. 80% = training set, while 20% = test set\n",
    "# This means we will specify our parameter test_size below to have the value 0.2.\n",
    "# ---\n",
    "#\n",
    "\n",
    "# Before we perform the split, we will import the train_test_split function\n",
    "# which will help us perform this operation.\n",
    "# ---\n",
    "#\n",
    "from sklearn.model_selection import train_test_split\n",
    "\n",
    "# We then perform our split as shown.\n",
    "# ---\n",
    "# The test size of 0.2 indicates we’ve used 20% of the data for testing. \n",
    "# random_state ensures reproducibility, meaning that we will \n",
    "# get the same accuracy result everytime we run the code. \n",
    "# You can use any values for random_state but most common valus are 0 and 42.\n",
    "# ---\n",
    "# For the output of train_test_split, we get X_train, X_test, y_train, and y_test values.\n",
    "# ---\n",
    "#\n",
    "X_train, X_test, y_train, y_test = train_test_split(X, y, test_size=0.2, random_state=0)"
   ]
  },
  {
   "cell_type": "markdown",
   "metadata": {
    "id": "aZlvITRYP8sE"
   },
   "source": [
    "The outcome of running the above code is two datasets i.e. training dataset and test dataset. We will use the training dataset to train our machine learning algorithm and the test dataset evaluate the accuracy of our model."
   ]
  },
  {
   "cell_type": "code",
   "execution_count": null,
   "metadata": {
    "colab": {
     "base_uri": "https://localhost:8080/",
     "height": 36
    },
    "id": "njvNngGiLlbq",
    "outputId": "988a9769-aeb5-4c85-f61d-4a0bc3de16ec"
   },
   "outputs": [
    {
     "data": {
      "text/plain": [
       "LinearRegression(copy_X=True, fit_intercept=True, n_jobs=None, normalize=False)"
      ]
     },
     "execution_count": 48,
     "metadata": {
      "tags": []
     },
     "output_type": "execute_result"
    }
   ],
   "source": [
    "# Training the Algorithm\n",
    "# ---\n",
    "# In this step, we will be training our algorithm. \n",
    "# When we train an “algorithm” with data it will become a “model”.\n",
    "# In simple terms, Model = Training (an Algorithm + Data).\n",
    "# An algorithm is a set of rules to follow to solve a problem.\n",
    "# ---\n",
    "#\n",
    "\n",
    "# First, we import our Linear regression algorithm.\n",
    "# ---\n",
    "#\n",
    "from sklearn.linear_model import LinearRegression\n",
    "\n",
    "# Then create an instance of the algorithm\n",
    "# ---\n",
    "#\n",
    "regressor = LinearRegression()\n",
    "\n",
    "# Then train the algorithm\n",
    "# ---\n",
    "#\n",
    "regressor.fit(X_train, y_train)"
   ]
  },
  {
   "cell_type": "code",
   "execution_count": null,
   "metadata": {
    "id": "Fuprhv1kMACZ"
   },
   "outputs": [],
   "source": [
    "# Making Predictions\n",
    "# ---\n",
    "# After training our algorithm, we can now make some preditions\n",
    "# ---   \n",
    "# \n",
    "\n",
    "# We create the y_pred variable, which will contain the values \n",
    "# that will be created by our model for the input values in the X_test \n",
    "# ---\n",
    "#\n",
    "y_pred = regressor.predict(X_test)"
   ]
  },
  {
   "cell_type": "code",
   "execution_count": null,
   "metadata": {
    "colab": {
     "base_uri": "https://localhost:8080/",
     "height": 424
    },
    "id": "_LOte2FfMeQ2",
    "outputId": "a475ff32-4d13-482d-947a-ea2d44cac569"
   },
   "outputs": [
    {
     "data": {
      "text/html": [
       "<div>\n",
       "<style scoped>\n",
       "    .dataframe tbody tr th:only-of-type {\n",
       "        vertical-align: middle;\n",
       "    }\n",
       "\n",
       "    .dataframe tbody tr th {\n",
       "        vertical-align: top;\n",
       "    }\n",
       "\n",
       "    .dataframe thead th {\n",
       "        text-align: right;\n",
       "    }\n",
       "</style>\n",
       "<table border=\"1\" class=\"dataframe\">\n",
       "  <thead>\n",
       "    <tr style=\"text-align: right;\">\n",
       "      <th></th>\n",
       "      <th>Actual</th>\n",
       "      <th>Predicted by Model</th>\n",
       "    </tr>\n",
       "  </thead>\n",
       "  <tbody>\n",
       "    <tr>\n",
       "      <th>0</th>\n",
       "      <td>29.667360</td>\n",
       "      <td>28.979528</td>\n",
       "    </tr>\n",
       "    <tr>\n",
       "      <th>1</th>\n",
       "      <td>56.687188</td>\n",
       "      <td>57.930708</td>\n",
       "    </tr>\n",
       "    <tr>\n",
       "      <th>2</th>\n",
       "      <td>85.027790</td>\n",
       "      <td>83.886939</td>\n",
       "    </tr>\n",
       "    <tr>\n",
       "      <th>3</th>\n",
       "      <td>73.138500</td>\n",
       "      <td>75.900406</td>\n",
       "    </tr>\n",
       "    <tr>\n",
       "      <th>4</th>\n",
       "      <td>48.437538</td>\n",
       "      <td>53.937442</td>\n",
       "    </tr>\n",
       "    <tr>\n",
       "      <th>...</th>\n",
       "      <td>...</td>\n",
       "      <td>...</td>\n",
       "    </tr>\n",
       "    <tr>\n",
       "      <th>135</th>\n",
       "      <td>14.002263</td>\n",
       "      <td>16.001413</td>\n",
       "    </tr>\n",
       "    <tr>\n",
       "      <th>136</th>\n",
       "      <td>94.151492</td>\n",
       "      <td>96.865054</td>\n",
       "    </tr>\n",
       "    <tr>\n",
       "      <th>137</th>\n",
       "      <td>40.831821</td>\n",
       "      <td>42.955960</td>\n",
       "    </tr>\n",
       "    <tr>\n",
       "      <th>138</th>\n",
       "      <td>19.471008</td>\n",
       "      <td>18.996362</td>\n",
       "    </tr>\n",
       "    <tr>\n",
       "      <th>139</th>\n",
       "      <td>17.609462</td>\n",
       "      <td>18.996362</td>\n",
       "    </tr>\n",
       "  </tbody>\n",
       "</table>\n",
       "<p>140 rows × 2 columns</p>\n",
       "</div>"
      ],
      "text/plain": [
       "        Actual  Predicted by Model\n",
       "0    29.667360           28.979528\n",
       "1    56.687188           57.930708\n",
       "2    85.027790           83.886939\n",
       "3    73.138500           75.900406\n",
       "4    48.437538           53.937442\n",
       "..         ...                 ...\n",
       "135  14.002263           16.001413\n",
       "136  94.151492           96.865054\n",
       "137  40.831821           42.955960\n",
       "138  19.471008           18.996362\n",
       "139  17.609462           18.996362\n",
       "\n",
       "[140 rows x 2 columns]"
      ]
     },
     "execution_count": 50,
     "metadata": {
      "tags": []
     },
     "output_type": "execute_result"
    }
   ],
   "source": [
    "# Next, we compare actual output values (original values) for X_test \n",
    "# with the predicted values by the model.\n",
    "# ---\n",
    "#\n",
    "df = pd.DataFrame({'Actual': y_test, 'Predicted by Model': y_pred})\n",
    "df\n",
    "\n",
    "# We will note from the output that though our model is not very precise, \n",
    "# the predicted values can sometimes be close to the actual ones."
   ]
  },
  {
   "cell_type": "code",
   "execution_count": null,
   "metadata": {
    "colab": {
     "base_uri": "https://localhost:8080/",
     "height": 36
    },
    "id": "CnSCgAe5MsLD",
    "outputId": "0f67d129-1567-46f2-ddda-59f34a0cb7b5"
   },
   "outputs": [
    {
     "name": "stdout",
     "output_type": "stream",
     "text": [
      "Root Mean Squared Error: 2.7479975801256606\n"
     ]
    }
   ],
   "source": [
    "# Finally, we evaluate our model performance through some metric.\n",
    "# ---  \n",
    "# We will use the Root Mean Squared Error (RMSE) which is \n",
    "# the square root of the mean of the squared errors.\n",
    "# ---  \n",
    "#\n",
    "from sklearn import metrics \n",
    "print('Root Mean Squared Error:', np.sqrt(metrics.mean_squared_error(y_test, y_pred)))"
   ]
  },
  {
   "cell_type": "markdown",
   "metadata": {
    "id": "FB8-5URrOLrq"
   },
   "source": [
    "We make the observation that our root mean square is 2.74. This value is close to 0 and most importantly, it is less than 10% the mean of y which was 49 as shown in the decriptive analysis report using the `describe()` method. This means our model was fairly accurate. "
   ]
  },
  {
   "cell_type": "code",
   "execution_count": null,
   "metadata": {
    "colab": {
     "base_uri": "https://localhost:8080/",
     "height": 36
    },
    "id": "hnmN3ZntPJzE",
    "outputId": "ad5f36e4-2075-4806-99ab-c92654915408"
   },
   "outputs": [
    {
     "name": "stdout",
     "output_type": "stream",
     "text": [
      "R Squared: 0.9916592070219102\n"
     ]
    }
   ],
   "source": [
    "# Additionally, We will also use the coefficient of determination metric (R^2 Score)\n",
    "# to also determine the accuracy of our model.\n",
    "# ---\n",
    "# The most common interpretation of the coefficient of determination \n",
    "# is how well the regression model fits the observed data. \n",
    "# For example, a coefficient of determination of 60% shows that 60% of the data \n",
    "# fit the regression model. Generally, a higher coefficient indicates a better fit for the model.\n",
    "# ---\n",
    "# Best possible score is 1.0 and it can be negative (because the model can be arbitrarily worse). \n",
    "# A constant model that always predicts the expected value of y, \n",
    "# disregarding the input features, would get a R^2 score of 0.0.\n",
    "# ---\n",
    "#  \n",
    "print('R Squared:', metrics.r2_score(y_test, y_pred))"
   ]
  },
  {
   "cell_type": "markdown",
   "metadata": {
    "id": "Razaa-gxPb_H"
   },
   "source": [
    "\n",
    "In our case we get a value of 0.992, indicating the fit is for the model is high therefore the accuaracy of the model is fairly good"
   ]
  },
  {
   "cell_type": "markdown",
   "metadata": {
    "id": "lxjiQGpw1V9y"
   },
   "source": [
    "#### <font color=\"blue\">Example 2: Multiple Linear Regression, KNN, Decision Trees and SVM</font>"
   ]
  },
  {
   "cell_type": "markdown",
   "metadata": {
    "id": "Z10FEHDC1M_C"
   },
   "source": [
    "##### <font color=\"blue\">Example</font>"
   ]
  },
  {
   "cell_type": "code",
   "execution_count": null,
   "metadata": {
    "id": "wGnslYbo1M_C"
   },
   "outputs": [],
   "source": [
    "# Example 2\n",
    "# --- \n",
    "# Question: Create a multiple linear regression model to predict \n",
    "# the weight of fish given the following dataset.\n",
    "# ---\n",
    "# Dataset url = http://bit.ly/MRFishDataset\n",
    "# ---\n"
   ]
  },
  {
   "cell_type": "markdown",
   "metadata": {
    "id": "bbxVxD3VjXfE"
   },
   "source": [
    "##### Step 1. Loading our Data "
   ]
  },
  {
   "cell_type": "code",
   "execution_count": null,
   "metadata": {
    "id": "TgHp_xtPPOep"
   },
   "outputs": [],
   "source": [
    "# Loading our dataset\n",
    "#\n",
    "fish_df = pd.read_csv('http://bit.ly/MRFishDataset')"
   ]
  },
  {
   "cell_type": "markdown",
   "metadata": {
    "id": "6DveUDrgjbXh"
   },
   "source": [
    "##### Step 2. Checking the Data "
   ]
  },
  {
   "cell_type": "code",
   "execution_count": null,
   "metadata": {
    "colab": {
     "base_uri": "https://localhost:8080/",
     "height": 206
    },
    "id": "5btP_BPrPPpf",
    "outputId": "7ef5fad5-7edb-4793-a350-6ef31a4a4cb9"
   },
   "outputs": [
    {
     "data": {
      "text/html": [
       "<div>\n",
       "<style scoped>\n",
       "    .dataframe tbody tr th:only-of-type {\n",
       "        vertical-align: middle;\n",
       "    }\n",
       "\n",
       "    .dataframe tbody tr th {\n",
       "        vertical-align: top;\n",
       "    }\n",
       "\n",
       "    .dataframe thead th {\n",
       "        text-align: right;\n",
       "    }\n",
       "</style>\n",
       "<table border=\"1\" class=\"dataframe\">\n",
       "  <thead>\n",
       "    <tr style=\"text-align: right;\">\n",
       "      <th></th>\n",
       "      <th>Species</th>\n",
       "      <th>Weight</th>\n",
       "      <th>Length1</th>\n",
       "      <th>Length2</th>\n",
       "      <th>Length3</th>\n",
       "      <th>Height</th>\n",
       "      <th>Width</th>\n",
       "    </tr>\n",
       "  </thead>\n",
       "  <tbody>\n",
       "    <tr>\n",
       "      <th>0</th>\n",
       "      <td>Bream</td>\n",
       "      <td>242.0</td>\n",
       "      <td>23.2</td>\n",
       "      <td>25.4</td>\n",
       "      <td>30.0</td>\n",
       "      <td>11.5200</td>\n",
       "      <td>4.0200</td>\n",
       "    </tr>\n",
       "    <tr>\n",
       "      <th>1</th>\n",
       "      <td>Bream</td>\n",
       "      <td>290.0</td>\n",
       "      <td>24.0</td>\n",
       "      <td>26.3</td>\n",
       "      <td>31.2</td>\n",
       "      <td>12.4800</td>\n",
       "      <td>4.3056</td>\n",
       "    </tr>\n",
       "    <tr>\n",
       "      <th>2</th>\n",
       "      <td>Bream</td>\n",
       "      <td>340.0</td>\n",
       "      <td>23.9</td>\n",
       "      <td>26.5</td>\n",
       "      <td>31.1</td>\n",
       "      <td>12.3778</td>\n",
       "      <td>4.6961</td>\n",
       "    </tr>\n",
       "    <tr>\n",
       "      <th>3</th>\n",
       "      <td>Bream</td>\n",
       "      <td>363.0</td>\n",
       "      <td>26.3</td>\n",
       "      <td>29.0</td>\n",
       "      <td>33.5</td>\n",
       "      <td>12.7300</td>\n",
       "      <td>4.4555</td>\n",
       "    </tr>\n",
       "    <tr>\n",
       "      <th>4</th>\n",
       "      <td>Bream</td>\n",
       "      <td>430.0</td>\n",
       "      <td>26.5</td>\n",
       "      <td>29.0</td>\n",
       "      <td>34.0</td>\n",
       "      <td>12.4440</td>\n",
       "      <td>5.1340</td>\n",
       "    </tr>\n",
       "  </tbody>\n",
       "</table>\n",
       "</div>"
      ],
      "text/plain": [
       "  Species  Weight  Length1  Length2  Length3   Height   Width\n",
       "0   Bream   242.0     23.2     25.4     30.0  11.5200  4.0200\n",
       "1   Bream   290.0     24.0     26.3     31.2  12.4800  4.3056\n",
       "2   Bream   340.0     23.9     26.5     31.1  12.3778  4.6961\n",
       "3   Bream   363.0     26.3     29.0     33.5  12.7300  4.4555\n",
       "4   Bream   430.0     26.5     29.0     34.0  12.4440  5.1340"
      ]
     },
     "execution_count": 55,
     "metadata": {
      "tags": []
     },
     "output_type": "execute_result"
    }
   ],
   "source": [
    "# Previewing the dataset\n",
    "# \n",
    "fish_df.head()"
   ]
  },
  {
   "cell_type": "code",
   "execution_count": null,
   "metadata": {
    "colab": {
     "base_uri": "https://localhost:8080/",
     "height": 300
    },
    "id": "7jhvguJrPRcT",
    "outputId": "8e88662f-bbb3-4536-bd65-36b4d0c82b62"
   },
   "outputs": [
    {
     "data": {
      "text/html": [
       "<div>\n",
       "<style scoped>\n",
       "    .dataframe tbody tr th:only-of-type {\n",
       "        vertical-align: middle;\n",
       "    }\n",
       "\n",
       "    .dataframe tbody tr th {\n",
       "        vertical-align: top;\n",
       "    }\n",
       "\n",
       "    .dataframe thead th {\n",
       "        text-align: right;\n",
       "    }\n",
       "</style>\n",
       "<table border=\"1\" class=\"dataframe\">\n",
       "  <thead>\n",
       "    <tr style=\"text-align: right;\">\n",
       "      <th></th>\n",
       "      <th>Weight</th>\n",
       "      <th>Length1</th>\n",
       "      <th>Length2</th>\n",
       "      <th>Length3</th>\n",
       "      <th>Height</th>\n",
       "      <th>Width</th>\n",
       "    </tr>\n",
       "  </thead>\n",
       "  <tbody>\n",
       "    <tr>\n",
       "      <th>count</th>\n",
       "      <td>159.000000</td>\n",
       "      <td>159.000000</td>\n",
       "      <td>159.000000</td>\n",
       "      <td>159.000000</td>\n",
       "      <td>159.000000</td>\n",
       "      <td>159.000000</td>\n",
       "    </tr>\n",
       "    <tr>\n",
       "      <th>mean</th>\n",
       "      <td>398.326415</td>\n",
       "      <td>26.247170</td>\n",
       "      <td>28.415723</td>\n",
       "      <td>31.227044</td>\n",
       "      <td>8.970994</td>\n",
       "      <td>4.417486</td>\n",
       "    </tr>\n",
       "    <tr>\n",
       "      <th>std</th>\n",
       "      <td>357.978317</td>\n",
       "      <td>9.996441</td>\n",
       "      <td>10.716328</td>\n",
       "      <td>11.610246</td>\n",
       "      <td>4.286208</td>\n",
       "      <td>1.685804</td>\n",
       "    </tr>\n",
       "    <tr>\n",
       "      <th>min</th>\n",
       "      <td>0.000000</td>\n",
       "      <td>7.500000</td>\n",
       "      <td>8.400000</td>\n",
       "      <td>8.800000</td>\n",
       "      <td>1.728400</td>\n",
       "      <td>1.047600</td>\n",
       "    </tr>\n",
       "    <tr>\n",
       "      <th>25%</th>\n",
       "      <td>120.000000</td>\n",
       "      <td>19.050000</td>\n",
       "      <td>21.000000</td>\n",
       "      <td>23.150000</td>\n",
       "      <td>5.944800</td>\n",
       "      <td>3.385650</td>\n",
       "    </tr>\n",
       "    <tr>\n",
       "      <th>50%</th>\n",
       "      <td>273.000000</td>\n",
       "      <td>25.200000</td>\n",
       "      <td>27.300000</td>\n",
       "      <td>29.400000</td>\n",
       "      <td>7.786000</td>\n",
       "      <td>4.248500</td>\n",
       "    </tr>\n",
       "    <tr>\n",
       "      <th>75%</th>\n",
       "      <td>650.000000</td>\n",
       "      <td>32.700000</td>\n",
       "      <td>35.500000</td>\n",
       "      <td>39.650000</td>\n",
       "      <td>12.365900</td>\n",
       "      <td>5.584500</td>\n",
       "    </tr>\n",
       "    <tr>\n",
       "      <th>max</th>\n",
       "      <td>1650.000000</td>\n",
       "      <td>59.000000</td>\n",
       "      <td>63.400000</td>\n",
       "      <td>68.000000</td>\n",
       "      <td>18.957000</td>\n",
       "      <td>8.142000</td>\n",
       "    </tr>\n",
       "  </tbody>\n",
       "</table>\n",
       "</div>"
      ],
      "text/plain": [
       "            Weight     Length1     Length2     Length3      Height       Width\n",
       "count   159.000000  159.000000  159.000000  159.000000  159.000000  159.000000\n",
       "mean    398.326415   26.247170   28.415723   31.227044    8.970994    4.417486\n",
       "std     357.978317    9.996441   10.716328   11.610246    4.286208    1.685804\n",
       "min       0.000000    7.500000    8.400000    8.800000    1.728400    1.047600\n",
       "25%     120.000000   19.050000   21.000000   23.150000    5.944800    3.385650\n",
       "50%     273.000000   25.200000   27.300000   29.400000    7.786000    4.248500\n",
       "75%     650.000000   32.700000   35.500000   39.650000   12.365900    5.584500\n",
       "max    1650.000000   59.000000   63.400000   68.000000   18.957000    8.142000"
      ]
     },
     "execution_count": 56,
     "metadata": {
      "tags": []
     },
     "output_type": "execute_result"
    }
   ],
   "source": [
    "# Previewing the statistical summary of our dataset\n",
    "# \n",
    "fish_df.describe()"
   ]
  },
  {
   "cell_type": "markdown",
   "metadata": {
    "id": "kHESK7PQjjrf"
   },
   "source": [
    "##### Step 3. Cleaning Our Data"
   ]
  },
  {
   "cell_type": "markdown",
   "metadata": {
    "id": "HC99WBGE3S38"
   },
   "source": [
    "So far from what we've observed from in dataset, we don't need to perform any cleaning."
   ]
  },
  {
   "cell_type": "markdown",
   "metadata": {
    "id": "5HXNf1GRO2GE"
   },
   "source": [
    "##### Step 4. Performing Exploratory Analysis"
   ]
  },
  {
   "cell_type": "code",
   "execution_count": null,
   "metadata": {
    "colab": {
     "base_uri": "https://localhost:8080/",
     "height": 237
    },
    "id": "uZl_EtiqORRh",
    "outputId": "4f83a7d6-566e-44a6-e551-b4a98ee9eae4"
   },
   "outputs": [
    {
     "data": {
      "text/html": [
       "<div>\n",
       "<style scoped>\n",
       "    .dataframe tbody tr th:only-of-type {\n",
       "        vertical-align: middle;\n",
       "    }\n",
       "\n",
       "    .dataframe tbody tr th {\n",
       "        vertical-align: top;\n",
       "    }\n",
       "\n",
       "    .dataframe thead th {\n",
       "        text-align: right;\n",
       "    }\n",
       "</style>\n",
       "<table border=\"1\" class=\"dataframe\">\n",
       "  <thead>\n",
       "    <tr style=\"text-align: right;\">\n",
       "      <th></th>\n",
       "      <th>Weight</th>\n",
       "      <th>Length1</th>\n",
       "      <th>Length2</th>\n",
       "      <th>Length3</th>\n",
       "      <th>Height</th>\n",
       "      <th>Width</th>\n",
       "    </tr>\n",
       "  </thead>\n",
       "  <tbody>\n",
       "    <tr>\n",
       "      <th>Weight</th>\n",
       "      <td>1.000000</td>\n",
       "      <td>0.915712</td>\n",
       "      <td>0.918618</td>\n",
       "      <td>0.923044</td>\n",
       "      <td>0.724345</td>\n",
       "      <td>0.886507</td>\n",
       "    </tr>\n",
       "    <tr>\n",
       "      <th>Length1</th>\n",
       "      <td>0.915712</td>\n",
       "      <td>1.000000</td>\n",
       "      <td>0.999517</td>\n",
       "      <td>0.992031</td>\n",
       "      <td>0.625378</td>\n",
       "      <td>0.867050</td>\n",
       "    </tr>\n",
       "    <tr>\n",
       "      <th>Length2</th>\n",
       "      <td>0.918618</td>\n",
       "      <td>0.999517</td>\n",
       "      <td>1.000000</td>\n",
       "      <td>0.994103</td>\n",
       "      <td>0.640441</td>\n",
       "      <td>0.873547</td>\n",
       "    </tr>\n",
       "    <tr>\n",
       "      <th>Length3</th>\n",
       "      <td>0.923044</td>\n",
       "      <td>0.992031</td>\n",
       "      <td>0.994103</td>\n",
       "      <td>1.000000</td>\n",
       "      <td>0.703409</td>\n",
       "      <td>0.878520</td>\n",
       "    </tr>\n",
       "    <tr>\n",
       "      <th>Height</th>\n",
       "      <td>0.724345</td>\n",
       "      <td>0.625378</td>\n",
       "      <td>0.640441</td>\n",
       "      <td>0.703409</td>\n",
       "      <td>1.000000</td>\n",
       "      <td>0.792881</td>\n",
       "    </tr>\n",
       "    <tr>\n",
       "      <th>Width</th>\n",
       "      <td>0.886507</td>\n",
       "      <td>0.867050</td>\n",
       "      <td>0.873547</td>\n",
       "      <td>0.878520</td>\n",
       "      <td>0.792881</td>\n",
       "      <td>1.000000</td>\n",
       "    </tr>\n",
       "  </tbody>\n",
       "</table>\n",
       "</div>"
      ],
      "text/plain": [
       "           Weight   Length1   Length2   Length3    Height     Width\n",
       "Weight   1.000000  0.915712  0.918618  0.923044  0.724345  0.886507\n",
       "Length1  0.915712  1.000000  0.999517  0.992031  0.625378  0.867050\n",
       "Length2  0.918618  0.999517  1.000000  0.994103  0.640441  0.873547\n",
       "Length3  0.923044  0.992031  0.994103  1.000000  0.703409  0.878520\n",
       "Height   0.724345  0.625378  0.640441  0.703409  1.000000  0.792881\n",
       "Width    0.886507  0.867050  0.873547  0.878520  0.792881  1.000000"
      ]
     },
     "execution_count": 57,
     "metadata": {
      "tags": []
     },
     "output_type": "execute_result"
    }
   ],
   "source": [
    "# Performing Exploratory Analysis\n",
    "# ---\n",
    "# This time we will plot a correlation matrix, to determine the relationships between the different variables.\n",
    "# This matrix will give us a sense of how well the variables are correlated. By this we mean, whether an\n",
    "# increase or decrease in variable affects the other variable. \n",
    "# To break this down further, the matrix will provide us with values between -1 and 1. If the value between\n",
    "# two variables is closer to 1 i.e. > 0.5, then it means the variables are strongly correlated, have a positive linear \n",
    "# relationship and it also means that as one value increases the other increases.\n",
    "# On the other hand, of the value is less than -0.5, it would mean that the variables are strongly correlated but \n",
    "# have a negative linear relationship. \n",
    "# If the value is 0 or < -0.5 or < 0.5 it means that the variables don't have any relationship with each other.\n",
    "# ---\n",
    "# This type of visualisation can help us examine an assumption of linear regression; \n",
    "# relationship of predicor variables with the response variable. \n",
    "# ---\n",
    "#\n",
    "corrMatrix = fish_df.corr()\n",
    "corrMatrix"
   ]
  },
  {
   "cell_type": "code",
   "execution_count": null,
   "metadata": {
    "colab": {
     "base_uri": "https://localhost:8080/",
     "height": 615
    },
    "id": "LJNJsWRvO7I4",
    "outputId": "95abf039-2fc8-4b3a-de95-ab8248a06a0b"
   },
   "outputs": [
    {
     "data": {
      "text/plain": [
       "<matplotlib.axes._subplots.AxesSubplot at 0x7fa150eedba8>"
      ]
     },
     "execution_count": 58,
     "metadata": {
      "tags": []
     },
     "output_type": "execute_result"
    },
    {
     "data": {
      "image/png": "[encoded data removed]",
      "text/plain": [
       "<Figure size 720x720 with 2 Axes>"
      ]
     },
     "metadata": {
      "needs_background": "light",
      "tags": []
     },
     "output_type": "display_data"
    }
   ],
   "source": [
    "# We can plot a visualisation of the matrix for better clarity\n",
    "# --- \n",
    "# \n",
    "import seaborn as sns\n",
    "\n",
    "# We define how big we want our visualisation\n",
    "# \n",
    "plt.figure(figsize=(10, 10)) \n",
    "\n",
    "# Creating our visualisation\n",
    "# \n",
    "sns.heatmap(corrMatrix, annot = True) "
   ]
  },
  {
   "cell_type": "markdown",
   "metadata": {
    "id": "UUAZgYrhj5ST"
   },
   "source": [
    "##### Step 5. Implementation and Evaluation\n",
    "\n",
    " "
   ]
  },
  {
   "cell_type": "code",
   "execution_count": null,
   "metadata": {
    "id": "sCzgundxVcbM"
   },
   "outputs": [],
   "source": [
    "# We will now quickly prepare our dataset for modeling.\n",
    "# ---\n",
    "# We divide our data into predictor variables and response variable.  \n",
    "# This time, we use column names.\n",
    "# ---\n",
    "# \n",
    "X = fish_df[['Length1', 'Length2', 'Length3',\n",
    "       'Height', 'Width']]\n",
    "y = fish_df['Weight']\n",
    "\n"
   ]
  },
  {
   "cell_type": "code",
   "execution_count": null,
   "metadata": {
    "id": "sBZYIFeviCG3"
   },
   "outputs": [],
   "source": [
    "# We then split our dataset\n",
    "# ---\n",
    "# We split our dataset into training and test sets. 80% = training set, while 20% = test set\n",
    "# ---\n",
    "#\n",
    "\n",
    "# Firstly, importing our train_test_split function\n",
    "# ---\n",
    "#\n",
    "from sklearn.model_selection import train_test_split\n",
    "\n",
    "# Performing our split\n",
    "# ---\n",
    "# \n",
    "X_train, X_test, y_train, y_test = train_test_split(X, y, test_size=0.2, random_state=42)"
   ]
  },
  {
   "cell_type": "code",
   "execution_count": null,
   "metadata": {
    "colab": {
     "base_uri": "https://localhost:8080/",
     "height": 54
    },
    "id": "_TheNaijig7U",
    "outputId": "715c7def-a0e6-483b-b374-954bd095e190"
   },
   "outputs": [
    {
     "data": {
      "text/plain": [
       "SVR(C=1.0, cache_size=200, coef0=0.0, degree=3, epsilon=0.1, gamma='scale',\n",
       "    kernel='rbf', max_iter=-1, shrinking=True, tol=0.001, verbose=False)"
      ]
     },
     "execution_count": 61,
     "metadata": {
      "tags": []
     },
     "output_type": "execute_result"
    }
   ],
   "source": [
    "# Creating our algorithms\n",
    "# ---\n",
    "#\n",
    "\n",
    "# We first import our algorithms as shown below\n",
    "# ---\n",
    "#\n",
    "from sklearn.linear_model import LinearRegression\n",
    "from sklearn.neighbors import KNeighborsRegressor\n",
    "from sklearn.tree import DecisionTreeRegressor \n",
    "from sklearn.svm import SVR\n",
    "\n",
    "# Creating instances of our models\n",
    "linear_regressor = LinearRegression()\n",
    "knn_regressor = KNeighborsRegressor()\n",
    "decision_tree_regressor = DecisionTreeRegressor(random_state=0)\n",
    "svr_regressor = SVR()\n",
    "\n",
    "# Training our machine learning algorithms\n",
    "linear_regressor.fit(X_train, y_train)\n",
    "knn_regressor.fit(X_train, y_train)\n",
    "decision_tree_regressor.fit(X_train, y_train)\n",
    "svr_regressor.fit(X_train, y_train)"
   ]
  },
  {
   "cell_type": "code",
   "execution_count": null,
   "metadata": {
    "id": "UQigM6NOinhN"
   },
   "outputs": [],
   "source": [
    "# Making Predictions  \n",
    "# ---\n",
    "#\n",
    "linear_y_pred = linear_regressor.predict(X_test)\n",
    "knn_pred = knn_regressor.predict(X_test)\n",
    "decision_tree_pred = decision_tree_regressor.predict(X_test)\n",
    "svr_pred = svr_regressor.predict(X_test) "
   ]
  },
  {
   "cell_type": "code",
   "execution_count": null,
   "metadata": {
    "colab": {
     "base_uri": "https://localhost:8080/",
     "height": 206
    },
    "id": "o6V1mjgpsNhL",
    "outputId": "3610b2a8-d163-444b-e6ba-bd08cc2a8717"
   },
   "outputs": [
    {
     "data": {
      "text/html": [
       "<div>\n",
       "<style scoped>\n",
       "    .dataframe tbody tr th:only-of-type {\n",
       "        vertical-align: middle;\n",
       "    }\n",
       "\n",
       "    .dataframe tbody tr th {\n",
       "        vertical-align: top;\n",
       "    }\n",
       "\n",
       "    .dataframe thead th {\n",
       "        text-align: right;\n",
       "    }\n",
       "</style>\n",
       "<table border=\"1\" class=\"dataframe\">\n",
       "  <thead>\n",
       "    <tr style=\"text-align: right;\">\n",
       "      <th></th>\n",
       "      <th>Actual</th>\n",
       "      <th>linear_y_prediction</th>\n",
       "      <th>knn_prediction</th>\n",
       "      <th>decision_tree_prediction</th>\n",
       "      <th>svr_prediction</th>\n",
       "    </tr>\n",
       "  </thead>\n",
       "  <tbody>\n",
       "    <tr>\n",
       "      <th>29</th>\n",
       "      <td>1000.0</td>\n",
       "      <td>775.667262</td>\n",
       "      <td>786.80</td>\n",
       "      <td>850.0</td>\n",
       "      <td>308.415524</td>\n",
       "    </tr>\n",
       "    <tr>\n",
       "      <th>95</th>\n",
       "      <td>170.0</td>\n",
       "      <td>219.681340</td>\n",
       "      <td>150.00</td>\n",
       "      <td>145.0</td>\n",
       "      <td>257.254828</td>\n",
       "    </tr>\n",
       "    <tr>\n",
       "      <th>55</th>\n",
       "      <td>270.0</td>\n",
       "      <td>300.261194</td>\n",
       "      <td>261.80</td>\n",
       "      <td>300.0</td>\n",
       "      <td>268.276430</td>\n",
       "    </tr>\n",
       "    <tr>\n",
       "      <th>9</th>\n",
       "      <td>500.0</td>\n",
       "      <td>515.987974</td>\n",
       "      <td>473.00</td>\n",
       "      <td>475.0</td>\n",
       "      <td>292.975764</td>\n",
       "    </tr>\n",
       "    <tr>\n",
       "      <th>155</th>\n",
       "      <td>13.4</td>\n",
       "      <td>-159.124606</td>\n",
       "      <td>10.54</td>\n",
       "      <td>12.2</td>\n",
       "      <td>241.801277</td>\n",
       "    </tr>\n",
       "  </tbody>\n",
       "</table>\n",
       "</div>"
      ],
      "text/plain": [
       "     Actual  linear_y_prediction  ...  decision_tree_prediction  svr_prediction\n",
       "29   1000.0           775.667262  ...                     850.0      308.415524\n",
       "95    170.0           219.681340  ...                     145.0      257.254828\n",
       "55    270.0           300.261194  ...                     300.0      268.276430\n",
       "9     500.0           515.987974  ...                     475.0      292.975764\n",
       "155    13.4          -159.124606  ...                      12.2      241.801277\n",
       "\n",
       "[5 rows x 5 columns]"
      ]
     },
     "execution_count": 63,
     "metadata": {
      "tags": []
     },
     "output_type": "execute_result"
    }
   ],
   "source": [
    "# Next, we can compare actual output values for X_test with the predicted values\n",
    "# This should also give us a sense of how our model performed during prediction\n",
    "# ---\n",
    "#\n",
    "df = pd.DataFrame({\n",
    "    'Actual': y_test, \n",
    "    'linear_y_prediction': linear_y_pred,\n",
    "    'knn_prediction': knn_pred, \n",
    "    'decision_tree_prediction': decision_tree_pred,\n",
    "    'svr_prediction': svr_pred})\n",
    "\n",
    "df.sample(5)"
   ]
  },
  {
   "cell_type": "code",
   "execution_count": null,
   "metadata": {
    "colab": {
     "base_uri": "https://localhost:8080/",
     "height": 92
    },
    "id": "m0HIZfRoiylf",
    "outputId": "1c256782-b6e3-4f28-c8fe-d23158c45587"
   },
   "outputs": [
    {
     "name": "stdout",
     "output_type": "stream",
     "text": [
      "Linear: Root Mean Squared Error: 129.4754308474807\n",
      "KNN: Root Mean Squared Error: 73.84617567958412\n",
      "Decision Tree: Root Mean Squared Error: 83.97439713984257\n",
      "SVR: Root Mean Squared Error: 390.16826839383504\n"
     ]
    }
   ],
   "source": [
    "# Finally, we evaluate our model performance\n",
    "# --- \n",
    "# The final step is to evaluate the performance of our models using the Root Mean Squared Error (RMSE). \n",
    "# This is the square root of the mean of the squared errors.\n",
    "# ---  \n",
    "#\n",
    "from sklearn import metrics \n",
    "print('Linear: Root Mean Squared Error:', np.sqrt(metrics.mean_squared_error(y_test, linear_y_pred)))\n",
    "print('KNN: Root Mean Squared Error:', np.sqrt(metrics.mean_squared_error(y_test, knn_pred)))\n",
    "print('Decision Tree: Root Mean Squared Error:', np.sqrt(metrics.mean_squared_error(y_test, decision_tree_pred)))\n",
    "print('SVR: Root Mean Squared Error:', np.sqrt(metrics.mean_squared_error(y_test, svr_pred)))\n",
    "\n",
    "# Observation for Linear Regression\n",
    "# ---\n",
    "# We can see that the value of root mean squared error is 161.33, \n",
    "# which is greater than 10% of the mean value of the weight of 398. \n",
    "# This means that our algorithm fairly accurate and can make reasonably good predictions.\n",
    "# There are many factors that may have contributed to this inaccuracy, a few of which are:\n",
    "# 1. Need more data: Having more data would mean being able to train our models more \n",
    "#    which would improve its the accuracy.\n",
    "# 2. Bad assumptions: We made the assumption that this data has a linear relationship, \n",
    "#    but that might not be the case. Visualizing the data may help you determine that \n",
    "#    assumption is true. \n",
    "# 3. Poor features: The features we used may not have had a high enough correlation \n",
    "#    to the values we were trying to predict.\n",
    "# 4. Hyperparameter values \n",
    "\n",
    "# Let's make interpretations for other models..."
   ]
  },
  {
   "cell_type": "markdown",
   "metadata": {
    "id": "fXmSYqcCVNz9"
   },
   "source": [
    "## <font color=\"green\">Challenges </font>"
   ]
  },
  {
   "cell_type": "markdown",
   "metadata": {
    "id": "PMHD8CWeUkJL"
   },
   "source": [
    "#### <font color=\"green\">Challenge 1</font>"
   ]
  },
  {
   "cell_type": "code",
   "execution_count": null,
   "metadata": {
    "colab": {
     "base_uri": "https://localhost:8080/",
     "height": 206
    },
    "id": "KNeLwywzUkJM",
    "outputId": "2b1a25c6-b0f4-4f26-afc6-b80e69dd0bc0"
   },
   "outputs": [
    {
     "data": {
      "text/html": [
       "<div>\n",
       "<style scoped>\n",
       "    .dataframe tbody tr th:only-of-type {\n",
       "        vertical-align: middle;\n",
       "    }\n",
       "\n",
       "    .dataframe tbody tr th {\n",
       "        vertical-align: top;\n",
       "    }\n",
       "\n",
       "    .dataframe thead th {\n",
       "        text-align: right;\n",
       "    }\n",
       "</style>\n",
       "<table border=\"1\" class=\"dataframe\">\n",
       "  <thead>\n",
       "    <tr style=\"text-align: right;\">\n",
       "      <th></th>\n",
       "      <th>Height</th>\n",
       "      <th>Weight</th>\n",
       "    </tr>\n",
       "  </thead>\n",
       "  <tbody>\n",
       "    <tr>\n",
       "      <th>0</th>\n",
       "      <td>1.47</td>\n",
       "      <td>52.21</td>\n",
       "    </tr>\n",
       "    <tr>\n",
       "      <th>1</th>\n",
       "      <td>1.50</td>\n",
       "      <td>53.12</td>\n",
       "    </tr>\n",
       "    <tr>\n",
       "      <th>2</th>\n",
       "      <td>1.52</td>\n",
       "      <td>54.48</td>\n",
       "    </tr>\n",
       "    <tr>\n",
       "      <th>3</th>\n",
       "      <td>1.55</td>\n",
       "      <td>55.84</td>\n",
       "    </tr>\n",
       "    <tr>\n",
       "      <th>4</th>\n",
       "      <td>1.57</td>\n",
       "      <td>57.20</td>\n",
       "    </tr>\n",
       "  </tbody>\n",
       "</table>\n",
       "</div>"
      ],
      "text/plain": [
       "   Height  Weight\n",
       "0    1.47   52.21\n",
       "1    1.50   53.12\n",
       "2    1.52   54.48\n",
       "3    1.55   55.84\n",
       "4    1.57   57.20"
      ]
     },
     "execution_count": 139,
     "metadata": {
      "tags": []
     },
     "output_type": "execute_result"
    }
   ],
   "source": [
    "# Challenge 1\n",
    "# ---\n",
    "# Create a regression model that predicts weight given the respective height.\n",
    "# ---\n",
    "# Dataset url = https://bit.ly/WeightHeightsDS\n",
    "# ---\n",
    "# This data set gives average masses for women as a function of their height\n",
    "# in a sample of women of aged 30–39.\n",
    "# ---\n",
    "\n",
    "df = pd.read_csv('https://bit.ly/WeightHeightsDS')\n",
    "\n",
    "df.head()"
   ]
  },
  {
   "cell_type": "code",
   "execution_count": null,
   "metadata": {
    "colab": {
     "base_uri": "https://localhost:8080/",
     "height": 73
    },
    "id": "fPTLxKnJuqfX",
    "outputId": "16f3f615-75f8-4f74-ac4d-3fd43f0e8b6a"
   },
   "outputs": [
    {
     "data": {
      "text/plain": [
       "Height    0\n",
       "Weight    0\n",
       "dtype: int64"
      ]
     },
     "execution_count": 140,
     "metadata": {
      "tags": []
     },
     "output_type": "execute_result"
    }
   ],
   "source": [
    "#Challenge 1 -Check for null values\n",
    "df.isnull().sum()\n",
    "\n",
    "#The data does not need any cleaning"
   ]
  },
  {
   "cell_type": "code",
   "execution_count": null,
   "metadata": {
    "colab": {
     "base_uri": "https://localhost:8080/",
     "height": 295
    },
    "id": "30KlAJMCu-Va",
    "outputId": "a86dcdde-0959-44fc-deb9-b6ecf36e31eb"
   },
   "outputs": [
    {
     "data": {
      "image/png": "[encoded data removed]",
      "text/plain": [
       "<Figure size 432x288 with 1 Axes>"
      ]
     },
     "metadata": {
      "needs_background": "light",
      "tags": []
     },
     "output_type": "display_data"
    }
   ],
   "source": [
    "# Challeng 1 - Exploratory analysis\n",
    "\n",
    "df.plot(x='Height', y='Weight', style='o')\n",
    "plt.title('Height vs Weight')\n",
    "plt.xlabel('Height')\n",
    "plt.ylabel('Weight')\n",
    "plt.show()\n",
    "\n",
    "#The plot shows a linear regression"
   ]
  },
  {
   "cell_type": "code",
   "execution_count": null,
   "metadata": {
    "id": "it-7LLZTv7Pf"
   },
   "outputs": [],
   "source": [
    "#Challnge 1 - Data preparation\n",
    "#x = df.iloc[:, :-1].values\n",
    "\n",
    "#y = df.iloc[:, 1].values\n",
    "\n",
    "x = df['Height']\n",
    "\n",
    "y = df['Weight']\n",
    "\n",
    "x = x.values.reshape(-1, 1)\n"
   ]
  },
  {
   "cell_type": "code",
   "execution_count": null,
   "metadata": {
    "id": "PM7WBS0zwufM"
   },
   "outputs": [],
   "source": [
    "#Challenge 1 - Splitting the data set\n",
    "\n",
    "X_train, X_test, y_train, y_test = train_test_split(x, y, test_size=0.2, random_state=0)\n"
   ]
  },
  {
   "cell_type": "code",
   "execution_count": null,
   "metadata": {
    "colab": {
     "base_uri": "https://localhost:8080/",
     "height": 36
    },
    "id": "-4uwnJ9aw8fB",
    "outputId": "da1dee84-b31e-45f9-f2b3-37763fb1603d"
   },
   "outputs": [
    {
     "data": {
      "text/plain": [
       "LinearRegression(copy_X=True, fit_intercept=True, n_jobs=None, normalize=False)"
      ]
     },
     "execution_count": 153,
     "metadata": {
      "tags": []
     },
     "output_type": "execute_result"
    }
   ],
   "source": [
    "#Challenge 1- Train the algorithm\n",
    "\n",
    "regressor.fit(X_train, y_train)"
   ]
  },
  {
   "cell_type": "code",
   "execution_count": null,
   "metadata": {
    "colab": {
     "base_uri": "https://localhost:8080/",
     "height": 143
    },
    "id": "CMHKgRTixK4m",
    "outputId": "e55ee411-bf33-4335-ed6b-a6098433b9a9"
   },
   "outputs": [
    {
     "data": {
      "text/html": [
       "<div>\n",
       "<style scoped>\n",
       "    .dataframe tbody tr th:only-of-type {\n",
       "        vertical-align: middle;\n",
       "    }\n",
       "\n",
       "    .dataframe tbody tr th {\n",
       "        vertical-align: top;\n",
       "    }\n",
       "\n",
       "    .dataframe thead th {\n",
       "        text-align: right;\n",
       "    }\n",
       "</style>\n",
       "<table border=\"1\" class=\"dataframe\">\n",
       "  <thead>\n",
       "    <tr style=\"text-align: right;\">\n",
       "      <th></th>\n",
       "      <th>Actual</th>\n",
       "      <th>Predicted</th>\n",
       "    </tr>\n",
       "  </thead>\n",
       "  <tbody>\n",
       "    <tr>\n",
       "      <th>1</th>\n",
       "      <td>53.12</td>\n",
       "      <td>52.930541</td>\n",
       "    </tr>\n",
       "    <tr>\n",
       "      <th>6</th>\n",
       "      <td>59.93</td>\n",
       "      <td>60.920108</td>\n",
       "    </tr>\n",
       "    <tr>\n",
       "      <th>8</th>\n",
       "      <td>63.11</td>\n",
       "      <td>63.993019</td>\n",
       "    </tr>\n",
       "  </tbody>\n",
       "</table>\n",
       "</div>"
      ],
      "text/plain": [
       "   Actual  Predicted\n",
       "1   53.12  52.930541\n",
       "6   59.93  60.920108\n",
       "8   63.11  63.993019"
      ]
     },
     "execution_count": 154,
     "metadata": {
      "tags": []
     },
     "output_type": "execute_result"
    }
   ],
   "source": [
    "#Challenge 1 - Prediction and comparison\n",
    "\n",
    "y_pred = regressor.predict(X_test)\n",
    "\n",
    "df_comparison = pd.DataFrame({'Actual': y_test, 'Predicted': y_pred})\n",
    "\n",
    "df_comparison.head()\n"
   ]
  },
  {
   "cell_type": "code",
   "execution_count": null,
   "metadata": {
    "colab": {
     "base_uri": "https://localhost:8080/",
     "height": 54
    },
    "id": "JMTW6-phySpV",
    "outputId": "7a3508a2-0a24-40c2-ad55-11c92325e93d"
   },
   "outputs": [
    {
     "data": {
      "text/plain": [
       "{'10% of Mean Weight': 6.207800000000001,\n",
       " 'Root Mean Squared Error': 0.773720634873067}"
      ]
     },
     "execution_count": 155,
     "metadata": {
      "tags": []
     },
     "output_type": "execute_result"
    }
   ],
   "source": [
    "#Challenge 1 - Evaluate the model\n",
    "\n",
    "\n",
    "Evaluate = {}\n",
    "\n",
    "Evaluate['10% of Mean Weight'] = df['Weight'].mean() * 0.1\n",
    "\n",
    "Evaluate['Root Mean Squared Error'] = np.sqrt(metrics.mean_squared_error(y_test, y_pred))\n",
    "\n",
    "Evaluate\n"
   ]
  },
  {
   "cell_type": "markdown",
   "metadata": {
    "id": "WQ3exsBi2Cbq"
   },
   "source": [
    "Challenge 1 - Observation\n",
    "\n",
    "The root mean is close to 0 and most importThis means our model was fairly accurate.antly, it is less than 10% the mean of Height."
   ]
  },
  {
   "cell_type": "markdown",
   "metadata": {
    "id": "vBBOl6dW1M_E"
   },
   "source": [
    "#### <font color=\"green\">Challenge 2</font>"
   ]
  },
  {
   "cell_type": "markdown",
   "metadata": {
    "id": "hh_dIYin-0S0"
   },
   "source": [
    "**Problem Statement**\n",
    "\n",
    "A Chinese automobile company Geely Auto aspires to enter the US market by setting up their manufacturing unit there and producing cars locally to give competition to their US and European counterparts.\n",
    "\n",
    "They have contracted an automobile consulting company to understand the factors on which the pricing of cars depends. Specifically, they want to understand the factors affecting the pricing of cars in the American market, since those may be very different from the Chinese market.\n",
    "\n",
    "**Business Goal**\n",
    "\n",
    "We are required to model the price of cars with the available independent variables. It will be used by the management to understand how exactly the prices vary with the independent variables. They can accordingly manipulate the design of the cars, the business strategy etc. to meet certain price levels. Further, the model will be a good way for management to understand the pricing dynamics of a new market.\n",
    "\n",
    "Problem Source [Kaggle](https://www.kaggle.com/hellbuoy/car-price-prediction)"
   ]
  },
  {
   "cell_type": "code",
   "execution_count": null,
   "metadata": {
    "colab": {
     "base_uri": "https://localhost:8080/",
     "height": 226
    },
    "id": "XyO8bGSo1M_F",
    "outputId": "b4a75061-c166-41fe-9e12-4fca1ff7b0eb"
   },
   "outputs": [
    {
     "data": {
      "text/html": [
       "<div>\n",
       "<style scoped>\n",
       "    .dataframe tbody tr th:only-of-type {\n",
       "        vertical-align: middle;\n",
       "    }\n",
       "\n",
       "    .dataframe tbody tr th {\n",
       "        vertical-align: top;\n",
       "    }\n",
       "\n",
       "    .dataframe thead th {\n",
       "        text-align: right;\n",
       "    }\n",
       "</style>\n",
       "<table border=\"1\" class=\"dataframe\">\n",
       "  <thead>\n",
       "    <tr style=\"text-align: right;\">\n",
       "      <th></th>\n",
       "      <th>car_ID</th>\n",
       "      <th>wheelbase</th>\n",
       "      <th>carlength</th>\n",
       "      <th>carwidth</th>\n",
       "      <th>carheight</th>\n",
       "      <th>curbweight</th>\n",
       "      <th>enginesize</th>\n",
       "      <th>boreratio</th>\n",
       "      <th>stroke</th>\n",
       "      <th>compressionratio</th>\n",
       "      <th>horsepower</th>\n",
       "      <th>peakrpm</th>\n",
       "      <th>citympg</th>\n",
       "      <th>highwaympg</th>\n",
       "      <th>price</th>\n",
       "    </tr>\n",
       "  </thead>\n",
       "  <tbody>\n",
       "    <tr>\n",
       "      <th>0</th>\n",
       "      <td>1</td>\n",
       "      <td>88.6</td>\n",
       "      <td>168.8</td>\n",
       "      <td>64.1</td>\n",
       "      <td>48.8</td>\n",
       "      <td>2548</td>\n",
       "      <td>130</td>\n",
       "      <td>3.47</td>\n",
       "      <td>2.68</td>\n",
       "      <td>9.0</td>\n",
       "      <td>111</td>\n",
       "      <td>5000</td>\n",
       "      <td>21</td>\n",
       "      <td>27</td>\n",
       "      <td>13495.0</td>\n",
       "    </tr>\n",
       "    <tr>\n",
       "      <th>1</th>\n",
       "      <td>2</td>\n",
       "      <td>88.6</td>\n",
       "      <td>168.8</td>\n",
       "      <td>64.1</td>\n",
       "      <td>48.8</td>\n",
       "      <td>2548</td>\n",
       "      <td>130</td>\n",
       "      <td>3.47</td>\n",
       "      <td>2.68</td>\n",
       "      <td>9.0</td>\n",
       "      <td>111</td>\n",
       "      <td>5000</td>\n",
       "      <td>21</td>\n",
       "      <td>27</td>\n",
       "      <td>16500.0</td>\n",
       "    </tr>\n",
       "    <tr>\n",
       "      <th>2</th>\n",
       "      <td>3</td>\n",
       "      <td>94.5</td>\n",
       "      <td>171.2</td>\n",
       "      <td>65.5</td>\n",
       "      <td>52.4</td>\n",
       "      <td>2823</td>\n",
       "      <td>152</td>\n",
       "      <td>2.68</td>\n",
       "      <td>3.47</td>\n",
       "      <td>9.0</td>\n",
       "      <td>154</td>\n",
       "      <td>5000</td>\n",
       "      <td>19</td>\n",
       "      <td>26</td>\n",
       "      <td>16500.0</td>\n",
       "    </tr>\n",
       "    <tr>\n",
       "      <th>3</th>\n",
       "      <td>4</td>\n",
       "      <td>99.8</td>\n",
       "      <td>176.6</td>\n",
       "      <td>66.2</td>\n",
       "      <td>54.3</td>\n",
       "      <td>2337</td>\n",
       "      <td>109</td>\n",
       "      <td>3.19</td>\n",
       "      <td>3.40</td>\n",
       "      <td>10.0</td>\n",
       "      <td>102</td>\n",
       "      <td>5500</td>\n",
       "      <td>24</td>\n",
       "      <td>30</td>\n",
       "      <td>13950.0</td>\n",
       "    </tr>\n",
       "    <tr>\n",
       "      <th>4</th>\n",
       "      <td>5</td>\n",
       "      <td>99.4</td>\n",
       "      <td>176.6</td>\n",
       "      <td>66.4</td>\n",
       "      <td>54.3</td>\n",
       "      <td>2824</td>\n",
       "      <td>136</td>\n",
       "      <td>3.19</td>\n",
       "      <td>3.40</td>\n",
       "      <td>8.0</td>\n",
       "      <td>115</td>\n",
       "      <td>5500</td>\n",
       "      <td>18</td>\n",
       "      <td>22</td>\n",
       "      <td>17450.0</td>\n",
       "    </tr>\n",
       "  </tbody>\n",
       "</table>\n",
       "</div>"
      ],
      "text/plain": [
       "   car_ID  wheelbase  carlength  ...  citympg  highwaympg    price\n",
       "0       1       88.6      168.8  ...       21          27  13495.0\n",
       "1       2       88.6      168.8  ...       21          27  16500.0\n",
       "2       3       94.5      171.2  ...       19          26  16500.0\n",
       "3       4       99.8      176.6  ...       24          30  13950.0\n",
       "4       5       99.4      176.6  ...       18          22  17450.0\n",
       "\n",
       "[5 rows x 15 columns]"
      ]
     },
     "execution_count": 156,
     "metadata": {
      "tags": []
     },
     "output_type": "execute_result"
    }
   ],
   "source": [
    "# Challenge 2\n",
    "# ---\n",
    "# Create a regression model to predict the price of cars given the following dataset.\n",
    "# ---\n",
    "# Dataset url = http://bit.ly/CarPriceDataset\n",
    "#\n",
    "\n",
    "df = pd.read_csv('http://bit.ly/CarPriceDataset')\n",
    "\n",
    "df.head()\n",
    "#df.shape -- (205, 15)"
   ]
  },
  {
   "cell_type": "code",
   "execution_count": null,
   "metadata": {
    "colab": {
     "base_uri": "https://localhost:8080/",
     "height": 36
    },
    "id": "MeWfZTgZ2xcM",
    "outputId": "0764cb46-7672-4fcf-92da-a97b1107ab33"
   },
   "outputs": [
    {
     "data": {
      "text/plain": [
       "0"
      ]
     },
     "execution_count": 157,
     "metadata": {
      "tags": []
     },
     "output_type": "execute_result"
    }
   ],
   "source": [
    "# Challenge 2- Data cleaning\n",
    "\n",
    "df.isnull().sum()\n",
    "\n",
    "#No null values in the data set\n",
    "\n",
    "sum(df.duplicated()) # No Duplicates\n"
   ]
  },
  {
   "cell_type": "code",
   "execution_count": null,
   "metadata": {
    "colab": {
     "base_uri": "https://localhost:8080/",
     "height": 962
    },
    "id": "90iFciMP2-Zj",
    "outputId": "0c710fa8-96c3-4152-e059-d96e3580cac9"
   },
   "outputs": [
    {
     "data": {
      "text/plain": [
       "<matplotlib.axes._subplots.AxesSubplot at 0x7fa148e01eb8>"
      ]
     },
     "execution_count": 158,
     "metadata": {
      "tags": []
     },
     "output_type": "execute_result"
    },
    {
     "data": {
      "image/png": "[encoded data removed]",
      "text/plain": [
       "<Figure size 1080x1080 with 2 Axes>"
      ]
     },
     "metadata": {
      "needs_background": "light",
      "tags": []
     },
     "output_type": "display_data"
    }
   ],
   "source": [
    "#Challenge 2- Exploratory Analysis\n",
    "# To explore the dat we check the correlation of the variables\n",
    "\n",
    "corrMatrix = df.corr()\n",
    "\n",
    "#Creating a Heat Map to check the correlation\n",
    "import seaborn as sns\n",
    "plt.figure(figsize=(15, 15))\n",
    "sns.heatmap(corrMatrix, annot = True)"
   ]
  },
  {
   "cell_type": "code",
   "execution_count": null,
   "metadata": {
    "colab": {
     "base_uri": "https://localhost:8080/",
     "height": 36
    },
    "id": "3RZpALEY3u6M",
    "outputId": "f0e53053-3321-4646-b7c1-3f2a1f736b44"
   },
   "outputs": [
    {
     "data": {
      "text/plain": [
       "(205, 14)"
      ]
     },
     "execution_count": 160,
     "metadata": {
      "tags": []
     },
     "output_type": "execute_result"
    }
   ],
   "source": [
    "#Challenge 2 - Data preparation\n",
    "\n",
    "#To ger the list of the columns\n",
    "list(df.columns)\n",
    "\n",
    "x = df[['car_ID',\n",
    " 'wheelbase',\n",
    " 'carlength',\n",
    " 'carwidth',\n",
    " 'carheight',\n",
    " 'curbweight',\n",
    " 'enginesize',\n",
    " 'boreratio',\n",
    " 'stroke',\n",
    " 'compressionratio',\n",
    " 'horsepower',\n",
    " 'peakrpm',\n",
    " 'citympg',\n",
    " 'highwaympg']]\n",
    "\n",
    "y = df['price']\n",
    "\n",
    "x.shape"
   ]
  },
  {
   "cell_type": "code",
   "execution_count": null,
   "metadata": {
    "id": "4cSMSLt54Xxg"
   },
   "outputs": [],
   "source": [
    "#Challenge 2 - Seperation the data set\n",
    "\n",
    "from sklearn.model_selection import train_test_split\n",
    "\n",
    "x_train, x_test, y_train, y_test = train_test_split(x, y, test_size=0.2, random_state=42)"
   ]
  },
  {
   "cell_type": "code",
   "execution_count": null,
   "metadata": {
    "colab": {
     "base_uri": "https://localhost:8080/",
     "height": 54
    },
    "id": "XgJSRs95a6g_",
    "outputId": "7b7a7d1b-7b6a-4487-b6ab-74f7bfff52ee"
   },
   "outputs": [
    {
     "data": {
      "text/plain": [
       "SVR(C=1.0, cache_size=200, coef0=0.0, degree=3, epsilon=0.1, gamma='scale',\n",
       "    kernel='rbf', max_iter=-1, shrinking=True, tol=0.001, verbose=False)"
      ]
     },
     "execution_count": 165,
     "metadata": {
      "tags": []
     },
     "output_type": "execute_result"
    }
   ],
   "source": [
    "#Challenge 2 -Training the algorithms\n",
    "\n",
    "from sklearn.linear_model import LinearRegression\n",
    "from sklearn.neighbors import KNeighborsRegressor\n",
    "from sklearn.tree import DecisionTreeRegressor \n",
    "from sklearn.svm import SVR\n",
    "\n",
    "# Creating instances of our models\n",
    "linear_regressor = LinearRegression()\n",
    "knn_regressor = KNeighborsRegressor()\n",
    "decision_tree_regressor = DecisionTreeRegressor(random_state=0)\n",
    "svr_regressor = SVR()\n",
    "\n",
    "# Training our machine learning algorithms\n",
    "linear_regressor.fit(x_train, y_train)\n",
    "knn_regressor.fit(x_train, y_train)\n",
    "decision_tree_regressor.fit(x_train, y_train)\n",
    "svr_regressor.fit(x_train, y_train)"
   ]
  },
  {
   "cell_type": "code",
   "execution_count": null,
   "metadata": {
    "id": "4_wfA08Bl9q4"
   },
   "outputs": [],
   "source": [
    "#Challenge 2 - Predictions\n",
    "linear_y_pred = linear_regressor.predict(x_test)\n",
    "\n",
    "knn_pred = knn_regressor.predict(x_test)\n",
    "\n",
    "decision_tree_pred = decision_tree_regressor.predict(x_test)\n",
    "\n",
    "svr_pred = svr_regressor.predict(x_test)"
   ]
  },
  {
   "cell_type": "code",
   "execution_count": null,
   "metadata": {
    "colab": {
     "base_uri": "https://localhost:8080/",
     "height": 206
    },
    "id": "T4lvWAn2nAq-",
    "outputId": "36b9bc77-6b9e-4cc7-aaf7-3efc2e20e9af"
   },
   "outputs": [
    {
     "data": {
      "text/html": [
       "<div>\n",
       "<style scoped>\n",
       "    .dataframe tbody tr th:only-of-type {\n",
       "        vertical-align: middle;\n",
       "    }\n",
       "\n",
       "    .dataframe tbody tr th {\n",
       "        vertical-align: top;\n",
       "    }\n",
       "\n",
       "    .dataframe thead th {\n",
       "        text-align: right;\n",
       "    }\n",
       "</style>\n",
       "<table border=\"1\" class=\"dataframe\">\n",
       "  <thead>\n",
       "    <tr style=\"text-align: right;\">\n",
       "      <th></th>\n",
       "      <th>Actual</th>\n",
       "      <th>linear_y_prediction</th>\n",
       "      <th>knn_prediction</th>\n",
       "      <th>decision_tree_prediction</th>\n",
       "      <th>svr_prediction</th>\n",
       "    </tr>\n",
       "  </thead>\n",
       "  <tbody>\n",
       "    <tr>\n",
       "      <th>15</th>\n",
       "      <td>30760.000</td>\n",
       "      <td>28215.612018</td>\n",
       "      <td>18904.4</td>\n",
       "      <td>36880.0</td>\n",
       "      <td>10649.484753</td>\n",
       "    </tr>\n",
       "    <tr>\n",
       "      <th>9</th>\n",
       "      <td>17859.167</td>\n",
       "      <td>18256.198391</td>\n",
       "      <td>19034.0</td>\n",
       "      <td>17199.0</td>\n",
       "      <td>10648.629158</td>\n",
       "    </tr>\n",
       "    <tr>\n",
       "      <th>100</th>\n",
       "      <td>9549.000</td>\n",
       "      <td>10669.172089</td>\n",
       "      <td>8701.8</td>\n",
       "      <td>8949.0</td>\n",
       "      <td>10645.543600</td>\n",
       "    </tr>\n",
       "    <tr>\n",
       "      <th>132</th>\n",
       "      <td>11850.000</td>\n",
       "      <td>14453.130523</td>\n",
       "      <td>12382.0</td>\n",
       "      <td>12170.0</td>\n",
       "      <td>10647.073669</td>\n",
       "    </tr>\n",
       "    <tr>\n",
       "      <th>68</th>\n",
       "      <td>28248.000</td>\n",
       "      <td>26084.195002</td>\n",
       "      <td>28423.8</td>\n",
       "      <td>35056.0</td>\n",
       "      <td>10652.195385</td>\n",
       "    </tr>\n",
       "  </tbody>\n",
       "</table>\n",
       "</div>"
      ],
      "text/plain": [
       "        Actual  linear_y_prediction  ...  decision_tree_prediction  svr_prediction\n",
       "15   30760.000         28215.612018  ...                   36880.0    10649.484753\n",
       "9    17859.167         18256.198391  ...                   17199.0    10648.629158\n",
       "100   9549.000         10669.172089  ...                    8949.0    10645.543600\n",
       "132  11850.000         14453.130523  ...                   12170.0    10647.073669\n",
       "68   28248.000         26084.195002  ...                   35056.0    10652.195385\n",
       "\n",
       "[5 rows x 5 columns]"
      ]
     },
     "execution_count": 169,
     "metadata": {
      "tags": []
     },
     "output_type": "execute_result"
    }
   ],
   "source": [
    "#Challenge 2 - Compare Predictions\n",
    "\n",
    "df_comparison = pd.DataFrame({\n",
    "    'Actual': y_test, \n",
    "    'linear_y_prediction': linear_y_pred,\n",
    "    'knn_prediction': knn_pred, \n",
    "    'decision_tree_prediction': decision_tree_pred,\n",
    "    'svr_prediction': svr_pred})\n",
    "\n",
    "df_comparison.head()"
   ]
  },
  {
   "cell_type": "code",
   "execution_count": null,
   "metadata": {
    "colab": {
     "base_uri": "https://localhost:8080/",
     "height": 110
    },
    "id": "7X3gcxa_nTIf",
    "outputId": "05ace4dd-00d3-4dd7-9566-a9838db14b62"
   },
   "outputs": [
    {
     "data": {
      "text/plain": [
       "{'10% of Mean Weight': 1327.6710570731707,\n",
       " 'Decision Tree: Root Mean Squared Error': 2902.8861393863167,\n",
       " 'KNN: Root Mean Squared Error': 4081.811041078514,\n",
       " 'Linear: Root Mean Squared Error': 3456.21783291588,\n",
       " 'SVR: Root Mean Squared Error': 9326.851596088689}"
      ]
     },
     "execution_count": 174,
     "metadata": {
      "tags": []
     },
     "output_type": "execute_result"
    }
   ],
   "source": [
    "#Challenge 2- Evaluat the model\n",
    "\n",
    "#print('10% of Mean Price', (df['price'].mean() * 0.1))\n",
    "\n",
    "\n",
    "Evaluate = {}\n",
    "\n",
    "Evaluate['10% of Mean Weight'] = df['price'].mean() * 0.1\n",
    "Evaluate['Linear: Root Mean Squared Error'] = np.sqrt(metrics.mean_squared_error(y_test, linear_y_pred))\n",
    "Evaluate['KNN: Root Mean Squared Error'] = np.sqrt(metrics.mean_squared_error(y_test, knn_pred))\n",
    "Evaluate['Decision Tree: Root Mean Squared Error'] = np.sqrt(metrics.mean_squared_error(y_test, decision_tree_pred))\n",
    "Evaluate['SVR: Root Mean Squared Error'] = np.sqrt(metrics.mean_squared_error(y_test, svr_pred))\n",
    "\n",
    "Evaluate"
   ]
  },
  {
   "cell_type": "markdown",
   "metadata": {
    "id": "fE1PJtg2pN9T"
   },
   "source": [
    "The values of RMSE of the methods is greate than 10% of the mean price, hence the algorithms are not that accurate, and we need additional data to improve on the accuaracy."
   ]
  },
  {
   "cell_type": "markdown",
   "metadata": {
    "id": "4CJgm7GFuhIU"
   },
   "source": [
    "#### <font color=\"green\">Challenge 3</font>"
   ]
  },
  {
   "cell_type": "code",
   "execution_count": 4,
   "metadata": {
    "colab": {
     "base_uri": "https://localhost:8080/",
     "height": 206
    },
    "id": "FDUVgIkkujca",
    "outputId": "fde95c3b-cebe-4fd2-cea1-0d1fc7c6a113"
   },
   "outputs": [
    {
     "data": {
      "text/html": [
       "<div>\n",
       "<style scoped>\n",
       "    .dataframe tbody tr th:only-of-type {\n",
       "        vertical-align: middle;\n",
       "    }\n",
       "\n",
       "    .dataframe tbody tr th {\n",
       "        vertical-align: top;\n",
       "    }\n",
       "\n",
       "    .dataframe thead th {\n",
       "        text-align: right;\n",
       "    }\n",
       "</style>\n",
       "<table border=\"1\" class=\"dataframe\">\n",
       "  <thead>\n",
       "    <tr style=\"text-align: right;\">\n",
       "      <th></th>\n",
       "      <th>age</th>\n",
       "      <th>sex</th>\n",
       "      <th>bmi</th>\n",
       "      <th>children</th>\n",
       "      <th>smoker</th>\n",
       "      <th>region</th>\n",
       "      <th>charges</th>\n",
       "    </tr>\n",
       "  </thead>\n",
       "  <tbody>\n",
       "    <tr>\n",
       "      <th>0</th>\n",
       "      <td>19</td>\n",
       "      <td>female</td>\n",
       "      <td>27.900</td>\n",
       "      <td>0</td>\n",
       "      <td>yes</td>\n",
       "      <td>southwest</td>\n",
       "      <td>16884.92400</td>\n",
       "    </tr>\n",
       "    <tr>\n",
       "      <th>1</th>\n",
       "      <td>18</td>\n",
       "      <td>male</td>\n",
       "      <td>33.770</td>\n",
       "      <td>1</td>\n",
       "      <td>no</td>\n",
       "      <td>southeast</td>\n",
       "      <td>1725.55230</td>\n",
       "    </tr>\n",
       "    <tr>\n",
       "      <th>2</th>\n",
       "      <td>28</td>\n",
       "      <td>male</td>\n",
       "      <td>33.000</td>\n",
       "      <td>3</td>\n",
       "      <td>no</td>\n",
       "      <td>southeast</td>\n",
       "      <td>4449.46200</td>\n",
       "    </tr>\n",
       "    <tr>\n",
       "      <th>3</th>\n",
       "      <td>33</td>\n",
       "      <td>male</td>\n",
       "      <td>22.705</td>\n",
       "      <td>0</td>\n",
       "      <td>no</td>\n",
       "      <td>northwest</td>\n",
       "      <td>21984.47061</td>\n",
       "    </tr>\n",
       "    <tr>\n",
       "      <th>4</th>\n",
       "      <td>32</td>\n",
       "      <td>male</td>\n",
       "      <td>28.880</td>\n",
       "      <td>0</td>\n",
       "      <td>no</td>\n",
       "      <td>northwest</td>\n",
       "      <td>3866.85520</td>\n",
       "    </tr>\n",
       "  </tbody>\n",
       "</table>\n",
       "</div>"
      ],
      "text/plain": [
       "   age     sex     bmi  children smoker     region      charges\n",
       "0   19  female  27.900         0    yes  southwest  16884.92400\n",
       "1   18    male  33.770         1     no  southeast   1725.55230\n",
       "2   28    male  33.000         3     no  southeast   4449.46200\n",
       "3   33    male  22.705         0     no  northwest  21984.47061\n",
       "4   32    male  28.880         0     no  northwest   3866.85520"
      ]
     },
     "execution_count": 4,
     "metadata": {
      "tags": []
     },
     "output_type": "execute_result"
    }
   ],
   "source": [
    "# Challenge 3\n",
    "# ---\n",
    "# Create a regression model to predict insurance costs.\n",
    "# ---\n",
    "# Dataset url = https://bit.ly/InsuranceDS\n",
    "# ---\n",
    "\n",
    "df = pd.read_csv('https://bit.ly/InsuranceDS')\n",
    "\n",
    "df.head()\n",
    "\n"
   ]
  },
  {
   "cell_type": "code",
   "execution_count": 12,
   "metadata": {
    "colab": {
     "base_uri": "https://localhost:8080/"
    },
    "id": "4H1MiheKbPfD",
    "outputId": "880cbb4f-1799-44ba-a572-44cd177a4509"
   },
   "outputs": [
    {
     "data": {
      "text/plain": [
       "array([0, 1, 2, 3])"
      ]
     },
     "execution_count": 12,
     "metadata": {
      "tags": []
     },
     "output_type": "execute_result"
    }
   ],
   "source": [
    "# Challenge 3 \n",
    "#To carry on with the anaylis it is better to deal with numbers, hence for the sex, smoker and region column, we are to convert into intergers\n",
    "\n",
    "#converting the sex column\n",
    "df['sex'].unique()  #Results ['female', 'male']\n",
    "\n",
    "df['sex'] = df['sex'].replace('female', 0).replace('male', 1)\n",
    "df['sex'].unique()  #Gives array([0, 1])\n",
    "\n",
    "#Converting the smoker column\n",
    "df['smoker'].unique() #Gives ['yes', 'no']\n",
    "\n",
    "df['smoker'] = df['smoker'].replace('yes', 1).replace('no', 0)\n",
    "\n",
    "df['smoker'].unique() # Gives array([1, 0])\n",
    "\n",
    "#Converting the Region\n",
    "df['region'].unique() # Gives ['southwest', 'southeast', 'northwest', 'northeast']\n",
    "\n",
    "df['region'] = df['region'].replace(['southwest', 'southeast', 'northwest', 'northeast'], [0,1,2,3])   \n",
    "\n",
    "df['region'].unique() #Gives array([0, 1, 2, 3])"
   ]
  },
  {
   "cell_type": "code",
   "execution_count": 13,
   "metadata": {
    "colab": {
     "base_uri": "https://localhost:8080/",
     "height": 206
    },
    "id": "a8nTRukOdyi8",
    "outputId": "7ea83479-6586-4e68-87a9-192716fd4875"
   },
   "outputs": [
    {
     "data": {
      "text/html": [
       "<div>\n",
       "<style scoped>\n",
       "    .dataframe tbody tr th:only-of-type {\n",
       "        vertical-align: middle;\n",
       "    }\n",
       "\n",
       "    .dataframe tbody tr th {\n",
       "        vertical-align: top;\n",
       "    }\n",
       "\n",
       "    .dataframe thead th {\n",
       "        text-align: right;\n",
       "    }\n",
       "</style>\n",
       "<table border=\"1\" class=\"dataframe\">\n",
       "  <thead>\n",
       "    <tr style=\"text-align: right;\">\n",
       "      <th></th>\n",
       "      <th>age</th>\n",
       "      <th>sex</th>\n",
       "      <th>bmi</th>\n",
       "      <th>children</th>\n",
       "      <th>smoker</th>\n",
       "      <th>region</th>\n",
       "      <th>charges</th>\n",
       "    </tr>\n",
       "  </thead>\n",
       "  <tbody>\n",
       "    <tr>\n",
       "      <th>842</th>\n",
       "      <td>23</td>\n",
       "      <td>0</td>\n",
       "      <td>32.78</td>\n",
       "      <td>2</td>\n",
       "      <td>1</td>\n",
       "      <td>1</td>\n",
       "      <td>36021.0112</td>\n",
       "    </tr>\n",
       "    <tr>\n",
       "      <th>77</th>\n",
       "      <td>21</td>\n",
       "      <td>1</td>\n",
       "      <td>35.53</td>\n",
       "      <td>0</td>\n",
       "      <td>0</td>\n",
       "      <td>1</td>\n",
       "      <td>1532.4697</td>\n",
       "    </tr>\n",
       "    <tr>\n",
       "      <th>671</th>\n",
       "      <td>29</td>\n",
       "      <td>0</td>\n",
       "      <td>31.16</td>\n",
       "      <td>0</td>\n",
       "      <td>0</td>\n",
       "      <td>3</td>\n",
       "      <td>3943.5954</td>\n",
       "    </tr>\n",
       "    <tr>\n",
       "      <th>205</th>\n",
       "      <td>28</td>\n",
       "      <td>0</td>\n",
       "      <td>28.88</td>\n",
       "      <td>1</td>\n",
       "      <td>0</td>\n",
       "      <td>3</td>\n",
       "      <td>4337.7352</td>\n",
       "    </tr>\n",
       "    <tr>\n",
       "      <th>1045</th>\n",
       "      <td>43</td>\n",
       "      <td>0</td>\n",
       "      <td>24.70</td>\n",
       "      <td>2</td>\n",
       "      <td>1</td>\n",
       "      <td>2</td>\n",
       "      <td>21880.8200</td>\n",
       "    </tr>\n",
       "  </tbody>\n",
       "</table>\n",
       "</div>"
      ],
      "text/plain": [
       "      age  sex    bmi  children  smoker  region     charges\n",
       "842    23    0  32.78         2       1       1  36021.0112\n",
       "77     21    1  35.53         0       0       1   1532.4697\n",
       "671    29    0  31.16         0       0       3   3943.5954\n",
       "205    28    0  28.88         1       0       3   4337.7352\n",
       "1045   43    0  24.70         2       1       2  21880.8200"
      ]
     },
     "execution_count": 13,
     "metadata": {
      "tags": []
     },
     "output_type": "execute_result"
    }
   ],
   "source": [
    "#Challenge 3\n",
    "df.sample(5)"
   ]
  },
  {
   "cell_type": "code",
   "execution_count": 17,
   "metadata": {
    "id": "M6N7ee6vf3Pv"
   },
   "outputs": [],
   "source": [
    "from sklearn.model_selection import train_test_split #Split the data into train and test\n",
    "from sklearn.linear_model import LinearRegression #The algorith\n",
    "from sklearn.neighbors import KNeighborsRegressor\n",
    "from sklearn.tree import DecisionTreeRegressor \n",
    "from sklearn.svm import SVR\n",
    "\n",
    "from sklearn import metrics "
   ]
  },
  {
   "cell_type": "code",
   "execution_count": 27,
   "metadata": {
    "colab": {
     "base_uri": "https://localhost:8080/",
     "height": 363
    },
    "id": "Jr7-xDLMd59b",
    "outputId": "16d8e727-6bf9-4fac-c46f-bdd007b68e67"
   },
   "outputs": [
    {
     "data": {
      "text/html": [
       "<div>\n",
       "<style scoped>\n",
       "    .dataframe tbody tr th:only-of-type {\n",
       "        vertical-align: middle;\n",
       "    }\n",
       "\n",
       "    .dataframe tbody tr th {\n",
       "        vertical-align: top;\n",
       "    }\n",
       "\n",
       "    .dataframe thead th {\n",
       "        text-align: right;\n",
       "    }\n",
       "</style>\n",
       "<table border=\"1\" class=\"dataframe\">\n",
       "  <thead>\n",
       "    <tr style=\"text-align: right;\">\n",
       "      <th></th>\n",
       "      <th>Actual</th>\n",
       "      <th>linear_y_prediction</th>\n",
       "      <th>knn_prediction</th>\n",
       "      <th>decision_tree_prediction</th>\n",
       "      <th>svr_prediction</th>\n",
       "    </tr>\n",
       "  </thead>\n",
       "  <tbody>\n",
       "    <tr>\n",
       "      <th>594</th>\n",
       "      <td>5709.16440</td>\n",
       "      <td>11549.903081</td>\n",
       "      <td>6367.174110</td>\n",
       "      <td>5699.83750</td>\n",
       "      <td>9530.572418</td>\n",
       "    </tr>\n",
       "    <tr>\n",
       "      <th>371</th>\n",
       "      <td>12029.28670</td>\n",
       "      <td>10170.023005</td>\n",
       "      <td>16486.684300</td>\n",
       "      <td>11833.78230</td>\n",
       "      <td>9615.410812</td>\n",
       "    </tr>\n",
       "    <tr>\n",
       "      <th>1253</th>\n",
       "      <td>15828.82173</td>\n",
       "      <td>9060.554690</td>\n",
       "      <td>7413.349090</td>\n",
       "      <td>8162.71625</td>\n",
       "      <td>9518.123215</td>\n",
       "    </tr>\n",
       "    <tr>\n",
       "      <th>49</th>\n",
       "      <td>38709.17600</td>\n",
       "      <td>32638.476970</td>\n",
       "      <td>14633.018346</td>\n",
       "      <td>37742.57570</td>\n",
       "      <td>9496.522098</td>\n",
       "    </tr>\n",
       "    <tr>\n",
       "      <th>312</th>\n",
       "      <td>42124.51530</td>\n",
       "      <td>35546.605476</td>\n",
       "      <td>9877.781954</td>\n",
       "      <td>40273.64550</td>\n",
       "      <td>9541.268938</td>\n",
       "    </tr>\n",
       "    <tr>\n",
       "      <th>551</th>\n",
       "      <td>3972.92470</td>\n",
       "      <td>5450.783872</td>\n",
       "      <td>4242.341810</td>\n",
       "      <td>3704.35450</td>\n",
       "      <td>9469.761996</td>\n",
       "    </tr>\n",
       "    <tr>\n",
       "      <th>654</th>\n",
       "      <td>12244.53100</td>\n",
       "      <td>14496.652939</td>\n",
       "      <td>14998.741832</td>\n",
       "      <td>21797.00040</td>\n",
       "      <td>9632.956018</td>\n",
       "    </tr>\n",
       "    <tr>\n",
       "      <th>661</th>\n",
       "      <td>22192.43711</td>\n",
       "      <td>10640.163538</td>\n",
       "      <td>11720.991380</td>\n",
       "      <td>12032.32600</td>\n",
       "      <td>9617.369071</td>\n",
       "    </tr>\n",
       "    <tr>\n",
       "      <th>254</th>\n",
       "      <td>41097.16175</td>\n",
       "      <td>35221.479205</td>\n",
       "      <td>15836.539420</td>\n",
       "      <td>41919.09700</td>\n",
       "      <td>9584.147442</td>\n",
       "    </tr>\n",
       "    <tr>\n",
       "      <th>1322</th>\n",
       "      <td>12981.34570</td>\n",
       "      <td>16467.917085</td>\n",
       "      <td>13170.793660</td>\n",
       "      <td>12982.87470</td>\n",
       "      <td>9643.944569</td>\n",
       "    </tr>\n",
       "  </tbody>\n",
       "</table>\n",
       "</div>"
      ],
      "text/plain": [
       "           Actual  ...  svr_prediction\n",
       "594    5709.16440  ...     9530.572418\n",
       "371   12029.28670  ...     9615.410812\n",
       "1253  15828.82173  ...     9518.123215\n",
       "49    38709.17600  ...     9496.522098\n",
       "312   42124.51530  ...     9541.268938\n",
       "551    3972.92470  ...     9469.761996\n",
       "654   12244.53100  ...     9632.956018\n",
       "661   22192.43711  ...     9617.369071\n",
       "254   41097.16175  ...     9584.147442\n",
       "1322  12981.34570  ...     9643.944569\n",
       "\n",
       "[10 rows x 5 columns]"
      ]
     },
     "execution_count": 27,
     "metadata": {
      "tags": []
     },
     "output_type": "execute_result"
    }
   ],
   "source": [
    "#Challenge 3\n",
    "#Setting up the data\n",
    "\n",
    "x = df.iloc[:, :-1]\n",
    "y = df.iloc[:, -1]\n",
    "\n",
    "x.shape # Gives (1338, 6)\n",
    "y.shape # gives (1338,)\n",
    "\n",
    "\n",
    "#Splitting the data Sets\n",
    "X_train, X_test, y_train, y_test = train_test_split(x, y, test_size = 0.2, random_state=42)\n",
    "\n",
    "#Creating Instances of the model\n",
    "linear_regressor = LinearRegression()\n",
    "knn_regressor = KNeighborsRegressor()\n",
    "decision_tree_regressor = DecisionTreeRegressor()\n",
    "svr_regressor = SVR()\n",
    "\n",
    "#Training the algorithms\n",
    "linear_regressor.fit(X_train, y_train)\n",
    "knn_regressor.fit(X_train, y_train)\n",
    "decision_tree_regressor.fit(X_train, y_train)\n",
    "svr_regressor.fit(X_train, y_train)\n",
    "\n",
    "#Making the predictions\n",
    "linear_pred = linear_regressor.predict(X_test)\n",
    "knn_pred = knn_regressor.predict(X_test)\n",
    "decision_tree_pred = decision_tree_regressor.predict(X_test)\n",
    "svr_pred = svr_regressor.predict(X_test)\n",
    "\n",
    "#Make comparison to the original\n",
    "\n",
    "df_comparison = pd.DataFrame({\n",
    "    'Actual': y_test, \n",
    "    'linear_y_prediction': linear_pred,\n",
    "    'knn_prediction': knn_pred, \n",
    "    'decision_tree_prediction': decision_tree_pred,\n",
    "    'svr_prediction': svr_pred\n",
    "})\n",
    "\n",
    "df_comparison.sample(10)"
   ]
  },
  {
   "cell_type": "code",
   "execution_count": 30,
   "metadata": {
    "colab": {
     "base_uri": "https://localhost:8080/"
    },
    "id": "VMQ6v9_hifpJ",
    "outputId": "2fdbb6eb-14d4-40b3-ff82-0a1c29404c04"
   },
   "outputs": [
    {
     "data": {
      "text/plain": [
       "{'10% of y': 1327.0422265141258,\n",
       " 'Decision Tree: Root Mean Squared Error': 6294.591133169868,\n",
       " 'KNN: Root Mean Squared Error': 11513.6974956335,\n",
       " 'Linear: Root Mean Squared Error': 5799.587091438356,\n",
       " 'SVR: Root Mean Squared Error': 12902.500599822259}"
      ]
     },
     "execution_count": 30,
     "metadata": {
      "tags": []
     },
     "output_type": "execute_result"
    }
   ],
   "source": [
    "#Challeng 3- Evaluating the model\n",
    "\n",
    "Evaluate = {}\n",
    "\n",
    "Evaluate['10% of y'] = y.mean() * 0.1\n",
    "Evaluate['Linear: Root Mean Squared Error'] = np.sqrt(metrics.mean_squared_error(y_test, linear_pred))\n",
    "Evaluate['KNN: Root Mean Squared Error'] = np.sqrt(metrics.mean_squared_error(y_test, knn_pred))\n",
    "Evaluate['Decision Tree: Root Mean Squared Error'] = np.sqrt(metrics.mean_squared_error(y_test, decision_tree_pred))\n",
    "Evaluate['SVR: Root Mean Squared Error'] = np.sqrt(metrics.mean_squared_error(y_test, svr_pred))\n",
    "\n",
    "Evaluate"
   ]
  },
  {
   "cell_type": "markdown",
   "metadata": {
    "id": "DNtNfHhrkH2q"
   },
   "source": [
    "The RMSES of each method is greater than 10% the value of y, and also the values are far from zero, hence the model is not that accurate, additional data is required. "
   ]
  },
  {
   "cell_type": "markdown",
   "metadata": {
    "id": "VBR8j6zJ61xz"
   },
   "source": [
    "#### <font color=\"green\">Challenge 4</font>"
   ]
  },
  {
   "cell_type": "code",
   "execution_count": 31,
   "metadata": {
    "colab": {
     "base_uri": "https://localhost:8080/",
     "height": 223
    },
    "id": "Q4ura3JP61x1",
    "outputId": "6b13a80e-39ef-447a-c8ff-47a985427f17"
   },
   "outputs": [
    {
     "data": {
      "text/html": [
       "<div>\n",
       "<style scoped>\n",
       "    .dataframe tbody tr th:only-of-type {\n",
       "        vertical-align: middle;\n",
       "    }\n",
       "\n",
       "    .dataframe tbody tr th {\n",
       "        vertical-align: top;\n",
       "    }\n",
       "\n",
       "    .dataframe thead th {\n",
       "        text-align: right;\n",
       "    }\n",
       "</style>\n",
       "<table border=\"1\" class=\"dataframe\">\n",
       "  <thead>\n",
       "    <tr style=\"text-align: right;\">\n",
       "      <th></th>\n",
       "      <th>No</th>\n",
       "      <th>X1 transaction date</th>\n",
       "      <th>X2 house age</th>\n",
       "      <th>X3 distance to the nearest MRT station</th>\n",
       "      <th>X4 number of convenience stores</th>\n",
       "      <th>X5 latitude</th>\n",
       "      <th>X6 longitude</th>\n",
       "      <th>Y house price of unit area</th>\n",
       "    </tr>\n",
       "  </thead>\n",
       "  <tbody>\n",
       "    <tr>\n",
       "      <th>0</th>\n",
       "      <td>1</td>\n",
       "      <td>2012.917</td>\n",
       "      <td>32.0</td>\n",
       "      <td>84.87882</td>\n",
       "      <td>10</td>\n",
       "      <td>24.98298</td>\n",
       "      <td>121.54024</td>\n",
       "      <td>37.9</td>\n",
       "    </tr>\n",
       "    <tr>\n",
       "      <th>1</th>\n",
       "      <td>2</td>\n",
       "      <td>2012.917</td>\n",
       "      <td>19.5</td>\n",
       "      <td>306.59470</td>\n",
       "      <td>9</td>\n",
       "      <td>24.98034</td>\n",
       "      <td>121.53951</td>\n",
       "      <td>42.2</td>\n",
       "    </tr>\n",
       "    <tr>\n",
       "      <th>2</th>\n",
       "      <td>3</td>\n",
       "      <td>2013.583</td>\n",
       "      <td>13.3</td>\n",
       "      <td>561.98450</td>\n",
       "      <td>5</td>\n",
       "      <td>24.98746</td>\n",
       "      <td>121.54391</td>\n",
       "      <td>47.3</td>\n",
       "    </tr>\n",
       "    <tr>\n",
       "      <th>3</th>\n",
       "      <td>4</td>\n",
       "      <td>2013.500</td>\n",
       "      <td>13.3</td>\n",
       "      <td>561.98450</td>\n",
       "      <td>5</td>\n",
       "      <td>24.98746</td>\n",
       "      <td>121.54391</td>\n",
       "      <td>54.8</td>\n",
       "    </tr>\n",
       "    <tr>\n",
       "      <th>4</th>\n",
       "      <td>5</td>\n",
       "      <td>2012.833</td>\n",
       "      <td>5.0</td>\n",
       "      <td>390.56840</td>\n",
       "      <td>5</td>\n",
       "      <td>24.97937</td>\n",
       "      <td>121.54245</td>\n",
       "      <td>43.1</td>\n",
       "    </tr>\n",
       "  </tbody>\n",
       "</table>\n",
       "</div>"
      ],
      "text/plain": [
       "   No  X1 transaction date  ...  X6 longitude  Y house price of unit area\n",
       "0   1             2012.917  ...     121.54024                        37.9\n",
       "1   2             2012.917  ...     121.53951                        42.2\n",
       "2   3             2013.583  ...     121.54391                        47.3\n",
       "3   4             2013.500  ...     121.54391                        54.8\n",
       "4   5             2012.833  ...     121.54245                        43.1\n",
       "\n",
       "[5 rows x 8 columns]"
      ]
     },
     "execution_count": 31,
     "metadata": {
      "tags": []
     },
     "output_type": "execute_result"
    }
   ],
   "source": [
    "# Challenge 4\n",
    "# ---\n",
    "# Create a regression model given the following dataset.\n",
    "# ---\n",
    "# Dataset url = http://bit.ly/RealEstateDataset2\n",
    "# Hint: For ease of use of this dataset, drop the No. and date columns\n",
    "# ---\n",
    "\n",
    "df = pd.read_csv('http://bit.ly/RealEstateDataset2')\n",
    "\n",
    "df.head()"
   ]
  },
  {
   "cell_type": "code",
   "execution_count": 33,
   "metadata": {
    "colab": {
     "base_uri": "https://localhost:8080/",
     "height": 363
    },
    "id": "t8G5aQFEjI2B",
    "outputId": "d5d6b748-af78-4aa5-8cfb-aad84f84425c"
   },
   "outputs": [
    {
     "data": {
      "text/html": [
       "<div>\n",
       "<style scoped>\n",
       "    .dataframe tbody tr th:only-of-type {\n",
       "        vertical-align: middle;\n",
       "    }\n",
       "\n",
       "    .dataframe tbody tr th {\n",
       "        vertical-align: top;\n",
       "    }\n",
       "\n",
       "    .dataframe thead th {\n",
       "        text-align: right;\n",
       "    }\n",
       "</style>\n",
       "<table border=\"1\" class=\"dataframe\">\n",
       "  <thead>\n",
       "    <tr style=\"text-align: right;\">\n",
       "      <th></th>\n",
       "      <th>Actual</th>\n",
       "      <th>linear_y_prediction</th>\n",
       "      <th>knn_prediction</th>\n",
       "      <th>decision_tree_prediction</th>\n",
       "      <th>svr_prediction</th>\n",
       "    </tr>\n",
       "  </thead>\n",
       "  <tbody>\n",
       "    <tr>\n",
       "      <th>369</th>\n",
       "      <td>22.8</td>\n",
       "      <td>26.628180</td>\n",
       "      <td>27.42</td>\n",
       "      <td>32.1</td>\n",
       "      <td>25.217425</td>\n",
       "    </tr>\n",
       "    <tr>\n",
       "      <th>55</th>\n",
       "      <td>13.7</td>\n",
       "      <td>24.304949</td>\n",
       "      <td>27.08</td>\n",
       "      <td>13.8</td>\n",
       "      <td>34.163089</td>\n",
       "    </tr>\n",
       "    <tr>\n",
       "      <th>320</th>\n",
       "      <td>18.6</td>\n",
       "      <td>10.961988</td>\n",
       "      <td>17.26</td>\n",
       "      <td>19.2</td>\n",
       "      <td>20.584990</td>\n",
       "    </tr>\n",
       "    <tr>\n",
       "      <th>84</th>\n",
       "      <td>43.7</td>\n",
       "      <td>44.807113</td>\n",
       "      <td>40.92</td>\n",
       "      <td>34.4</td>\n",
       "      <td>42.282159</td>\n",
       "    </tr>\n",
       "    <tr>\n",
       "      <th>203</th>\n",
       "      <td>46.1</td>\n",
       "      <td>43.398779</td>\n",
       "      <td>48.52</td>\n",
       "      <td>42.1</td>\n",
       "      <td>43.007581</td>\n",
       "    </tr>\n",
       "    <tr>\n",
       "      <th>347</th>\n",
       "      <td>11.2</td>\n",
       "      <td>9.379299</td>\n",
       "      <td>16.76</td>\n",
       "      <td>22.6</td>\n",
       "      <td>24.886129</td>\n",
       "    </tr>\n",
       "    <tr>\n",
       "      <th>405</th>\n",
       "      <td>37.2</td>\n",
       "      <td>36.559793</td>\n",
       "      <td>49.74</td>\n",
       "      <td>26.9</td>\n",
       "      <td>43.926775</td>\n",
       "    </tr>\n",
       "    <tr>\n",
       "      <th>140</th>\n",
       "      <td>51.4</td>\n",
       "      <td>46.744485</td>\n",
       "      <td>59.72</td>\n",
       "      <td>51.7</td>\n",
       "      <td>43.068642</td>\n",
       "    </tr>\n",
       "    <tr>\n",
       "      <th>126</th>\n",
       "      <td>62.9</td>\n",
       "      <td>35.795198</td>\n",
       "      <td>37.58</td>\n",
       "      <td>34.2</td>\n",
       "      <td>37.976173</td>\n",
       "    </tr>\n",
       "    <tr>\n",
       "      <th>17</th>\n",
       "      <td>37.4</td>\n",
       "      <td>38.589636</td>\n",
       "      <td>45.24</td>\n",
       "      <td>43.1</td>\n",
       "      <td>42.600553</td>\n",
       "    </tr>\n",
       "  </tbody>\n",
       "</table>\n",
       "</div>"
      ],
      "text/plain": [
       "     Actual  linear_y_prediction  ...  decision_tree_prediction  svr_prediction\n",
       "369    22.8            26.628180  ...                      32.1       25.217425\n",
       "55     13.7            24.304949  ...                      13.8       34.163089\n",
       "320    18.6            10.961988  ...                      19.2       20.584990\n",
       "84     43.7            44.807113  ...                      34.4       42.282159\n",
       "203    46.1            43.398779  ...                      42.1       43.007581\n",
       "347    11.2             9.379299  ...                      22.6       24.886129\n",
       "405    37.2            36.559793  ...                      26.9       43.926775\n",
       "140    51.4            46.744485  ...                      51.7       43.068642\n",
       "126    62.9            35.795198  ...                      34.2       37.976173\n",
       "17     37.4            38.589636  ...                      43.1       42.600553\n",
       "\n",
       "[10 rows x 5 columns]"
      ]
     },
     "execution_count": 33,
     "metadata": {
      "tags": []
     },
     "output_type": "execute_result"
    }
   ],
   "source": [
    "#Challenge 4\n",
    "#Setting up the data\n",
    "\n",
    "x = df.iloc[:, :-1]\n",
    "y = df.iloc[:, -1]\n",
    "\n",
    "#Splitting the data Sets\n",
    "X_train, X_test, y_train, y_test = train_test_split(x, y, test_size = 0.2, random_state=42)\n",
    "\n",
    "#Creating Instances of the model\n",
    "linear_regressor = LinearRegression()\n",
    "knn_regressor = KNeighborsRegressor()\n",
    "decision_tree_regressor = DecisionTreeRegressor()\n",
    "svr_regressor = SVR()\n",
    "\n",
    "#Training the algorithms\n",
    "linear_regressor.fit(X_train, y_train)\n",
    "knn_regressor.fit(X_train, y_train)\n",
    "decision_tree_regressor.fit(X_train, y_train)\n",
    "svr_regressor.fit(X_train, y_train)\n",
    "\n",
    "#Making the predictions\n",
    "linear_pred = linear_regressor.predict(X_test)\n",
    "knn_pred = knn_regressor.predict(X_test)\n",
    "decision_tree_pred = decision_tree_regressor.predict(X_test)\n",
    "svr_pred = svr_regressor.predict(X_test)\n",
    "\n",
    "#Make comparison to the original\n",
    "\n",
    "df_comparison = pd.DataFrame({\n",
    "    'Actual': y_test, \n",
    "    'linear_y_prediction': linear_pred,\n",
    "    'knn_prediction': knn_pred, \n",
    "    'decision_tree_prediction': decision_tree_pred,\n",
    "    'svr_prediction': svr_pred\n",
    "})\n",
    "\n",
    "df_comparison.sample(10)"
   ]
  },
  {
   "cell_type": "code",
   "execution_count": 34,
   "metadata": {
    "colab": {
     "base_uri": "https://localhost:8080/"
    },
    "id": "EK5NEIMSjfns",
    "outputId": "6a8c5766-9f08-4665-ec53-455303db1a6e"
   },
   "outputs": [
    {
     "data": {
      "text/plain": [
       "{'10% of y': 3.7980193236714985,\n",
       " 'Decision Tree: Root Mean Squared Error': 7.649167211935204,\n",
       " 'KNN: Root Mean Squared Error': 8.073379728525337,\n",
       " 'Linear: Root Mean Squared Error': 7.389313951469497,\n",
       " 'SVR: Root Mean Squared Error': 8.236395037280085}"
      ]
     },
     "execution_count": 34,
     "metadata": {
      "tags": []
     },
     "output_type": "execute_result"
    }
   ],
   "source": [
    "#Challeng 4- Evaluating the model\n",
    "\n",
    "Evaluate = {}\n",
    "\n",
    "Evaluate['10% of y'] = y.mean() * 0.1\n",
    "Evaluate['Linear: Root Mean Squared Error'] = np.sqrt(metrics.mean_squared_error(y_test, linear_pred))\n",
    "Evaluate['KNN: Root Mean Squared Error'] = np.sqrt(metrics.mean_squared_error(y_test, knn_pred))\n",
    "Evaluate['Decision Tree: Root Mean Squared Error'] = np.sqrt(metrics.mean_squared_error(y_test, decision_tree_pred))\n",
    "Evaluate['SVR: Root Mean Squared Error'] = np.sqrt(metrics.mean_squared_error(y_test, svr_pred))\n",
    "\n",
    "Evaluate"
   ]
  },
  {
   "cell_type": "markdown",
   "metadata": {
    "id": "1c-bGJk-jssb"
   },
   "source": [
    "The RMES from the all the methods are greater than 10% the value of y'mean, but they are close to zero, hence the model is fairly accuarate."
   ]
  },
  {
   "cell_type": "markdown",
   "metadata": {
    "id": "xdVNER1AxGqn"
   },
   "source": [
    "#### <font color=\"green\">Challenge 5</font>"
   ]
  },
  {
   "cell_type": "markdown",
   "metadata": {
    "id": "Al57GgNryBwW"
   },
   "source": [
    "Use the given dataset to predict the energy consumed by appliances in a home.\n",
    "\n",
    "The dataset contains data collected at intervals of 10 min for about 4.5 months. The house temperature and humidity conditions were monitored with a ZigBee wireless sensor network. Each wireless node transmitted the temperature and humidity conditions around 3.3 min. Then, the wireless data was averaged for 10 minutes periods. The energy data was logged every 10 minutes with m-bus energy meters. Weather from the nearest airport weather station (Chievres Airport, Belgium) was downloaded from a public data set from Reliable Prognosis (rp5.ru), and merged together with the experimental data sets using the date and time column.  \n",
    "\n",
    "**Glossary**\n",
    "* date time year-month-day hour:minute:second\n",
    "* Appliances, energy use in Wh\n",
    "* lights, energy use of light fixtures in the house in Wh\n",
    "* T1, Temperature in kitchen area, in Celsius\n",
    "* RH1, Humidity in kitchen area, in % T2, Temperature in living room area, in * Celsius RH2, Humidity in living room area, in %\n",
    "* T3, Temperature in laundry room area\n",
    "* RH3, Humidity in laundry room area, in % T4, Temperature in office room, in * Celsius RH4, Humidity in office room, in %\n",
    "* T5, Temperature in bathroom, in Celsius\n",
    "* RH5, Humidity in bathroom, in % T6, Temperature outside the building (north side), in Celsius RH6, Humidity outside the building (north side), in %\n",
    "* T7, Temperature in ironing room , in Celsius\n",
    "* RH7, Humidity in ironing room, in % T8, Temperature in teenager room 2, in * Celsius RH8, Humidity in teenager room 2, in %\n",
    "* T9, Temperature in parents room, in Celsius\n",
    "* RH9, Humidity in parents room, in % To, Temperature outside (from Chievres weather station), in Celsius Pressure (from Chievres weather station), in mm Hg * RHout, Humidity outside (from Chievres weather station), in %\n",
    "Wind speed (from Chievres weather station), in m/s\n",
    "* Visibility (from Chievres weather station), in km\n",
    "* Tdewpoint (from Chievres weather station), Â°C\n",
    "* rv1, Random variable 1 \n",
    "* rv2, Random variable 2 \n",
    "\n",
    "Where indicated, hourly data (then interpolated) from the nearest airport weather station (Chievres Airport, Belgium) was downloaded from a public data set from Reliable Prognosis, rp5.ru. Permission was obtained from Reliable Prognosis for the distribution of the 4.5 months of weather data."
   ]
  },
  {
   "cell_type": "code",
   "execution_count": 36,
   "metadata": {
    "colab": {
     "base_uri": "https://localhost:8080/",
     "height": 313
    },
    "id": "ye3VdSMcw-54",
    "outputId": "afa777ad-b01b-436e-b8bb-28912be51491"
   },
   "outputs": [
    {
     "data": {
      "text/html": [
       "<div>\n",
       "<style scoped>\n",
       "    .dataframe tbody tr th:only-of-type {\n",
       "        vertical-align: middle;\n",
       "    }\n",
       "\n",
       "    .dataframe tbody tr th {\n",
       "        vertical-align: top;\n",
       "    }\n",
       "\n",
       "    .dataframe thead th {\n",
       "        text-align: right;\n",
       "    }\n",
       "</style>\n",
       "<table border=\"1\" class=\"dataframe\">\n",
       "  <thead>\n",
       "    <tr style=\"text-align: right;\">\n",
       "      <th></th>\n",
       "      <th>date</th>\n",
       "      <th>Appliances</th>\n",
       "      <th>lights</th>\n",
       "      <th>T1</th>\n",
       "      <th>RH_1</th>\n",
       "      <th>T2</th>\n",
       "      <th>RH_2</th>\n",
       "      <th>T3</th>\n",
       "      <th>RH_3</th>\n",
       "      <th>T4</th>\n",
       "      <th>RH_4</th>\n",
       "      <th>T5</th>\n",
       "      <th>RH_5</th>\n",
       "      <th>T6</th>\n",
       "      <th>RH_6</th>\n",
       "      <th>T7</th>\n",
       "      <th>RH_7</th>\n",
       "      <th>T8</th>\n",
       "      <th>RH_8</th>\n",
       "      <th>T9</th>\n",
       "      <th>RH_9</th>\n",
       "      <th>T_out</th>\n",
       "      <th>Press_mm_hg</th>\n",
       "      <th>RH_out</th>\n",
       "      <th>Windspeed</th>\n",
       "      <th>Visibility</th>\n",
       "      <th>Tdewpoint</th>\n",
       "      <th>rv1</th>\n",
       "      <th>rv2</th>\n",
       "    </tr>\n",
       "  </thead>\n",
       "  <tbody>\n",
       "    <tr>\n",
       "      <th>0</th>\n",
       "      <td>2016-01-11 17:00:00</td>\n",
       "      <td>60</td>\n",
       "      <td>30</td>\n",
       "      <td>19.89</td>\n",
       "      <td>47.596667</td>\n",
       "      <td>19.2</td>\n",
       "      <td>44.790000</td>\n",
       "      <td>19.79</td>\n",
       "      <td>44.730000</td>\n",
       "      <td>19.000000</td>\n",
       "      <td>45.566667</td>\n",
       "      <td>17.166667</td>\n",
       "      <td>55.20</td>\n",
       "      <td>7.026667</td>\n",
       "      <td>84.256667</td>\n",
       "      <td>17.200000</td>\n",
       "      <td>41.626667</td>\n",
       "      <td>18.2</td>\n",
       "      <td>48.900000</td>\n",
       "      <td>17.033333</td>\n",
       "      <td>45.53</td>\n",
       "      <td>6.600000</td>\n",
       "      <td>733.5</td>\n",
       "      <td>92.0</td>\n",
       "      <td>7.000000</td>\n",
       "      <td>63.000000</td>\n",
       "      <td>5.3</td>\n",
       "      <td>13.275433</td>\n",
       "      <td>13.275433</td>\n",
       "    </tr>\n",
       "    <tr>\n",
       "      <th>1</th>\n",
       "      <td>2016-01-11 17:10:00</td>\n",
       "      <td>60</td>\n",
       "      <td>30</td>\n",
       "      <td>19.89</td>\n",
       "      <td>46.693333</td>\n",
       "      <td>19.2</td>\n",
       "      <td>44.722500</td>\n",
       "      <td>19.79</td>\n",
       "      <td>44.790000</td>\n",
       "      <td>19.000000</td>\n",
       "      <td>45.992500</td>\n",
       "      <td>17.166667</td>\n",
       "      <td>55.20</td>\n",
       "      <td>6.833333</td>\n",
       "      <td>84.063333</td>\n",
       "      <td>17.200000</td>\n",
       "      <td>41.560000</td>\n",
       "      <td>18.2</td>\n",
       "      <td>48.863333</td>\n",
       "      <td>17.066667</td>\n",
       "      <td>45.56</td>\n",
       "      <td>6.483333</td>\n",
       "      <td>733.6</td>\n",
       "      <td>92.0</td>\n",
       "      <td>6.666667</td>\n",
       "      <td>59.166667</td>\n",
       "      <td>5.2</td>\n",
       "      <td>18.606195</td>\n",
       "      <td>18.606195</td>\n",
       "    </tr>\n",
       "    <tr>\n",
       "      <th>2</th>\n",
       "      <td>2016-01-11 17:20:00</td>\n",
       "      <td>50</td>\n",
       "      <td>30</td>\n",
       "      <td>19.89</td>\n",
       "      <td>46.300000</td>\n",
       "      <td>19.2</td>\n",
       "      <td>44.626667</td>\n",
       "      <td>19.79</td>\n",
       "      <td>44.933333</td>\n",
       "      <td>18.926667</td>\n",
       "      <td>45.890000</td>\n",
       "      <td>17.166667</td>\n",
       "      <td>55.09</td>\n",
       "      <td>6.560000</td>\n",
       "      <td>83.156667</td>\n",
       "      <td>17.200000</td>\n",
       "      <td>41.433333</td>\n",
       "      <td>18.2</td>\n",
       "      <td>48.730000</td>\n",
       "      <td>17.000000</td>\n",
       "      <td>45.50</td>\n",
       "      <td>6.366667</td>\n",
       "      <td>733.7</td>\n",
       "      <td>92.0</td>\n",
       "      <td>6.333333</td>\n",
       "      <td>55.333333</td>\n",
       "      <td>5.1</td>\n",
       "      <td>28.642668</td>\n",
       "      <td>28.642668</td>\n",
       "    </tr>\n",
       "    <tr>\n",
       "      <th>3</th>\n",
       "      <td>2016-01-11 17:30:00</td>\n",
       "      <td>50</td>\n",
       "      <td>40</td>\n",
       "      <td>19.89</td>\n",
       "      <td>46.066667</td>\n",
       "      <td>19.2</td>\n",
       "      <td>44.590000</td>\n",
       "      <td>19.79</td>\n",
       "      <td>45.000000</td>\n",
       "      <td>18.890000</td>\n",
       "      <td>45.723333</td>\n",
       "      <td>17.166667</td>\n",
       "      <td>55.09</td>\n",
       "      <td>6.433333</td>\n",
       "      <td>83.423333</td>\n",
       "      <td>17.133333</td>\n",
       "      <td>41.290000</td>\n",
       "      <td>18.1</td>\n",
       "      <td>48.590000</td>\n",
       "      <td>17.000000</td>\n",
       "      <td>45.40</td>\n",
       "      <td>6.250000</td>\n",
       "      <td>733.8</td>\n",
       "      <td>92.0</td>\n",
       "      <td>6.000000</td>\n",
       "      <td>51.500000</td>\n",
       "      <td>5.0</td>\n",
       "      <td>45.410389</td>\n",
       "      <td>45.410389</td>\n",
       "    </tr>\n",
       "    <tr>\n",
       "      <th>4</th>\n",
       "      <td>2016-01-11 17:40:00</td>\n",
       "      <td>60</td>\n",
       "      <td>40</td>\n",
       "      <td>19.89</td>\n",
       "      <td>46.333333</td>\n",
       "      <td>19.2</td>\n",
       "      <td>44.530000</td>\n",
       "      <td>19.79</td>\n",
       "      <td>45.000000</td>\n",
       "      <td>18.890000</td>\n",
       "      <td>45.530000</td>\n",
       "      <td>17.200000</td>\n",
       "      <td>55.09</td>\n",
       "      <td>6.366667</td>\n",
       "      <td>84.893333</td>\n",
       "      <td>17.200000</td>\n",
       "      <td>41.230000</td>\n",
       "      <td>18.1</td>\n",
       "      <td>48.590000</td>\n",
       "      <td>17.000000</td>\n",
       "      <td>45.40</td>\n",
       "      <td>6.133333</td>\n",
       "      <td>733.9</td>\n",
       "      <td>92.0</td>\n",
       "      <td>5.666667</td>\n",
       "      <td>47.666667</td>\n",
       "      <td>4.9</td>\n",
       "      <td>10.084097</td>\n",
       "      <td>10.084097</td>\n",
       "    </tr>\n",
       "  </tbody>\n",
       "</table>\n",
       "</div>"
      ],
      "text/plain": [
       "                  date  Appliances  lights  ...  Tdewpoint        rv1        rv2\n",
       "0  2016-01-11 17:00:00          60      30  ...        5.3  13.275433  13.275433\n",
       "1  2016-01-11 17:10:00          60      30  ...        5.2  18.606195  18.606195\n",
       "2  2016-01-11 17:20:00          50      30  ...        5.1  28.642668  28.642668\n",
       "3  2016-01-11 17:30:00          50      40  ...        5.0  45.410389  45.410389\n",
       "4  2016-01-11 17:40:00          60      40  ...        4.9  10.084097  10.084097\n",
       "\n",
       "[5 rows x 29 columns]"
      ]
     },
     "execution_count": 36,
     "metadata": {
      "tags": []
     },
     "output_type": "execute_result"
    }
   ],
   "source": [
    "# Challenge 5\n",
    "# ---\n",
    "# Create a regression model to predict the energy consumed by appliances at home.\n",
    "# ---\n",
    "# Dataset url = https://bit.ly/EnergyDataset\n",
    "# ---\n",
    "df = pd.read_csv('https://bit.ly/EnergyDataset')\n",
    "\n",
    "df.head()"
   ]
  },
  {
   "cell_type": "code",
   "execution_count": 38,
   "metadata": {
    "colab": {
     "base_uri": "https://localhost:8080/",
     "height": 363
    },
    "id": "qKlFcV_qkmRD",
    "outputId": "f98711b2-3117-4542-8be2-676355fe88cb"
   },
   "outputs": [
    {
     "data": {
      "text/html": [
       "<div>\n",
       "<style scoped>\n",
       "    .dataframe tbody tr th:only-of-type {\n",
       "        vertical-align: middle;\n",
       "    }\n",
       "\n",
       "    .dataframe tbody tr th {\n",
       "        vertical-align: top;\n",
       "    }\n",
       "\n",
       "    .dataframe thead th {\n",
       "        text-align: right;\n",
       "    }\n",
       "</style>\n",
       "<table border=\"1\" class=\"dataframe\">\n",
       "  <thead>\n",
       "    <tr style=\"text-align: right;\">\n",
       "      <th></th>\n",
       "      <th>Actual</th>\n",
       "      <th>linear_y_prediction</th>\n",
       "      <th>knn_prediction</th>\n",
       "      <th>decision_tree_prediction</th>\n",
       "      <th>svr_prediction</th>\n",
       "    </tr>\n",
       "  </thead>\n",
       "  <tbody>\n",
       "    <tr>\n",
       "      <th>322</th>\n",
       "      <td>30</td>\n",
       "      <td>142.734775</td>\n",
       "      <td>142.0</td>\n",
       "      <td>200.0</td>\n",
       "      <td>57.187440</td>\n",
       "    </tr>\n",
       "    <tr>\n",
       "      <th>5277</th>\n",
       "      <td>60</td>\n",
       "      <td>80.794877</td>\n",
       "      <td>62.0</td>\n",
       "      <td>50.0</td>\n",
       "      <td>56.731929</td>\n",
       "    </tr>\n",
       "    <tr>\n",
       "      <th>1272</th>\n",
       "      <td>80</td>\n",
       "      <td>96.583452</td>\n",
       "      <td>76.0</td>\n",
       "      <td>60.0</td>\n",
       "      <td>56.133821</td>\n",
       "    </tr>\n",
       "    <tr>\n",
       "      <th>16520</th>\n",
       "      <td>100</td>\n",
       "      <td>103.705360</td>\n",
       "      <td>94.0</td>\n",
       "      <td>90.0</td>\n",
       "      <td>74.817689</td>\n",
       "    </tr>\n",
       "    <tr>\n",
       "      <th>14006</th>\n",
       "      <td>60</td>\n",
       "      <td>69.262021</td>\n",
       "      <td>66.0</td>\n",
       "      <td>70.0</td>\n",
       "      <td>62.967067</td>\n",
       "    </tr>\n",
       "    <tr>\n",
       "      <th>18211</th>\n",
       "      <td>50</td>\n",
       "      <td>85.173058</td>\n",
       "      <td>64.0</td>\n",
       "      <td>50.0</td>\n",
       "      <td>61.928469</td>\n",
       "    </tr>\n",
       "    <tr>\n",
       "      <th>5248</th>\n",
       "      <td>70</td>\n",
       "      <td>49.275043</td>\n",
       "      <td>62.0</td>\n",
       "      <td>70.0</td>\n",
       "      <td>56.927507</td>\n",
       "    </tr>\n",
       "    <tr>\n",
       "      <th>1640</th>\n",
       "      <td>40</td>\n",
       "      <td>76.954352</td>\n",
       "      <td>32.0</td>\n",
       "      <td>20.0</td>\n",
       "      <td>52.773828</td>\n",
       "    </tr>\n",
       "    <tr>\n",
       "      <th>17004</th>\n",
       "      <td>50</td>\n",
       "      <td>140.243512</td>\n",
       "      <td>52.0</td>\n",
       "      <td>60.0</td>\n",
       "      <td>76.645534</td>\n",
       "    </tr>\n",
       "    <tr>\n",
       "      <th>15065</th>\n",
       "      <td>70</td>\n",
       "      <td>115.455211</td>\n",
       "      <td>64.0</td>\n",
       "      <td>60.0</td>\n",
       "      <td>62.404192</td>\n",
       "    </tr>\n",
       "  </tbody>\n",
       "</table>\n",
       "</div>"
      ],
      "text/plain": [
       "       Actual  linear_y_prediction  ...  decision_tree_prediction  svr_prediction\n",
       "322        30           142.734775  ...                     200.0       57.187440\n",
       "5277       60            80.794877  ...                      50.0       56.731929\n",
       "1272       80            96.583452  ...                      60.0       56.133821\n",
       "16520     100           103.705360  ...                      90.0       74.817689\n",
       "14006      60            69.262021  ...                      70.0       62.967067\n",
       "18211      50            85.173058  ...                      50.0       61.928469\n",
       "5248       70            49.275043  ...                      70.0       56.927507\n",
       "1640       40            76.954352  ...                      20.0       52.773828\n",
       "17004      50           140.243512  ...                      60.0       76.645534\n",
       "15065      70           115.455211  ...                      60.0       62.404192\n",
       "\n",
       "[10 rows x 5 columns]"
      ]
     },
     "execution_count": 38,
     "metadata": {
      "tags": []
     },
     "output_type": "execute_result"
    }
   ],
   "source": [
    "#Challenge 5\n",
    "\n",
    "#Setting up the data\n",
    "x = df.iloc[:, 2:]\n",
    "y = df.iloc[:, 1]\n",
    "\n",
    "#Splitting the data Sets\n",
    "X_train, X_test, y_train, y_test = train_test_split(x, y, test_size = 0.2, random_state=42)\n",
    "\n",
    "#Creating Instances of the model\n",
    "linear_regressor = LinearRegression()\n",
    "knn_regressor = KNeighborsRegressor()\n",
    "decision_tree_regressor = DecisionTreeRegressor()\n",
    "svr_regressor = SVR()\n",
    "\n",
    "#Training the algorithms\n",
    "linear_regressor.fit(X_train, y_train)\n",
    "knn_regressor.fit(X_train, y_train)\n",
    "decision_tree_regressor.fit(X_train, y_train)\n",
    "svr_regressor.fit(X_train, y_train)\n",
    "\n",
    "#Making the predictions\n",
    "linear_pred = linear_regressor.predict(X_test)\n",
    "knn_pred = knn_regressor.predict(X_test)\n",
    "decision_tree_pred = decision_tree_regressor.predict(X_test)\n",
    "svr_pred = svr_regressor.predict(X_test)\n",
    "\n",
    "#Make comparison to the original\n",
    "\n",
    "df_comparison = pd.DataFrame({\n",
    "    'Actual': y_test, \n",
    "    'linear_y_prediction': linear_pred,\n",
    "    'knn_prediction': knn_pred, \n",
    "    'decision_tree_prediction': decision_tree_pred,\n",
    "    'svr_prediction': svr_pred\n",
    "})\n",
    "\n",
    "df_comparison.sample(10)\n"
   ]
  },
  {
   "cell_type": "code",
   "execution_count": 39,
   "metadata": {
    "colab": {
     "base_uri": "https://localhost:8080/"
    },
    "id": "juMBJ5-HlMcN",
    "outputId": "3a46ee7f-88fb-4006-f833-576793c814b4"
   },
   "outputs": [
    {
     "data": {
      "text/plain": [
       "{'10% of y': 9.76949581960983,\n",
       " 'Decision Tree: Root Mean Squared Error': 89.95931293244985,\n",
       " 'KNN: Root Mean Squared Error': 90.81374653328764,\n",
       " 'Linear: Root Mean Squared Error': 91.17482597600878,\n",
       " 'SVR: Root Mean Squared Error': 104.94885871251232}"
      ]
     },
     "execution_count": 39,
     "metadata": {
      "tags": []
     },
     "output_type": "execute_result"
    }
   ],
   "source": [
    "Evaluate = {}\n",
    "\n",
    "Evaluate['10% of y'] = y.mean() * 0.1\n",
    "Evaluate['Linear: Root Mean Squared Error'] = np.sqrt(metrics.mean_squared_error(y_test, linear_pred))\n",
    "Evaluate['KNN: Root Mean Squared Error'] = np.sqrt(metrics.mean_squared_error(y_test, knn_pred))\n",
    "Evaluate['Decision Tree: Root Mean Squared Error'] = np.sqrt(metrics.mean_squared_error(y_test, decision_tree_pred))\n",
    "Evaluate['SVR: Root Mean Squared Error'] = np.sqrt(metrics.mean_squared_error(y_test, svr_pred))\n",
    "\n",
    "Evaluate"
   ]
  },
  {
   "cell_type": "markdown",
   "metadata": {
    "id": "OHRAP7PD7Edl"
   },
   "source": [
    "# Additional Section: Model Diagnosics & Selection"
   ]
  },
  {
   "cell_type": "markdown",
   "metadata": {
    "id": "So04wxp18hPI"
   },
   "source": [
    "## k-Fold Cross-Validation"
   ]
  },
  {
   "cell_type": "markdown",
   "metadata": {
    "id": "7mhStqcXBsMY"
   },
   "source": [
    "Cross-validation is a technique to evaluate predictive models by partitioning the original sample into a training set to train the algorithm, and a test set to evaluate it.\n",
    "\n",
    "In k-fold cross-validation, the original sample is randomly partitioned into k equal size subsamples. Of the k subsamples, a single subsample is retained as the validation data for testing the model, and the remaining k-1 subsamples are used as training data. The cross-validation process is then repeated k times (the folds), with each of the k subsamples used exactly once as the validation data. The k results from the folds can then be averaged (or otherwise combined) to produce a single estimation. The advantage of this method is that all observations are used for both training and validation, and each observation is used for validation exactly once.\n",
    "\n",
    "You can read more about K-fold Cross-Validation here. [https://bit.ly/300REyX and https://bit.ly/2MzsMGF]"
   ]
  },
  {
   "cell_type": "markdown",
   "metadata": {
    "id": "UJ0aRdHRDL6n"
   },
   "source": [
    "Let's figure out how to perform k-fold cross validation.\n",
    "\n",
    "We will use this dataset. https://bit.ly/USAdmissionsDataset\n",
    "\n",
    "We will first start by creating a multivariate model, and assessing it's accuracy."
   ]
  },
  {
   "cell_type": "code",
   "execution_count": 1,
   "metadata": {
    "colab": {
     "base_uri": "https://localhost:8080/"
    },
    "id": "fq3lgyiFC0i-",
    "outputId": "21ae35d5-cebd-4df9-bcc9-696f6d3a5d76"
   },
   "outputs": [
    {
     "name": "stdout",
     "output_type": "stream",
     "text": [
      "Mean Absolute Error: 0.05691472219785115\n",
      "Mean Squared Error: 0.005725926473228667\n",
      "Root Mean Squared Error: 0.07566985181185878\n"
     ]
    }
   ],
   "source": [
    "import numpy as np\n",
    "import pandas as pd\n",
    "from sklearn.model_selection import train_test_split\n",
    "from sklearn.linear_model import LinearRegression\n",
    "from sklearn import metrics\n",
    "\n",
    "#load the data\n",
    "data = pd.read_csv('https://bit.ly/USAdmissionsDataset')\n",
    "\n",
    "# We will use 4 independent variables for this\n",
    "X = data[['GRE', 'TOEFL', 'SOP', 'LOR']].values\n",
    "y = data['admit_chance'].values\n",
    "\n",
    "# Train using 80% of the data.\n",
    "X_train, X_test, y_train, y_test = train_test_split(X, y, test_size=0.2, random_state=0)\n",
    "\n",
    "# find optimal coefficients and intercept\n",
    "regressor = LinearRegression()  \n",
    "regressor.fit(X_train, y_train)\n",
    "\n",
    "# assess the accuraccy of the model\n",
    "y_pred = regressor.predict(X_test)\n",
    "\n",
    "print('Mean Absolute Error:', metrics.mean_absolute_error(y_test, y_pred))  \n",
    "print('Mean Squared Error:', metrics.mean_squared_error(y_test, y_pred))  \n",
    "print('Root Mean Squared Error:', np.sqrt(metrics.mean_squared_error(y_test, y_pred)))"
   ]
  },
  {
   "cell_type": "markdown",
   "metadata": {
    "id": "0X3CbOuyDWgV"
   },
   "source": [
    "Running the code above should yield an RMSE of ~ 0.0756. Let's now cross validate our model by using k-fold cross validation. We will use 5 folds for this example, and follow the documentation from [sklearn](https://https://scikit-learn.org/stable/modules/generated/sklearn.model_selection.KFold.html)"
   ]
  },
  {
   "cell_type": "code",
   "execution_count": 2,
   "metadata": {
    "colab": {
     "base_uri": "https://localhost:8080/"
    },
    "id": "NYMC9dazDXkQ",
    "outputId": "0792a8a6-348e-4f1b-9994-83d784bb1d54"
   },
   "outputs": [
    {
     "name": "stdout",
     "output_type": "stream",
     "text": [
      "we are using 5 folds\n",
      "\n",
      "Training model 1\n",
      "Model 1 Root Mean Squared Error: 0.11384971151782917\n",
      "\n",
      "Training model 2\n",
      "Model 2 Root Mean Squared Error: 0.06279391885787508\n",
      "\n",
      "Training model 3\n",
      "Model 3 Root Mean Squared Error: 0.05049941911260594\n",
      "\n",
      "Training model 4\n",
      "Model 4 Root Mean Squared Error: 0.06680059377472879\n",
      "\n",
      "Training model 5\n",
      "Model 5 Root Mean Squared Error: 0.05995110606834264\n"
     ]
    }
   ],
   "source": [
    "from sklearn.model_selection import KFold\n",
    "\n",
    "# We will use the same 4 independent variables for this\n",
    "X = data[['GRE', 'TOEFL', 'SOP', 'LOR']].values\n",
    "y = data['admit_chance'].values\n",
    "\n",
    "folds = KFold(n_splits=5)\n",
    "\n",
    "# note that if you have a KFold object, you can figure out how many folds you set up \n",
    "# for it using get_n_splits\n",
    "print('we are using ' +str(folds.get_n_splits(X)) + ' folds')\n",
    "\n",
    "# We now create and assess 5 models based on the folds we created.\n",
    "RMSES = [] # We will use this array to keep track of the RSME of each model\n",
    "count = 1 # This will just help \n",
    "for train_index, test_index in folds.split(X):\n",
    "  print('\\nTraining model ' + str(count))\n",
    "  \n",
    "  # set up the train and test based on the split determined by KFold\n",
    "  # With 5 folds, we will end up with 80% of our data in the training set, and 20% in the test set, just as above\n",
    "  X_train, X_test = X[train_index], X[test_index]\n",
    "  y_train, y_test = y[train_index], y[test_index]\n",
    "  \n",
    "  # fit a model accordingly\n",
    "  regressor = LinearRegression()  \n",
    "  regressor.fit(X_train, y_train)\n",
    "  \n",
    "  # assess the accuraccy of the model\n",
    "  y_pred = regressor.predict(X_test)\n",
    "  \n",
    "  rmse_value =  np.sqrt(metrics.mean_squared_error(y_test, y_pred))\n",
    "  RMSES.append(rmse_value)\n",
    "  \n",
    "  print('Model ' + str(count) + ' Root Mean Squared Error:',rmse_value)\n",
    "  count = count + 1"
   ]
  },
  {
   "cell_type": "markdown",
   "metadata": {
    "id": "7hq5VHrlDc4j"
   },
   "source": [
    "As you can tell from running the code, the RMSE value for our first model is fairly larger than the RMSE we found initially, and that of the other models. This would beg for an analysis of the specific indeces used. Perhaps most of the dataset's outliers were in the test set of model 1? as a challenge, perform a comparative analysis of the subset of the data used to test model 1 in comparison with the dataset as a whole.\n",
    "\n",
    "Another useful observation is comparing the average RMSE value of all these models to the one we obtain in our initial approache. We created the array RMSES to gather all the RMSE values, we can compute the average simply as follows"
   ]
  },
  {
   "cell_type": "code",
   "execution_count": null,
   "metadata": {
    "id": "0t8aZmL3Dkq_"
   },
   "outputs": [],
   "source": [
    "np.mean(RMSES)"
   ]
  },
  {
   "cell_type": "markdown",
   "metadata": {
    "id": "AbQSCfAhDnUB"
   },
   "source": [
    "As you can see, the average is fairly close to our initial value. However in this case, it might be worthwile to pick model 3 instead. \n",
    "\n",
    "Let's now highlight some variants of k-folds. A popular variant is called the leave one out cross validation, where the test data is just a single observation from your set. For a dataset of size **n**, this is the same as using kfold to create **n** folds. \n"
   ]
  },
  {
   "cell_type": "code",
   "execution_count": 3,
   "metadata": {
    "colab": {
     "base_uri": "https://localhost:8080/"
    },
    "id": "1rV5Iva5DoIP",
    "outputId": "c224003e-c88b-4e30-eaaa-ff2cbe494ea8"
   },
   "outputs": [
    {
     "name": "stdout",
     "output_type": "stream",
     "text": [
      "we are using 500 folds\n",
      "trained 500 models\n"
     ]
    },
    {
     "data": {
      "text/plain": [
       "0.052094961294479325"
      ]
     },
     "execution_count": 3,
     "metadata": {
      "tags": []
     },
     "output_type": "execute_result"
    }
   ],
   "source": [
    "from sklearn.model_selection import LeaveOneOut\n",
    "\n",
    "# Using 4 independent variables \n",
    "X = data[['GRE', 'TOEFL', 'SOP', 'LOR']].values\n",
    "y = data['admit_chance'].values\n",
    "\n",
    "folds = LeaveOneOut()\n",
    "\n",
    "# if we have a KFold object, you can figure out how many folds you set up \n",
    "# for it using get_n_splits\n",
    "print('we are using ' +str(folds.get_n_splits(X)) + ' folds')\n",
    "\n",
    "# we create and assess 5 models based on the folds we created.\n",
    "RMSES = [] # We will use this array to keep track of the RSME of each model\n",
    "count = 0 # This will just help \n",
    "for train_index, test_index in folds.split(X):\n",
    "  \n",
    "  # set up the train and test based on the split determined by KFold\n",
    "  # With 5 folds, we will end up with 80% of our data in the training set, and 20% in the test set, just as above\n",
    "  X_train, X_test = X[train_index], X[test_index]\n",
    "  y_train, y_test = y[train_index], y[test_index]\n",
    "  \n",
    "  # fitting our regression model\n",
    "  regressor = LinearRegression()  \n",
    "  regressor.fit(X_train, y_train)\n",
    "  \n",
    "  # making our predictins\n",
    "  y_pred = regressor.predict(X_test)\n",
    "  \n",
    "  rmse_value =  np.sqrt(metrics.mean_squared_error(y_test, y_pred))\n",
    "  RMSES.append(rmse_value)\n",
    "  \n",
    "  count = count + 1\n",
    "print('trained ' + str(count) + ' models' )\n",
    "np.mean(RMSES)"
   ]
  },
  {
   "cell_type": "markdown",
   "metadata": {
    "id": "3zkdgd_EDwIa"
   },
   "source": [
    "In this scenario it is also helpful to plot out the RMSE values across all models:"
   ]
  },
  {
   "cell_type": "code",
   "execution_count": 40,
   "metadata": {
    "colab": {
     "base_uri": "https://localhost:8080/",
     "height": 279
    },
    "id": "_Kk3YrUiDzPV",
    "outputId": "2b7aed22-00ba-4d98-e07b-6725a7eb2304"
   },
   "outputs": [
    {
     "data": {
      "image/png": "[encoded data removed]",
      "text/plain": [
       "<Figure size 432x288 with 1 Axes>"
      ]
     },
     "metadata": {
      "needs_background": "light",
      "tags": []
     },
     "output_type": "display_data"
    }
   ],
   "source": [
    "import matplotlib.pyplot as plt\n",
    "\n",
    "plt.plot(RMSES)\n",
    "plt.ylabel('RMSE value')\n",
    "plt.xlabel('model ID')\n",
    "plt.show()"
   ]
  },
  {
   "cell_type": "markdown",
   "metadata": {
    "id": "nBmEUYKfDym4"
   },
   "source": [
    "All in all, this indicates to us that it would be challenging to create a model that beats the ~0.05 average RMSE using this dataset. This is the benefit of using Leave One Out Cross validation: It gives us a sense of how best we can expect a given model to be using our dataset. Note however that this can be an extremely time consuming process for large datasets."
   ]
  },
  {
   "cell_type": "markdown",
   "metadata": {
    "id": "PMgCaf8eEA6n"
   },
   "source": [
    "#### <font color=\"green\">Challenge 1a</font>"
   ]
  },
  {
   "cell_type": "code",
   "execution_count": 41,
   "metadata": {
    "colab": {
     "base_uri": "https://localhost:8080/",
     "height": 206
    },
    "id": "zwRY5v7aEA6q",
    "outputId": "44e75628-a169-42b5-c101-8073a0f3c130"
   },
   "outputs": [
    {
     "data": {
      "text/html": [
       "<div>\n",
       "<style scoped>\n",
       "    .dataframe tbody tr th:only-of-type {\n",
       "        vertical-align: middle;\n",
       "    }\n",
       "\n",
       "    .dataframe tbody tr th {\n",
       "        vertical-align: top;\n",
       "    }\n",
       "\n",
       "    .dataframe thead th {\n",
       "        text-align: right;\n",
       "    }\n",
       "</style>\n",
       "<table border=\"1\" class=\"dataframe\">\n",
       "  <thead>\n",
       "    <tr style=\"text-align: right;\">\n",
       "      <th></th>\n",
       "      <th>YearsExperience</th>\n",
       "      <th>Salary</th>\n",
       "    </tr>\n",
       "  </thead>\n",
       "  <tbody>\n",
       "    <tr>\n",
       "      <th>0</th>\n",
       "      <td>1.1</td>\n",
       "      <td>39343</td>\n",
       "    </tr>\n",
       "    <tr>\n",
       "      <th>1</th>\n",
       "      <td>1.3</td>\n",
       "      <td>46205</td>\n",
       "    </tr>\n",
       "    <tr>\n",
       "      <th>2</th>\n",
       "      <td>1.5</td>\n",
       "      <td>37731</td>\n",
       "    </tr>\n",
       "    <tr>\n",
       "      <th>3</th>\n",
       "      <td>2.0</td>\n",
       "      <td>43525</td>\n",
       "    </tr>\n",
       "    <tr>\n",
       "      <th>4</th>\n",
       "      <td>2.2</td>\n",
       "      <td>39891</td>\n",
       "    </tr>\n",
       "  </tbody>\n",
       "</table>\n",
       "</div>"
      ],
      "text/plain": [
       "   YearsExperience  Salary\n",
       "0              1.1   39343\n",
       "1              1.3   46205\n",
       "2              1.5   37731\n",
       "3              2.0   43525\n",
       "4              2.2   39891"
      ]
     },
     "execution_count": 41,
     "metadata": {
      "tags": []
     },
     "output_type": "execute_result"
    }
   ],
   "source": [
    "# Challenge 1\n",
    "# ---\n",
    "# Revisit challenge 2a. above and use k-folds cross validation with 10 folds. \n",
    "# Assess your model. Was the performance good enough or are there alternative models.\n",
    "# ---\n",
    "# Dataset url = http://bit.ly/SLRSalaryDataset\n",
    "# ---\n",
    "\n",
    "df = pd.read_csv('http://bit.ly/SLRSalaryDataset')\n",
    "\n",
    "df.head()"
   ]
  },
  {
   "cell_type": "code",
   "execution_count": 49,
   "metadata": {
    "colab": {
     "base_uri": "https://localhost:8080/"
    },
    "id": "1E_qbDYwHEhA",
    "outputId": "cc06c40f-e53f-436f-844c-2fddefa759ab"
   },
   "outputs": [
    {
     "name": "stdout",
     "output_type": "stream",
     "text": [
      "10\n"
     ]
    },
    {
     "data": {
      "text/plain": [
       "6231.821552388688"
      ]
     },
     "execution_count": 49,
     "metadata": {
      "tags": []
     },
     "output_type": "execute_result"
    }
   ],
   "source": [
    "#Challenge 1\n",
    "#Setting the data\n",
    "\n",
    "X = df.iloc[:, :-1].values\n",
    "y = df.iloc[:, -1].values\n",
    "\n",
    "#To set the number of folds\n",
    "from sklearn.model_selection import KFold\n",
    "\n",
    "folds = KFold(n_splits=10)\n",
    "\n",
    "#To confirm the number of folds\n",
    "print(folds.get_n_splits(x))\n",
    "\n",
    "#Creating a list to place the RMSES for the vaious folds\n",
    "RMSES = []\n",
    "count = 0\n",
    "\n",
    "#Creating a for loop to calculate the RMSES for each fold\n",
    "\n",
    "for train_index, test_index in folds.split(x):\n",
    "  #To split the data set\n",
    "  X_train, X_test = X[train_index], X[test_index]\n",
    "  \n",
    "  y_train, y_test = y[train_index], y[test_index]\n",
    "\n",
    "  #To train the algorithm\n",
    "  regressor = LinearRegression()\n",
    "  regressor.fit(X_train, y_train)\n",
    "\n",
    "  #Making the predictions\n",
    "  y_pred = regressor.predict(X_test)\n",
    "\n",
    "  rmse_value = np.sqrt(metrics.mean_squared_error(y_test, y_pred))\n",
    "  RMSES.append(rmse_value)\n",
    "\n",
    "np.mean(RMSES)"
   ]
  },
  {
   "cell_type": "markdown",
   "metadata": {
    "id": "PKBB36UbMDh1"
   },
   "source": [
    "The RMSES value of the above model is high, hence more data is needed, and also additional variables if possible."
   ]
  },
  {
   "cell_type": "markdown",
   "metadata": {
    "id": "glhErHSiFQ01"
   },
   "source": [
    "## Detecting Multicollinearity"
   ]
  },
  {
   "cell_type": "markdown",
   "metadata": {
    "id": "jo7Cy69wFZgX"
   },
   "source": [
    "First understanding how our independent variables are correlated to each other"
   ]
  },
  {
   "cell_type": "code",
   "execution_count": 54,
   "metadata": {
    "colab": {
     "base_uri": "https://localhost:8080/",
     "height": 269
    },
    "id": "R_l-ft73FckN",
    "outputId": "46569712-e172-444f-ef0e-45879909adaa"
   },
   "outputs": [
    {
     "data": {
      "text/html": [
       "<div>\n",
       "<style scoped>\n",
       "    .dataframe tbody tr th:only-of-type {\n",
       "        vertical-align: middle;\n",
       "    }\n",
       "\n",
       "    .dataframe tbody tr th {\n",
       "        vertical-align: top;\n",
       "    }\n",
       "\n",
       "    .dataframe thead th {\n",
       "        text-align: right;\n",
       "    }\n",
       "</style>\n",
       "<table border=\"1\" class=\"dataframe\">\n",
       "  <thead>\n",
       "    <tr style=\"text-align: right;\">\n",
       "      <th></th>\n",
       "      <th>GRE</th>\n",
       "      <th>TOEFL</th>\n",
       "      <th>uni_rating</th>\n",
       "      <th>SOP</th>\n",
       "      <th>LOR</th>\n",
       "      <th>CGPA</th>\n",
       "      <th>publications</th>\n",
       "    </tr>\n",
       "  </thead>\n",
       "  <tbody>\n",
       "    <tr>\n",
       "      <th>GRE</th>\n",
       "      <td>1.000000</td>\n",
       "      <td>0.827200</td>\n",
       "      <td>0.635376</td>\n",
       "      <td>0.613498</td>\n",
       "      <td>0.524679</td>\n",
       "      <td>0.825878</td>\n",
       "      <td>0.563398</td>\n",
       "    </tr>\n",
       "    <tr>\n",
       "      <th>TOEFL</th>\n",
       "      <td>0.827200</td>\n",
       "      <td>1.000000</td>\n",
       "      <td>0.649799</td>\n",
       "      <td>0.644410</td>\n",
       "      <td>0.541563</td>\n",
       "      <td>0.810574</td>\n",
       "      <td>0.467012</td>\n",
       "    </tr>\n",
       "    <tr>\n",
       "      <th>uni_rating</th>\n",
       "      <td>0.635376</td>\n",
       "      <td>0.649799</td>\n",
       "      <td>1.000000</td>\n",
       "      <td>0.728024</td>\n",
       "      <td>0.608651</td>\n",
       "      <td>0.705254</td>\n",
       "      <td>0.427047</td>\n",
       "    </tr>\n",
       "    <tr>\n",
       "      <th>SOP</th>\n",
       "      <td>0.613498</td>\n",
       "      <td>0.644410</td>\n",
       "      <td>0.728024</td>\n",
       "      <td>1.000000</td>\n",
       "      <td>0.663707</td>\n",
       "      <td>0.712154</td>\n",
       "      <td>0.408116</td>\n",
       "    </tr>\n",
       "    <tr>\n",
       "      <th>LOR</th>\n",
       "      <td>0.524679</td>\n",
       "      <td>0.541563</td>\n",
       "      <td>0.608651</td>\n",
       "      <td>0.663707</td>\n",
       "      <td>1.000000</td>\n",
       "      <td>0.637469</td>\n",
       "      <td>0.372526</td>\n",
       "    </tr>\n",
       "    <tr>\n",
       "      <th>CGPA</th>\n",
       "      <td>0.825878</td>\n",
       "      <td>0.810574</td>\n",
       "      <td>0.705254</td>\n",
       "      <td>0.712154</td>\n",
       "      <td>0.637469</td>\n",
       "      <td>1.000000</td>\n",
       "      <td>0.501311</td>\n",
       "    </tr>\n",
       "    <tr>\n",
       "      <th>publications</th>\n",
       "      <td>0.563398</td>\n",
       "      <td>0.467012</td>\n",
       "      <td>0.427047</td>\n",
       "      <td>0.408116</td>\n",
       "      <td>0.372526</td>\n",
       "      <td>0.501311</td>\n",
       "      <td>1.000000</td>\n",
       "    </tr>\n",
       "  </tbody>\n",
       "</table>\n",
       "</div>"
      ],
      "text/plain": [
       "                   GRE     TOEFL  uni_rating  ...       LOR      CGPA  publications\n",
       "GRE           1.000000  0.827200    0.635376  ...  0.524679  0.825878      0.563398\n",
       "TOEFL         0.827200  1.000000    0.649799  ...  0.541563  0.810574      0.467012\n",
       "uni_rating    0.635376  0.649799    1.000000  ...  0.608651  0.705254      0.427047\n",
       "SOP           0.613498  0.644410    0.728024  ...  0.663707  0.712154      0.408116\n",
       "LOR           0.524679  0.541563    0.608651  ...  1.000000  0.637469      0.372526\n",
       "CGPA          0.825878  0.810574    0.705254  ...  0.637469  1.000000      0.501311\n",
       "publications  0.563398  0.467012    0.427047  ...  0.372526  0.501311      1.000000\n",
       "\n",
       "[7 rows x 7 columns]"
      ]
     },
     "execution_count": 54,
     "metadata": {
      "tags": []
     },
     "output_type": "execute_result"
    }
   ],
   "source": [
    "# importing our dataset\n",
    "df = pd.read_csv('https://bit.ly/USAdmissionsDataset')\n",
    "\n",
    "# Remove the serial and admit chance columns, we want to focus on our independent variables only.\n",
    "features = df.drop(columns=['Serial No.', 'admit_chance'])\n",
    "\n",
    "# calculating correlations\n",
    "corr = features.corr()\n",
    "corr"
   ]
  },
  {
   "cell_type": "markdown",
   "metadata": {
    "id": "rKjWJHt4Fo35"
   },
   "source": [
    "The table above shows us how each variable relates to another. The coefficient of 1 across the diagonal makes sense, as a variable is perfectly correlated to itself. Let's use these correlations to compute the VIF score for each variable. This will require a little bit of linear algebra, but the approach is straightforward: we create a new dataframe with the *inverse* of the matrix above."
   ]
  },
  {
   "cell_type": "code",
   "execution_count": 55,
   "metadata": {
    "colab": {
     "base_uri": "https://localhost:8080/",
     "height": 269
    },
    "id": "-eWxvxhbFxfg",
    "outputId": "bc64b785-ffa5-49e2-d469-63437dc835d5"
   },
   "outputs": [
    {
     "data": {
      "text/html": [
       "<div>\n",
       "<style scoped>\n",
       "    .dataframe tbody tr th:only-of-type {\n",
       "        vertical-align: middle;\n",
       "    }\n",
       "\n",
       "    .dataframe tbody tr th {\n",
       "        vertical-align: top;\n",
       "    }\n",
       "\n",
       "    .dataframe thead th {\n",
       "        text-align: right;\n",
       "    }\n",
       "</style>\n",
       "<table border=\"1\" class=\"dataframe\">\n",
       "  <thead>\n",
       "    <tr style=\"text-align: right;\">\n",
       "      <th></th>\n",
       "      <th>GRE</th>\n",
       "      <th>TOEFL</th>\n",
       "      <th>uni_rating</th>\n",
       "      <th>SOP</th>\n",
       "      <th>LOR</th>\n",
       "      <th>CGPA</th>\n",
       "      <th>publications</th>\n",
       "    </tr>\n",
       "  </thead>\n",
       "  <tbody>\n",
       "    <tr>\n",
       "      <th>GRE</th>\n",
       "      <td>4.464249</td>\n",
       "      <td>-1.919309</td>\n",
       "      <td>-0.167441</td>\n",
       "      <td>0.115539</td>\n",
       "      <td>0.163716</td>\n",
       "      <td>-1.829666</td>\n",
       "      <td>-0.738214</td>\n",
       "    </tr>\n",
       "    <tr>\n",
       "      <th>TOEFL</th>\n",
       "      <td>-1.919309</td>\n",
       "      <td>3.904213</td>\n",
       "      <td>-0.280590</td>\n",
       "      <td>-0.320530</td>\n",
       "      <td>0.008925</td>\n",
       "      <td>-1.216918</td>\n",
       "      <td>0.115389</td>\n",
       "    </tr>\n",
       "    <tr>\n",
       "      <th>uni_rating</th>\n",
       "      <td>-0.167441</td>\n",
       "      <td>-0.280590</td>\n",
       "      <td>2.621036</td>\n",
       "      <td>-1.003439</td>\n",
       "      <td>-0.326820</td>\n",
       "      <td>-0.504916</td>\n",
       "      <td>-0.109544</td>\n",
       "    </tr>\n",
       "    <tr>\n",
       "      <th>SOP</th>\n",
       "      <td>0.115539</td>\n",
       "      <td>-0.320530</td>\n",
       "      <td>-1.003439</td>\n",
       "      <td>2.835210</td>\n",
       "      <td>-0.715324</td>\n",
       "      <td>-0.670228</td>\n",
       "      <td>-0.041512</td>\n",
       "    </tr>\n",
       "    <tr>\n",
       "      <th>LOR</th>\n",
       "      <td>0.163716</td>\n",
       "      <td>0.008925</td>\n",
       "      <td>-0.326820</td>\n",
       "      <td>-0.715324</td>\n",
       "      <td>2.033555</td>\n",
       "      <td>-0.650578</td>\n",
       "      <td>-0.096312</td>\n",
       "    </tr>\n",
       "    <tr>\n",
       "      <th>CGPA</th>\n",
       "      <td>-1.829666</td>\n",
       "      <td>-1.216918</td>\n",
       "      <td>-0.504916</td>\n",
       "      <td>-0.670228</td>\n",
       "      <td>-0.650578</td>\n",
       "      <td>4.777992</td>\n",
       "      <td>-0.064604</td>\n",
       "    </tr>\n",
       "    <tr>\n",
       "      <th>publications</th>\n",
       "      <td>-0.738214</td>\n",
       "      <td>0.115389</td>\n",
       "      <td>-0.109544</td>\n",
       "      <td>-0.041512</td>\n",
       "      <td>-0.096312</td>\n",
       "      <td>-0.064604</td>\n",
       "      <td>1.494008</td>\n",
       "    </tr>\n",
       "  </tbody>\n",
       "</table>\n",
       "</div>"
      ],
      "text/plain": [
       "                   GRE     TOEFL  uni_rating  ...       LOR      CGPA  publications\n",
       "GRE           4.464249 -1.919309   -0.167441  ...  0.163716 -1.829666     -0.738214\n",
       "TOEFL        -1.919309  3.904213   -0.280590  ...  0.008925 -1.216918      0.115389\n",
       "uni_rating   -0.167441 -0.280590    2.621036  ... -0.326820 -0.504916     -0.109544\n",
       "SOP           0.115539 -0.320530   -1.003439  ... -0.715324 -0.670228     -0.041512\n",
       "LOR           0.163716  0.008925   -0.326820  ...  2.033555 -0.650578     -0.096312\n",
       "CGPA         -1.829666 -1.216918   -0.504916  ... -0.650578  4.777992     -0.064604\n",
       "publications -0.738214  0.115389   -0.109544  ... -0.096312 -0.064604      1.494008\n",
       "\n",
       "[7 rows x 7 columns]"
      ]
     },
     "execution_count": 55,
     "metadata": {
      "tags": []
     },
     "output_type": "execute_result"
    }
   ],
   "source": [
    "pd.DataFrame(np.linalg.inv(corr.values), index = corr.index, columns=corr.columns)"
   ]
  },
  {
   "cell_type": "markdown",
   "metadata": {
    "id": "CnFfu3STF1wM"
   },
   "source": [
    "Interpreting the table is straightforward: The VIF score for each variable is found alongside the downwards sloping diagonal. GRE has a score of 4.46, TOEFL has a score of 3.9, uni_rating a score of 2.62, etc.\n",
    "\n",
    "CGPA has a value nearing 5, let's see how the VIF scores improve if we remove it from our dataset"
   ]
  },
  {
   "cell_type": "code",
   "execution_count": 56,
   "metadata": {
    "colab": {
     "base_uri": "https://localhost:8080/",
     "height": 237
    },
    "id": "mMd5p8hEF1Fi",
    "outputId": "6f48dd21-ce75-4133-e7c8-412f5cc3024c"
   },
   "outputs": [
    {
     "data": {
      "text/html": [
       "<div>\n",
       "<style scoped>\n",
       "    .dataframe tbody tr th:only-of-type {\n",
       "        vertical-align: middle;\n",
       "    }\n",
       "\n",
       "    .dataframe tbody tr th {\n",
       "        vertical-align: top;\n",
       "    }\n",
       "\n",
       "    .dataframe thead th {\n",
       "        text-align: right;\n",
       "    }\n",
       "</style>\n",
       "<table border=\"1\" class=\"dataframe\">\n",
       "  <thead>\n",
       "    <tr style=\"text-align: right;\">\n",
       "      <th></th>\n",
       "      <th>GRE</th>\n",
       "      <th>TOEFL</th>\n",
       "      <th>uni_rating</th>\n",
       "      <th>SOP</th>\n",
       "      <th>LOR</th>\n",
       "      <th>publications</th>\n",
       "    </tr>\n",
       "  </thead>\n",
       "  <tbody>\n",
       "    <tr>\n",
       "      <th>GRE</th>\n",
       "      <td>3.763604</td>\n",
       "      <td>-2.385311</td>\n",
       "      <td>-0.360792</td>\n",
       "      <td>-0.141115</td>\n",
       "      <td>-0.085414</td>\n",
       "      <td>-0.762953</td>\n",
       "    </tr>\n",
       "    <tr>\n",
       "      <th>TOEFL</th>\n",
       "      <td>-2.385311</td>\n",
       "      <td>3.594274</td>\n",
       "      <td>-0.409188</td>\n",
       "      <td>-0.491232</td>\n",
       "      <td>-0.156772</td>\n",
       "      <td>0.098934</td>\n",
       "    </tr>\n",
       "    <tr>\n",
       "      <th>uni_rating</th>\n",
       "      <td>-0.360792</td>\n",
       "      <td>-0.409188</td>\n",
       "      <td>2.567679</td>\n",
       "      <td>-1.074266</td>\n",
       "      <td>-0.395570</td>\n",
       "      <td>-0.116371</td>\n",
       "    </tr>\n",
       "    <tr>\n",
       "      <th>SOP</th>\n",
       "      <td>-0.141115</td>\n",
       "      <td>-0.491232</td>\n",
       "      <td>-1.074266</td>\n",
       "      <td>2.741195</td>\n",
       "      <td>-0.806583</td>\n",
       "      <td>-0.050574</td>\n",
       "    </tr>\n",
       "    <tr>\n",
       "      <th>LOR</th>\n",
       "      <td>-0.085414</td>\n",
       "      <td>-0.156772</td>\n",
       "      <td>-0.395570</td>\n",
       "      <td>-0.806583</td>\n",
       "      <td>1.944971</td>\n",
       "      <td>-0.105109</td>\n",
       "    </tr>\n",
       "    <tr>\n",
       "      <th>publications</th>\n",
       "      <td>-0.762953</td>\n",
       "      <td>0.098934</td>\n",
       "      <td>-0.116371</td>\n",
       "      <td>-0.050574</td>\n",
       "      <td>-0.105109</td>\n",
       "      <td>1.493134</td>\n",
       "    </tr>\n",
       "  </tbody>\n",
       "</table>\n",
       "</div>"
      ],
      "text/plain": [
       "                   GRE     TOEFL  uni_rating       SOP       LOR  publications\n",
       "GRE           3.763604 -2.385311   -0.360792 -0.141115 -0.085414     -0.762953\n",
       "TOEFL        -2.385311  3.594274   -0.409188 -0.491232 -0.156772      0.098934\n",
       "uni_rating   -0.360792 -0.409188    2.567679 -1.074266 -0.395570     -0.116371\n",
       "SOP          -0.141115 -0.491232   -1.074266  2.741195 -0.806583     -0.050574\n",
       "LOR          -0.085414 -0.156772   -0.395570 -0.806583  1.944971     -0.105109\n",
       "publications -0.762953  0.098934   -0.116371 -0.050574 -0.105109      1.493134"
      ]
     },
     "execution_count": 56,
     "metadata": {
      "tags": []
     },
     "output_type": "execute_result"
    }
   ],
   "source": [
    "revised = features.drop(columns=['CGPA'])\n",
    "\n",
    "corr = revised.corr()\n",
    "pd.DataFrame(np.linalg.inv(corr.values), index = corr.index, columns=corr.columns)"
   ]
  },
  {
   "cell_type": "markdown",
   "metadata": {
    "id": "m5l94WOqF7db"
   },
   "source": [
    "All scores dropped, but the GRE's in particular did quite a bit, indicating that GRE and CGPA were colinear. "
   ]
  },
  {
   "cell_type": "markdown",
   "metadata": {
    "id": "30haLyWvGWSc"
   },
   "source": [
    "## Residual Plots and Heteroskedasticity testing"
   ]
  },
  {
   "cell_type": "markdown",
   "metadata": {
    "id": "d1VtJT-zGePf"
   },
   "source": [
    "Let's start by creating a model based on our revised set of independent variables above, then displaying the residual plot for it."
   ]
  },
  {
   "cell_type": "code",
   "execution_count": 57,
   "metadata": {
    "colab": {
     "base_uri": "https://localhost:8080/"
    },
    "id": "xo_sqwzzGbvq",
    "outputId": "d30ddcdf-20f6-44f6-d9e9-e67e164c0fc7"
   },
   "outputs": [
    {
     "data": {
      "text/plain": [
       "-0.0017516644688065042"
      ]
     },
     "execution_count": 57,
     "metadata": {
      "tags": []
     },
     "output_type": "execute_result"
    }
   ],
   "source": [
    "X = revised.values\n",
    "y = df['admit_chance'].values\n",
    "\n",
    "X_train, X_test, admit_train, admit_test = train_test_split(X, y, test_size=0.2, random_state=0)\n",
    "\n",
    "regressor = LinearRegression()\n",
    "regressor.fit(X_train, admit_train)\n",
    "\n",
    "# This is our prediction for admission based on our model\n",
    "admit_predict = regressor.predict(X_test)\n",
    "\n",
    "# We now create the residual by substracting the test value from the predicted \n",
    "# value for each row in our dataset\n",
    "\n",
    "residuals = np.subtract(admit_predict, admit_test)\n",
    "\n",
    "# Let's describe our residual:\n",
    "pd.DataFrame(residuals).describe()\n",
    "\n",
    "residuals.mean()"
   ]
  },
  {
   "cell_type": "markdown",
   "metadata": {
    "id": "2kHNo9IsGi_5"
   },
   "source": [
    "Before we interpret the description above, let's recall what we are trying to predict: The percentage chance of admission to university. This means values between 0 and 1. \n",
    "\n",
    "Our min and max for the residual are fairly high: they suggest we've been up to 26% off target. It's important for us to plot this first: Is this a common occurence, or a few outliers?\n",
    "\n",
    "Our mean on the other hand is close to 0, indicating that we tend to be fairly correct, although slightly over estimating chances by, on average, 0.17%\n",
    "\n",
    "Let's show the residual plot"
   ]
  },
  {
   "cell_type": "code",
   "execution_count": 58,
   "metadata": {
    "colab": {
     "base_uri": "https://localhost:8080/",
     "height": 279
    },
    "id": "fZmGqlm-Gib4",
    "outputId": "6a3b748a-5341-436c-9965-fedd965cea50"
   },
   "outputs": [
    {
     "data": {
      "image/png": "[encoded data removed]",
      "text/plain": [
       "<Figure size 432x288 with 1 Axes>"
      ]
     },
     "metadata": {
      "needs_background": "light",
      "tags": []
     },
     "output_type": "display_data"
    }
   ],
   "source": [
    "plt.scatter(admit_predict, residuals, color='black')\n",
    "plt.ylabel('Residual')\n",
    "plt.xlabel('Fitted values')\n",
    "plt.axhline(y= residuals.mean(), color='green', linewidth=1)\n",
    "plt.show()"
   ]
  },
  {
   "cell_type": "markdown",
   "metadata": {
    "id": "pN-8FTWJGm5X"
   },
   "source": [
    "This does not look too bad: our residuals are centered around a mean that is very close to 0, and there are no glaringly obvious patterns. Let's be thorough though, and perform a heteroskedasticity test.\n",
    "\n",
    "For this we will use [bartlett's test](https://www.itl.nist.gov/div898/handbook/eda/section3/eda357.htm). The test establishes as a null hypothesis that the variance is equal for all our datapoints,and the new hypothesis that the variance is different for at least one pair of datapoints.\n"
   ]
  },
  {
   "cell_type": "code",
   "execution_count": 59,
   "metadata": {
    "colab": {
     "base_uri": "https://localhost:8080/"
    },
    "id": "9oOokWKDGn5L",
    "outputId": "7119be73-62fe-4262-c43e-8fb091ac2ff5"
   },
   "outputs": [
    {
     "name": "stdout",
     "output_type": "stream",
     "text": [
      "185.4720823514965\n",
      "the variances are homogeneous!\n"
     ]
    }
   ],
   "source": [
    "import scipy as sp\n",
    "\n",
    "test_result, p_value = sp.stats.bartlett(admit_predict, residuals)\n",
    "\n",
    "# To interpret the results we must also compute a critical value of the chi squared distribution\n",
    "degree_of_freedom = len(admit_predict)-1\n",
    "probability = 1 - p_value\n",
    "\n",
    "critical_value = sp.stats.chi2.ppf(probability, degree_of_freedom)\n",
    "print(critical_value)\n",
    "\n",
    "# If the test_result is greater than the critical value, then we reject our null\n",
    "# hypothesis. This would mean that there are patterns to the variance of the data\n",
    "\n",
    "# Otherwise, we can identify no patterns, and we accept the null hypothesis that \n",
    "# the variance is homogeneous across our data\n",
    "\n",
    "if (test_result > critical_value):\n",
    "  print('the variances are unequal, and the model should be reassessed')\n",
    "else:\n",
    "  print('the variances are homogeneous!')"
   ]
  }
 ],
 "metadata": {
  "colab": {
   "collapsed_sections": [
    "oRCD6ZOWUA_q",
    "8tAUAu98l-E6",
    "o39LEL0PmKJa",
    "Jo5xObcPABVI",
    "P4BQ8leaAIK0",
    "xusxA9SxAZ2E",
    "vrcZrvkxAT5V",
    "El-bGzLnAs79",
    "lxjiQGpw1V9y",
    "Z10FEHDC1M_C",
    "bbxVxD3VjXfE",
    "6DveUDrgjbXh",
    "kHESK7PQjjrf",
    "5HXNf1GRO2GE",
    "UUAZgYrhj5ST"
   ],
   "name": "Regression_Analysis_with_Python - Solved.ipynb",
   "provenance": [],
   "toc_visible": true
  },
  "kernelspec": {
   "display_name": "Python 3",
   "language": "python",
   "name": "python3"
  },
  "language_info": {
   "codemirror_mode": {
    "name": "ipython",
    "version": 3
   },
   "file_extension": ".py",
   "mimetype": "text/x-python",
   "name": "python",
   "nbconvert_exporter": "python",
   "pygments_lexer": "ipython3",
   "version": "3.8.3"
  }
 },
 "nbformat": 4,
 "nbformat_minor": 1
}
