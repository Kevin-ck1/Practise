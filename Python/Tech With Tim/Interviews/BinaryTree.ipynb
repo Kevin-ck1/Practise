{
 "metadata": {
  "language_info": {
   "codemirror_mode": {
    "name": "ipython",
    "version": 3
   },
   "file_extension": ".py",
   "mimetype": "text/x-python",
   "name": "python",
   "nbconvert_exporter": "python",
   "pygments_lexer": "ipython3",
   "version": "3.8.3-final"
  },
  "orig_nbformat": 2,
  "kernelspec": {
   "name": "python383jvsc74a57bd02e866f0e2aa140c3884bc029dbe31d56837afa270cbfff6f5c57dbc7b48b8e98",
   "display_name": "Python 3.8.3 64-bit (conda)"
  }
 },
 "nbformat": 4,
 "nbformat_minor": 2,
 "cells": [
  {
   "source": [
    "# Tree Constructor\n",
    "Have the function TreeConstructor(strArr) take the array of strings stored in strArr, which will contain pairs of integers in the following format: (i1,i2), where i1 represents a child node in a tree and the second integer i2 signifies that it is the parent of i1. Your program should, in this case, return the string true because a valid binary tree can be formed. If a proper binary tree cannot be formed with the integer pairs, then return the string false. All of the integers within the tree will be unique, which means there can only be one node in the tree with the given integer value. \n",
    "\n",
    "[\"(1,2)\", \"(2,4)\", \"(7,2)\"] ==> This will return true\n",
    "\n",
    "\n",
    "[\"(1,2)\", \"(2,4)\", \"(5,7)\", \"(7,2)\", \"(9,5)\"] This returns true\n",
    "\n",
    "\n",
    "[\"(1,2)\", \"(3,2)\", \"(2,12)\", \"(5,2)\"] ==> This returns false\n",
    "\n",
    "\n"
   ],
   "cell_type": "markdown",
   "metadata": {}
  },
  {
   "cell_type": "code",
   "execution_count": null,
   "metadata": {},
   "outputs": [],
   "source": [
    "#To form a proper tree,\n",
    "#Each parent is to have atleast two child nodes\n",
    "#Each Child to have one child node \n",
    "#Each element is to appear once in the tree"
   ]
  },
  {
   "cell_type": "code",
   "execution_count": 2,
   "metadata": {},
   "outputs": [],
   "source": [
    "#Solution 1:\n",
    "#In this case, we use a dictionary to store the number of children each parent has and verse vasa\n",
    "\n",
    "def TreeConstructor(strAtt):\n",
    "    #Intitializing the dictionary\n",
    "    parents = {}\n",
    "    children = {}\n",
    "\n",
    "    for i in strAtt:\n",
    "        #Obtain the parent and child element\n",
    "        parent = int(i[3])\n",
    "        child = int(i[1])\n",
    "\n",
    "        #Checking if the parents nodes are okay\n",
    "        if parent in parents:\n",
    "            # Setting value of parent\n",
    "            if parents[parent] == 2:\n",
    "                return \"false\"\n",
    "            else:\n",
    "                parents[parent] += 1\n",
    "        else:\n",
    "            parents[parent] = 1\n",
    "\n",
    "        #Checking for\n",
    "        if child in children:\n",
    "            return \"false\"\n",
    "        else:\n",
    "            children[child] = 1\n",
    "    \n",
    "    ancestor = [x for x in plist if x not in clist]\n",
    "    if not ancestor:\n",
    "        return \"false\"\n",
    "\n",
    "    return \"true\"\n"
   ]
  },
  {
   "cell_type": "code",
   "execution_count": 9,
   "metadata": {},
   "outputs": [],
   "source": [
    "a =[\"(1,2)\", \"(2,4)\", \"(7,2)\"]\n",
    "b = [\"(1,2)\", \"(2,4)\", \"(5,7)\", \"(7,2)\", \"(9,5)\"]\n",
    "c = [\"(1,2)\", \"(3,2)\", \"(2,12)\", \"(5,2)\"]\n",
    "d = [\"(1,2)\", \"(2,4)\", \"(5,7)\", \"(7,2)\", \"(9,5)\",\"(4,5)\"]\n"
   ]
  },
  {
   "cell_type": "code",
   "execution_count": 7,
   "metadata": {},
   "outputs": [
    {
     "output_type": "error",
     "ename": "NameError",
     "evalue": "name 'TreeConstructor' is not defined",
     "traceback": [
      "\u001b[1;31m---------------------------------------------------------------------------\u001b[0m",
      "\u001b[1;31mNameError\u001b[0m                                 Traceback (most recent call last)",
      "\u001b[1;32m<ipython-input-7-d8f3bf051477>\u001b[0m in \u001b[0;36m<module>\u001b[1;34m\u001b[0m\n\u001b[1;32m----> 1\u001b[1;33m \u001b[0mprint\u001b[0m\u001b[1;33m(\u001b[0m\u001b[1;34mf\"a = {TreeConstructor(a)}\"\u001b[0m\u001b[1;33m)\u001b[0m\u001b[1;33m\u001b[0m\u001b[1;33m\u001b[0m\u001b[0m\n\u001b[0m\u001b[0;32m      2\u001b[0m \u001b[0mprint\u001b[0m\u001b[1;33m(\u001b[0m\u001b[1;34mf\"b = {TreeConstructor(b)}\"\u001b[0m\u001b[1;33m)\u001b[0m\u001b[1;33m\u001b[0m\u001b[1;33m\u001b[0m\u001b[0m\n\u001b[0;32m      3\u001b[0m \u001b[0mprint\u001b[0m\u001b[1;33m(\u001b[0m\u001b[1;34mf\"c = {TreeConstructor(c)}\"\u001b[0m\u001b[1;33m)\u001b[0m\u001b[1;33m\u001b[0m\u001b[1;33m\u001b[0m\u001b[0m\n\u001b[0;32m      4\u001b[0m \u001b[0mprint\u001b[0m\u001b[1;33m(\u001b[0m\u001b[1;34mf\"d = {TreeConstructor(d)}\"\u001b[0m\u001b[1;33m)\u001b[0m\u001b[1;33m\u001b[0m\u001b[1;33m\u001b[0m\u001b[0m\n",
      "\u001b[1;31mNameError\u001b[0m: name 'TreeConstructor' is not defined"
     ]
    }
   ],
   "source": [
    "print(f\"a = {TreeConstructor(a)}\")\n",
    "print(f\"b = {TreeConstructor(b)}\")\n",
    "print(f\"c = {TreeConstructor(c)}\")\n",
    "print(f\"d = {TreeConstructor(d)}\")"
   ]
  },
  {
   "cell_type": "code",
   "execution_count": 25,
   "metadata": {},
   "outputs": [],
   "source": [
    "#Solution 2: Placing Mapping Each child to its parent and also inverse\n",
    "#In this case we create a dictionary for both the parent and children\n",
    "#For each parent its value is a list of children that it has, and inverse is true\n",
    "def TreeConstructor1(strArr):\n",
    "\n",
    "  # code goes here\n",
    "  plist = {}\n",
    "  clist = {}\n",
    "\n",
    "  for i in strArr:\n",
    "    #Check on spliting the values, the solution below works for single digits\n",
    "    parent = int(i[3])\n",
    "    child = int(i[1])\n",
    "    if parent in plist:\n",
    "      plist[parent].append(child)\n",
    "    else:\n",
    "      plist[parent] = [child]\n",
    "    #Checking number of elements in each parent not to be greater than two\n",
    "    #.append(parent)\n",
    "    if child in clist:\n",
    "      #return False\n",
    "      clist[child].append(parent)\n",
    "    else:\n",
    "      clist[child] = [parent]\n",
    "    \n",
    "  ancestor = [x for x in plist if x not in clist]\n",
    "  if not ancestor:\n",
    "    return False\n",
    "    \n",
    "  return ancestor\n",
    "  #return True"
   ]
  },
  {
   "cell_type": "code",
   "execution_count": 18,
   "metadata": {},
   "outputs": [
    {
     "output_type": "stream",
     "name": "stdout",
     "text": [
      "a = {2: [1, 7], 4: [2]}\nb = {2: [1, 7], 4: [2], 7: [5], 5: [9]}\nc = {2: [1, 3, 5], 1: [2]}\nd = {2: [1, 7], 4: [2], 7: [5], 5: [9, 4]}\n"
     ]
    }
   ],
   "source": [
    "print(f\"a = {TreeConstructor1(a)}\")\n",
    "print(f\"b = {TreeConstructor1(b)}\")\n",
    "print(f\"c = {TreeConstructor1(c)}\")\n",
    "print(f\"d = {TreeConstructor1(d)}\")"
   ]
  },
  {
   "cell_type": "code",
   "execution_count": 20,
   "metadata": {},
   "outputs": [
    {
     "output_type": "stream",
     "name": "stdout",
     "text": [
      "a = {2: [1, 7], 4: [2]}\nb = {2: [1, 7], 4: [2], 7: [5], 5: [9]}\nc = {2: [1, 3, 5], 1: [2]}\nd = {2: [1, 7], 4: [2], 7: [5], 5: [9, 4]}\n"
     ]
    }
   ],
   "source": [
    "#Parent\n",
    "print(f\"a = {TreeConstructor1(a)}\")\n",
    "print(f\"b = {TreeConstructor1(b)}\")\n",
    "print(f\"c = {TreeConstructor1(c)}\")\n",
    "print(f\"d = {TreeConstructor1(d)}\")"
   ]
  },
  {
   "cell_type": "code",
   "execution_count": 26,
   "metadata": {},
   "outputs": [
    {
     "output_type": "stream",
     "name": "stdout",
     "text": [
      "a = [4]\nb = [4]\nc = []\nd = []\n"
     ]
    }
   ],
   "source": [
    "#Ancestor\n",
    "print(f\"a = {TreeConstructor1(a)}\")\n",
    "print(f\"b = {TreeConstructor1(b)}\")\n",
    "print(f\"c = {TreeConstructor1(c)}\")\n",
    "print(f\"d = {TreeConstructor1(d)}\")"
   ]
  },
  {
   "cell_type": "code",
   "execution_count": null,
   "metadata": {},
   "outputs": [],
   "source": []
  }
 ]
}