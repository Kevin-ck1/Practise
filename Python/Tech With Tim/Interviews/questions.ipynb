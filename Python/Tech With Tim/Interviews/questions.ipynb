{
 "metadata": {
  "language_info": {
   "codemirror_mode": {
    "name": "ipython",
    "version": 3
   },
   "file_extension": ".py",
   "mimetype": "text/x-python",
   "name": "python",
   "nbconvert_exporter": "python",
   "pygments_lexer": "ipython3",
   "version": "3.8.3-final"
  },
  "orig_nbformat": 2,
  "kernelspec": {
   "name": "python3",
   "display_name": "Python 3.8.3 64-bit (conda)",
   "metadata": {
    "interpreter": {
     "hash": "2e866f0e2aa140c3884bc029dbe31d56837afa270cbfff6f5c57dbc7b48b8e98"
    }
   }
  }
 },
 "nbformat": 4,
 "nbformat_minor": 2,
 "cells": [
  {
   "source": [
    "# Question 1: Nth Fibonaci\n",
    "\n",
    "The Fibonaci sequence is defined as follows: The first number of the sequence is 0, the second number is 1, and the nth number is the sum of the (n-1)th and (n-2)th number. Write a function that takes in an interger n and returns the nth Fibonaci number.\n",
    "Sample Input:6\n",
    "\n",
    "Sample output: 5(0,1,1,2,3,5)"
   ],
   "cell_type": "markdown",
   "metadata": {}
  },
  {
   "cell_type": "code",
   "execution_count": 233,
   "metadata": {},
   "outputs": [],
   "source": [
    "#Solution 1 using while loop\n",
    "def fibno(n):\n",
    "    #In this case we know the value of the first two numbers\n",
    "    a = [0,1]\n",
    "    p = 0\n",
    "    i = 0\n",
    "    while True:\n",
    "        if len(a) == n:\n",
    "            break\n",
    "        p = a[i] + a[i+1]\n",
    "        a.append(p)\n",
    "        i += 1\n",
    "    b = a[-1]\n",
    "    return b"
   ]
  },
  {
   "cell_type": "code",
   "execution_count": 234,
   "metadata": {},
   "outputs": [],
   "source": [
    "#Solution 1 using while loop\n",
    "def fibno4(n):\n",
    "    #In this case we know the value of the first two numbers\n",
    "    a = [0,1]\n",
    "    p = 0\n",
    "    i = 0\n",
    "    while True:\n",
    "        if len(a) == n:\n",
    "            break\n",
    "        p = a[i] + a[i+1]\n",
    "        a.append(p)\n",
    "        i += 1\n",
    "    return p"
   ]
  },
  {
   "cell_type": "code",
   "execution_count": 235,
   "metadata": {},
   "outputs": [],
   "source": [
    "#Solution 2: Using Recursive Function\n",
    "#A recursive function is where by we we call a function within the function\n",
    "#In this case we are to find the value of the nth number in the sequence,\n",
    "#Knowing that for the value of the nth number, it returns the addition of the previous two values, i.e it is the addition of the values in position (n-1)th and (n-2)th \n",
    "\n",
    "# To use a recursive function we need to set a base case. \n",
    "#In this case the base case will be the value in the 1st position is equal to 0, abd the value of the 2nd and 3rd value are equal to one, therefore the solution will be\n"
   ]
  },
  {
   "cell_type": "code",
   "execution_count": 236,
   "metadata": {},
   "outputs": [],
   "source": [
    "#Solution 2-1\n",
    "def fibno1(n):\n",
    "    #Setting up the base case\n",
    "    if n == 1:\n",
    "        return 0\n",
    "    if n <= 3:\n",
    "        return 1\n",
    "    #To set-up the recursive procedure, this is where n is greater than 3\n",
    "    return fibno1(n-1) + fibno1(n-2)"
   ]
  },
  {
   "cell_type": "code",
   "execution_count": 237,
   "metadata": {},
   "outputs": [
    {
     "output_type": "execute_result",
     "data": {
      "text/plain": [
       "5"
      ]
     },
     "metadata": {},
     "execution_count": 237
    }
   ],
   "source": [
    "fibno1(6)"
   ]
  },
  {
   "cell_type": "code",
   "execution_count": 238,
   "metadata": {},
   "outputs": [],
   "source": [
    "#Solution 2-2: Hash Table + Recursive\n",
    "#For this case for every calucluated value in the recursive function we are to place it in a hash table\n",
    "def fibno2(n):\n",
    "    # Setting Up the Hash table with the base value\n",
    "    # For the table, the key is the position(nth) while the value is the Fibonaci value\n",
    "    table = {1:0, 2:1, 3:1}\n",
    "\n",
    "    #For the base case, we check if the key n is in the hash table\n",
    "    if n in table:\n",
    "        return table[n]\n",
    "    #For the recursive procedure\n",
    "    #In this case we are creating a new key value pair\n",
    "    table[n] = fibno2(n-1) + fibno2(n-2)\n",
    "    return table[n]\n",
    "\n",
    "\n",
    "\n"
   ]
  },
  {
   "cell_type": "code",
   "execution_count": 239,
   "metadata": {},
   "outputs": [
    {
     "output_type": "execute_result",
     "data": {
      "text/plain": [
       "5"
      ]
     },
     "metadata": {},
     "execution_count": 239
    }
   ],
   "source": [
    "fibno2(6)"
   ]
  },
  {
   "cell_type": "code",
   "execution_count": 240,
   "metadata": {},
   "outputs": [],
   "source": [
    "# Solution 2-3\n",
    "#We can improve on the above solution by passing the table as a variable\n",
    "def fibno3(n, table ={1:0, 2:1, 3:1}):\n",
    "    #Setting Base case\n",
    "    if n in table:\n",
    "        return table[n]\n",
    "    #Setting the Recursive Procedure\n",
    "    table[n] =  fibno3(n-1, table) + fibno3(n-2, table)\n",
    "    return table[n]\n",
    "    "
   ]
  },
  {
   "cell_type": "code",
   "execution_count": 241,
   "metadata": {},
   "outputs": [],
   "source": [
    "import time"
   ]
  },
  {
   "cell_type": "code",
   "execution_count": 242,
   "metadata": {},
   "outputs": [
    {
     "output_type": "stream",
     "name": "stdout",
     "text": [
      "Time taken to give 26863810024485359386146727202142923967616609318986952340123175997617981700247881689338369654483356564191827856161443356312976673642210350324634850410377680367334151172899169723197082763985615764450078474174626 is 0.0010018348693847656\n"
     ]
    }
   ],
   "source": [
    "begin = time.time()\n",
    "a = fibno4(1000)\n",
    "end = time.time()\n",
    "timetaken = end- begin\n",
    "print(f\"Time taken to give {a} is {timetaken}\")"
   ]
  },
  {
   "cell_type": "code",
   "execution_count": 243,
   "metadata": {},
   "outputs": [
    {
     "output_type": "stream",
     "name": "stdout",
     "text": [
      "Time taken to give 26863810024485359386146727202142923967616609318986952340123175997617981700247881689338369654483356564191827856161443356312976673642210350324634850410377680367334151172899169723197082763985615764450078474174626 is 0.0009980201721191406\n"
     ]
    }
   ],
   "source": [
    "begin = time.time()\n",
    "a = fibno(1000)\n",
    "end = time.time()\n",
    "timetaken = end- begin\n",
    "print(f\"Time taken to give {a} is {timetaken}\")"
   ]
  },
  {
   "cell_type": "code",
   "execution_count": 244,
   "metadata": {},
   "outputs": [
    {
     "output_type": "stream",
     "name": "stdout",
     "text": [
      "Time taken to give 26863810024485359386146727202142923967616609318986952340123175997617981700247881689338369654483356564191827856161443356312976673642210350324634850410377680367334151172899169723197082763985615764450078474174626 is 0.003783702850341797\n"
     ]
    }
   ],
   "source": [
    "begin = time.time()\n",
    "a = fibno3(1000)\n",
    "end = time.time()\n",
    "timetaken = end- begin\n",
    "print(f\"Time taken to give {a} is {timetaken}\")"
   ]
  },
  {
   "cell_type": "code",
   "execution_count": null,
   "metadata": {},
   "outputs": [],
   "source": []
  }
 ]
}