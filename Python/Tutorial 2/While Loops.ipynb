{
 "cells": [
  {
   "cell_type": "code",
   "execution_count": 2,
   "metadata": {},
   "outputs": [
    {
     "name": "stdout",
     "output_type": "stream",
     "text": [
      "10\n"
     ]
    }
   ],
   "source": [
    "# Recap using for loops\n",
    "\n",
    "t1 = 0\n",
    "for i in range(1, 5):\n",
    "    t1 += i\n",
    "print(t1)"
   ]
  },
  {
   "cell_type": "code",
   "execution_count": null,
   "metadata": {},
   "outputs": [],
   "source": [
    "# Using while loop"
   ]
  },
  {
   "cell_type": "code",
   "execution_count": 1,
   "metadata": {},
   "outputs": [
    {
     "name": "stdout",
     "output_type": "stream",
     "text": [
      "10\n"
     ]
    }
   ],
   "source": [
    "total2 = 0\n",
    "j = 1\n",
    "while j < 5:\n",
    "    total2 += j\n",
    "    j += 1\n",
    "print(total2)"
   ]
  },
  {
   "cell_type": "code",
   "execution_count": 3,
   "metadata": {},
   "outputs": [],
   "source": [
    "# while loops used- When you dont know the number of loops required before hand"
   ]
  },
  {
   "cell_type": "code",
   "execution_count": 6,
   "metadata": {},
   "outputs": [
    {
     "name": "stdout",
     "output_type": "stream",
     "text": [
      "17\n"
     ]
    }
   ],
   "source": [
    "# Quiz- Finding Sum of all positive elemnts in the list.\n",
    "# i is used as to inicate the index of an element in the list\n",
    "\n",
    "a = [5, 4, 4, 3, 1, -2, -3, -5]\n",
    "\n",
    "t3 = 0\n",
    "i = 0               # i is used as to inicate the index of an element in the list\n",
    "while a[i] > 0:\n",
    "    t3 += a[i]\n",
    "    i += 1          # +1 ensures that we get the next idex position=== 0, 1, 2, 3, 4...\n",
    "print(t3)"
   ]
  },
  {
   "cell_type": "code",
   "execution_count": 7,
   "metadata": {},
   "outputs": [
    {
     "ename": "IndexError",
     "evalue": "list index out of range",
     "output_type": "error",
     "traceback": [
      "\u001b[1;31m---------------------------------------------------------------------------\u001b[0m",
      "\u001b[1;31mIndexError\u001b[0m                                Traceback (most recent call last)",
      "\u001b[1;32m<ipython-input-7-51d8c286ccc0>\u001b[0m in \u001b[0;36m<module>\u001b[1;34m\u001b[0m\n\u001b[0;32m      5\u001b[0m \u001b[0mt3\u001b[0m \u001b[1;33m=\u001b[0m \u001b[1;36m0\u001b[0m\u001b[1;33m\u001b[0m\u001b[1;33m\u001b[0m\u001b[0m\n\u001b[0;32m      6\u001b[0m \u001b[0mi\u001b[0m \u001b[1;33m=\u001b[0m \u001b[1;36m0\u001b[0m               \u001b[1;31m# i is used as to inicate the index of an element in the list\u001b[0m\u001b[1;33m\u001b[0m\u001b[1;33m\u001b[0m\u001b[0m\n\u001b[1;32m----> 7\u001b[1;33m \u001b[1;32mwhile\u001b[0m \u001b[0ma\u001b[0m\u001b[1;33m[\u001b[0m\u001b[0mi\u001b[0m\u001b[1;33m]\u001b[0m \u001b[1;33m>\u001b[0m \u001b[1;36m0\u001b[0m\u001b[1;33m:\u001b[0m\u001b[1;33m\u001b[0m\u001b[1;33m\u001b[0m\u001b[0m\n\u001b[0m\u001b[0;32m      8\u001b[0m     \u001b[0mt3\u001b[0m \u001b[1;33m+=\u001b[0m \u001b[0ma\u001b[0m\u001b[1;33m[\u001b[0m\u001b[0mi\u001b[0m\u001b[1;33m]\u001b[0m\u001b[1;33m\u001b[0m\u001b[1;33m\u001b[0m\u001b[0m\n\u001b[0;32m      9\u001b[0m     \u001b[0mi\u001b[0m \u001b[1;33m+=\u001b[0m \u001b[1;36m1\u001b[0m          \u001b[1;31m# +1 ensures that we get the next idex position=== 0, 1, 2, 3, 4...\u001b[0m\u001b[1;33m\u001b[0m\u001b[1;33m\u001b[0m\u001b[0m\n",
      "\u001b[1;31mIndexError\u001b[0m: list index out of range"
     ]
    }
   ],
   "source": [
    "# the above method oly works if theres is a negative number in the list\n",
    "\n",
    "a = [5, 4, 4, 3, 1]\n",
    "\n",
    "t3 = 0\n",
    "i = 0               # i is used as to inicate the index of an element in the list\n",
    "while a[i] > 0:\n",
    "    t3 += a[i]\n",
    "    i += 1          # +1 ensures that we get the next idex position=== 0, 1, 2, 3, 4...\n",
    "print(t3)"
   ]
  },
  {
   "cell_type": "code",
   "execution_count": 8,
   "metadata": {},
   "outputs": [
    {
     "name": "stdout",
     "output_type": "stream",
     "text": [
      "No of elements in list:  5\n",
      "17\n"
     ]
    }
   ],
   "source": [
    "# to fix above problem\n",
    "# we add i < len(a)=== len(a) gives total number of elements in the group\n",
    "a = [5, 4, 4, 3, 1]\n",
    "print(\"No of elements in list: \", len(a))\n",
    "\n",
    "t3 = 0\n",
    "i = 0               # i is used as to inicate the index of an element in the list\n",
    "while i < len(a) and a[i] > 0:\n",
    "    t3 += a[i]\n",
    "    i += 1          # +1 ensures that we get the next idex position=== 0, 1, 2, 3, 4...\n",
    "print(t3)\n"
   ]
  },
  {
   "cell_type": "code",
   "execution_count": 10,
   "metadata": {},
   "outputs": [
    {
     "name": "stdout",
     "output_type": "stream",
     "text": [
      "17\n"
     ]
    }
   ],
   "source": [
    "# BREAK command\n",
    "# Using for loop + Break\n",
    "\n",
    "a2 = [5, 4, 4, 3, 1, -2, -3, -5]\n",
    "t4 = 0\n",
    "for e in a2:\n",
    "    if e <= 0:\n",
    "        break    #it breaks the loop, values less than zero excluded\n",
    "    t4 += e\n",
    "print(t4)\n"
   ]
  },
  {
   "cell_type": "code",
   "execution_count": 27,
   "metadata": {},
   "outputs": [
    {
     "name": "stdout",
     "output_type": "stream",
     "text": [
      "17\n"
     ]
    }
   ],
   "source": [
    "# Using while loop + Break\n",
    "\n",
    "a2 = [5, 4, 4, 3, 1, -2, -3, -5]\n",
    "t5 = 0\n",
    "i = 0\n",
    "while a2[i] > 0:\n",
    "    t5 += a2[i]\n",
    "    i += 1  \n",
    "    if a2[i] <= 0:      # in this case break command is unnecessarry\n",
    "        break\n",
    "print(t5)"
   ]
  },
  {
   "cell_type": "code",
   "execution_count": 17,
   "metadata": {},
   "outputs": [
    {
     "name": "stdout",
     "output_type": "stream",
     "text": [
      "17\n"
     ]
    }
   ],
   "source": [
    "# True command\n",
    "\n",
    "a2 = [5, 4, 4, 3, 1, -2, -3, -5]\n",
    "t5 = 0\n",
    "i = 0\n",
    "while 1 < 2:     # True comand canbe used instead\n",
    "    t5 += a2[i]\n",
    "    i += 1  \n",
    "    if a2[i] <= 0:\n",
    "        break\n",
    "print(t5)"
   ]
  },
  {
   "cell_type": "code",
   "execution_count": 18,
   "metadata": {},
   "outputs": [],
   "source": [
    "# True command\n",
    "\n",
    "a2 = [5, 4, 4, 3, 1, -2, -3, -5]\n",
    "t5 = 0\n",
    "i = 0\n",
    "while True:     # Shows that 1 < 2\n",
    "    t5 += a2[i]\n",
    "    i += 1  \n",
    "    if a2[i] <= 0:\n",
    "        break"
   ]
  },
  {
   "cell_type": "code",
   "execution_count": 2,
   "metadata": {},
   "outputs": [
    {
     "name": "stdout",
     "output_type": "stream",
     "text": [
      "for loop: -17\n",
      "while loop: -17\n"
     ]
    }
   ],
   "source": [
    "# Quiz- Find some of negative values\n",
    "\n",
    "\n",
    "a3 = [7, 5, 4, 4, 3, 1, -2, -3, -5, -7]\n",
    " # using for loop\n",
    "\n",
    "t6 = 0\n",
    "for e in a3:\n",
    "    if e < 0:\n",
    "        t6 += e\n",
    "print(\"for loop:\", t6)\n",
    "\n",
    "# while loop\n",
    "\n",
    "t7 = 0 \n",
    "i = len(a3) - 1\n",
    "\n",
    "while a3[i] < 0:\n",
    "    t7 += a3[i]\n",
    "    i -= 1\n",
    "    \n",
    "print(\"while loop:\", t7)\n"
   ]
  },
  {
   "cell_type": "code",
   "execution_count": null,
   "metadata": {},
   "outputs": [],
   "source": []
  }
 ],
 "metadata": {
  "kernelspec": {
   "display_name": "Python 3",
   "language": "python",
   "name": "python3"
  },
  "language_info": {
   "codemirror_mode": {
    "name": "ipython",
    "version": 3
   },
   "file_extension": ".py",
   "mimetype": "text/x-python",
   "name": "python",
   "nbconvert_exporter": "python",
   "pygments_lexer": "ipython3",
   "version": "3.7.6"
  }
 },
 "nbformat": 4,
 "nbformat_minor": 4
}
