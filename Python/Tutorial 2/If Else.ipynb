{
 "cells": [
  {
   "cell_type": "code",
   "execution_count": 2,
   "metadata": {},
   "outputs": [
    {
     "name": "stdout",
     "output_type": "stream",
     "text": [
      "e is greater than f + 10\n"
     ]
    }
   ],
   "source": [
    "e = 20\n",
    "f = 8\n",
    "if e < 8:\n",
    "    print(\"e is less than 8\")\n",
    "elif e == f:                             #elif used if more than\n",
    "    print(\"e is equal to 8\")\n",
    "elif e > f + 10:\n",
    "    print(\"e is greater than f + 10\")\n",
    "else:\n",
    "    print(\"e is greater than f\")"
   ]
  },
  {
   "cell_type": "code",
   "execution_count": 7,
   "metadata": {},
   "outputs": [
    {
     "name": "stdout",
     "output_type": "stream",
     "text": [
      "bmi: \n",
      "22.5\n",
      "KM\n",
      "is not over wight\n"
     ]
    }
   ],
   "source": [
    "name = \"KM\"\n",
    "weight_kg = 90\n",
    "height_m = 2\n",
    "\n",
    "bmi = weight_kg / (height_m ** 2)\n",
    "print(\"bmi: \")\n",
    "print(bmi)\n",
    "if bmi < 25:\n",
    "    print(name)\n",
    "    print(\"is not over wight\")\n",
    "else:\n",
    "    print(name)\n",
    "    print(\"is over weight\")"
   ]
  },
  {
   "cell_type": "code",
   "execution_count": null,
   "metadata": {},
   "outputs": [],
   "source": []
  }
 ],
 "metadata": {
  "kernelspec": {
   "display_name": "Python 3",
   "language": "python",
   "name": "python3"
  },
  "language_info": {
   "codemirror_mode": {
    "name": "ipython",
    "version": 3
   },
   "file_extension": ".py",
   "mimetype": "text/x-python",
   "name": "python",
   "nbconvert_exporter": "python",
   "pygments_lexer": "ipython3",
   "version": "3.7.6"
  }
 },
 "nbformat": 4,
 "nbformat_minor": 4
}
