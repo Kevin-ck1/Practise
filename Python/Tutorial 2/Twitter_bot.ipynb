{
 "cells": [
  {
   "cell_type": "code",
   "execution_count": 1,
   "metadata": {},
   "outputs": [
    {
     "name": "stdout",
     "output_type": "stream",
     "text": [
      "this is my twitter bot\n"
     ]
    }
   ],
   "source": [
    "print('this is my twitter bot')"
   ]
  },
  {
   "cell_type": "code",
   "execution_count": 2,
   "metadata": {},
   "outputs": [],
   "source": [
    "import tweepy"
   ]
  },
  {
   "cell_type": "code",
   "execution_count": 3,
   "metadata": {},
   "outputs": [],
   "source": [
    "CONSUMER_KEY = 'rdJOvbQPhyQ10glw9oQdRZuW9'\n",
    "CONSUMER_SECRET = 'j4GG0dUPau1ea6sRNwRIsdB2B3YllBC152bX6o0itfdTU30csV'\n",
    "ACCESS_KEY = '1926410052-jmOO6DzGc4jH52pEf1VP6Nhb6I5DNUG3Iofj5hz'\n",
    "ACCESS_SECRET = 'mG1sf4NVehXE1AYcLYgkAm3roz6yqeFtlzOdAhQTdc9RG'"
   ]
  },
  {
   "cell_type": "code",
   "execution_count": 4,
   "metadata": {},
   "outputs": [],
   "source": [
    "auth = tweepy.OAuthHandler(CONSUMER_KEY, CONSUMER_SECRET)\n",
    "auth.set_access_token(ACCESS_KEY, ACCESS_SECRET)\n",
    "api = tweepy.API(auth)"
   ]
  },
  {
   "cell_type": "code",
   "execution_count": 5,
   "metadata": {},
   "outputs": [],
   "source": [
    "FILE_NAME = 'last_seen_id.txt'\n",
    "\n",
    "def retrieve_last_seen_id(file_name):\n",
    "    f_read = open(file_name, 'r')\n",
    "    last_seen_id = int(f_read.read().strip())\n",
    "    f_read.close()\n",
    "    return last_seen_id\n",
    "\n",
    "def store_last_seen_id(last_seen_id, file_name):\n",
    "    f_write = open(file_name, 'w')\n",
    "    f_write.write(str(last_seen_id))\n",
    "    f_write.close()\n",
    "    return"
   ]
  },
  {
   "cell_type": "code",
   "execution_count": 6,
   "metadata": {},
   "outputs": [],
   "source": [
    "last_seen_id = retrieve_last_seen_id(FILE_NAME)"
   ]
  },
  {
   "cell_type": "code",
   "execution_count": 7,
   "metadata": {},
   "outputs": [],
   "source": [
    "mentions = api.mentions_timeline(\n",
    "                        last_seen_id,\n",
    "                        tweet_mode='extended')"
   ]
  },
  {
   "cell_type": "code",
   "execution_count": 8,
   "metadata": {},
   "outputs": [
    {
     "name": "stdout",
     "output_type": "stream",
     "text": [
      "1261018662330404864-@CkMutinda #HelloWorld\n",
      "found helloworld\n",
      "Responding back...\n",
      "1261018954698498049-@CkMutinda Tweet #Helloworld\n",
      "found helloworld\n",
      "Responding back...\n",
      "1261024409290227712-@CkMutinda Tweet 1\n",
      "1261024512444899332-@CkMutinda Tweet 2\n",
      "1261024773213163522-@CkMutinda Tweet 3 #HelloWorld\n",
      "found helloworld\n",
      "Responding back...\n"
     ]
    }
   ],
   "source": [
    "for mention in reversed(mentions):\n",
    "    print(str(mention.id) + \"-\" + mention.full_text)\n",
    "    last_seen_id = mention.id\n",
    "    if \"#helloworld\" in mention.full_text.lower():\n",
    "        print(\"found helloworld\")\n",
    "        print(\"Responding back...\")"
   ]
  },
  {
   "cell_type": "code",
   "execution_count": null,
   "metadata": {},
   "outputs": [],
   "source": []
  }
 ],
 "metadata": {
  "kernelspec": {
   "display_name": "Python 3",
   "language": "python",
   "name": "python3"
  },
  "language_info": {
   "codemirror_mode": {
    "name": "ipython",
    "version": 3
   },
   "file_extension": ".py",
   "mimetype": "text/x-python",
   "name": "python",
   "nbconvert_exporter": "python",
   "pygments_lexer": "ipython3",
   "version": "3.7.6"
  }
 },
 "nbformat": 4,
 "nbformat_minor": 4
}
