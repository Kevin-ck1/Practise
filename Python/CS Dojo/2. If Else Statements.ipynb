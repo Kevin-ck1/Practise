{
 "cells": [
  {
   "cell_type": "code",
   "execution_count": null,
   "metadata": {},
   "outputs": [],
   "source": [
    "# To clear the state of the notebook restart the kernel"
   ]
  },
  {
   "cell_type": "code",
   "execution_count": 1,
   "metadata": {},
   "outputs": [
    {
     "name": "stdout",
     "output_type": "stream",
     "text": [
      "a is less than b\n"
     ]
    }
   ],
   "source": [
    "# given the below, variables... write a function to output `a is less than b`\n",
    "\n",
    "a = 1\n",
    "b = 2\n",
    "if a < b:\n",
    "    print(\"a is less than b\")\n",
    "    \n",
    "# the above line is referred to as an if clause\n",
    "# we can add another line after the clause that outputs a message. As shown in the cell below\n"
   ]
  },
  {
   "cell_type": "code",
   "execution_count": 3,
   "metadata": {},
   "outputs": [
    {
     "name": "stdout",
     "output_type": "stream",
     "text": [
      "a is less than b\n",
      "Not sure if a is less than b\n"
     ]
    }
   ],
   "source": [
    "a = 1\n",
    "b = 2\n",
    "if a < b:\n",
    "    print(\"a is less than b\")\n",
    "print(\"Not sure if a is less than b\")"
   ]
  },
  {
   "cell_type": "code",
   "execution_count": 4,
   "metadata": {},
   "outputs": [
    {
     "name": "stdout",
     "output_type": "stream",
     "text": [
      "a is less than b\n",
      "a is definately less than b\n"
     ]
    }
   ],
   "source": [
    "# the if clause can have multiple lines\n",
    "a = 1\n",
    "b = 2\n",
    "if a < b:\n",
    "    print(\"a is less than b\")\n",
    "    print(\"a is definately less than b\")\n",
    "\n",
    "# Note: Keep track on the number of spaces befor the print functions"
   ]
  },
  {
   "cell_type": "code",
   "execution_count": 6,
   "metadata": {},
   "outputs": [
    {
     "name": "stdout",
     "output_type": "stream",
     "text": [
      "c is greater than d\n"
     ]
    }
   ],
   "source": [
    "# in case the condition is not met, we use an else statemet if we want to output a message of the condition is not met\n",
    "# taking the shown varibles\n",
    "\n",
    "c = 3\n",
    "d = 2\n",
    "\n",
    "if c < d:\n",
    "    print(\"c is less than d\")\n",
    "else:\n",
    "    print(\"c is greater than d\")\n",
    "    "
   ]
  },
  {
   "cell_type": "code",
   "execution_count": 9,
   "metadata": {},
   "outputs": [
    {
     "name": "stdout",
     "output_type": "stream",
     "text": [
      "e is equal to f\n"
     ]
    }
   ],
   "source": [
    "# to deal with three conditional cases\n",
    "\n",
    "e = 2\n",
    "f = 2\n",
    "\n",
    "if e < f:\n",
    "    print(\"e is less than f\")\n",
    "elif e == f:                   #The double equal sign is a valuating property\n",
    "    print(\"e is equal to f\")\n",
    "else:\n",
    "    print(\"e is greater than f\")\n",
    "    \n"
   ]
  },
  {
   "cell_type": "code",
   "execution_count": 10,
   "metadata": {},
   "outputs": [
    {
     "name": "stdout",
     "output_type": "stream",
     "text": [
      "e is grater than f by more than 10\n"
     ]
    }
   ],
   "source": [
    "# to increase the cases of conditions we can just another elif statement\n",
    "\n",
    "\n",
    "e = 13\n",
    "f = 2\n",
    "\n",
    "if e < f:\n",
    "    print(\"e is less than f\")\n",
    "elif e == f:                   \n",
    "    print(\"e is equal to f\")\n",
    "elif e > f + 10:\n",
    "    print(\"e is grater than f by more than 10\")\n",
    "else:\n",
    "    print(\"e is greater than f\")\n",
    "  "
   ]
  },
  {
   "cell_type": "code",
   "execution_count": 12,
   "metadata": {},
   "outputs": [
    {
     "name": "stdout",
     "output_type": "stream",
     "text": [
      "g is greater than h\n"
     ]
    }
   ],
   "source": [
    "# Instead of the elif, as shown above, we can nest an if clause, inside the else stament\n",
    "\n",
    "g = 9\n",
    "h = 8\n",
    "if g < h:\n",
    "    print(\"g is less than h\")\n",
    "else:\n",
    "    if g == h:\n",
    "        print(\"g is equal to h\")\n",
    "    else:\n",
    "        print(\"g is greater than h\")\n",
    "        "
   ]
  },
  {
   "cell_type": "code",
   "execution_count": null,
   "metadata": {},
   "outputs": [],
   "source": [
    "# To create a bmi calculator"
   ]
  },
  {
   "cell_type": "code",
   "execution_count": 18,
   "metadata": {},
   "outputs": [
    {
     "name": "stdout",
     "output_type": "stream",
     "text": [
      "KM's BMI is: 27.5\n",
      "KM is over-weight\n"
     ]
    }
   ],
   "source": [
    "#Setting up the variables required\n",
    "\n",
    "name = \"KM\"\n",
    "height_m = 2\n",
    "weight_kg = 110\n",
    "\n",
    "#To calculate the bmi\n",
    "\n",
    "bmi = weight_kg / (height_m*height_m)    ## To indicate power of two (**2)\n",
    "\n",
    "print(name+\"'s BMI is:\", bmi)\n",
    "\n",
    "#Introducing conditional statement to indicate whether the person is overweight or not\n",
    "\n",
    "if bmi < 25:\n",
    "    print(name, \"is not over-weight\")\n",
    "else:\n",
    "    print(name, \"is over-weight\")\n",
    "\n"
   ]
  },
  {
   "cell_type": "code",
   "execution_count": null,
   "metadata": {},
   "outputs": [],
   "source": []
  }
 ],
 "metadata": {
  "kernelspec": {
   "display_name": "Python 3",
   "language": "python",
   "name": "python3"
  },
  "language_info": {
   "codemirror_mode": {
    "name": "ipython",
    "version": 3
   },
   "file_extension": ".py",
   "mimetype": "text/x-python",
   "name": "python",
   "nbconvert_exporter": "python",
   "pygments_lexer": "ipython3",
   "version": "3.8.3"
  }
 },
 "nbformat": 4,
 "nbformat_minor": 4
}
