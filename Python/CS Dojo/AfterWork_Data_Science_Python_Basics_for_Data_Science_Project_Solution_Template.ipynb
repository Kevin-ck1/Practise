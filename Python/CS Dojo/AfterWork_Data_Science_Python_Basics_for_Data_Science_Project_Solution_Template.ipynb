{
 "cells": [
  {
   "cell_type": "markdown",
   "metadata": {
    "colab_type": "text",
    "id": "C0MVEA2p5aPF"
   },
   "source": [
    "# AfterWork Data Science: Python Basics for Data Science Project - Solution Template"
   ]
  },
  {
   "cell_type": "code",
   "execution_count": null,
   "metadata": {
    "colab": {},
    "colab_type": "code",
    "id": "tMq41k-e5VNR"
   },
   "outputs": [],
   "source": [
    "# Creating a dictionary of input data\n",
    "mobile_sub = {'minutes_used': 200,\n",
    "               YOUR CODE GOES HERE\n",
    "                \n",
    "               }"
   ]
  },
  {
   "cell_type": "code",
   "execution_count": null,
   "metadata": {
    "colab": {},
    "colab_type": "code",
    "id": "b0p2faHi5eHP"
   },
   "outputs": [],
   "source": [
    "# Defining a function that takes in the dictionary and provides output\n",
    "def evaluateCharges(input_data):\n",
    "    '''\n",
    "    Function receives a dictionary containing minutes_used and\n",
    "    text_used as key/value pairs and returns a string\n",
    "    describing a breakdown of the charges applied\n",
    "    based on the values received.\n",
    "    '''\n",
    "    minutes_used = input_data['minutes_used']\n",
    "    texts_used = YOUR CODE GOES HERE\n",
    "\n",
    "    \n",
    "    # Performing different actions based on the conditions indicated in the question.\n",
    "    if minutes_used > 200:\n",
    "        aditional_minutes = YOUR CODE GOES HERE\n",
    "        basecharge = basecharge + (aditional_minutes * YOUR CODE GOES HERE)\n",
    "        \n",
    "    if texts_used > YOUR CODE GOES HERE :\n",
    "        aditional_texts = texts_used - YOUR CODE GOES HERE\n",
    "        basecharge = basecharge + (aditional_texts * 0.001)\n",
    "        \n",
    "    VAT_TAX = basecharge * YOUR CODE GOES HERE\n",
    "    basecharge += VAT_TAX\n",
    "    \n",
    "    # We can choose to format our basecharg  2dp\n",
    "    finalCharges =  round( YOUR CODE GOES HERE, YOUR CODE GOES HERE) \n",
    "\n",
    "    # We then create a string with \n",
    "    output_string = YOUR CODE GOES HERE\n",
    "\n",
    "    # the returning our output string\n",
    "    return print(YOUR CODE GOES HERE)\n",
    "        \n",
    "# Then calling our function and passing our dictionary\n",
    "YOUR CODE GOES HERE"
   ]
  }
 ],
 "metadata": {
  "colab": {
   "name": "AfterWork_Data_Science_Python_Basics_for_Data_Science_Project_Solution_Template.ipynb",
   "provenance": [],
   "toc_visible": true
  },
  "kernelspec": {
   "display_name": "Python 3",
   "language": "python",
   "name": "python3"
  },
  "language_info": {
   "codemirror_mode": {
    "name": "ipython",
    "version": 3
   },
   "file_extension": ".py",
   "mimetype": "text/x-python",
   "name": "python",
   "nbconvert_exporter": "python",
   "pygments_lexer": "ipython3",
   "version": "3.8.3"
  }
 },
 "nbformat": 4,
 "nbformat_minor": 1
}
