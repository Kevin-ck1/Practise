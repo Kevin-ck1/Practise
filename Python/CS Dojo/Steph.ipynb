{
 "cells": [
  {
   "cell_type": "code",
   "execution_count": null,
   "metadata": {},
   "outputs": [],
   "source": [
    "'''\n",
    "Background Information\n",
    "Tigo Telcom provides a mobile subscription plan that has 200 minutes of airtime and 200 text messages for $10 a month. \n",
    "Each additional minute of air time costs $.03 and additional text messages cost $.001 each. \n",
    "The customer's bill is also subject to 14% VAT Tax. \n",
    "\n",
    "Problem Statement\n",
    "Write a python program that will read the no. of minutes and text messages used in a month \n",
    "then displays the base charge, additional minutes (if any), additional text messages (if any), \n",
    "tax charged and the total bill. \n",
    "You will create a python program that performs a critical computation using the python programming language.\n",
    "\n",
    "'''"
   ]
  },
  {
   "cell_type": "code",
   "execution_count": 61,
   "metadata": {},
   "outputs": [],
   "source": [
    "plan = {\"minutes\": 200, \"messages\":200, \"price\":10}\n",
    "\n",
    "customer_usage =  {\"minutes\": 230, \"messages\":200}\n"
   ]
  },
  {
   "cell_type": "code",
   "execution_count": 98,
   "metadata": {},
   "outputs": [],
   "source": [
    "def billing_calculation(x, y):\n",
    "    base_charge = x[\"price\"]\n",
    "    \n",
    "    additional_minutes = y[\"minutes\"]-x[\"minutes\"]\n",
    "    additional_text_messages = y[\"messages\"] - x[\"messages\"]\n",
    "    \n",
    "    if additional_minutes > 0 or additional_text_messages:\n",
    "        base_charge += additional_minutes*0.3\n",
    "        base_charge += additional_text_messages*0.001\n",
    "        \n",
    "    VAT_TAX = base_charge *  0.14\n",
    "    \n",
    "    total_billing = base_charge + VAT_TAX\n",
    "    \n",
    "    billing_info = {}\n",
    "    \n",
    "    billing_info[\"Plan Price:\"] = (\"$\"+str(round(x[\"price\"],2)))\n",
    "    billing_info[\"Base Charge:\"] = (\"$\"+str(round(base_charge,2)))\n",
    "    billing_info[\"Additional Minutes:\"] = round(additional_minutes,2)\n",
    "    #Since messages are definate values, theres no need to round them\n",
    "    billing_info[\"Additional Messages:\"] = additional_text_messages\n",
    "    billing_info[\"Tax Charged:\"] = (\"$\"+ str(round(VAT_TAX,2)))\n",
    "    billing_info[\"Total Bill:\"] = (\"$\" + str(round(total_billing,2)))\n",
    "    \n",
    "    \n",
    "    for key, value in billing_info.items():\n",
    "        if key == \"Additional Minutes\" or key == \"Additional Messages\":\n",
    "            if value < 1:\n",
    "                continue\n",
    "        print(key, value)\n",
    "                    \n",
    "    \n",
    "  "
   ]
  },
  {
   "cell_type": "code",
   "execution_count": 99,
   "metadata": {},
   "outputs": [
    {
     "name": "stdout",
     "output_type": "stream",
     "text": [
      "Plan Price: $10\n",
      "Base Charge: $19.0\n",
      "Additional Minutes: 30\n",
      "Additional Messages: 0\n",
      "Tax Charged: $2.66\n",
      "Total Bill: $21.66\n"
     ]
    }
   ],
   "source": [
    "billing_calculation(plan,customer_usage)"
   ]
  },
  {
   "cell_type": "code",
   "execution_count": 107,
   "metadata": {},
   "outputs": [
    {
     "ename": "TypeError",
     "evalue": "unsupported operand type(s) for +=: 'int' and 'str'",
     "output_type": "error",
     "traceback": [
      "\u001b[1;31m---------------------------------------------------------------------------\u001b[0m",
      "\u001b[1;31mTypeError\u001b[0m                                 Traceback (most recent call last)",
      "\u001b[1;32m<ipython-input-107-2df71c850e38>\u001b[0m in \u001b[0;36m<module>\u001b[1;34m\u001b[0m\n\u001b[0;32m      4\u001b[0m     \u001b[1;32mif\u001b[0m \u001b[0mx\u001b[0m \u001b[1;33m==\u001b[0m \u001b[1;34m\"$\"\u001b[0m\u001b[1;33m:\u001b[0m\u001b[1;33m\u001b[0m\u001b[1;33m\u001b[0m\u001b[0m\n\u001b[0;32m      5\u001b[0m         \u001b[1;32mcontinue\u001b[0m\u001b[1;33m\u001b[0m\u001b[1;33m\u001b[0m\u001b[0m\n\u001b[1;32m----> 6\u001b[1;33m     \u001b[0mb\u001b[0m \u001b[1;33m+=\u001b[0m \u001b[0mx\u001b[0m\u001b[1;33m\u001b[0m\u001b[1;33m\u001b[0m\u001b[0m\n\u001b[0m\u001b[0;32m      7\u001b[0m \u001b[0mprint\u001b[0m\u001b[1;33m(\u001b[0m\u001b[0mb\u001b[0m\u001b[1;33m)\u001b[0m\u001b[1;33m\u001b[0m\u001b[1;33m\u001b[0m\u001b[0m\n",
      "\u001b[1;31mTypeError\u001b[0m: unsupported operand type(s) for +=: 'int' and 'str'"
     ]
    }
   ],
   "source": [
    "a = \"$10\"\n",
    "b = 0\n",
    "for x in a:\n",
    "    if x == \"$\":\n",
    "        continue\n",
    "    b += x\n",
    "print(b)"
   ]
  },
  {
   "cell_type": "code",
   "execution_count": null,
   "metadata": {},
   "outputs": [],
   "source": []
  },
  {
   "cell_type": "code",
   "execution_count": null,
   "metadata": {},
   "outputs": [],
   "source": []
  }
 ],
 "metadata": {
  "kernelspec": {
   "display_name": "Python 3",
   "language": "python",
   "name": "python3"
  },
  "language_info": {
   "codemirror_mode": {
    "name": "ipython",
    "version": 3
   },
   "file_extension": ".py",
   "mimetype": "text/x-python",
   "name": "python",
   "nbconvert_exporter": "python",
   "pygments_lexer": "ipython3",
   "version": "3.8.3"
  }
 },
 "nbformat": 4,
 "nbformat_minor": 4
}
