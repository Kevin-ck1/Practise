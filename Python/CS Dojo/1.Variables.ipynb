{
 "cells": [
  {
   "cell_type": "code",
   "execution_count": null,
   "metadata": {},
   "outputs": [],
   "source": [
    "#Types of varibles\n",
    "            #strings -- \"They are denoated by placing them in quotes like this\"\n",
    "            #intergers --- are numbers \n",
    "            #floats --- numbers with decimal points\n",
    "            #lists \n",
    "            "
   ]
  },
  {
   "cell_type": "code",
   "execution_count": 1,
   "metadata": {},
   "outputs": [
    {
     "name": "stdout",
     "output_type": "stream",
     "text": [
      "1\n"
     ]
    }
   ],
   "source": [
    "# A value can be created and asigned a value, for instance\n",
    "\n",
    "a = 1\n",
    "\n",
    "# In this case a variable with the name `a` has been assigned a valu of `1`\n",
    "\n",
    "# To print the value of the variable\n",
    "\n",
    "print(1)\n"
   ]
  },
  {
   "cell_type": "code",
   "execution_count": 3,
   "metadata": {},
   "outputs": [
    {
     "name": "stdout",
     "output_type": "stream",
     "text": [
      "Hello World\n"
     ]
    }
   ],
   "source": [
    "# In the above cell, the variable is given an integer as its value, to assign a variable with a string\n",
    "\n",
    "b = \"Hello World\"\n",
    "\n",
    "print(b)"
   ]
  },
  {
   "cell_type": "code",
   "execution_count": 4,
   "metadata": {},
   "outputs": [
    {
     "name": "stdout",
     "output_type": "stream",
     "text": [
      "Hello World\n"
     ]
    }
   ],
   "source": [
    "# we can assign a variable to another,\n",
    "\n",
    "c = b\n",
    "\n",
    "# If we are to print c it should give as the same value, as b `Hello World`\n",
    "\n",
    "print(c)"
   ]
  },
  {
   "cell_type": "code",
   "execution_count": 5,
   "metadata": {},
   "outputs": [],
   "source": [
    "#Test- Swap the values of the below variables\n",
    "\n",
    "v1 = \"First String\"\n",
    "\n",
    "v2 = \"Second String\""
   ]
  },
  {
   "cell_type": "code",
   "execution_count": 6,
   "metadata": {},
   "outputs": [
    {
     "name": "stdout",
     "output_type": "stream",
     "text": [
      "v1 is: Second String\n",
      "v2 is: First String\n"
     ]
    }
   ],
   "source": [
    "# Creating an intermediary variable, and assign it to one of the given varirables\n",
    "\n",
    "v3 = v1\n",
    "\n",
    "# Next assign v1 to v2 and then v2 to v3\n",
    "\n",
    "v1 = v2\n",
    "\n",
    "v2 = v3\n",
    "\n",
    "#Print the results\n",
    "\n",
    "print(\"v1 is:\", v1)\n",
    "print(\"v2 is:\", v2)"
   ]
  },
  {
   "cell_type": "code",
   "execution_count": null,
   "metadata": {},
   "outputs": [],
   "source": [
    "# Note to print to values in the same print function, seperate the two variables with a comma, as shown above"
   ]
  }
 ],
 "metadata": {
  "kernelspec": {
   "display_name": "Python 3",
   "language": "python",
   "name": "python3"
  },
  "language_info": {
   "codemirror_mode": {
    "name": "ipython",
    "version": 3
   },
   "file_extension": ".py",
   "mimetype": "text/x-python",
   "name": "python",
   "nbconvert_exporter": "python",
   "pygments_lexer": "ipython3",
   "version": "3.8.3"
  }
 },
 "nbformat": 4,
 "nbformat_minor": 4
}
