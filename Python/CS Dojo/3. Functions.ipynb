{
 "cells": [
  {
   "cell_type": "code",
   "execution_count": 1,
   "metadata": {},
   "outputs": [
    {
     "name": "stdout",
     "output_type": "stream",
     "text": [
      "this is outside the function\n"
     ]
    }
   ],
   "source": [
    "# Functions are collections of code\n",
    "# the below code is an example of a function\n",
    "\n",
    "def function1():\n",
    "    print(\"ahhh\")\n",
    "    print(\"ahh 2\")\n",
    "print(\"this is outside the function\")\n",
    "    "
   ]
  },
  {
   "cell_type": "code",
   "execution_count": 2,
   "metadata": {},
   "outputs": [],
   "source": [
    "# we use def to declare the funtion, and then follow it by the name of the function as shown\n",
    "#Note that the the first two lines of print are not printed when we run the function,\n",
    "#this is because they are nested within the funtion, the last print line is executed because it is outside the function\n"
   ]
  },
  {
   "cell_type": "code",
   "execution_count": 3,
   "metadata": {},
   "outputs": [
    {
     "name": "stdout",
     "output_type": "stream",
     "text": [
      "ahhh\n",
      "ahh 2\n"
     ]
    }
   ],
   "source": [
    "# to display the result of the first two print line, we have to call the fuction as follows below\n",
    "\n",
    "function1()\n"
   ]
  },
  {
   "cell_type": "code",
   "execution_count": 4,
   "metadata": {},
   "outputs": [],
   "source": [
    "#Functions are resuable just like varibles, they get stored and to initiate they we call them"
   ]
  },
  {
   "cell_type": "code",
   "execution_count": 5,
   "metadata": {},
   "outputs": [],
   "source": [
    "# Function can be used for mapping\n",
    "# they can be taken as a mathetical equation, in that they receive arguments(variables) e,g y = 2x\n",
    "# to display the equation above as a function\n",
    "\n",
    "def function2(x):\n",
    "    return 2*x"
   ]
  },
  {
   "cell_type": "code",
   "execution_count": 6,
   "metadata": {},
   "outputs": [
    {
     "name": "stdout",
     "output_type": "stream",
     "text": [
      "6\n"
     ]
    }
   ],
   "source": [
    "# to call the function with an argument(variable) of 3, and asign the result to a variable y\n",
    "\n",
    "y = function2(3)\n",
    "\n",
    "# Basically we are saying find y while x is 3\n",
    "# to check the result we print y\n",
    "\n",
    "print(y)"
   ]
  },
  {
   "cell_type": "code",
   "execution_count": 7,
   "metadata": {},
   "outputs": [
    {
     "name": "stdout",
     "output_type": "stream",
     "text": [
      "6\n"
     ]
    }
   ],
   "source": [
    "print(function2(3))"
   ]
  },
  {
   "cell_type": "code",
   "execution_count": 8,
   "metadata": {},
   "outputs": [],
   "source": [
    "# a function can also have two or more argument e.g c = x+y\n",
    "\n",
    "def function3(x, y):\n",
    "    return x + y\n"
   ]
  },
  {
   "cell_type": "code",
   "execution_count": 9,
   "metadata": {},
   "outputs": [
    {
     "name": "stdout",
     "output_type": "stream",
     "text": [
      "4\n"
     ]
    }
   ],
   "source": [
    "# having the argument as (1, 3) i.e finding the value of c while x = 1 and y = 3\n",
    "# assigning the function to a variable\n",
    "\n",
    "c = function3(1,3)\n",
    "\n",
    "print(c)"
   ]
  },
  {
   "cell_type": "code",
   "execution_count": 10,
   "metadata": {},
   "outputs": [],
   "source": [
    "#Quiz, create a function to calculate the bmi with the data given below\n",
    "\n",
    "name1 = \"KM\"\n",
    "height_m1 = 2\n",
    "weight_kg1 = 110\n",
    "\n",
    "name2 = \"CK\"\n",
    "height_m2 = 1.6\n",
    "weight_kg2 = 60\n",
    "\n",
    "name3 = \"AKM\"\n",
    "height_m3 = 1.8\n",
    "weight_kg3 = 78\n",
    "\n"
   ]
  },
  {
   "cell_type": "code",
   "execution_count": 11,
   "metadata": {},
   "outputs": [],
   "source": [
    "# Earlier we calculate the bmi, in this case we have three arguments; name, height_m and weight_kg\n",
    "# to initialize the function  named bmi_calculator\n",
    "\n",
    "def bmi_calculator(name, height_m, weight_kg):\n",
    "    bmi = weight_kg / (height_m**2)\n",
    "    print(\"BMI:\",bmi)\n",
    "    if bmi < 25:\n",
    "        print(name + \" is not overweight\")\n",
    "    else:\n",
    "        print(name + \" is overweight\")"
   ]
  },
  {
   "cell_type": "code",
   "execution_count": 12,
   "metadata": {},
   "outputs": [
    {
     "name": "stdout",
     "output_type": "stream",
     "text": [
      "BMI: 27.5\n",
      "KM is overweight\n",
      "BMI: 23.437499999999996\n",
      "CK is not overweight\n",
      "BMI: 24.074074074074073\n",
      "AKM is not overweight\n"
     ]
    }
   ],
   "source": [
    "result1 = bmi_calculator(name1, height_m1, weight_kg1)\n",
    "result2 = bmi_calculator(name2, height_m2, weight_kg2)\n",
    "result3 = bmi_calculator(name3, height_m3, weight_kg3)"
   ]
  },
  {
   "cell_type": "code",
   "execution_count": 13,
   "metadata": {},
   "outputs": [],
   "source": [
    "# we can refactor the above code such that instead of print the values, it returns a value, \n",
    "\n",
    "def bmi_calculator(name, height_m, weight_kg):\n",
    "    bmi = weight_kg / (height_m**2)\n",
    "    print(\"BMI:\",bmi)\n",
    "    if bmi < 25:\n",
    "        return name + \" is not overweight\"\n",
    "    else:\n",
    "        return name + \" is overweight\""
   ]
  },
  {
   "cell_type": "code",
   "execution_count": 14,
   "metadata": {},
   "outputs": [
    {
     "name": "stdout",
     "output_type": "stream",
     "text": [
      "BMI: 27.5\n",
      "BMI: 23.437499999999996\n",
      "BMI: 24.074074074074073\n"
     ]
    }
   ],
   "source": [
    "result1 = bmi_calculator(name1, height_m1, weight_kg1)\n",
    "result2 = bmi_calculator(name2, height_m2, weight_kg2)\n",
    "result3 = bmi_calculator(name3, height_m3, weight_kg3)"
   ]
  },
  {
   "cell_type": "code",
   "execution_count": 15,
   "metadata": {},
   "outputs": [
    {
     "name": "stdout",
     "output_type": "stream",
     "text": [
      "KM is overweight\n",
      "CK is not overweight\n",
      "AKM is not overweight\n"
     ]
    }
   ],
   "source": [
    "print(result1)\n",
    "print(result2)\n",
    "print(result3)"
   ]
  },
  {
   "cell_type": "code",
   "execution_count": null,
   "metadata": {},
   "outputs": [],
   "source": []
  }
 ],
 "metadata": {
  "kernelspec": {
   "display_name": "Python 3",
   "language": "python",
   "name": "python3"
  },
  "language_info": {
   "codemirror_mode": {
    "name": "ipython",
    "version": 3
   },
   "file_extension": ".py",
   "mimetype": "text/x-python",
   "name": "python",
   "nbconvert_exporter": "python",
   "pygments_lexer": "ipython3",
   "version": "3.8.3"
  }
 },
 "nbformat": 4,
 "nbformat_minor": 4
}
