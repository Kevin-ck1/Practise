{
 "cells": [
  {
   "cell_type": "code",
   "execution_count": 1,
   "metadata": {},
   "outputs": [],
   "source": [
    "# Think of dictionaries as similar to object arrays in js\n",
    "\n",
    "# Dictionaries contain (key : value ) pairs, its like an array that has an object and its value in js\n"
   ]
  },
  {
   "cell_type": "code",
   "execution_count": 2,
   "metadata": {},
   "outputs": [],
   "source": [
    "# to initialize a dictionary we curly brackets {}\n",
    "# To create an empty array\n",
    "\n",
    "a = {}\n"
   ]
  },
  {
   "cell_type": "code",
   "execution_count": 3,
   "metadata": {},
   "outputs": [],
   "source": [
    "# Define a dictionaries with values\n",
    "\n",
    "b = {\"George\": 24, \"Aaron\": 20}\n",
    "\n",
    "#In this dictionary, the key is the name of a person while the value is the age\n"
   ]
  },
  {
   "cell_type": "code",
   "execution_count": 4,
   "metadata": {},
   "outputs": [
    {
     "name": "stdout",
     "output_type": "stream",
     "text": [
      "{} {'George': 24, 'Aaron': 20}\n"
     ]
    }
   ],
   "source": [
    "print(a, b)"
   ]
  },
  {
   "cell_type": "code",
   "execution_count": 5,
   "metadata": {},
   "outputs": [
    {
     "name": "stdout",
     "output_type": "stream",
     "text": [
      "{'George': 24, 'Aaron': 20, 'Jenny': 18}\n"
     ]
    }
   ],
   "source": [
    "# to add an entry to the dictionary, i.e a key value pair\n",
    "\n",
    "a[\"George\"] = 24\n",
    "\n",
    "a[\"Aaron\"] = 20\n",
    "\n",
    "a[\"Jenny\"] = 18\n",
    "\n",
    "print(a)\n"
   ]
  },
  {
   "cell_type": "code",
   "execution_count": 6,
   "metadata": {},
   "outputs": [
    {
     "name": "stdout",
     "output_type": "stream",
     "text": [
      "24\n"
     ]
    }
   ],
   "source": [
    "#To print a value of a certain key\n",
    "\n",
    "print(a[\"George\"])"
   ]
  },
  {
   "cell_type": "code",
   "execution_count": 7,
   "metadata": {},
   "outputs": [
    {
     "name": "stdout",
     "output_type": "stream",
     "text": [
      "26\n"
     ]
    }
   ],
   "source": [
    "# To change the value of a key\n",
    "\n",
    "a[\"Jenny\"] = 26\n",
    "\n",
    "print(a[\"Jenny\"])"
   ]
  },
  {
   "cell_type": "code",
   "execution_count": 8,
   "metadata": {},
   "outputs": [
    {
     "name": "stdout",
     "output_type": "stream",
     "text": [
      "{'George': 24, 'Aaron': 20, 'Jenny': 26, 10: 100}\n"
     ]
    }
   ],
   "source": [
    "# NOTE: The value can be of any data type, string, int, boolean...\n",
    "# but the key can only be strings or numbers\n",
    "\n",
    "a[10] =100\n",
    "\n",
    "print(a)"
   ]
  },
  {
   "cell_type": "code",
   "execution_count": 10,
   "metadata": {},
   "outputs": [
    {
     "name": "stdout",
     "output_type": "stream",
     "text": [
      "George 24\n",
      "Aaron 20\n",
      "Jenny 26\n",
      "10 100\n"
     ]
    }
   ],
   "source": [
    "# To iterate in a dictionaries\n",
    "# Note that in the code below, the key and value can be replaced with any phrase,\n",
    "\n",
    "for key, value in  a.items():\n",
    "    print(key, value)"
   ]
  }
 ],
 "metadata": {
  "kernelspec": {
   "display_name": "Python 3",
   "language": "python",
   "name": "python3"
  },
  "language_info": {
   "codemirror_mode": {
    "name": "ipython",
    "version": 3
   },
   "file_extension": ".py",
   "mimetype": "text/x-python",
   "name": "python",
   "nbconvert_exporter": "python",
   "pygments_lexer": "ipython3",
   "version": "3.8.3"
  }
 },
 "nbformat": 4,
 "nbformat_minor": 4
}
