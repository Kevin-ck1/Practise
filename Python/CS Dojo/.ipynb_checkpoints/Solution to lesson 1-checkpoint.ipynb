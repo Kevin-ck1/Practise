{
 "cells": [
  {
   "cell_type": "code",
   "execution_count": 1,
   "metadata": {},
   "outputs": [
    {
     "data": {
      "text/plain": [
       "\"\\nBackground Information\\nTigo Telcom provides a mobile subscription plan that has 200 minutes of airtime and 200 text messages for $10 a month. \\nEach additional minute of air time costs $.03 and additional text messages cost $.001 each. \\nThe customer's bill is also subject to 14% VAT Tax. \\n\\nProblem Statement\\nWrite a python program that will read the no. of minutes and text messages used in a month \\nthen displays the base charge, additional minutes (if any), additional text messages (if any), \\ntax charged and the total bill. \\nYou will create a python program that performs a critical computation using the python programming language.\\n\""
      ]
     },
     "execution_count": 1,
     "metadata": {},
     "output_type": "execute_result"
    }
   ],
   "source": [
    "'''\n",
    "Background Information\n",
    "Tigo Telcom provides a mobile subscription plan that has 200 minutes of airtime and 200 text messages for $10 a month. \n",
    "Each additional minute of air time costs $.03 and additional text messages cost $.001 each. \n",
    "The customer's bill is also subject to 14% VAT Tax. \n",
    "\n",
    "Problem Statement\n",
    "Write a python program that will read the no. of minutes and text messages used in a month \n",
    "then displays the base charge, additional minutes (if any), additional text messages (if any), \n",
    "tax charged and the total bill. \n",
    "You will create a python program that performs a critical computation using the python programming language.\n",
    "'''\n"
   ]
  },
  {
   "cell_type": "code",
   "execution_count": 32,
   "metadata": {},
   "outputs": [
    {
     "name": "stdout",
     "output_type": "stream",
     "text": [
      "{'minutes': 200, 'messages': 200}\n"
     ]
    }
   ],
   "source": [
    "Usage = {\"minutes\": 200, \"messages\": 200 }\n",
    "\n",
    "print(Usage)"
   ]
  },
  {
   "cell_type": "code",
   "execution_count": 67,
   "metadata": {},
   "outputs": [],
   "source": [
    "def computeCharges(x):\n",
    "    minutes_used = x[\"minutes\"]  #To retrieve the value of minutes from the array and set it to the variable minutes_used\n",
    "    messages_used = x[\"messages\"]#To retrieve the value of minutes from the array and set it to the variable minutes_used\n",
    "    \n",
    "    #TO get additional minutes used\n",
    "    additional_minutes = minutes_used - 200\n",
    "    #To get additional messages used\n",
    "    additional_messages = messages_used -200\n",
    "    \n",
    "    # Initializing the base charge as 10\n",
    "    base_charge = 10\n",
    "    \n",
    "    # Next to calculate additional charges\n",
    "    if additional_minutes > 0:\n",
    "        base_charge += (additional_minutes * 0.03)\n",
    "    if additional_messages > 0:\n",
    "        base_charge += (additional_messages*0.001)\n",
    "        \n",
    "    #To calculate the tax, and calcualating the final charge\n",
    "    VAT_TAX = base_charge * 0.14\n",
    "    total_bill = base_charge + VAT_TAX\n",
    "    \n",
    "    #Initializing an empty dictionary for the billing information\n",
    "    Billing_info = {}\n",
    "    \n",
    "    Billing_info[\"Base Charge\"] = round(base_charge, 2)\n",
    "    Billing_info[\"Additional Minutes\"] = round(additional_minutes, 2)\n",
    "    Billing_info[\"Additional Messages\"] = additional_messages\n",
    "    Billing_info[\"Tax Charged\"] = round(VAT_TAX,2)\n",
    "    Billing_info[\"Total Bill\"] = round(total_bill,2)\n",
    "    \n",
    "    \n",
    "    print(Billing_info)\n",
    "    \n",
    "    # To iterate the dictionary\n",
    "    \n",
    "    for key, value in Billing_info.items():\n",
    "        if value == 0:\n",
    "                continue\n",
    "        print(key, value)\n",
    "    \n",
    "    "
   ]
  },
  {
   "cell_type": "code",
   "execution_count": 68,
   "metadata": {},
   "outputs": [
    {
     "name": "stdout",
     "output_type": "stream",
     "text": [
      "{'Base Charge': 10, 'Additional Minutes': 0, 'Additional Messages': 0, 'Tax Charged': 1.4, 'Total Bill': 11.4}\n",
      "Base Charge 10\n",
      "Tax Charged 1.4\n",
      "Total Bill 11.4\n"
     ]
    }
   ],
   "source": [
    "computeCharges(Usage)"
   ]
  },
  {
   "cell_type": "code",
   "execution_count": null,
   "metadata": {},
   "outputs": [],
   "source": []
  }
 ],
 "metadata": {
  "kernelspec": {
   "display_name": "Python 3",
   "language": "python",
   "name": "python3"
  },
  "language_info": {
   "codemirror_mode": {
    "name": "ipython",
    "version": 3
   },
   "file_extension": ".py",
   "mimetype": "text/x-python",
   "name": "python",
   "nbconvert_exporter": "python",
   "pygments_lexer": "ipython3",
   "version": "3.8.3"
  }
 },
 "nbformat": 4,
 "nbformat_minor": 4
}
