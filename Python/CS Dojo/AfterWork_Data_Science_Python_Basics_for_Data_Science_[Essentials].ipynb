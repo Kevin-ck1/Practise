{
 "cells": [
  {
   "cell_type": "markdown",
   "metadata": {
    "colab_type": "text",
    "id": "O1ZGC3xPs0Ta"
   },
   "source": [
    "<font color=\"blue\">To use this notebook on Colaboratory, you will need to make a copy of it. Go to File > Save a Copy in Drive. You can then use the new copy that will appear in the new tab.</font>\n"
   ]
  },
  {
   "cell_type": "markdown",
   "metadata": {
    "colab_type": "text",
    "id": "UMNPnf2i5SWr"
   },
   "source": [
    "# Python Basics for Data Science [Essentials]"
   ]
  },
  {
   "cell_type": "markdown",
   "metadata": {
    "colab_type": "text",
    "id": "jD-9Sma-ruMm"
   },
   "source": [
    "# 1. Variables, Printing and Comments"
   ]
  },
  {
   "cell_type": "markdown",
   "metadata": {
    "colab_type": "text",
    "id": "DJeVFrBtw_kA"
   },
   "source": [
    "## 1. Variables"
   ]
  },
  {
   "cell_type": "markdown",
   "metadata": {
    "colab_type": "text",
    "id": "wp_BS7DmxDcu"
   },
   "source": [
    "#### <font color=\"blue\">Examples</font>"
   ]
  },
  {
   "cell_type": "markdown",
   "metadata": {
    "colab_type": "text",
    "id": "aFlF1bDQxHQO"
   },
   "source": [
    "##### <font color=\"blue\">Example 1</font>"
   ]
  },
  {
   "cell_type": "code",
   "execution_count": 1,
   "metadata": {
    "colab": {},
    "colab_type": "code",
    "id": "XPERUCVo5aTx"
   },
   "outputs": [],
   "source": [
    "# Example 1\n",
    "# ---\n",
    "# Running this cell won't output anything because we have not asked python to do that.\n",
    "# However, it will run anything that is not a comment. In our case, running this cell will\n",
    "# execute the last line of our cell where we assign the value 10 to the variable. \n",
    "# A few rules about variables is that they must begin with a letter, underscore, \n",
    "# or non-number character. They must also not have spaces in between.\n",
    "# ---\n",
    "# OUR CODE GOES BELOW\n",
    "#\n",
    "a = 10 "
   ]
  },
  {
   "cell_type": "markdown",
   "metadata": {
    "colab_type": "text",
    "id": "_Czt2xj3xKtQ"
   },
   "source": [
    "##### <font color=\"blue\">Example 2</font> "
   ]
  },
  {
   "cell_type": "code",
   "execution_count": 2,
   "metadata": {
    "colab": {},
    "colab_type": "code",
    "id": "u6IDQwRc5bWn"
   },
   "outputs": [],
   "source": [
    "# Example 2\n",
    "# ---\n",
    "# Again, let's assign the value \"Earth\" to the variable planet. \n",
    "# We use the equals sign, =, which is called an assignment operator to perform this operation.\n",
    "# Again, running this cell won't output anything, it will only run our code.\n",
    "# ---\n",
    "# OUR CODE GOES BELOW\n",
    "#\n",
    "planet = \"Earth\""
   ]
  },
  {
   "cell_type": "markdown",
   "metadata": {
    "colab_type": "text",
    "id": "apQZLg4WxQaT"
   },
   "source": [
    "##### <font color=\"blue\">Example 3</font> "
   ]
  },
  {
   "cell_type": "code",
   "execution_count": 3,
   "metadata": {
    "colab": {},
    "colab_type": "code",
    "id": "pO96_Ivb5cHT"
   },
   "outputs": [],
   "source": [
    "# Example 3\n",
    "# ---\n",
    "# Let's Assign the value [\"This list has number element\", 4] to a variable called four.\n",
    "# In example 1 and 2, we assigned values of different nature i.e. an integer 10 and a string \"Earth\".\n",
    "# In our case now we will create a value of a different nature called a list. Don't worry about this,\n",
    "# we will cover lists later on in the session. Just keep in mind that lists are enclosed with square\n",
    "# brackets as shown below. You will also learn more about dictionaries which are enclosed with curly brackets. \n",
    "# ---\n",
    "# OUR CODE GOES BELOW\n",
    "#\n",
    "\n",
    "four = [\"This list has number element\", 4]"
   ]
  },
  {
   "cell_type": "markdown",
   "metadata": {
    "colab_type": "text",
    "id": "5Kk6d63OxVQo"
   },
   "source": [
    "#### <font color=\"green\">Challenges</font> "
   ]
  },
  {
   "cell_type": "markdown",
   "metadata": {
    "colab_type": "text",
    "id": "figZW-P0xWHu"
   },
   "source": [
    "##### <font color=\"green\">Challenge 1</font>"
   ]
  },
  {
   "cell_type": "code",
   "execution_count": 5,
   "metadata": {
    "colab": {},
    "colab_type": "code",
    "id": "9mCpedG0xcfs"
   },
   "outputs": [
    {
     "name": "stdout",
     "output_type": "stream",
     "text": [
      "10,000\n"
     ]
    }
   ],
   "source": [
    "# Challenge 1\n",
    "# ---\n",
    "# Question: Create a variable name account then assign it with the string 10,000. \n",
    "# Just note this is not the answer: account = 10,000 or this account = 10000\n",
    "# Hint: Learn from example 2.\n",
    "# ---\n",
    "# YOUR CODE GOES BELOW\n",
    "#\n",
    "\n",
    "name = \"10,000\"\n",
    "\n",
    "print(name)\n"
   ]
  },
  {
   "cell_type": "markdown",
   "metadata": {
    "colab_type": "text",
    "id": "QhEXtwvIxZhP"
   },
   "source": [
    "##### <font color=\"green\">Challenge 2</font>"
   ]
  },
  {
   "cell_type": "code",
   "execution_count": 6,
   "metadata": {
    "colab": {},
    "colab_type": "code",
    "id": "SRG0iMPQxdHT"
   },
   "outputs": [
    {
     "name": "stdout",
     "output_type": "stream",
     "text": [
      "J.K Rowling\n"
     ]
    }
   ],
   "source": [
    "# Challenge 2\n",
    "# ---\n",
    "# Question: Assign the name J.K Rowling to the variable author.\n",
    "# ---\n",
    "# YOUR CODE GOES BELOW\n",
    "#\n",
    "\n",
    "author = \"J.K Rowling\"\n",
    "\n",
    "print(author)\n"
   ]
  },
  {
   "cell_type": "markdown",
   "metadata": {
    "colab_type": "text",
    "id": "AZaNOe10xhBd"
   },
   "source": [
    "## 2. Printing"
   ]
  },
  {
   "cell_type": "markdown",
   "metadata": {
    "colab_type": "text",
    "id": "T8474dmmmBii"
   },
   "source": [
    "#### <font color=\"blue\">Examples</font>"
   ]
  },
  {
   "cell_type": "markdown",
   "metadata": {
    "colab_type": "text",
    "id": "KoqcSYwQxtRK"
   },
   "source": [
    "##### <font color=\"blue\">Example 1</font> "
   ]
  },
  {
   "cell_type": "code",
   "execution_count": 7,
   "metadata": {
    "colab": {},
    "colab_type": "code",
    "id": "ai3ZxHpcxw-J"
   },
   "outputs": [
    {
     "name": "stdout",
     "output_type": "stream",
     "text": [
      "Hello!\n"
     ]
    }
   ],
   "source": [
    "# Example 1\n",
    "# ---\n",
    "# Question: Print the text \"Hello!\" in the output console of this cell\n",
    "# ---\n",
    "# OUR CODE GOES BELOW\n",
    "#\n",
    "print(\"Hello!\")"
   ]
  },
  {
   "cell_type": "markdown",
   "metadata": {
    "colab_type": "text",
    "id": "b93FPbs0xuLv"
   },
   "source": [
    "##### <font color=\"blue\">Example 2</font> "
   ]
  },
  {
   "cell_type": "code",
   "execution_count": 8,
   "metadata": {
    "colab": {},
    "colab_type": "code",
    "id": "HM9ouOKxxxh1"
   },
   "outputs": [
    {
     "name": "stdout",
     "output_type": "stream",
     "text": [
      "Hello Valentine!\n"
     ]
    }
   ],
   "source": [
    "# Example 2\n",
    "# ---\n",
    "# Question: Print the text \"Hello Valentine!\" and defining a whitespace as a seperator\n",
    "# ---\n",
    "# OUR CODE GOES BELOW\n",
    "#\n",
    "print(\"Hello\", \"Valentine!\", sep=\" \")"
   ]
  },
  {
   "cell_type": "markdown",
   "metadata": {
    "colab_type": "text",
    "id": "oPUu3IMexvkM"
   },
   "source": [
    "##### <font color=\"blue\">Example 3</font> "
   ]
  },
  {
   "cell_type": "code",
   "execution_count": 12,
   "metadata": {
    "colab": {},
    "colab_type": "code",
    "id": "4f4aOFsExyJa"
   },
   "outputs": [
    {
     "name": "stdout",
     "output_type": "stream",
     "text": [
      "{'red', 'blue', 'green'}\n"
     ]
    }
   ],
   "source": [
    "# Example 3 \n",
    "# ---\n",
    "# Question: Print out the following dictionary named colors = {'red', 'green', 'blue'},\n",
    "# in the output console below \n",
    "# ---\n",
    "# OUR CODE GOES BELOW\n",
    "# \n",
    "\n",
    "colors = {'red', 'green', 'blue'}\n",
    "print(colors)"
   ]
  },
  {
   "cell_type": "markdown",
   "metadata": {
    "colab_type": "text",
    "id": "TsVuSiuK9vLo"
   },
   "source": [
    "#### <font color=\"green\">Challenges</font> "
   ]
  },
  {
   "cell_type": "markdown",
   "metadata": {
    "colab_type": "text",
    "id": "AX1eFoHBxioZ"
   },
   "source": [
    "##### <font color=\"green\">Challenge 1</font>"
   ]
  },
  {
   "cell_type": "code",
   "execution_count": 13,
   "metadata": {
    "colab": {},
    "colab_type": "code",
    "id": "h5d4FLXDxmd4"
   },
   "outputs": [
    {
     "name": "stdout",
     "output_type": "stream",
     "text": [
      "I am excited to learn Data Science\n"
     ]
    }
   ],
   "source": [
    "# Challenge 1\n",
    "# ---\n",
    "# Question: Using the print function print out this statement: \"I am excited to learn Data Science\"\n",
    "# ---\n",
    "# YOUR CODE GOES BELOW\n",
    "# \n",
    "\n",
    "print(\"I am excited to learn Data Science\")"
   ]
  },
  {
   "cell_type": "markdown",
   "metadata": {
    "colab_type": "text",
    "id": "xN0KYDlrxjzF"
   },
   "source": [
    "##### <font color=\"green\">Challenge 2</font>"
   ]
  },
  {
   "cell_type": "code",
   "execution_count": 16,
   "metadata": {
    "colab": {},
    "colab_type": "code",
    "id": "j3A29Of8xnEG"
   },
   "outputs": [
    {
     "name": "stdout",
     "output_type": "stream",
     "text": [
      "Nairobi,Mombasa,Lagos\n"
     ]
    }
   ],
   "source": [
    "# Challenge 2\n",
    "# ---\n",
    "# Question: Print out three cities in the world, seperated by commas.\n",
    "# ---\n",
    "# YOUR CODE GOES BELOW\n",
    "# \n",
    "\n",
    "print(\"Nairobi\",\"Mombasa\",\"Lagos\", sep=\",\")\n"
   ]
  },
  {
   "cell_type": "markdown",
   "metadata": {
    "colab_type": "text",
    "id": "1KGAN1h-rhUT"
   },
   "source": [
    "## 3. Comments"
   ]
  },
  {
   "cell_type": "markdown",
   "metadata": {
    "colab_type": "text",
    "id": "6mfDGqy38176"
   },
   "source": [
    "#### <font color=\"blue\">Examples</font>"
   ]
  },
  {
   "cell_type": "markdown",
   "metadata": {
    "colab_type": "text",
    "id": "BDggmS7ur3Wg"
   },
   "source": [
    "##### <font color=\"blue\">Example 1:</font> Single Line Comments"
   ]
  },
  {
   "cell_type": "code",
   "execution_count": 17,
   "metadata": {
    "colab": {},
    "colab_type": "code",
    "id": "Chy3pmP9r9Ch"
   },
   "outputs": [],
   "source": [
    "# This line is a single line comment. We use the # character to indicate the following single line content are comments.\n",
    "score = 56"
   ]
  },
  {
   "cell_type": "markdown",
   "metadata": {
    "colab_type": "text",
    "id": "Am56-sCnr6vi"
   },
   "source": [
    "##### <font color=\"blue\">Example 2:</font> Multiple Line Comments - Method 1"
   ]
  },
  {
   "cell_type": "code",
   "execution_count": null,
   "metadata": {
    "colab": {},
    "colab_type": "code",
    "id": "i4mALMPGr2Ad"
   },
   "outputs": [],
   "source": [
    "'''\n",
    "This is a multiline comment. \n",
    "We use the delimiter characters to indicate that \n",
    "the following multi-line content are comments.\n",
    "'''\n",
    "score = 53"
   ]
  },
  {
   "cell_type": "markdown",
   "metadata": {
    "colab_type": "text",
    "id": "5enr7YOCsGiO"
   },
   "source": [
    "##### <font color=\"blue\">Example 3:</font> Multiple Line Comments - Method 2"
   ]
  },
  {
   "cell_type": "code",
   "execution_count": null,
   "metadata": {
    "colab": {},
    "colab_type": "code",
    "id": "jLWLFxn5sVnD"
   },
   "outputs": [],
   "source": [
    "# ---\n",
    "# This is a multi-line comment. \n",
    "# We can also use multiple hash characters to comment on \n",
    "# a block of content just as shown in this example.\n",
    "# We will be using this method of commenting to \n",
    "# provide more information about the exercises \n",
    "# and challenges within this course.\n",
    "# ---\n",
    "\n",
    "score = 53"
   ]
  },
  {
   "cell_type": "markdown",
   "metadata": {
    "colab_type": "text",
    "id": "czwZIoMP8yq2"
   },
   "source": [
    "#### <font color=\"green\">Challenges</font> "
   ]
  },
  {
   "cell_type": "markdown",
   "metadata": {
    "colab_type": "text",
    "id": "UVhxQgFF8KI_"
   },
   "source": [
    "##### <font color=\"green\">Challenge 1:</font> Explain the following code below using a single line comment."
   ]
  },
  {
   "cell_type": "code",
   "execution_count": 18,
   "metadata": {
    "colab": {},
    "colab_type": "code",
    "id": "EXZ0jzkw8N3Z"
   },
   "outputs": [],
   "source": [
    "# To assign the value Earth to the vaiable home_planet\n",
    "\n",
    "home_planet = \"Earth\""
   ]
  },
  {
   "cell_type": "markdown",
   "metadata": {
    "colab_type": "text",
    "id": "vRf4lpd38TE8"
   },
   "source": [
    "##### <font color=\"green\">Challenge 2:</font> Explain the following code using multiple line comments (using delimiters)"
   ]
  },
  {
   "cell_type": "code",
   "execution_count": 19,
   "metadata": {
    "colab": {},
    "colab_type": "code",
    "id": "C4eWE7xS8U9m"
   },
   "outputs": [],
   "source": [
    " '''\n",
    " We to assign an integer value of 400 to the variable lap, while showning the use\n",
    " of multiple line comments(delimiters)\n",
    " '''\n",
    " lap = 400"
   ]
  },
  {
   "cell_type": "markdown",
   "metadata": {
    "colab_type": "text",
    "id": "qOcy-X35HV_t"
   },
   "source": [
    "# 2. Arithmetic Operators"
   ]
  },
  {
   "cell_type": "markdown",
   "metadata": {
    "colab_type": "text",
    "id": "HX5OKWTeH3y7"
   },
   "source": [
    "#### <font color=\"blue\">Examples</font>"
   ]
  },
  {
   "cell_type": "markdown",
   "metadata": {
    "colab_type": "text",
    "id": "V3vakOO6H9Vh"
   },
   "source": [
    "##### <font color=\"blue\">Example 1"
   ]
  },
  {
   "cell_type": "code",
   "execution_count": 20,
   "metadata": {
    "colab": {},
    "colab_type": "code",
    "id": "LzONiSsfHAmy"
   },
   "outputs": [
    {
     "name": "stdout",
     "output_type": "stream",
     "text": [
      "50\n"
     ]
    }
   ],
   "source": [
    "# Example 1\n",
    "# ---\n",
    "# We will now go through arithmetic operators. Here in this example, \n",
    "# we will perform an addition operation below. We can use the subtraction operator\n",
    "# to perform the subtraction operator\n",
    "# ---\n",
    "# \n",
    "\n",
    "# Declare our variables\n",
    "a = 40\n",
    "b = 10\n",
    "\n",
    "# Addition\n",
    "c = a + b\n",
    "\n",
    "# Printing out our results\n",
    "print(c)"
   ]
  },
  {
   "cell_type": "markdown",
   "metadata": {
    "colab_type": "text",
    "id": "RMTv6MI1IIT_"
   },
   "source": [
    "##### <font color=\"blue\">Example 2"
   ]
  },
  {
   "cell_type": "code",
   "execution_count": 21,
   "metadata": {
    "colab": {},
    "colab_type": "code",
    "id": "JPCyGVKjICxP"
   },
   "outputs": [
    {
     "name": "stdout",
     "output_type": "stream",
     "text": [
      "4.0\n"
     ]
    }
   ],
   "source": [
    "# Example 2\n",
    "# ---\n",
    "# We can perform an division operation below\n",
    "# ---\n",
    "# \n",
    "d = a / b\n",
    "\n",
    "# Printing out our result\n",
    "# ---\n",
    "#\n",
    "print(d)"
   ]
  },
  {
   "cell_type": "markdown",
   "metadata": {
    "colab_type": "text",
    "id": "HHygJvHMIPgh"
   },
   "source": [
    "##### <font color=\"blue\">Example 3"
   ]
  },
  {
   "cell_type": "code",
   "execution_count": 22,
   "metadata": {
    "colab": {},
    "colab_type": "code",
    "id": "FFONu-_VIO1k"
   },
   "outputs": [
    {
     "name": "stdout",
     "output_type": "stream",
     "text": [
      "50\n"
     ]
    }
   ],
   "source": [
    "# Example 3\n",
    "# ---\n",
    "# We can also use the increment operator to perform a = a + b. This is a common operator \n",
    "# while writing python programs. In addition, we can also use the decrement operator -=.\n",
    "# After you've ran this cell, you can try using decrement operator so that you see\n",
    "# what happens when you use it.\n",
    "# ---\n",
    "# \n",
    "\n",
    "# Declaring our variables \n",
    "# ---\n",
    "# \n",
    "a = 40\n",
    "b = 10\n",
    "\n",
    "# Using the increment operator\n",
    "# ---\n",
    "#\n",
    "a += b\n",
    "\n",
    "# Printing out our result\n",
    "# ---\n",
    "#\n",
    "print(a)"
   ]
  },
  {
   "cell_type": "markdown",
   "metadata": {
    "colab_type": "text",
    "id": "x_Sf1NXPpz0q"
   },
   "source": [
    "##### <font color=\"blue\">Example 4</font>"
   ]
  },
  {
   "cell_type": "code",
   "execution_count": 24,
   "metadata": {
    "colab": {},
    "colab_type": "code",
    "id": "R7vSWLfvpxVl"
   },
   "outputs": [
    {
     "name": "stdout",
     "output_type": "stream",
     "text": [
      "1\n",
      "25\n"
     ]
    }
   ],
   "source": [
    "# Example 4\n",
    "# ---\n",
    "# We can also use the exponentiation operator ** to raisee the number \n",
    "# to its left to the power of the number to its right. For example, 3**2 = 9.\n",
    "# Another operator we can use is the modulus operator %% which returns \n",
    "# the remainder of the division between number on the left by the on the right.\n",
    "# For Example, 5 %% 2 = 1\n",
    "# ---\n",
    "#\n",
    "\n",
    "# Uncomment the following lines of code and see what happens\n",
    "# ---\n",
    "# \n",
    "print(15 % 7)\n",
    "print(5 ** 2)"
   ]
  },
  {
   "cell_type": "markdown",
   "metadata": {
    "colab_type": "text",
    "id": "EqUWEUsNINyj"
   },
   "source": [
    "#### <font color=\"green\">Challenges</font> "
   ]
  },
  {
   "cell_type": "markdown",
   "metadata": {
    "colab_type": "text",
    "id": "ExGMoK-pIb8p"
   },
   "source": [
    "##### <font color=\"green\">Challenge 1</font>"
   ]
  },
  {
   "cell_type": "code",
   "execution_count": 26,
   "metadata": {
    "colab": {},
    "colab_type": "code",
    "id": "DnfLaMI-IhDi"
   },
   "outputs": [
    {
     "name": "stdout",
     "output_type": "stream",
     "text": [
      "40\n"
     ]
    }
   ],
   "source": [
    "# Challenge 1\n",
    "# ---\n",
    "# Question: Subtract b from a using the above declared variables and print out the result\n",
    "# ---\n",
    "# YOUR CODE GOES BELOW\n",
    "#\n",
    "\n",
    "print(a-b)"
   ]
  },
  {
   "cell_type": "markdown",
   "metadata": {
    "colab_type": "text",
    "id": "ZfjZLNgMIeYh"
   },
   "source": [
    "##### <font color=\"green\">Challenge 2</font>"
   ]
  },
  {
   "cell_type": "code",
   "execution_count": 27,
   "metadata": {
    "colab": {},
    "colab_type": "code",
    "id": "gUZE2lrcIhXi"
   },
   "outputs": [
    {
     "name": "stdout",
     "output_type": "stream",
     "text": [
      "500\n"
     ]
    }
   ],
   "source": [
    "# Challenge 2\n",
    "# ---\n",
    "# Question: Multiply a and b variables and print out out the result\n",
    "# ---\n",
    "# YOUR CODE GOES HERE\n",
    "\n",
    "print(a*b) "
   ]
  },
  {
   "cell_type": "markdown",
   "metadata": {
    "colab_type": "text",
    "id": "dqhVm_8kN2tl"
   },
   "source": [
    "# 3. Data Types"
   ]
  },
  {
   "cell_type": "markdown",
   "metadata": {
    "colab_type": "text",
    "id": "VtTVm3cvN_lP"
   },
   "source": [
    "#### <font color=\"blue\">Examples</font>"
   ]
  },
  {
   "cell_type": "markdown",
   "metadata": {
    "colab_type": "text",
    "id": "qIxhQwTHOIjm"
   },
   "source": [
    "##### <font color=\"blue\">Example 1"
   ]
  },
  {
   "cell_type": "code",
   "execution_count": 28,
   "metadata": {
    "colab": {},
    "colab_type": "code",
    "id": "n7APi3z1NtN0"
   },
   "outputs": [
    {
     "name": "stdout",
     "output_type": "stream",
     "text": [
      "<class 'int'>\n",
      "<class 'str'>\n",
      "<class 'float'>\n"
     ]
    }
   ],
   "source": [
    "# Example 1\n",
    "# ---\n",
    "# Dynamically-inferred types\n",
    "# ---\n",
    "#\n",
    "\n",
    "# Integer data type\n",
    "# ---\n",
    "# Integer value is a positive or negative whole number.\n",
    "# ---\n",
    "#\n",
    "x = 50\n",
    "print(type(x))\n",
    "\n",
    "# String data type \n",
    "# ---\n",
    "# String value is a sequence of characters. Strings are contained in either single or double quotes.\n",
    "# ---\n",
    "#\n",
    "x = '30'\n",
    "print(type(x))\n",
    "\n",
    "# Float data type\n",
    "# ---\n",
    "# Float value is a real number with floating-point representation.\n",
    "# ---\n",
    "# \n",
    "x = 90.0\n",
    "print(type(x))"
   ]
  },
  {
   "cell_type": "markdown",
   "metadata": {
    "colab_type": "text",
    "id": "JdKpybEFOJOM"
   },
   "source": [
    "##### <font color=\"blue\">Example 2"
   ]
  },
  {
   "cell_type": "code",
   "execution_count": 29,
   "metadata": {
    "colab": {},
    "colab_type": "code",
    "id": "2Al_wNeZOE7t"
   },
   "outputs": [
    {
     "name": "stdout",
     "output_type": "stream",
     "text": [
      "45\n"
     ]
    }
   ],
   "source": [
    "# Example 2\n",
    "# ---\n",
    "# Manual type-conversion (string to int)\n",
    "# Let's see what happens when we add a value of integer datatype with\n",
    "# a value of string data type.\n",
    "# ---\n",
    "# \n",
    "x = 40\n",
    "y = '5'\n",
    "\n",
    "print(x + int(y))"
   ]
  },
  {
   "cell_type": "markdown",
   "metadata": {
    "colab_type": "text",
    "id": "XJoETlR_OKHt"
   },
   "source": [
    "##### <font color=\"blue\">Example 3"
   ]
  },
  {
   "cell_type": "code",
   "execution_count": 30,
   "metadata": {
    "colab": {},
    "colab_type": "code",
    "id": "CmPAy-efOEx-"
   },
   "outputs": [
    {
     "name": "stdout",
     "output_type": "stream",
     "text": [
      "<class 'int'>\n",
      "25.0\n",
      "<class 'float'>\n"
     ]
    }
   ],
   "source": [
    "# Example 3\n",
    "# ---\n",
    "# Automatic type-conversion (int to float)\n",
    "# ---\n",
    "# \n",
    "x = 20\n",
    "print(type(x))\n",
    "\n",
    "x += 5.0\n",
    "print(x)\n",
    "\n",
    "print(type(x))"
   ]
  },
  {
   "cell_type": "markdown",
   "metadata": {
    "colab_type": "text",
    "id": "8w3U0HVEOccy"
   },
   "source": [
    "##### <font color=\"blue\">Example 4"
   ]
  },
  {
   "cell_type": "code",
   "execution_count": 31,
   "metadata": {
    "colab": {},
    "colab_type": "code",
    "id": "o_qQW55lOeY5"
   },
   "outputs": [
    {
     "name": "stdout",
     "output_type": "stream",
     "text": [
      "8.0\n",
      "0.125\n"
     ]
    }
   ],
   "source": [
    "# Example 4\n",
    "# ---\n",
    "# Dividing Integers results to a float\n",
    "# ---\n",
    "# \n",
    "a = 40\n",
    "b = 5\n",
    "\n",
    "print(a/b)\n",
    "print(b/a)"
   ]
  },
  {
   "cell_type": "markdown",
   "metadata": {
    "colab_type": "text",
    "id": "hDZ9eDtmOgLi"
   },
   "source": [
    "##### <font color=\"blue\">Example 5"
   ]
  },
  {
   "cell_type": "code",
   "execution_count": 32,
   "metadata": {
    "colab": {},
    "colab_type": "code",
    "id": "RqtHFRB1OkU-"
   },
   "outputs": [
    {
     "name": "stdout",
     "output_type": "stream",
     "text": [
      "1.0\n"
     ]
    }
   ],
   "source": [
    "# Example 5\n",
    "# ---\n",
    "# Forcing float division\n",
    "# ---\n",
    "# \n",
    "print(b/float('5'))"
   ]
  },
  {
   "cell_type": "markdown",
   "metadata": {
    "colab_type": "text",
    "id": "SxIaU06sOuYQ"
   },
   "source": [
    "##### <font color=\"blue\">Example 6"
   ]
  },
  {
   "cell_type": "code",
   "execution_count": 33,
   "metadata": {
    "colab": {},
    "colab_type": "code",
    "id": "Ho7QuNWqOvNs"
   },
   "outputs": [
    {
     "name": "stdout",
     "output_type": "stream",
     "text": [
      "John Doe\n"
     ]
    }
   ],
   "source": [
    "# Examaple 6\n",
    "# ---\n",
    "# String \"arithmetic\" (actually concatenation)\n",
    "# Adding two strings\n",
    "# ---\n",
    "a = 'John '\n",
    "b = 'Doe'\n",
    "\n",
    "print(a + b)"
   ]
  },
  {
   "cell_type": "markdown",
   "metadata": {
    "colab_type": "text",
    "id": "GuR57OHgOBnM"
   },
   "source": [
    "#### <font color=\"green\">Challenges</font> "
   ]
  },
  {
   "cell_type": "markdown",
   "metadata": {
    "colab_type": "text",
    "id": "eaq4UrFLONmb"
   },
   "source": [
    "##### <font color=\"green\">Challenge 1</font>"
   ]
  },
  {
   "cell_type": "code",
   "execution_count": 34,
   "metadata": {
    "colab": {},
    "colab_type": "code",
    "id": "sXCvJSB1OD8w"
   },
   "outputs": [
    {
     "name": "stdout",
     "output_type": "stream",
     "text": [
      "Hello World!\n"
     ]
    }
   ],
   "source": [
    "# Challenge 1\n",
    "# ---\n",
    "# Question: Print out any variable that comes to mind with the string data type.\n",
    "# ---\n",
    "# YOUR CODE GOES BELOW\n",
    "#\n",
    "\n",
    "a = \"Hello World!\"\n",
    "\n",
    "print(a)"
   ]
  },
  {
   "cell_type": "markdown",
   "metadata": {
    "colab_type": "text",
    "id": "bSurXHq_OOjc"
   },
   "source": [
    "##### <font color=\"green\">Challenge 2</font>"
   ]
  },
  {
   "cell_type": "code",
   "execution_count": 37,
   "metadata": {
    "colab": {},
    "colab_type": "code",
    "id": "fQjDSfP1OEPH"
   },
   "outputs": [
    {
     "name": "stdout",
     "output_type": "stream",
     "text": [
      "1005\n"
     ]
    }
   ],
   "source": [
    "# Challenge 2\n",
    "# ---\n",
    "# Question: Run and correct the following code.\n",
    "# ---\n",
    "# Hint: Read the errors generated and modify the code accordingly\n",
    "# \n",
    "x = 1000\n",
    "y = '5'\n",
    "print(x + int(y))"
   ]
  },
  {
   "cell_type": "markdown",
   "metadata": {
    "colab_type": "text",
    "id": "hnyRRASVOPq4"
   },
   "source": [
    "##### <font color=\"green\">Challenge 3</font>"
   ]
  },
  {
   "cell_type": "code",
   "execution_count": 38,
   "metadata": {
    "colab": {},
    "colab_type": "code",
    "id": "7qUmDv5NOFl0"
   },
   "outputs": [
    {
     "name": "stdout",
     "output_type": "stream",
     "text": [
      "66.33333333333333\n",
      "<class 'float'>\n"
     ]
    }
   ],
   "source": [
    "# Challenge 3\n",
    "# ---\n",
    "# Question: Perform integer division of 199 and 3 with the result being a float.\n",
    "# Print out the result.\n",
    "# ---\n",
    "# YOUR CODE GOES BELOW\n",
    "\n",
    "b = 199/3 \n",
    "\n",
    "print(b)\n",
    "print(type(b))\n"
   ]
  },
  {
   "cell_type": "markdown",
   "metadata": {
    "colab_type": "text",
    "id": "okwTjEZ_PCiN"
   },
   "source": [
    "##### <font color=\"green\">Challenge 4</font>"
   ]
  },
  {
   "cell_type": "code",
   "execution_count": 39,
   "metadata": {
    "colab": {},
    "colab_type": "code",
    "id": "YThUHgEzPEfP"
   },
   "outputs": [
    {
     "name": "stdout",
     "output_type": "stream",
     "text": [
      "<class 'float'>\n"
     ]
    }
   ],
   "source": [
    "# Challenge 4\n",
    "# ---\n",
    "# Question: Print out the data type of the given variable x.\n",
    "# ---\n",
    "# YOUR CODE GOES BELOW\n",
    "#\n",
    "x = 1000.00\n",
    "\n",
    "print(type(x))"
   ]
  },
  {
   "cell_type": "markdown",
   "metadata": {
    "colab_type": "text",
    "id": "80kHsk0gQiX5"
   },
   "source": [
    "# 4. Lists"
   ]
  },
  {
   "cell_type": "markdown",
   "metadata": {
    "colab_type": "text",
    "id": "r6CjXb92QsKs"
   },
   "source": [
    "#### <font color=\"blue\">Examples</font>"
   ]
  },
  {
   "cell_type": "markdown",
   "metadata": {
    "colab_type": "text",
    "id": "_We_Aif3Q_n5"
   },
   "source": [
    "##### <font color=\"blue\">Example 1"
   ]
  },
  {
   "cell_type": "code",
   "execution_count": 40,
   "metadata": {
    "colab": {},
    "colab_type": "code",
    "id": "2JcpAVbvQd1w"
   },
   "outputs": [
    {
     "name": "stdout",
     "output_type": "stream",
     "text": [
      "['salmon', 'star fish', 'tilapia', 'sword fish']\n"
     ]
    }
   ],
   "source": [
    "# Example 1\n",
    "# ---\n",
    "# Question: Create a list named fish and store it with values of different types of fish\n",
    "# ---\n",
    "# \n",
    "\n",
    "# Defining our list\n",
    "fish = [\"salmon\", \"star fish\", \"tilapia\", \"sword fish\"]\n",
    "\n",
    "# Printing our result\n",
    "print(fish)"
   ]
  },
  {
   "cell_type": "markdown",
   "metadata": {
    "colab_type": "text",
    "id": "sVrIv1ucRAtY"
   },
   "source": [
    "##### <font color=\"blue\">Example 2"
   ]
  },
  {
   "cell_type": "code",
   "execution_count": 41,
   "metadata": {
    "colab": {},
    "colab_type": "code",
    "id": "aI4qEeumRCRr"
   },
   "outputs": [
    {
     "name": "stdout",
     "output_type": "stream",
     "text": [
      "['salmon', 'star fish', 'tilapia', 'sword fish', 'gold fish']\n"
     ]
    }
   ],
   "source": [
    "# Example 2\n",
    "# ---\n",
    "# Question: Add elements to a list\n",
    "# ---\n",
    "# \n",
    "\n",
    "# Adding the fish \"gold fish\" to our fish list\n",
    "# ---\n",
    "#\n",
    "fish.append(\"gold fish\")\n",
    "\n",
    "# Printing our result\n",
    "# ---\n",
    "#\n",
    "print(fish)"
   ]
  },
  {
   "cell_type": "markdown",
   "metadata": {
    "colab_type": "text",
    "id": "xaLN8jeYRDll"
   },
   "source": [
    "##### <font color=\"blue\">Example 3"
   ]
  },
  {
   "cell_type": "code",
   "execution_count": 42,
   "metadata": {
    "colab": {},
    "colab_type": "code",
    "id": "eqHEZSfYRE_X"
   },
   "outputs": [
    {
     "name": "stdout",
     "output_type": "stream",
     "text": [
      "['salmon', 'star fish', 'nile tipalia', 'sword fish', 'gold fish']\n"
     ]
    }
   ],
   "source": [
    "# Example 3 \n",
    "# ---\n",
    "# Question: updating an element in a list\n",
    "# ---\n",
    "#\n",
    "fish[2] = \"nile tipalia\"\n",
    "\n",
    "# Printing our result\n",
    "# ---\n",
    "#\n",
    "print(fish)"
   ]
  },
  {
   "cell_type": "markdown",
   "metadata": {
    "colab_type": "text",
    "id": "dGKEWiBwTVFM"
   },
   "source": [
    "##### <font color=\"blue\">Example 4"
   ]
  },
  {
   "cell_type": "code",
   "execution_count": 43,
   "metadata": {
    "colab": {},
    "colab_type": "code",
    "id": "JTi3KkzITYk8"
   },
   "outputs": [
    {
     "name": "stdout",
     "output_type": "stream",
     "text": [
      "['salmon', 'star fish', 'nile tipalia', 'sword fish']\n"
     ]
    }
   ],
   "source": [
    "# Example 4 \n",
    "# ---\n",
    "# Question: Remove an element from a list\n",
    "# ---\n",
    "#\n",
    "fish.remove(\"gold fish\")\n",
    "\n",
    "# Printing our result\n",
    "# ---\n",
    "#\n",
    "print(fish)"
   ]
  },
  {
   "cell_type": "markdown",
   "metadata": {
    "colab_type": "text",
    "id": "WnXWTn9WTaJs"
   },
   "source": [
    "##### <font color=\"blue\">Example 5"
   ]
  },
  {
   "cell_type": "code",
   "execution_count": 44,
   "metadata": {
    "colab": {},
    "colab_type": "code",
    "id": "3o416dxITbNq"
   },
   "outputs": [
    {
     "name": "stdout",
     "output_type": "stream",
     "text": [
      "salmon\n",
      "['salmon']\n",
      "['sword fish']\n",
      "['nile tipalia', 'sword fish']\n"
     ]
    }
   ],
   "source": [
    "# Example 5\n",
    "# ---\n",
    "# Question: Slice the restaurant list to fetch specific elements in a list\n",
    "# ---\n",
    "#\n",
    "\n",
    "# Getting the first element in the list as shown\n",
    "# ---\n",
    "# \n",
    "print(fish[0])\n",
    "\n",
    "# Getting the first two elements in the list as shown\n",
    "# ---\n",
    "#\n",
    "print(fish[0:1])\n",
    "\n",
    "# Getting the last one element in the list as shown\n",
    "# ---\n",
    "#\n",
    "print(fish[-1:])\n",
    "\n",
    "# Getting items from 2nd position to the end in the list as shown\n",
    "# ---\n",
    "#\n",
    "print(fish[2:])"
   ]
  },
  {
   "cell_type": "markdown",
   "metadata": {
    "colab_type": "text",
    "id": "96-FMInjQs5S"
   },
   "source": [
    "#### <font color=\"green\">Challenges</font> "
   ]
  },
  {
   "cell_type": "markdown",
   "metadata": {
    "colab_type": "text",
    "id": "z9M2LwKAQvN_"
   },
   "source": [
    "##### <font color=\"green\">Challenge 1</font>"
   ]
  },
  {
   "cell_type": "code",
   "execution_count": 45,
   "metadata": {
    "colab": {},
    "colab_type": "code",
    "id": "gkiZKIQfQuzt"
   },
   "outputs": [
    {
     "name": "stdout",
     "output_type": "stream",
     "text": [
      "['apple', 'Pineapple', 'Banana', 'Mango', 'Orange']\n"
     ]
    }
   ],
   "source": [
    "# Challenge 1\n",
    "# ---\n",
    "# Question: Create a list containing any 5 fruits of your choice. \n",
    "# ---\n",
    "# YOUR CODE GOES BELOW\n",
    "# \n",
    "\n",
    "fruits = [\"apple\", \"Pineapple\", \"Banana\", \"Mango\", \"Orange\"]\n",
    "\n",
    "print(fruits)"
   ]
  },
  {
   "cell_type": "markdown",
   "metadata": {
    "colab_type": "text",
    "id": "fnRxw0qjQ1aZ"
   },
   "source": [
    "##### <font color=\"green\">Challenge 2</font>"
   ]
  },
  {
   "cell_type": "code",
   "execution_count": 48,
   "metadata": {
    "colab": {},
    "colab_type": "code",
    "id": "dCUhw0npQ4lD"
   },
   "outputs": [
    {
     "name": "stdout",
     "output_type": "stream",
     "text": [
      "['apple', 'Pineapple', 'Banana', 'Mango', 'Orange', 'guava']\n"
     ]
    }
   ],
   "source": [
    "# Challenge 2\n",
    "# ---\n",
    "# Question: Add the fruit guava to your list.\n",
    "# ---\n",
    "# YOUR CODE GOES BELOW\n",
    "# \n",
    "fruits.append(\"guava\")\n",
    "\n",
    "print(fruits)"
   ]
  },
  {
   "cell_type": "markdown",
   "metadata": {
    "colab_type": "text",
    "id": "HA99lKmhQ68W"
   },
   "source": [
    "##### <font color=\"green\">Challenge 3</font>"
   ]
  },
  {
   "cell_type": "code",
   "execution_count": 49,
   "metadata": {
    "colab": {},
    "colab_type": "code",
    "id": "Ci5HL0QDQ8o-"
   },
   "outputs": [
    {
     "name": "stdout",
     "output_type": "stream",
     "text": [
      "['apple', 'Pineapple', 'red Orange', 'yellow Orange', 'Orange', 'guava']\n"
     ]
    }
   ],
   "source": [
    "# Challenge 3\n",
    "# ---\n",
    "# Question: Update the fruit in the third and fourth position in the list \n",
    "# with \"red orange\", \"yellow orange\"\n",
    "# ---\n",
    "# YOUR CODE GOES BELOW\n",
    "# \n",
    "\n",
    "fruits[2] = \"red Orange\"\n",
    "\n",
    "fruits[3] = \"yellow Orange\"\n",
    "\n",
    "print(fruits)"
   ]
  },
  {
   "cell_type": "markdown",
   "metadata": {
    "colab_type": "text",
    "id": "z7mA-mghTmOc"
   },
   "source": [
    "##### <font color=\"green\">Challenge 4</font>"
   ]
  },
  {
   "cell_type": "code",
   "execution_count": 51,
   "metadata": {
    "colab": {},
    "colab_type": "code",
    "id": "d8oGQBGUTr3i"
   },
   "outputs": [
    {
     "name": "stdout",
     "output_type": "stream",
     "text": [
      "['Orange', 'guava']\n"
     ]
    }
   ],
   "source": [
    "# Challenge 4\n",
    "# ---\n",
    "# Question: Print out the last two fruits in your list.\n",
    "# ---\n",
    "# YOUR CODE GOES BELOW\n",
    "# \n",
    "\n",
    "print(fruits[-2:])"
   ]
  },
  {
   "cell_type": "markdown",
   "metadata": {
    "colab_type": "text",
    "id": "qcpLR3a_XPLd"
   },
   "source": [
    "# 5. Conditional (If) Statements"
   ]
  },
  {
   "cell_type": "markdown",
   "metadata": {
    "colab_type": "text",
    "id": "EnaCUxpRXT0J"
   },
   "source": [
    "#### <font color=\"blue\">Examples</font>"
   ]
  },
  {
   "cell_type": "markdown",
   "metadata": {
    "colab_type": "text",
    "id": "ZX5LhYDuXV2O"
   },
   "source": [
    "##### <font color=\"blue\">Example 1"
   ]
  },
  {
   "cell_type": "code",
   "execution_count": 52,
   "metadata": {
    "colab": {},
    "colab_type": "code",
    "id": "f9y3Gs_0XF9d"
   },
   "outputs": [
    {
     "name": "stdout",
     "output_type": "stream",
     "text": [
      "y is less than x\n"
     ]
    }
   ],
   "source": [
    "# Example 1\n",
    "# ---\n",
    "# Question: How do we use the If keyword?\n",
    "# ---\n",
    "# \n",
    "\n",
    "# We first declare our variables\n",
    "p = 500\n",
    "q = 100\n",
    "\n",
    "# Then we use the if keyword as shown. (We need to watchout for the white spaces)\n",
    "if q < p:\n",
    "  print(\"y is less than x\")"
   ]
  },
  {
   "cell_type": "markdown",
   "metadata": {
    "colab_type": "text",
    "id": "7vliBrC5Xk65"
   },
   "source": [
    "##### <font color=\"blue\">Example 2"
   ]
  },
  {
   "cell_type": "code",
   "execution_count": 53,
   "metadata": {
    "colab": {},
    "colab_type": "code",
    "id": "HChmx56TXl3j"
   },
   "outputs": [
    {
     "name": "stdout",
     "output_type": "stream",
     "text": [
      "r and s are equal\n"
     ]
    }
   ],
   "source": [
    "# Example 2\n",
    "# ---\n",
    "# Question: How can we use the Elif keyword?\n",
    "# ---\n",
    "# \n",
    "r = 100\n",
    "s = 100\n",
    "\n",
    "p = 500\n",
    "q = 100\n",
    "\n",
    "if s < r:\n",
    "  if q < p:\n",
    "    print(\"y is less than x\")\n",
    "elif r == s:\n",
    "  print(\"r and s are equal\")"
   ]
  },
  {
   "cell_type": "markdown",
   "metadata": {
    "colab_type": "text",
    "id": "0xG8q15EXnW_"
   },
   "source": [
    "##### <font color=\"blue\">Example 3"
   ]
  },
  {
   "cell_type": "code",
   "execution_count": 54,
   "metadata": {
    "colab": {},
    "colab_type": "code",
    "id": "jxac2rfpXpws"
   },
   "outputs": [
    {
     "name": "stdout",
     "output_type": "stream",
     "text": [
      "a is greater than b\n"
     ]
    }
   ],
   "source": [
    "# Example 3 \n",
    "# ---\n",
    "# Question: How can we use the Else keyword?\n",
    "# ---\n",
    "# \n",
    "\n",
    "# Declaring our variables\n",
    "a = 150\n",
    "b = 50\n",
    "\n",
    "# Then using our else keyword\n",
    "if b > a:\n",
    "  print(\"b is greater than a\")\n",
    "elif a == b:\n",
    "  print(\"a and b are equal\")\n",
    "else:\n",
    "  print(\"a is greater than b\")"
   ]
  },
  {
   "cell_type": "markdown",
   "metadata": {
    "colab_type": "text",
    "id": "2gYk4uIZYFKf"
   },
   "source": [
    "##### <font color=\"blue\">Example 4"
   ]
  },
  {
   "cell_type": "code",
   "execution_count": 55,
   "metadata": {
    "colab": {},
    "colab_type": "code",
    "id": "cswVDkN0YGQV"
   },
   "outputs": [
    {
     "name": "stdout",
     "output_type": "stream",
     "text": [
      "My name is Mary, and I am 30 years old.\n"
     ]
    }
   ],
   "source": [
    "# Example 4\n",
    "# ---\n",
    "# Question: How can we use the And keyword?\n",
    "# ---\n",
    "# \n",
    "\n",
    "# Declaring our variables\n",
    "name = \"Mary\"    \n",
    "age  = 30 \n",
    "\n",
    "# Using the And keyword\n",
    "if name == \"Mary\" and age == 30:\n",
    "  print(\"My name is Mary, and I am 30 years old.\")"
   ]
  },
  {
   "cell_type": "markdown",
   "metadata": {
    "colab_type": "text",
    "id": "7vPUGzblYGj1"
   },
   "source": [
    "##### <font color=\"blue\">Example 5"
   ]
  },
  {
   "cell_type": "code",
   "execution_count": 56,
   "metadata": {
    "colab": {},
    "colab_type": "code",
    "id": "ivMrjohRYHe6"
   },
   "outputs": [
    {
     "name": "stdout",
     "output_type": "stream",
     "text": [
      "At least one of the conditions is True\n"
     ]
    }
   ],
   "source": [
    "# Example 5\n",
    "# ---\n",
    "# How can we use the Or keyword?\n",
    "# ---\n",
    "# \n",
    "a = 100\n",
    "b = 101\n",
    "c = 99\n",
    "\n",
    "if a > b or a > c:\n",
    "  print(\"At least one of the conditions is True\")"
   ]
  },
  {
   "cell_type": "markdown",
   "metadata": {
    "colab_type": "text",
    "id": "IhBdAGNeXa9N"
   },
   "source": [
    "#### <font color=\"green\">Challenges</font> "
   ]
  },
  {
   "cell_type": "markdown",
   "metadata": {
    "colab_type": "text",
    "id": "kBHUUpINXev4"
   },
   "source": [
    "##### <font color=\"green\">Challenge 1</font>"
   ]
  },
  {
   "cell_type": "code",
   "execution_count": 57,
   "metadata": {
    "colab": {},
    "colab_type": "code",
    "id": "fae-fxEZXfix"
   },
   "outputs": [
    {
     "name": "stdout",
     "output_type": "stream",
     "text": [
      "t is less than s\n"
     ]
    }
   ],
   "source": [
    "# Challenge 1\n",
    "# ---\n",
    "# Question: Declare two variables t and s then, find out whether t is less than s.\n",
    "# You can use the values of t and s to be 7 and 8 respectively.\n",
    "# ---\n",
    "# YOUR CODE GOES BELOW\n",
    "#\n",
    "\n",
    "t = 7\n",
    "s = 8\n",
    "\n",
    "if t < s:\n",
    "    print(\"t is less than s\")\n",
    "else: \n",
    "    print(\"t is not less than s\")"
   ]
  },
  {
   "cell_type": "markdown",
   "metadata": {
    "colab_type": "text",
    "id": "c10_umZGgZFg"
   },
   "source": [
    "##### <font color=\"green\">Challenge 2</font>"
   ]
  },
  {
   "cell_type": "code",
   "execution_count": 62,
   "metadata": {
    "colab": {},
    "colab_type": "code",
    "id": "fATxaR0QgXfd"
   },
   "outputs": [
    {
     "name": "stdout",
     "output_type": "stream",
     "text": [
      "It is outside the range\n"
     ]
    }
   ],
   "source": [
    "# Challenge 2\n",
    "# ---\n",
    "# Question: Create an if statement that determines whether a number given \n",
    "# by a user is greater than 10 and less than 30. \n",
    "# The number given can be in the form of a variable.\n",
    "# ---\n",
    "# Hint: Use the and keyword\n",
    "# ---\n",
    "# YOUR CODE GOES BELOW\n",
    "# \n",
    "\n",
    "s = 50\n",
    "if 10 < s <30:\n",
    "    print(\"It is within the range\")\n",
    "else:\n",
    "    print(\"It is outside the range\")"
   ]
  },
  {
   "cell_type": "markdown",
   "metadata": {
    "colab_type": "text",
    "id": "hdEWP1SNnFHp"
   },
   "source": [
    "# 6. Dictionaries"
   ]
  },
  {
   "cell_type": "markdown",
   "metadata": {
    "colab_type": "text",
    "id": "_TGroESwnRos"
   },
   "source": [
    "#### <font color=\"blue\">Examples</font>"
   ]
  },
  {
   "cell_type": "markdown",
   "metadata": {
    "colab_type": "text",
    "id": "TbJ6OFKqnUTy"
   },
   "source": [
    "##### <font color=\"blue\">Example 1"
   ]
  },
  {
   "cell_type": "code",
   "execution_count": 63,
   "metadata": {
    "colab": {},
    "colab_type": "code",
    "id": "sIEWsndxnBIx"
   },
   "outputs": [
    {
     "name": "stdout",
     "output_type": "stream",
     "text": [
      "{'brand': 'Toyota', 'model': 'Subaru', 'year': 2019}\n"
     ]
    }
   ],
   "source": [
    "# Example 1\n",
    "# ---\n",
    "# Question: Create a dictionary named vehicle and store 3 keys with their respectice values \n",
    "# ---\n",
    "# \n",
    "vehicle = {\n",
    "  'brand': 'Toyota',\n",
    "  'model': 'Subaru',\n",
    "  'year': 2019\n",
    "}\n",
    "print(vehicle)"
   ]
  },
  {
   "cell_type": "markdown",
   "metadata": {
    "colab_type": "text",
    "id": "HxuW_VVCnVgw"
   },
   "source": [
    "##### <font color=\"blue\">Example 2"
   ]
  },
  {
   "cell_type": "code",
   "execution_count": 64,
   "metadata": {
    "colab": {},
    "colab_type": "code",
    "id": "1Vmghb0onWoR"
   },
   "outputs": [
    {
     "name": "stdout",
     "output_type": "stream",
     "text": [
      "{'brand': 'Toyota', 'model': 'Subaru', 'year': 2019, 'engine': '1800cc'}\n"
     ]
    }
   ],
   "source": [
    "# Example 2\n",
    "# ---\n",
    "# Question: Add an element to the vehicle dictionary \n",
    "# ---\n",
    "# \n",
    "\n",
    "# Adding an element to your dictionary\n",
    "vehicle['engine'] = '1800cc'  \n",
    "\n",
    "# Printing out our updated dictionary\n",
    "print(vehicle)"
   ]
  },
  {
   "cell_type": "markdown",
   "metadata": {
    "colab_type": "text",
    "id": "8LarnuTTnalz"
   },
   "source": [
    "##### <font color=\"blue\">Example 3"
   ]
  },
  {
   "cell_type": "code",
   "execution_count": 65,
   "metadata": {
    "colab": {},
    "colab_type": "code",
    "id": "iAQKOoTJnd-D"
   },
   "outputs": [
    {
     "name": "stdout",
     "output_type": "stream",
     "text": [
      "{'brand': 'Toyota', 'model': 'Subaru', 'year': 2019, 'engine': '2400cc'}\n"
     ]
    }
   ],
   "source": [
    "# Example 3\n",
    "# ---\n",
    "# Question: Update an element in the vehicle dictionary\n",
    "# ---\n",
    "# \n",
    "\n",
    "# Updating an element to our dictionary\n",
    "vehicle['engine'] = '2400cc'\n",
    "\n",
    "# Printing out our updated dictionary\n",
    "print(vehicle)"
   ]
  },
  {
   "cell_type": "markdown",
   "metadata": {
    "colab_type": "text",
    "id": "VSxz3OK9nb4P"
   },
   "source": [
    "##### <font color=\"blue\">Example 4"
   ]
  },
  {
   "cell_type": "code",
   "execution_count": 66,
   "metadata": {
    "colab": {},
    "colab_type": "code",
    "id": "9JidwoWunedW"
   },
   "outputs": [
    {
     "name": "stdout",
     "output_type": "stream",
     "text": [
      "Subaru\n",
      "Subaru\n"
     ]
    }
   ],
   "source": [
    "# Example 4\n",
    "# ---\n",
    "# Question: Access an element from a dictionary\n",
    "# ---\n",
    "# \n",
    "\n",
    "# Printing our vehicle's model\n",
    "#\n",
    "print(vehicle[\"model\"]) \n",
    "\n",
    "# or we could use\n",
    "print(vehicle.get(\"model\"))"
   ]
  },
  {
   "cell_type": "markdown",
   "metadata": {
    "colab_type": "text",
    "id": "_xf8ei3mnc3-"
   },
   "source": [
    "##### <font color=\"blue\">Example 5"
   ]
  },
  {
   "cell_type": "code",
   "execution_count": 67,
   "metadata": {
    "colab": {},
    "colab_type": "code",
    "id": "kBMhLSUvnfXb"
   },
   "outputs": [
    {
     "data": {
      "text/plain": [
       "{'brand': 'Toyota', 'year': 2019, 'engine': '2400cc'}"
      ]
     },
     "execution_count": 67,
     "metadata": {},
     "output_type": "execute_result"
    }
   ],
   "source": [
    "# Example 5\n",
    "# ---\n",
    "# Question: Remove an element from the vehicle dictionary\n",
    "# ---\n",
    "# \n",
    "\n",
    "# Removing model from the dictionary\n",
    "vehicle_without_model = vehicle.pop(\"model\")\n",
    "vehicle"
   ]
  },
  {
   "cell_type": "markdown",
   "metadata": {
    "colab_type": "text",
    "id": "C4tY9xM-n6jP"
   },
   "source": [
    "##### <font color=\"blue\">Example 6"
   ]
  },
  {
   "cell_type": "code",
   "execution_count": 68,
   "metadata": {
    "colab": {},
    "colab_type": "code",
    "id": "l10tZKkqn791"
   },
   "outputs": [
    {
     "name": "stdout",
     "output_type": "stream",
     "text": [
      "Yes, the keyword exists in the dictionary\n"
     ]
    }
   ],
   "source": [
    "# Example 6\n",
    "# ---\n",
    "# Question: Check if an element exists in the vehicle dictionary\n",
    "# ---\n",
    "# \n",
    "\n",
    "if \"brand\" in vehicle:\n",
    "  print(\"Yes, the keyword exists in the dictionary\")\n",
    "else:\n",
    "  print('No, the keyword does not exist in the dictionary')\n"
   ]
  },
  {
   "cell_type": "markdown",
   "metadata": {
    "colab_type": "text",
    "id": "qxG8RHFnniJT"
   },
   "source": [
    "#### <font color=\"green\">Challenges</font> "
   ]
  },
  {
   "cell_type": "markdown",
   "metadata": {
    "colab_type": "text",
    "id": "dQlkT13Gnjid"
   },
   "source": [
    "##### <font color=\"green\">Challenge 1</font>"
   ]
  },
  {
   "cell_type": "code",
   "execution_count": 69,
   "metadata": {
    "colab": {},
    "colab_type": "code",
    "id": "omUwx9wnnlcl"
   },
   "outputs": [
    {
     "name": "stdout",
     "output_type": "stream",
     "text": [
      "{'name': 'John', 'certification': 'KCA', 'company': 'kpmg'}\n"
     ]
    }
   ],
   "source": [
    "# Challenge 1\n",
    "# ---\n",
    "# Question: Create a dictionary named accountants then populate it with \n",
    "# any values for the keys; name, certification, company\n",
    "# ---\n",
    "# YOUR CODE GOES BELOW\n",
    "# \n",
    "\n",
    "accountants = {\"name\":\"John\", \"certification\":\"KCA\", \"company\":\"kpmg\"}\n",
    "\n",
    "print(accountants)\n"
   ]
  },
  {
   "cell_type": "markdown",
   "metadata": {
    "colab_type": "text",
    "id": "6Pdl8p-QnmN1"
   },
   "source": [
    "##### <font color=\"green\">Challenge 2</font>"
   ]
  },
  {
   "cell_type": "code",
   "execution_count": 71,
   "metadata": {
    "colab": {},
    "colab_type": "code",
    "id": "szya8o5cnnDr"
   },
   "outputs": [
    {
     "name": "stdout",
     "output_type": "stream",
     "text": [
      "{'name': 'John', 'certification': 'KCA', 'company': 'kpmg', 'institution': 'Pearson'}\n"
     ]
    }
   ],
   "source": [
    "# Challenge 2\n",
    "# ---\n",
    "# Question: Add the element institution with value 'Pearson' to the \n",
    "# accountants dictionary \n",
    "# ---\n",
    "# YOUR CODE GOES BELOW\n",
    "# \n",
    "accountants[\"institution\"] = \"Pearson\"\n",
    "    \n",
    "print(accountants)"
   ]
  },
  {
   "cell_type": "markdown",
   "metadata": {
    "colab_type": "text",
    "id": "93yfMyQWnovw"
   },
   "source": [
    "##### <font color=\"green\">Challenge 3</font>"
   ]
  },
  {
   "cell_type": "code",
   "execution_count": 72,
   "metadata": {
    "colab": {},
    "colab_type": "code",
    "id": "nRK7lwI-npy6"
   },
   "outputs": [
    {
     "name": "stdout",
     "output_type": "stream",
     "text": [
      "{'name': 'Jane', 'certification': 'KCA', 'company': 'kpmg', 'institution': 'Pearson'}\n"
     ]
    }
   ],
   "source": [
    "# Challenge 3\n",
    "# ---\n",
    "# Question: Update the element name with value Jane in the accountants dictionary \n",
    "# ---\n",
    "# YOUR CODE GOES BELOW\n",
    "# \n",
    "\n",
    "accountants[\"name\"] = \"Jane\"\n",
    "\n",
    "print(accountants)"
   ]
  },
  {
   "cell_type": "markdown",
   "metadata": {
    "colab_type": "text",
    "id": "6T7Z10zUnquf"
   },
   "source": [
    "##### <font color=\"green\">Challenge 4</font>"
   ]
  },
  {
   "cell_type": "code",
   "execution_count": 75,
   "metadata": {
    "colab": {},
    "colab_type": "code",
    "id": "QijrUFV6nruq"
   },
   "outputs": [
    {
     "name": "stdout",
     "output_type": "stream",
     "text": [
      "KCA\n"
     ]
    }
   ],
   "source": [
    "# Challenge 4\n",
    "# ---\n",
    "# Question: Access the value of the certification key in the dictionary above\n",
    "# ---\n",
    "# YOUR CODE GOES BELOW\n",
    "#  \n",
    "print(accountants[\"certification\"])"
   ]
  },
  {
   "cell_type": "markdown",
   "metadata": {
    "colab_type": "text",
    "id": "l4aSf1SQnsIc"
   },
   "source": [
    "##### <font color=\"green\">Challenge 5</font>"
   ]
  },
  {
   "cell_type": "code",
   "execution_count": 78,
   "metadata": {
    "colab": {},
    "colab_type": "code",
    "id": "HE2tBOlpntTl"
   },
   "outputs": [
    {
     "name": "stdout",
     "output_type": "stream",
     "text": [
      "Does not Exisits\n"
     ]
    }
   ],
   "source": [
    "# Challenge 5\n",
    "# ---\n",
    "# Question: Check whether country is a key in the accountants dictionary \n",
    "# ---\n",
    "# YOUR CODE GOES BELOW\n",
    "# \n",
    "\n",
    "if \"country\" in accountants:\n",
    "    print(\"Exisits\")\n",
    "else:\n",
    "    print(\"Does not Exisits\")"
   ]
  },
  {
   "cell_type": "markdown",
   "metadata": {
    "colab_type": "text",
    "id": "wW6zZPzHpPkw"
   },
   "source": [
    "# 7. For Loops"
   ]
  },
  {
   "cell_type": "markdown",
   "metadata": {
    "colab_type": "text",
    "id": "Tj7-43EzpXKP"
   },
   "source": [
    "#### <font color=\"blue\">Examples</font>"
   ]
  },
  {
   "cell_type": "markdown",
   "metadata": {
    "colab_type": "text",
    "id": "9CbPFikcpb65"
   },
   "source": [
    "##### <font color=\"blue\">Example 1"
   ]
  },
  {
   "cell_type": "code",
   "execution_count": 79,
   "metadata": {
    "colab": {},
    "colab_type": "code",
    "id": "A6ghbClnpKgH"
   },
   "outputs": [
    {
     "name": "stdout",
     "output_type": "stream",
     "text": [
      "K\n",
      "a\n",
      "r\n",
      "u\n",
      "n\n",
      "a\n",
      " \n",
      "K\n",
      "a\n",
      "r\n",
      "u\n",
      "n\n",
      "a\n"
     ]
    }
   ],
   "source": [
    "# Example 1\n",
    "# ---\n",
    "# Question: Loop/iterate through the string \"Karura Karura\"\n",
    "# ---\n",
    "# \n",
    "for y in \"Karuna Karuna\":\n",
    "  print(y)"
   ]
  },
  {
   "cell_type": "markdown",
   "metadata": {
    "colab_type": "text",
    "id": "8TToTfDxpcsC"
   },
   "source": [
    "##### <font color=\"blue\">Example 2"
   ]
  },
  {
   "cell_type": "code",
   "execution_count": 80,
   "metadata": {
    "colab": {},
    "colab_type": "code",
    "id": "KQjf-iXjpdoW"
   },
   "outputs": [
    {
     "name": "stdout",
     "output_type": "stream",
     "text": [
      "cj's\n",
      "Java\n",
      "Nyama Mama\n",
      "Italian\n",
      "Viridian\n"
     ]
    }
   ],
   "source": [
    "# Example 2\n",
    "# ---\n",
    "# Question: Use a break statement to stop the loop before it continues its iteration\n",
    "# ---\n",
    "# \n",
    "\n",
    "# Let's print out the restaurants list that we had created earlier on\n",
    "restaurants = [\"cj's\", \"Java\", \"Nyama Mama\", \"Italian\", \"Viridian\", \"Khosa\"]\n",
    "\n",
    "# Looping and using a break statement\n",
    "for x in restaurants:\n",
    "  print(x) \n",
    "  if x == \"Viridian\":\n",
    "    break"
   ]
  },
  {
   "cell_type": "markdown",
   "metadata": {
    "colab_type": "text",
    "id": "O0n2jmlupeUe"
   },
   "source": [
    "##### <font color=\"blue\">Example 3"
   ]
  },
  {
   "cell_type": "code",
   "execution_count": 81,
   "metadata": {
    "colab": {},
    "colab_type": "code",
    "id": "cwraj51ZpfqH"
   },
   "outputs": [
    {
     "name": "stdout",
     "output_type": "stream",
     "text": [
      "Checked Phone : iphone 4\n",
      "Checked Phone : iphone 5\n",
      "Checked Phone : iphone 7\n",
      "Checked Phone : iphone x\n",
      "Checked Phone : iphone xs\n"
     ]
    }
   ],
   "source": [
    "# Example 3\n",
    "# ---\n",
    "# Question: Use a continue statement to stop the current iteration of the loop \n",
    "# and continue the next section of our code\n",
    "# ---\n",
    "# \n",
    "\n",
    "# Creating a list\n",
    "mobile_phone = [\"iphone 4\", \"iphone 5\", \"iphone 6\", \"iphone 7\", \"iphone 8\", \"iphone x\", \"iphone xs\"]\n",
    "\n",
    "# Using a for loop\n",
    "for x in mobile_phone:  \n",
    "    if x == 'iphone 6' or x == 'iphone 8': \n",
    "         continue\n",
    "    print ('Checked Phone :', x) "
   ]
  },
  {
   "cell_type": "markdown",
   "metadata": {
    "colab_type": "text",
    "id": "uBJfTBcDpooj"
   },
   "source": [
    "#### <font color=\"green\">Challenges</font> "
   ]
  },
  {
   "cell_type": "markdown",
   "metadata": {
    "colab_type": "text",
    "id": "xVpVBXPkprnS"
   },
   "source": [
    "##### <font color=\"green\">Challenge 1</font>"
   ]
  },
  {
   "cell_type": "code",
   "execution_count": 82,
   "metadata": {
    "colab": {},
    "colab_type": "code",
    "id": "HFGk4EqIppVV"
   },
   "outputs": [
    {
     "name": "stdout",
     "output_type": "stream",
     "text": [
      "I\n",
      " \n",
      "a\n",
      "m\n",
      " \n",
      "a\n",
      " \n",
      "c\n",
      "i\n",
      "t\n",
      "i\n",
      "z\n",
      "e\n",
      "n\n",
      " \n",
      "o\n",
      "f\n",
      " \n",
      "t\n",
      "h\n",
      "e\n",
      " \n",
      "W\n",
      "o\n",
      "r\n",
      "l\n",
      "d\n"
     ]
    }
   ],
   "source": [
    "# Challenge 1\n",
    "# ---\n",
    "# Question: Iterate through the string \"I am a citizen of the World\"\n",
    "# ---\n",
    "# YOUR CODE GOES BELOW\n",
    "# \n",
    "\n",
    "for x in \"I am a citizen of the World\":\n",
    "    print(x)"
   ]
  },
  {
   "cell_type": "markdown",
   "metadata": {
    "colab_type": "text",
    "id": "05xi5W5kpsYM"
   },
   "source": [
    "##### <font color=\"green\">Challenge 2</font>"
   ]
  },
  {
   "cell_type": "code",
   "execution_count": 86,
   "metadata": {
    "colab": {},
    "colab_type": "code",
    "id": "E3VR4EOWptKc"
   },
   "outputs": [
    {
     "name": "stdout",
     "output_type": "stream",
     "text": [
      "Oliech\n",
      "Yohana\n",
      "Matasi\n",
      "Wanyama\n"
     ]
    }
   ],
   "source": [
    "# Challenge 2\n",
    "# Make changes to the code below to omit the Yohana and Mariga\n",
    "# while displaying the items in the footballers list.\n",
    "#\n",
    "\n",
    "# Creating our list\n",
    "# ---\n",
    "# \n",
    "footballers = [\"Oliech\", \"Kahata\", \"Yohana\", \"Matasi\", \"Mariga\", \"Wanyama\"]\n",
    "\n",
    "# Iterating over our list\n",
    "# ---\n",
    "# \n",
    "for f in footballers:\n",
    "    if f == \"Kahata\" or f == \"Mariga\":\n",
    "        continue \n",
    "    print(f)"
   ]
  },
  {
   "cell_type": "markdown",
   "metadata": {
    "colab_type": "text",
    "id": "lY-G45bwqiq8"
   },
   "source": [
    "# 8. While Loops"
   ]
  },
  {
   "cell_type": "markdown",
   "metadata": {
    "colab_type": "text",
    "id": "pZnqvIFlqrcF"
   },
   "source": [
    "#### <font color=\"blue\">Examples</font>"
   ]
  },
  {
   "cell_type": "markdown",
   "metadata": {
    "colab_type": "text",
    "id": "iO82jGS5qwik"
   },
   "source": [
    "##### <font color=\"blue\">Example 1"
   ]
  },
  {
   "cell_type": "code",
   "execution_count": 87,
   "metadata": {
    "colab": {},
    "colab_type": "code",
    "id": "Miw-1LdYqfoZ"
   },
   "outputs": [
    {
     "name": "stdout",
     "output_type": "stream",
     "text": [
      "John\n",
      "Ruth\n",
      "Naomi\n",
      "Estther\n",
      "Liz\n",
      "Stephen\n",
      "Lona\n",
      "Susan\n",
      "Ian\n"
     ]
    }
   ],
   "source": [
    "# Example 1\n",
    "# ---\n",
    "# Question: Iterate over a list using the while loop\n",
    "# ---\n",
    "# YOUR CODE GOES BELOW\n",
    "#\n",
    "\n",
    "# First defining our list\n",
    "teachers = ['John', 'Ruth', 'Naomi', 'Estther', 'Liz', 'Stephen', 'Lona', 'Susan', 'Ian']\n",
    "\n",
    "# Our while loop will start counting from 0,\n",
    "i = 0\n",
    "\n",
    "# determining the no. of elements in our teachers list\n",
    "no_of_teachers = len(teachers) \n",
    "\n",
    "# Performing our iteration, starting from 0 until i is not less than the no_of_teachers\n",
    "while i < no_of_teachers:\n",
    "  \n",
    "  # print out the element in the list as per the index\n",
    "  print(teachers[i])\n",
    "  \n",
    "  # incrementing our i by 1\n",
    "  i += 1"
   ]
  },
  {
   "cell_type": "markdown",
   "metadata": {
    "colab_type": "text",
    "id": "iU4HK7hrqiMO"
   },
   "source": [
    "##### <font color=\"blue\">Example 2"
   ]
  },
  {
   "cell_type": "code",
   "execution_count": 91,
   "metadata": {
    "colab": {},
    "colab_type": "code",
    "id": "OMGyf-1hqyQS"
   },
   "outputs": [
    {
     "name": "stdout",
     "output_type": "stream",
     "text": [
      "Find the element at position: 4\n"
     ]
    }
   ],
   "source": [
    "# Example 2\n",
    "# ---\n",
    "# Question: Use a break statement while iterating over our teachers list\n",
    "# ---\n",
    "# YOUR CODE GOES BELOW\n",
    "#\n",
    "\n",
    "# Our while loop will start counting from 0,\n",
    "i = 0\n",
    "\n",
    "# determining the no. of elements in our teachers list\n",
    "no_of_teachers = len(teachers) \n",
    "\n",
    "# defining our word variable\n",
    "word = \"Liz\"\n",
    "\n",
    "\n",
    "# Performing our iteration, starting from 0 until i is not less than the no_of_teachers\n",
    "while i < no_of_teachers:\n",
    "  \n",
    "  # print out the element in the list as per the index\n",
    "  if word == teachers[i]:\n",
    "    \n",
    "      print(\"Find the element at position:\",i)\n",
    "    \n",
    "      break\n",
    "  \n",
    "  # incrementing our i by 1\n",
    "  i += 1"
   ]
  },
  {
   "cell_type": "markdown",
   "metadata": {
    "colab_type": "text",
    "id": "UoUvopuiqz1A"
   },
   "source": [
    "##### <font color=\"blue\">Example 3"
   ]
  },
  {
   "cell_type": "code",
   "execution_count": 92,
   "metadata": {
    "colab": {},
    "colab_type": "code",
    "id": "OpzRASVXq07R"
   },
   "outputs": [
    {
     "name": "stdout",
     "output_type": "stream",
     "text": [
      "Checking element: 0\n",
      "Checking element: 1\n",
      "Checking element: 2\n",
      "Checking element: 3\n",
      "Checking element: 4\n",
      "Checking element: 5\n",
      "Checking element: 6\n",
      "Checking element: 7\n",
      "Checking element: 8\n"
     ]
    }
   ],
   "source": [
    "# Example 3\n",
    "# ---\n",
    "# Using the continue statement forces the next iteration of the loop to take place \n",
    "# ---\n",
    "# YOUR CODE GOES BELOW\n",
    "#\n",
    "\n",
    "# Our while loop will start counting from 0,\n",
    "i = 0\n",
    "\n",
    "# determining the no. of elements in our teachers list\n",
    "no_of_teachers = len(teachers) \n",
    "\n",
    "# defining our word variable\n",
    "word = \"Emma\"\n",
    "\n",
    "\n",
    "# Performing our iteration, starting from 0 until i is not less than the no_of_teachers\n",
    "while i < no_of_teachers:\n",
    "  \n",
    "    print(\"Checking element:\", i)\n",
    "    \n",
    "    if word != teachers[i]:\n",
    "        \n",
    "        i = i + 1\n",
    "        \n",
    "        continue\n",
    " \n",
    "    print(\"Find the element at \", i)\n",
    "    \n",
    "    # stop the loop\n",
    "    i = no_of_teachers "
   ]
  },
  {
   "cell_type": "markdown",
   "metadata": {
    "colab_type": "text",
    "id": "_BlOlAaNq4Aj"
   },
   "source": [
    "#### <font color=\"green\">Challenges</font> "
   ]
  },
  {
   "cell_type": "markdown",
   "metadata": {
    "colab_type": "text",
    "id": "yDuSe7aAq56q"
   },
   "source": [
    "##### <font color=\"green\">Challenge 1</font>"
   ]
  },
  {
   "cell_type": "code",
   "execution_count": 96,
   "metadata": {
    "colab": {},
    "colab_type": "code",
    "id": "lDRkMkFIq7n5"
   },
   "outputs": [
    {
     "name": "stdout",
     "output_type": "stream",
     "text": [
      "1\n",
      "2\n",
      "4\n",
      "12\n",
      "1\n",
      "2\n",
      "3\n",
      "(5, 6)\n",
      "['Hello', 'From', 'The']\n",
      "8\n"
     ]
    }
   ],
   "source": [
    "# Challenge 1\n",
    "# ---\n",
    "# Question: Iterate through the following list and stop at 8\n",
    "# ---\n",
    "# YOUR CODE GOES BELOW\n",
    "#\n",
    "\n",
    "a = [1, 2, 4, 12, 1, 2, 3, (5, 6), ['Hello', 'From', 'The'], 8, 'Other', 'Side']\n",
    "\n",
    "i = 0\n",
    "\n",
    "n = len(a)\n",
    "\n",
    "while i < n:\n",
    "    print(a[i])\n",
    "    if a[i] == 8:\n",
    "        break\n",
    "    i += 1\n"
   ]
  },
  {
   "cell_type": "markdown",
   "metadata": {
    "colab_type": "text",
    "id": "rYrnAuYBryYC"
   },
   "source": [
    "# 9. Functions "
   ]
  },
  {
   "cell_type": "markdown",
   "metadata": {
    "colab_type": "text",
    "id": "WOi0gv2Dr83t"
   },
   "source": [
    "#### <font color=\"blue\">Examples</font>"
   ]
  },
  {
   "cell_type": "markdown",
   "metadata": {
    "colab_type": "text",
    "id": "GgSYzCUYsCWG"
   },
   "source": [
    "##### <font color=\"blue\">Example 1"
   ]
  },
  {
   "cell_type": "code",
   "execution_count": 97,
   "metadata": {
    "colab": {},
    "colab_type": "code",
    "id": "0zJ1kn1BrwkV"
   },
   "outputs": [
    {
     "name": "stdout",
     "output_type": "stream",
     "text": [
      "55\n",
      "Susan\n"
     ]
    }
   ],
   "source": [
    "# Example 1\n",
    "# ---\n",
    "# Let's use built-in functions\n",
    "# ---\n",
    "# YOUR CODE GOES BELOW\n",
    "#\n",
    "\n",
    "# The max() function will return the item with the highest value as shown\n",
    "# in the given list\n",
    "x = max([23, 22, 55, 23, 44])\n",
    "print(x)\n",
    "\n",
    "# Using the max() function, we can return the item with the highest value alphabetically\n",
    "y = max([\"Susan\", \"Grace\", \"Simon\"])\n",
    "print(y)"
   ]
  },
  {
   "cell_type": "markdown",
   "metadata": {
    "colab_type": "text",
    "id": "-bAG0iH2sDiV"
   },
   "source": [
    "##### <font color=\"blue\">Example 2"
   ]
  },
  {
   "cell_type": "code",
   "execution_count": 98,
   "metadata": {
    "colab": {},
    "colab_type": "code",
    "id": "0YQ7eSTvsEZP"
   },
   "outputs": [
    {
     "data": {
      "text/plain": [
       "10"
      ]
     },
     "execution_count": 98,
     "metadata": {},
     "output_type": "execute_result"
    }
   ],
   "source": [
    "# Example 2\n",
    "# ---\n",
    "# Let's create a function to find out which of two numbers is greater than the other \n",
    "# ---\n",
    "# YOUR CODE GOES BELOW\n",
    "#\n",
    "\n",
    "# we define it by giving it the name max_of_two\n",
    "def max_of_two():\n",
    "  \n",
    "  # we then define our variables that will contain the numbers to be manipulated\n",
    "  first_number  = 10\n",
    "  second_number = 5\n",
    "  \n",
    "  # then we perform our operations i.e. in this case,\n",
    "  # if first_number is greater than second_number etc.\n",
    "  if first_number > second_number:\n",
    "    \n",
    "      # the return keyword allows us to provide back the result/output of our function\n",
    "    return first_number\n",
    "  \n",
    "    # the return key word allows us to provide back the result/output of our function\n",
    "  return second_number\n",
    " \n",
    "# Lastly, we do the most important step; which is to call the function that \n",
    "# we have just created above. Calling allows us to use the function. \n",
    "# We have also been calling our built-in functions from the previous section.\n",
    "#\n",
    "max_of_two()"
   ]
  },
  {
   "cell_type": "markdown",
   "metadata": {
    "colab_type": "text",
    "id": "47gh_27esFHZ"
   },
   "source": [
    "##### <font color=\"blue\">Example 3"
   ]
  },
  {
   "cell_type": "code",
   "execution_count": 99,
   "metadata": {
    "colab": {},
    "colab_type": "code",
    "id": "a8odALGjsGJy"
   },
   "outputs": [
    {
     "name": "stdout",
     "output_type": "stream",
     "text": [
      "4.5\n"
     ]
    }
   ],
   "source": [
    "# Example 3\n",
    "# ---\n",
    "# Define a function called average_of_two_numbers below  \n",
    "# ---\n",
    "# YOUR CODE GOES BELOW\n",
    "#\n",
    "\n",
    "def average_of_two_numbers(x, y): \n",
    "  average_of_two_numbers = (x + y)/2 \n",
    "  return print(average_of_two_numbers)  \n",
    "  \n",
    "average_of_two_numbers(4, 5) "
   ]
  },
  {
   "cell_type": "markdown",
   "metadata": {
    "colab_type": "text",
    "id": "m1FOyDx-r_C_"
   },
   "source": [
    "#### <font color=\"green\">Challenges</font> "
   ]
  },
  {
   "cell_type": "markdown",
   "metadata": {
    "colab_type": "text",
    "id": "PgsptduxsKGg"
   },
   "source": [
    "##### <font color=\"green\">Challenge 1</font>"
   ]
  },
  {
   "cell_type": "code",
   "execution_count": 100,
   "metadata": {
    "colab": {},
    "colab_type": "code",
    "id": "t4PE4y_Vr_1Q"
   },
   "outputs": [
    {
     "name": "stdout",
     "output_type": "stream",
     "text": [
      "22\n"
     ]
    }
   ],
   "source": [
    "# Challenge 1\n",
    "# ---\n",
    "# Question: Determine the lowest value in the given array using an inbuilt function\n",
    "# ---\n",
    "# YOUR CODE GOES BELOW\n",
    "#\n",
    "\n",
    "# Create a list x\n",
    "# ---\n",
    "#\n",
    "x = [23, 22, 55, 23, 44]\n",
    "\n",
    "print(min(x))\n",
    "\n"
   ]
  },
  {
   "cell_type": "markdown",
   "metadata": {
    "colab_type": "text",
    "id": "88bM7tZ2sLI4"
   },
   "source": [
    "##### <font color=\"green\">Challenge 2</font>"
   ]
  },
  {
   "cell_type": "code",
   "execution_count": 114,
   "metadata": {
    "colab": {},
    "colab_type": "code",
    "id": "W7aQKJ96sL_F"
   },
   "outputs": [
    {
     "name": "stdout",
     "output_type": "stream",
     "text": [
      "The count is within the range\n"
     ]
    }
   ],
   "source": [
    "# Challenge \n",
    "# ---\n",
    "# Question: Write a function to tell us whether a variable covid_count is between 3000 and 10000\n",
    "# ---\n",
    "# YOUR CODE GOES BELOW\n",
    "#\n",
    "\n",
    "# Declaring our variable covid_count\n",
    "# ---\n",
    "# \n",
    "covid_count = 4500\n",
    "\n",
    "# Your function goes here\n",
    "\n",
    "def check(covid_count):\n",
    "    if 3000 < covid_count and covid_count < 10000:\n",
    "       return print(\"The count is within the range\")\n",
    "    \n",
    "check(covid_count)  "
   ]
  },
  {
   "cell_type": "code",
   "execution_count": 115,
   "metadata": {},
   "outputs": [
    {
     "data": {
      "text/plain": [
       "True"
      ]
     },
     "execution_count": 115,
     "metadata": {},
     "output_type": "execute_result"
    }
   ],
   "source": [
    "covid_count = 4500\n",
    "\n",
    "\n",
    "def check(covid_count):\n",
    "    return 3000 < covid_count and covid_count < 10000\n",
    "       \n",
    "    \n",
    "check(covid_count)  "
   ]
  },
  {
   "cell_type": "code",
   "execution_count": null,
   "metadata": {},
   "outputs": [],
   "source": []
  }
 ],
 "metadata": {
  "colab": {
   "collapsed_sections": [
    "UMNPnf2i5SWr",
    "jD-9Sma-ruMm",
    "DJeVFrBtw_kA",
    "wp_BS7DmxDcu",
    "aFlF1bDQxHQO",
    "_Czt2xj3xKtQ",
    "apQZLg4WxQaT",
    "5Kk6d63OxVQo",
    "figZW-P0xWHu",
    "QhEXtwvIxZhP",
    "AZaNOe10xhBd",
    "T8474dmmmBii",
    "KoqcSYwQxtRK",
    "b93FPbs0xuLv",
    "oPUu3IMexvkM",
    "TsVuSiuK9vLo",
    "AX1eFoHBxioZ",
    "xN0KYDlrxjzF",
    "1KGAN1h-rhUT",
    "6mfDGqy38176",
    "BDggmS7ur3Wg",
    "Am56-sCnr6vi",
    "5enr7YOCsGiO",
    "czwZIoMP8yq2",
    "UVhxQgFF8KI_",
    "vRf4lpd38TE8",
    "qOcy-X35HV_t",
    "HX5OKWTeH3y7",
    "V3vakOO6H9Vh",
    "RMTv6MI1IIT_",
    "HHygJvHMIPgh",
    "x_Sf1NXPpz0q",
    "EqUWEUsNINyj",
    "ExGMoK-pIb8p",
    "ZfjZLNgMIeYh",
    "dqhVm_8kN2tl",
    "VtTVm3cvN_lP",
    "qIxhQwTHOIjm",
    "JdKpybEFOJOM",
    "XJoETlR_OKHt",
    "8w3U0HVEOccy",
    "hDZ9eDtmOgLi",
    "SxIaU06sOuYQ",
    "GuR57OHgOBnM",
    "eaq4UrFLONmb",
    "bSurXHq_OOjc",
    "hnyRRASVOPq4",
    "okwTjEZ_PCiN",
    "80kHsk0gQiX5",
    "r6CjXb92QsKs",
    "_We_Aif3Q_n5",
    "sVrIv1ucRAtY",
    "xaLN8jeYRDll",
    "dGKEWiBwTVFM",
    "WnXWTn9WTaJs",
    "96-FMInjQs5S",
    "z9M2LwKAQvN_",
    "fnRxw0qjQ1aZ",
    "HA99lKmhQ68W",
    "z7mA-mghTmOc",
    "qcpLR3a_XPLd",
    "EnaCUxpRXT0J",
    "ZX5LhYDuXV2O",
    "7vliBrC5Xk65",
    "0xG8q15EXnW_",
    "2gYk4uIZYFKf",
    "7vPUGzblYGj1",
    "IhBdAGNeXa9N",
    "kBHUUpINXev4",
    "c10_umZGgZFg",
    "hdEWP1SNnFHp",
    "_TGroESwnRos",
    "TbJ6OFKqnUTy",
    "HxuW_VVCnVgw",
    "8LarnuTTnalz",
    "VSxz3OK9nb4P",
    "_xf8ei3mnc3-",
    "C4tY9xM-n6jP",
    "qxG8RHFnniJT",
    "dQlkT13Gnjid",
    "6Pdl8p-QnmN1",
    "93yfMyQWnovw",
    "6T7Z10zUnquf",
    "l4aSf1SQnsIc",
    "wW6zZPzHpPkw",
    "Tj7-43EzpXKP",
    "9CbPFikcpb65",
    "8TToTfDxpcsC",
    "O0n2jmlupeUe",
    "uBJfTBcDpooj",
    "xVpVBXPkprnS",
    "05xi5W5kpsYM",
    "lY-G45bwqiq8",
    "pZnqvIFlqrcF",
    "iO82jGS5qwik",
    "iU4HK7hrqiMO",
    "UoUvopuiqz1A",
    "_BlOlAaNq4Aj",
    "yDuSe7aAq56q",
    "rYrnAuYBryYC",
    "WOi0gv2Dr83t",
    "GgSYzCUYsCWG",
    "-bAG0iH2sDiV",
    "47gh_27esFHZ",
    "m1FOyDx-r_C_",
    "PgsptduxsKGg",
    "88bM7tZ2sLI4"
   ],
   "name": "AfterWork Data Science: Python Basics for Data Science [Essentials].ipynb",
   "provenance": [],
   "toc_visible": true
  },
  "kernelspec": {
   "display_name": "Python 3",
   "language": "python",
   "name": "python3"
  },
  "language_info": {
   "codemirror_mode": {
    "name": "ipython",
    "version": 3
   },
   "file_extension": ".py",
   "mimetype": "text/x-python",
   "name": "python",
   "nbconvert_exporter": "python",
   "pygments_lexer": "ipython3",
   "version": "3.8.3"
  }
 },
 "nbformat": 4,
 "nbformat_minor": 1
}
