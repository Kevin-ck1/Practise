{
 "cells": [
  {
   "cell_type": "code",
   "execution_count": null,
   "metadata": {},
   "outputs": [],
   "source": [
    "Problem Statement\n",
    "\n",
    "ShippingtoMali, a shipping company, provides shipping to Mali for items bought on\n",
    "Amazon at a rate of $4 for the first item and $2 for each subsequent item with each of\n",
    "those items is also subject to import 10% tax. During this time, they also have a $10\n",
    "discount for orders worth above $500.\n",
    "Write a python program that prints out how much one would spend for both purchase\n",
    "and shipping of the given items from the given data that is stored in the lists provided."
   ]
  },
  {
   "cell_type": "code",
   "execution_count": 1,
   "metadata": {},
   "outputs": [],
   "source": [
    "orders = ['item 1', 'item 2', 'item 3', 'item 4', 'item 5', 'item 6', 'item 7']\n",
    "price = [120, 32, 99, 49, 99, 75, 30.99]"
   ]
  },
  {
   "cell_type": "code",
   "execution_count": 2,
   "metadata": {},
   "outputs": [
    {
     "name": "stdout",
     "output_type": "stream",
     "text": [
      "Total Cost: $561.49\n"
     ]
    }
   ],
   "source": [
    "# Note assumption is made that the discount is offered by Amazon\n",
    "# Assumption 2, import tax is calculated based on the original price\n",
    "\n",
    "shipping_cost = 4\n",
    "import_cost = 0\n",
    "\n",
    "total_cost = import_cost + shipping_cost\n",
    "\n",
    "for x in price:\n",
    "    import_cost += x*1.1\n",
    "\n",
    "\n",
    "if len(price) > 1:\n",
    "    shipping_cost += (len(price)-1)*2\n",
    "\n",
    "\n",
    "total_cost = shipping_cost + import_cost\n",
    "#Taking that discounted is offered by Amazon\n",
    "\n",
    "if sum(price) > 500:\n",
    "    total_cost -= 10\n",
    "\n",
    "print(\"Total Cost: $\"+str(round(total_cost, 2)))\n",
    "    \n"
   ]
  },
  {
   "cell_type": "code",
   "execution_count": null,
   "metadata": {},
   "outputs": [],
   "source": []
  }
 ],
 "metadata": {
  "kernelspec": {
   "display_name": "Python 3",
   "language": "python",
   "name": "python3"
  },
  "language_info": {
   "codemirror_mode": {
    "name": "ipython",
    "version": 3
   },
   "file_extension": ".py",
   "mimetype": "text/x-python",
   "name": "python",
   "nbconvert_exporter": "python",
   "pygments_lexer": "ipython3",
   "version": "3.8.3"
  }
 },
 "nbformat": 4,
 "nbformat_minor": 4
}
