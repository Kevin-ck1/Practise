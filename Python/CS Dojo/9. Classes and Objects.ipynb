{
 "cells": [
  {
   "cell_type": "code",
   "execution_count": 1,
   "metadata": {},
   "outputs": [],
   "source": [
    "#Classes and Objects\n",
    "\n",
    "# Think of classes as a dictionary with keys that do not have values, and think of objects as classes whose keys have values\n",
    "#For instance we can create a class named person, and for its keys we can pick, height, name , weight--this are\n",
    "#characterists of people.\n",
    "\n",
    "\n",
    "#But since people differ from person to person, they have different characterists, hence we create an object with the \n",
    "#class as the reference, in that people have different heights, names, and weight"
   ]
  },
  {
   "cell_type": "code",
   "execution_count": 2,
   "metadata": {},
   "outputs": [],
   "source": [
    "# TO initialize a class\n",
    "\n",
    "class Robot:\n",
    "    def introduce_self(self):\n",
    "        print(\"My name is \" + self.name)\n"
   ]
  },
  {
   "cell_type": "code",
   "execution_count": 3,
   "metadata": {},
   "outputs": [
    {
     "name": "stdout",
     "output_type": "stream",
     "text": [
      "<class '__main__.Robot'>\n"
     ]
    }
   ],
   "source": [
    "print(Robot)"
   ]
  },
  {
   "cell_type": "code",
   "execution_count": 4,
   "metadata": {},
   "outputs": [],
   "source": [
    "# To Create an object, whose class in robot\n",
    "\n",
    "r1 = Robot()\n",
    "\n",
    "# To set the attributes of the robot\n",
    "\n",
    "r1.name = \"Tom\"\n",
    "r1.color = \"red\"\n",
    "r1.weight = \"30\""
   ]
  },
  {
   "cell_type": "code",
   "execution_count": 5,
   "metadata": {},
   "outputs": [
    {
     "name": "stdout",
     "output_type": "stream",
     "text": [
      "My name is Tom\n"
     ]
    }
   ],
   "source": [
    "# To run the introduce funtion\n",
    "\n",
    "r1.introduce_self()"
   ]
  },
  {
   "cell_type": "code",
   "execution_count": 6,
   "metadata": {},
   "outputs": [
    {
     "name": "stdout",
     "output_type": "stream",
     "text": [
      "My name is Jerry\n"
     ]
    }
   ],
   "source": [
    "# TO create another robot\n",
    "\n",
    "r2 =Robot()\n",
    "\n",
    "r2.name = \"Jerry\"\n",
    "r2.color = \"orange\"\n",
    "r2.weight = \"5\"\n",
    "\n",
    "r2.introduce_self()\n"
   ]
  },
  {
   "cell_type": "code",
   "execution_count": 7,
   "metadata": {},
   "outputs": [
    {
     "name": "stdout",
     "output_type": "stream",
     "text": [
      "<__main__.Robot object at 0x0000019838144040>\n"
     ]
    }
   ],
   "source": [
    "print(r1)"
   ]
  },
  {
   "cell_type": "code",
   "execution_count": 8,
   "metadata": {},
   "outputs": [],
   "source": [
    "# Constroctor\n",
    "#We can use a constroctor while initializing our class, \n",
    "#so that it contains the properties that we are to in the objects\n",
    "\n",
    "# A controctor is cratead as follows \n",
    "\n",
    "def __init__(self, name, color, weight):\n",
    "    self.name = name\n",
    "    self.color = color\n",
    "    self.weight = weight\n",
    "    \n",
    "# The above code is put into the robot class, not that we are using two underdash befor and after init\n",
    "\n"
   ]
  },
  {
   "cell_type": "code",
   "execution_count": 9,
   "metadata": {},
   "outputs": [],
   "source": [
    "class Robot:\n",
    "    def __init__(self, name, color, weight):\n",
    "        self.name = name\n",
    "        self.color = color\n",
    "        self.weight = weight\n",
    "        \n",
    "    def introduce_self(self):\n",
    "        print(\"My name is \" + self.name)"
   ]
  },
  {
   "cell_type": "code",
   "execution_count": 10,
   "metadata": {},
   "outputs": [],
   "source": [
    "# Know to create an object using the above constroctor\n",
    "\n",
    "r1 = Robot(\"Tom\", \"Red\", 30)\n",
    "\n",
    "r2 = Robot(\"Jerry\", \"Orange\", 5)"
   ]
  },
  {
   "cell_type": "code",
   "execution_count": 11,
   "metadata": {},
   "outputs": [
    {
     "name": "stdout",
     "output_type": "stream",
     "text": [
      "My name is Tom\n",
      "My name is Jerry\n"
     ]
    }
   ],
   "source": [
    "r1.introduce_self()\n",
    "r2.introduce_self()"
   ]
  },
  {
   "cell_type": "code",
   "execution_count": 12,
   "metadata": {},
   "outputs": [],
   "source": [
    "# Creating another class\n",
    "\n",
    "class Person:\n",
    "    def __init__(self, name, p, i):\n",
    "        self.name = name\n",
    "        self.personality = p\n",
    "        self.is_siting = i\n",
    "    def sit_down(self):\n",
    "        self.is_siting = True\n",
    "    def stand_ip(self):\n",
    "        self.is_siting = Falsehttp://localhost:8888/notebooks/CS%20Dojo/9.%20Classes%20and%20Objects.ipynb#"
   ]
  },
  {
   "cell_type": "code",
   "execution_count": 13,
   "metadata": {},
   "outputs": [],
   "source": [
    "# To create two objects with the class person\n",
    "\n",
    "p1 = Person(\"ALice\", \"Aggressive\", False)\n",
    "p2 = Person(\"Becky\", \"talkative\", True)"
   ]
  },
  {
   "cell_type": "code",
   "execution_count": 14,
   "metadata": {},
   "outputs": [],
   "source": [
    "# To show that p1 owns r2 and p2 own r1\n",
    "\n",
    "p1.robot_owned = r2\n",
    "\n",
    "p2.robot_owned = r1\n"
   ]
  },
  {
   "cell_type": "code",
   "execution_count": 15,
   "metadata": {},
   "outputs": [
    {
     "name": "stdout",
     "output_type": "stream",
     "text": [
      "My name is Jerry\n"
     ]
    }
   ],
   "source": [
    "# To show that the two objects are linked\n",
    "\n",
    "p1.robot_owned.introduce_self()"
   ]
  },
  {
   "cell_type": "code",
   "execution_count": null,
   "metadata": {},
   "outputs": [],
   "source": []
  }
 ],
 "metadata": {
  "kernelspec": {
   "display_name": "Python 3",
   "language": "python",
   "name": "python3"
  },
  "language_info": {
   "codemirror_mode": {
    "name": "ipython",
    "version": 3
   },
   "file_extension": ".py",
   "mimetype": "text/x-python",
   "name": "python",
   "nbconvert_exporter": "python",
   "pygments_lexer": "ipython3",
   "version": "3.8.3"
  }
 },
 "nbformat": 4,
 "nbformat_minor": 4
}
