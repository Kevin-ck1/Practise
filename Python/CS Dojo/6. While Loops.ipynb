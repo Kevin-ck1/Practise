{
 "cells": [
  {
   "cell_type": "code",
   "execution_count": 1,
   "metadata": {},
   "outputs": [],
   "source": [
    "Includes:\n",
    "    \n",
    "    While loops\n",
    "    FOr loops\n",
    "    break comand\n",
    "    len(nameoflist)"
   ]
  },
  {
   "cell_type": "code",
   "execution_count": null,
   "metadata": {},
   "outputs": [],
   "source": [
    "# While loops\n",
    "# While loops is a conditional operator, in that it functions as a for loop and if statement at the same time,\n",
    "# Hence while loops can be used in scenarios where a for loop + if statemnt are required."
   ]
  },
  {
   "cell_type": "code",
   "execution_count": 2,
   "metadata": {},
   "outputs": [
    {
     "name": "stdout",
     "output_type": "stream",
     "text": [
      "10\n"
     ]
    }
   ],
   "source": [
    "# Using a for loop for reference,\n",
    "\n",
    "total = 0\n",
    "\n",
    "for i in range(1, 5):\n",
    "    total += i\n",
    "print(total)\n"
   ]
  },
  {
   "cell_type": "code",
   "execution_count": 3,
   "metadata": {},
   "outputs": [
    {
     "name": "stdout",
     "output_type": "stream",
     "text": [
      "10\n"
     ]
    }
   ],
   "source": [
    "#Now using while loop for the same operation,\n",
    "# In while loop, we give j an initial value\n",
    "\n",
    "t = 0\n",
    "j = 1\n",
    "\n",
    "while j < 5:\n",
    "    t += j\n",
    "    j += 1\n",
    "print(t)"
   ]
  },
  {
   "cell_type": "code",
   "execution_count": 4,
   "metadata": {},
   "outputs": [
    {
     "name": "stdout",
     "output_type": "stream",
     "text": [
      "17\n"
     ]
    }
   ],
   "source": [
    "# While loops are used where we dont know the number of loops required to do the operation, e.g\n",
    "\n",
    "given_list = [5,4,4,3,1,-2,-3,-5]\n",
    "\n",
    "# for the above list, find the sum of all the positive integers,\n",
    "t1 = 0\n",
    "i = 0  # we initialize our value\n",
    "\n",
    "while given_list[i] > 0:\n",
    "    t1 += given_list[i]\n",
    "    i += 1\n",
    "print(t1)"
   ]
  },
  {
   "cell_type": "code",
   "execution_count": 5,
   "metadata": {},
   "outputs": [
    {
     "name": "stdout",
     "output_type": "stream",
     "text": [
      "17\n"
     ]
    }
   ],
   "source": [
    "# While loop + break\n",
    "\n",
    "given_list = [5,4,4,3,1,-2,-3,-5]\n",
    "\n",
    "# for the above list, find the sum of all the positive integers,\n",
    "t1 = 0\n",
    "i = 0  # we initialize our value\n",
    "\n",
    "while True :\n",
    "    t1 += given_list[i]\n",
    "    i += 1\n",
    "    if given_list[i] <= 0:\n",
    "        break\n",
    "print(t1)"
   ]
  },
  {
   "cell_type": "code",
   "execution_count": 6,
   "metadata": {},
   "outputs": [
    {
     "name": "stdout",
     "output_type": "stream",
     "text": [
      "19\n"
     ]
    }
   ],
   "source": [
    "#Using for loops\n",
    "\n",
    "\n",
    "given_list = [5,4,4,5,1,-2,-3,-5]\n",
    "\n",
    "t2= 0\n",
    "\n",
    "for i in given_list:\n",
    "    if i > 0:\n",
    "        t2 += i\n",
    "print(t2)"
   ]
  },
  {
   "cell_type": "code",
   "execution_count": 7,
   "metadata": {},
   "outputs": [
    {
     "name": "stdout",
     "output_type": "stream",
     "text": [
      "19\n"
     ]
    }
   ],
   "source": [
    "#Using break and for loop\n",
    "\n",
    "\n",
    "given_list = [5,4,4,5,1,-2,-3,-5]\n",
    "\n",
    "t2= 0\n",
    "\n",
    "for i in given_list:\n",
    "    if i <= 0:\n",
    "        break\n",
    "    t2 += i\n",
    "print(t2)\n"
   ]
  },
  {
   "cell_type": "code",
   "execution_count": 8,
   "metadata": {},
   "outputs": [
    {
     "ename": "IndexError",
     "evalue": "list index out of range",
     "output_type": "error",
     "traceback": [
      "\u001b[1;31m---------------------------------------------------------------------------\u001b[0m",
      "\u001b[1;31mIndexError\u001b[0m                                Traceback (most recent call last)",
      "\u001b[1;32m<ipython-input-8-3816047081e6>\u001b[0m in \u001b[0;36m<module>\u001b[1;34m\u001b[0m\n\u001b[0;32m      7\u001b[0m \u001b[0mi\u001b[0m \u001b[1;33m=\u001b[0m \u001b[1;36m0\u001b[0m  \u001b[1;31m# we initialize our value\u001b[0m\u001b[1;33m\u001b[0m\u001b[1;33m\u001b[0m\u001b[0m\n\u001b[0;32m      8\u001b[0m \u001b[1;33m\u001b[0m\u001b[0m\n\u001b[1;32m----> 9\u001b[1;33m \u001b[1;32mwhile\u001b[0m \u001b[0mgiven\u001b[0m\u001b[1;33m[\u001b[0m\u001b[0mi\u001b[0m\u001b[1;33m]\u001b[0m \u001b[1;33m>\u001b[0m \u001b[1;36m0\u001b[0m\u001b[1;33m:\u001b[0m\u001b[1;33m\u001b[0m\u001b[1;33m\u001b[0m\u001b[0m\n\u001b[0m\u001b[0;32m     10\u001b[0m     \u001b[0mt1\u001b[0m \u001b[1;33m+=\u001b[0m \u001b[0mgiven\u001b[0m\u001b[1;33m[\u001b[0m\u001b[0mi\u001b[0m\u001b[1;33m]\u001b[0m\u001b[1;33m\u001b[0m\u001b[1;33m\u001b[0m\u001b[0m\n\u001b[0;32m     11\u001b[0m     \u001b[0mi\u001b[0m \u001b[1;33m+=\u001b[0m \u001b[1;36m1\u001b[0m\u001b[1;33m\u001b[0m\u001b[1;33m\u001b[0m\u001b[0m\n",
      "\u001b[1;31mIndexError\u001b[0m: list index out of range"
     ]
    }
   ],
   "source": [
    "# Note that using while loops with given_list it works, but if we are to remove the negative numbers it does not work\n",
    "\n",
    "given = [5,4,4,3,1]\n",
    "\n",
    "# for the above list, find the sum of all the positive integers,\n",
    "t1 = 0\n",
    "i = 0  # we initialize our value\n",
    "\n",
    "while given[i] > 0:\n",
    "    t1 += given[i]\n",
    "    i += 1\n",
    "print(t1)\n"
   ]
  },
  {
   "cell_type": "code",
   "execution_count": 9,
   "metadata": {},
   "outputs": [
    {
     "name": "stdout",
     "output_type": "stream",
     "text": [
      "17\n"
     ]
    }
   ],
   "source": [
    "# The above fails to run, this is because in while loops it is better to give limits for the condition\n",
    "# Or provide a way to break the loop\n",
    "\n",
    "# TO do so in this case we provide --- i < len(given)\n",
    "# Hence the loop does not execute i is the less than a value of the length of the list, in this case when i = 4\n",
    "\n",
    "given = [5,4,4,3,1]\n",
    "\n",
    "# for the above list, find the sum of all the positive integers,\n",
    "t1 = 0\n",
    "i = 0  \n",
    "while i < len(given) and given[i] > 0:\n",
    "    t1 += given[i]\n",
    "    i += 1\n",
    "print(t1)"
   ]
  },
  {
   "cell_type": "code",
   "execution_count": 10,
   "metadata": {},
   "outputs": [
    {
     "name": "stdout",
     "output_type": "stream",
     "text": [
      "17\n"
     ]
    }
   ],
   "source": [
    "# Using break command\n",
    "\n",
    "\n",
    "given = [5,4,4,5,1]\n",
    "while given_list[i] > 0 :\n",
    "    t1 += given_list[i]\n",
    "    i += 1\n",
    "    if given_list[i] <= 0:\n",
    "        break\n",
    "print(t1)\n"
   ]
  },
  {
   "cell_type": "code",
   "execution_count": 11,
   "metadata": {},
   "outputs": [],
   "source": [
    "# Quiz, given the list below find sum of all the negative numbers\n",
    "\n",
    "given_list = [5,4,4,5,1,-2,-3,-5]"
   ]
  },
  {
   "cell_type": "code",
   "execution_count": 12,
   "metadata": {},
   "outputs": [
    {
     "name": "stdout",
     "output_type": "stream",
     "text": [
      "-10\n"
     ]
    }
   ],
   "source": [
    "given_list = [5,4,4,5,1,-2,-3,-5]\n",
    "\n",
    "t = 0\n",
    "i = 0\n",
    "\n",
    "while i < len(given_list):\n",
    "    if given_list[i] < 0:\n",
    "        t += given_list[i]\n",
    "    i += 1\n",
    "    \n",
    "print(t)"
   ]
  },
  {
   "cell_type": "code",
   "execution_count": 3,
   "metadata": {},
   "outputs": [
    {
     "name": "stdout",
     "output_type": "stream",
     "text": [
      "-10\n"
     ]
    }
   ],
   "source": [
    "# Starting from the end of the list\n",
    "\n",
    "given_list = [5,4,4,5,1,-2,-3,-5]\n",
    "\n",
    "t = 0\n",
    "i = -1 #Assuming we dont know the last digit\n",
    "\n",
    "while given_list[i] < 0:\n",
    "    t += given_list[i]\n",
    "    i -= 1\n",
    "print(t)"
   ]
  },
  {
   "cell_type": "code",
   "execution_count": 6,
   "metadata": {},
   "outputs": [
    {
     "name": "stdout",
     "output_type": "stream",
     "text": [
      "-10\n"
     ]
    }
   ],
   "source": [
    "# Starting from the last element again,\n",
    "#This time taking the last digit to be(len(given_list)-1)\n",
    "\n",
    "given_list = [5,4,4,5,1,-2,-3,-5]\n",
    "\n",
    "t = 0\n",
    "i = (len(given_list)-1)\n",
    "\n",
    "while given_list[i] < 0:\n",
    "    t += given_list[i]\n",
    "    i -= 1\n",
    "print(t)"
   ]
  },
  {
   "cell_type": "code",
   "execution_count": 7,
   "metadata": {},
   "outputs": [
    {
     "name": "stdout",
     "output_type": "stream",
     "text": [
      "-10\n"
     ]
    }
   ],
   "source": [
    "# Using for loops \n",
    "\n",
    "given_list = [5,4,4,5,1,-2,-3,-5]\n",
    "\n",
    "t = 0\n",
    "\n",
    "for i in given_list:\n",
    "    if i < 0:\n",
    "        t += i\n",
    "print(t)\n"
   ]
  },
  {
   "cell_type": "code",
   "execution_count": null,
   "metadata": {},
   "outputs": [],
   "source": []
  }
 ],
 "metadata": {
  "kernelspec": {
   "display_name": "Python 3",
   "language": "python",
   "name": "python3"
  },
  "language_info": {
   "codemirror_mode": {
    "name": "ipython",
    "version": 3
   },
   "file_extension": ".py",
   "mimetype": "text/x-python",
   "name": "python",
   "nbconvert_exporter": "python",
   "pygments_lexer": "ipython3",
   "version": "3.8.3"
  }
 },
 "nbformat": 4,
 "nbformat_minor": 4
}
