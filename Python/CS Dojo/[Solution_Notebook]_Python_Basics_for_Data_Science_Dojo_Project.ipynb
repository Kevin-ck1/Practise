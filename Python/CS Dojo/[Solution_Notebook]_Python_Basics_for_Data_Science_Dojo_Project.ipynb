{
 "cells": [
  {
   "cell_type": "markdown",
   "metadata": {
    "colab_type": "text",
    "id": "WAJeH2M78RA9"
   },
   "source": [
    "# Python Basics for Data Science: Dojo Project"
   ]
  },
  {
   "cell_type": "markdown",
   "metadata": {
    "colab_type": "text",
    "id": "TlR8s9608XeD"
   },
   "source": [
    "**Problem Statement**\n",
    "\n",
    "ShippingtoMali, a shipping company, provides shipping to Mali for items bought on Amazon at a rate of `$4` for the first item and `$2` for each subsequent item with each of those items is also subject to import 10% tax. During this time, they also have a $10 discount for orders worth above `$500`.\n",
    "\n",
    "Write a python program that prints out how much one would spend for both purchase and shipping of the given items from the given data that is stored in the lists provided.\n",
    "\n",
    "**Notes** \n",
    "\n",
    "We will write two functions that will help provide a solution to this problem. \n",
    "\n",
    "* One function will iterate over the price list applying the respective tax and appending the result to the total_cost list.\n",
    "\n",
    "* The other function will take the number of items in an order as its only parameter then return the cost of shipping the function's result. This function would only display the shipping charge."
   ]
  },
  {
   "cell_type": "markdown",
   "metadata": {
    "colab_type": "text",
    "id": "EzAaLbRsTtRL"
   },
   "source": [
    "### Our Solution"
   ]
  },
  {
   "cell_type": "code",
   "execution_count": null,
   "metadata": {
    "colab": {
     "base_uri": "https://localhost:8080/",
     "height": 34
    },
    "colab_type": "code",
    "id": "O2Q7VRSR8JhZ",
    "outputId": "91c6fb84-4fbb-4cfa-8837-b02ce73649ef"
   },
   "outputs": [
    {
     "name": "stdout",
     "output_type": "stream",
     "text": [
      "Total cost: USD 562.489\n"
     ]
    }
   ],
   "source": [
    "# Defining our lists\n",
    "# ---\n",
    "#\n",
    "orders = ['item 1', 'item 2', 'item 3', 'item 4', 'item 5', 'item 6', 'item 7']\n",
    "price = [120, 32, 99, 49, 99, 75, 30.99]\n",
    "total_cost = []\n",
    "\n",
    "# We create a function to determine the total cost of each item \n",
    "# and store the result in the total_cost list.\n",
    "# ---\n",
    "#\n",
    "def determine_total_cost():\n",
    "  for x in price:\n",
    "    total_cost.append(x * 1.10)\n",
    "\n",
    "# Let's execute our determine_total_cost function by calling it\n",
    "# ---\n",
    "#\n",
    "determine_total_cost()\n",
    "\n",
    "# Creating a function to determine the total cost of shipping\n",
    "# Parameters: no_items \n",
    "# ---\n",
    "#\n",
    "def shipping_cost(num_of_items):\n",
    "  cost_of_shipping = 4 + (2 * num_of_items - 1)\n",
    "  return cost_of_shipping\n",
    " \n",
    "# Let's calculate our final total cost by summing our shipping \n",
    "# and total cost.\n",
    "# ---\n",
    "# Hint: use sum() and len() function\n",
    "# ---\n",
    "#\n",
    "total_cost = sum(total_cost) + shipping_cost(len(orders))\n",
    "\n",
    "# Let's apply the discount through the use of an if statement\n",
    "# ---\n",
    "#\n",
    "if total_cost > 500:\n",
    "  total_cost = total_cost - 10\n",
    "\n",
    "# Printing out the total cost\n",
    "# ---\n",
    "#\n",
    "print(\"Total cost: USD\", total_cost)\n"
   ]
  }
 ],
 "metadata": {
  "colab": {
   "collapsed_sections": [
    "EzAaLbRsTtRL"
   ],
   "name": "[Solution Notebook] Python Basics for Data Science: Dojo Project",
   "provenance": [],
   "toc_visible": true
  },
  "kernelspec": {
   "display_name": "Python 3",
   "language": "python",
   "name": "python3"
  },
  "language_info": {
   "codemirror_mode": {
    "name": "ipython",
    "version": 3
   },
   "file_extension": ".py",
   "mimetype": "text/x-python",
   "name": "python",
   "nbconvert_exporter": "python",
   "pygments_lexer": "ipython3",
   "version": "3.8.3"
  }
 },
 "nbformat": 4,
 "nbformat_minor": 1
}
