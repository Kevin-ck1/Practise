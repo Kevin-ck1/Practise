{
 "cells": [
  {
   "cell_type": "markdown",
   "metadata": {},
   "source": [
    "INCLUDES:\n",
    "\n",
    "    Intro to For Loops\n",
    "    range()\n",
    "    list()\n",
    "    moudlus operator(%)"
   ]
  },
  {
   "cell_type": "markdown",
   "metadata": {},
   "source": [
    "INTRO TO FOR LOOPS"
   ]
  },
  {
   "cell_type": "code",
   "execution_count": 1,
   "metadata": {},
   "outputs": [],
   "source": [
    "# Useful to iterate a list, sum up items in a lists,\n",
    "\n",
    "#Given the lists below, iterate each element\n",
    "\n",
    "a = [\"banana\", \"apple\", \"microsoft\"]"
   ]
  },
  {
   "cell_type": "code",
   "execution_count": 2,
   "metadata": {},
   "outputs": [
    {
     "name": "stdout",
     "output_type": "stream",
     "text": [
      "banana\n",
      "apple\n",
      "microsoft\n"
     ]
    }
   ],
   "source": [
    "for element in a:\n",
    "    print(element)\n",
    "    \n",
    "    \n",
    "#Note the word (element) can be replaced with any word "
   ]
  },
  {
   "cell_type": "code",
   "execution_count": 3,
   "metadata": {},
   "outputs": [
    {
     "name": "stdout",
     "output_type": "stream",
     "text": [
      "20\n",
      "10\n",
      "5\n"
     ]
    }
   ],
   "source": [
    "b =  [20, 10, 5]\n",
    "\n",
    "# to iterate b\n",
    "\n",
    "for x in b:\n",
    "    print(x)\n"
   ]
  },
  {
   "cell_type": "code",
   "execution_count": 4,
   "metadata": {},
   "outputs": [
    {
     "name": "stdout",
     "output_type": "stream",
     "text": [
      "35\n"
     ]
    }
   ],
   "source": [
    "#To find the sum of items, in a lists\n",
    "\n",
    "b =  [20, 10, 5]\n",
    "\n",
    "#First we will have to create a total variable with an intial value of 0\n",
    "#Then for each element in the list we are to add it to the zero, then print the final result\n",
    "\n",
    "total = 0\n",
    "\n",
    "for x in b:\n",
    "    total = total + x\n",
    "    \n",
    "print(total)"
   ]
  },
  {
   "cell_type": "code",
   "execution_count": 5,
   "metadata": {},
   "outputs": [
    {
     "name": "stdout",
     "output_type": "stream",
     "text": [
      "35\n"
     ]
    }
   ],
   "source": [
    "# we can use the shorthand syntax of total = total + X,\n",
    "\n",
    "b =  [20, 10, 5]\n",
    "\n",
    "total = 0\n",
    "\n",
    "for x in b:\n",
    "    total += x\n",
    "print(total)"
   ]
  },
  {
   "cell_type": "markdown",
   "metadata": {},
   "source": [
    "RANGE\n",
    "\n",
    "If we want to creat a range of of numbers, lets say 1,2,3,4\n",
    "To do so we can use the range funtion -- range(1,5), where it gives us the numbers from 1 to 5, but excludes 5,"
   ]
  },
  {
   "cell_type": "markdown",
   "metadata": {},
   "source": [
    "LIST CREATION\n",
    "\n",
    "TO creat a list,  we use the list function\n",
    "To use the list function -- list(inside the bracket place the items of the list)"
   ]
  },
  {
   "cell_type": "code",
   "execution_count": 6,
   "metadata": {},
   "outputs": [
    {
     "name": "stdout",
     "output_type": "stream",
     "text": [
      "range(1, 5)\n"
     ]
    }
   ],
   "source": [
    "#Creating a rage of 1 to 5 and excludeing 5\n",
    "\n",
    "range(1,5)\n",
    "print(range(1,5))"
   ]
  },
  {
   "cell_type": "code",
   "execution_count": 7,
   "metadata": {},
   "outputs": [
    {
     "name": "stdout",
     "output_type": "stream",
     "text": [
      "[1, 2, 3, 4]\n"
     ]
    }
   ],
   "source": [
    "#To creat a list from the given range\n",
    "c = list(range(1, 5))\n",
    "\n",
    "print(c)"
   ]
  },
  {
   "cell_type": "code",
   "execution_count": 8,
   "metadata": {},
   "outputs": [
    {
     "name": "stdout",
     "output_type": "stream",
     "text": [
      "1\n",
      "2\n",
      "3\n",
      "4\n"
     ]
    }
   ],
   "source": [
    "# TO iterate items in a range\n",
    "\n",
    "for i in range(1, 5):\n",
    "    print(i)"
   ]
  },
  {
   "cell_type": "code",
   "execution_count": 10,
   "metadata": {},
   "outputs": [
    {
     "name": "stdout",
     "output_type": "stream",
     "text": [
      "10\n"
     ]
    }
   ],
   "source": [
    "#To find sum of items in a range\n",
    "\n",
    "t = 0\n",
    "\n",
    "for n in range(1, 5):\n",
    "    t += n\n",
    "print(t)"
   ]
  },
  {
   "cell_type": "markdown",
   "metadata": {},
   "source": [
    "MODULUS OPERATOR (%)\n",
    "\n",
    "It is used to output the reminder of a division operationn between two numbers e.g 4 % 3 , gives a reminder of 1"
   ]
  },
  {
   "cell_type": "code",
   "execution_count": 11,
   "metadata": {},
   "outputs": [
    {
     "name": "stdout",
     "output_type": "stream",
     "text": [
      "1\n"
     ]
    }
   ],
   "source": [
    "print(4%3)"
   ]
  },
  {
   "cell_type": "code",
   "execution_count": 13,
   "metadata": {},
   "outputs": [
    {
     "name": "stdout",
     "output_type": "stream",
     "text": [
      "9\n"
     ]
    }
   ],
   "source": [
    "# We can use the % to set a condition, e.g if we want to select items in a range that are a multiple of 3\n",
    "# Hence to find the total of numbers which are a multiple of 3 in the range of 1 to 8\n",
    "\n",
    "t3 = 0\n",
    "\n",
    "for i in range(1, 8):\n",
    "    if i % 3 == 0:\n",
    "        t3 += i\n",
    "print(t3) "
   ]
  },
  {
   "cell_type": "code",
   "execution_count": null,
   "metadata": {},
   "outputs": [],
   "source": [
    "#Quiz, Compute all multiples of 3, 5 that are less than 100\n",
    "# range(1,100) "
   ]
  },
  {
   "cell_type": "code",
   "execution_count": 17,
   "metadata": {},
   "outputs": [
    {
     "name": "stdout",
     "output_type": "stream",
     "text": [
      "2318\n"
     ]
    }
   ],
   "source": [
    "#Solution\n",
    "\n",
    "t = 0\n",
    "\n",
    "for i in range(1,100):\n",
    "    if i % 3 == 0 or i % 5 == 0 :\n",
    "        t += i\n",
    "        \n",
    "print(t)"
   ]
  },
  {
   "cell_type": "code",
   "execution_count": 1,
   "metadata": {},
   "outputs": [
    {
     "name": "stdout",
     "output_type": "stream",
     "text": [
      "banana\n",
      "apple\n",
      "pineapple\n"
     ]
    }
   ],
   "source": [
    "# We can also iterate using index\n",
    "\n",
    "a = [\"banana\", \"apple\", \"pineapple\"]\n",
    "\n",
    "for i in range(3):\n",
    "    print(a[i])"
   ]
  },
  {
   "cell_type": "code",
   "execution_count": 2,
   "metadata": {},
   "outputs": [
    {
     "name": "stdout",
     "output_type": "stream",
     "text": [
      "banana\n",
      "apple\n",
      "apple\n",
      "pineapple\n",
      "pineapple\n",
      "pineapple\n"
     ]
    }
   ],
   "source": [
    "# Note in the above cell range(3) is same as range(0,3) which is -- 0, 1, 2\n",
    "# Hence we are iterating values in a, sourcing the value of the idex from the range\n",
    "\n",
    "# We can create a for loop inside a for loop, \n",
    "# To iterate an item  in reference to its position\n",
    "# In this part, we create a range that increases with each loop,\n",
    "    \n",
    "\n",
    "for i in range(3):\n",
    "    for j in range(i+1):\n",
    "        print(a[i])\n"
   ]
  },
  {
   "cell_type": "code",
   "execution_count": null,
   "metadata": {},
   "outputs": [],
   "source": []
  }
 ],
 "metadata": {
  "kernelspec": {
   "display_name": "Python 3",
   "language": "python",
   "name": "python3"
  },
  "language_info": {
   "codemirror_mode": {
    "name": "ipython",
    "version": 3
   },
   "file_extension": ".py",
   "mimetype": "text/x-python",
   "name": "python",
   "nbconvert_exporter": "python",
   "pygments_lexer": "ipython3",
   "version": "3.8.3"
  }
 },
 "nbformat": 4,
 "nbformat_minor": 4
}
