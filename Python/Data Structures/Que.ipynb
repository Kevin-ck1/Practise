{
 "cells": [
  {
   "cell_type": "code",
   "execution_count": null,
   "metadata": {},
   "outputs": [],
   "source": [
    "# Queue\n",
    "'''   \n",
    "Its an Abstract Data Type.\n",
    "A Queue is a type of list whith the restriction, insertion\n",
    "is done at one end of the queue(rear) while deletion at the other end(front)\n",
    "First Item in First Item out\n",
    "Operations\n",
    "1. Enqueue(x) - push(x)   -- Returns \n",
    "2. Dequeue() -- pop()     -- Returns removed items\n",
    "3. front() or peek()      -- Returns the top of the queue\n",
    "4. isEmpty()\n",
    "\n",
    "All the operations take constant time O(1) to execute\n",
    "\n",
    "Applications\n",
    "1. Printer queue\n",
    "2. Proceess Scheduling\n",
    "3. Simulating wait\n",
    "\n",
    "Below is an example of a queue\n"
   ]
  },
  {
   "cell_type": "code",
   "execution_count": 26,
   "metadata": {},
   "outputs": [
    {
     "data": {
      "text/plain": [
       "'A'"
      ]
     },
     "execution_count": 26,
     "metadata": {},
     "output_type": "execute_result"
    }
   ],
   "source": [
    "#Queue - Array\n",
    "\n",
    "class Queue:\n",
    "    def __init__(self, *args, **kwargs):\n",
    "        self.items = [] # the queue is an modification of a list\n",
    "\n",
    "    def enqueue(self, data):\n",
    "        self.items.append(data)\n",
    "\n",
    "    def dequeue(self):\n",
    "        remove = self.items[0]\n",
    "        del self.items[0]\n",
    "        return remove\n",
    "\n",
    "    def peek(self):\n",
    "        return self.items[0]\n",
    "\n",
    "    def isEmpty(self):\n",
    "        return (self.items == [])\n",
    "\n",
    "    def get_queue(self):\n",
    "        print(self.items if self.items else \"Empty\")\n",
    "    \n",
    "    \n",
    "    \n",
    "q = Queue()\n",
    "q.enqueue(\"A\")\n",
    "q.enqueue(\"B\")\n",
    "# q.get_queue()\n",
    "# print('\\n')\n",
    "# q.dequeue()\n",
    "# q.isEmpty()\n",
    "# q.get_queue()\n",
    "q.peek()\n"
   ]
  },
  {
   "cell_type": "code",
   "execution_count": 39,
   "metadata": {},
   "outputs": [
    {
     "name": "stdout",
     "output_type": "stream",
     "text": [
      "A\n",
      "B\n",
      "C\n",
      "\n",
      "\n",
      "B\n",
      "C\n"
     ]
    }
   ],
   "source": [
    "#Queue as linked list\n",
    "class Node:\n",
    "    def __init__(self, data):\n",
    "        self.data = data\n",
    "        self.next = None\n",
    "class Queue:\n",
    "    def __init__(self):\n",
    "        self.front = None\n",
    "    \n",
    "    def enqueue(self, data):\n",
    "        new_node = Node(data)\n",
    "        # Adding to the head node\n",
    "        if not self.front:\n",
    "            self.front = new_node\n",
    "            return\n",
    "        \n",
    "        #Adding to the last item\n",
    "        cur = self.front\n",
    "        while cur.next:\n",
    "            cur = cur.next\n",
    "        cur.next = new_node\n",
    "    \n",
    "    def dequeue(self):\n",
    "        front = self.front\n",
    "        self.front = self.front.next\n",
    "        return front.data\n",
    "\n",
    "    def peek(self):\n",
    "        return self.front.data if self.front else \"Empty\"\n",
    "\n",
    "    def is_empty(self):\n",
    "        return True if not self.front else False\n",
    "    \n",
    "    def get_queue(self):\n",
    "        cur = self.front\n",
    "\n",
    "        while cur:\n",
    "            print(cur.data)\n",
    "            cur = cur.next\n",
    "\n",
    "q = Queue()\n",
    "q.enqueue(\"A\")\n",
    "q.enqueue(\"B\")\n",
    "q.enqueue(\"C\")\n",
    "\n",
    "q.get_queue()\n",
    "# q.is_empty()\n",
    "q.dequeue()\n",
    "print('\\n')\n",
    "q.get_queue()\n"
   ]
  }
 ],
 "metadata": {
  "kernelspec": {
   "display_name": "Python 3",
   "language": "python",
   "name": "python3"
  },
  "language_info": {
   "codemirror_mode": {
    "name": "ipython",
    "version": 3
   },
   "file_extension": ".py",
   "mimetype": "text/x-python",
   "name": "python",
   "nbconvert_exporter": "python",
   "pygments_lexer": "ipython3",
   "version": "3.10.5"
  },
  "orig_nbformat": 4
 },
 "nbformat": 4,
 "nbformat_minor": 2
}
