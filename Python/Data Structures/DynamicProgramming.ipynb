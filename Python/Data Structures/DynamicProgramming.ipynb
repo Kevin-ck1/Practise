{
 "cells": [
  {
   "cell_type": "code",
   "execution_count": null,
   "metadata": {},
   "outputs": [],
   "source": [
    "# Dynamic Programming\n",
    "\n",
    "'''   \n",
    "Its a alg.., technique used to solve a problem by breaking it\n",
    "down to simpler subproblems.\n",
    "\n",
    "\n",
    "\n",
    "We are going to use the fibancci sequence to explain dynamic programming\n",
    "\n",
    "=> 0, 1, 1, 2, 3, 5, 8, 13...\n",
    "In the sequence to get the nth term we add the two previous numbers\n",
    "nth = (n-1)+(n-2)\n",
    "fib(n) = fib(n-1) + fib(n-2)\n",
    "\n",
    "\n",
    "#Methods that can be used\n",
    "1. Memoization - This is when we save already computed into a hash table,\n",
    "e.g finding the fib of 5\n",
    "fib(5) = fib(4) + fib(3)\n",
    "fib(4) = fib(3) + fib(2)\n",
    "fib(3) = fib(2) + fib(1)\n",
    "fib(2) = fib(1) + fib(0)\n",
    "\n",
    "In the above we can see that fib(1), fib(2), and fib(3) will be repeted \n",
    "several times, so to avoid computing them again and again, we save their values\n",
    "in a hash table and once we hit them again we simply retrieve the value from the table\n",
    "\n"
   ]
  },
  {
   "cell_type": "code",
   "execution_count": 6,
   "metadata": {},
   "outputs": [
    {
     "data": {
      "text/plain": [
       "55"
      ]
     },
     "execution_count": 6,
     "metadata": {},
     "output_type": "execute_result"
    }
   ],
   "source": [
    "#Using recursive function, where n is the index\n",
    "def fib(n):\n",
    "    # base case\n",
    "    if n < 2:\n",
    "        return n\n",
    "\n",
    "    return fib(n-1) + fib(n-2)\n",
    "\n",
    "fib(10)"
   ]
  },
  {
   "cell_type": "code",
   "execution_count": 14,
   "metadata": {},
   "outputs": [
    {
     "data": {
      "text/plain": [
       "832040"
      ]
     },
     "execution_count": 14,
     "metadata": {},
     "output_type": "execute_result"
    }
   ],
   "source": [
    "#Using memoization method\n",
    "\n",
    "def fib_memoization(n, cache={}):\n",
    "    if n < 2:\n",
    "        return n \n",
    "\n",
    "    if n in cache:\n",
    "        return cache[n]\n",
    "    cache[n] = fib_memoization(n-1, cache) + fib_memoization(n-2, cache)\n",
    "\n",
    "    return cache[n]\n",
    "\n",
    "fib_memoization(30)"
   ]
  },
  {
   "cell_type": "code",
   "execution_count": 58,
   "metadata": {},
   "outputs": [
    {
     "name": "stdout",
     "output_type": "stream",
     "text": [
      "i=-7 : prev_min=-14 : min_sum=-14\n",
      "i=3 : prev_min=-11 : min_sum=-14\n",
      "i=4 : prev_min=-7 : min_sum=-14\n",
      "i=-2 : prev_min=-9 : min_sum=-14\n",
      "i=-3 : prev_min=-12 : min_sum=-14\n",
      "i=1 : prev_min=-11 : min_sum=-14\n",
      "i=-3 : prev_min=-14 : min_sum=-14\n",
      "-14\n"
     ]
    }
   ],
   "source": [
    "# Determine the minimum possible sum of any continuous sub array\n",
    "\n",
    "# [-7, 3, 4, -2,-3, 1, -3]\n",
    "\n",
    "#Method 1: Greedy/Brute search\n",
    "#Problem runs in => O(n^2)\n",
    "def minSum(a):\n",
    "    min_sum = float(\"inf\")\n",
    "\n",
    "    for i in a:\n",
    "        for j in range(i+1, len(a)+1):\n",
    "            subarray = a[i:j]\n",
    "            # print(subarray)\n",
    "            min_sum = min(min_sum, sum(subarray))\n",
    "    return min_sum\n",
    "            \n",
    "a = [-7, 3, 4, -2,-3, 1, -3]\n",
    "# print(minSum(a))\n",
    "\n",
    "\n",
    "#Method 2\n",
    "# Note that in the above if we start form -7, sum of the items will be computed several times\n",
    "b = [20, -7, -3, 9, -4, 6, -9, 10]\n",
    "# b = [20, -7]\n",
    "\n",
    "def minSum2(b):\n",
    "    min_sum = b[0]\n",
    "    prev_min = float(\"inf\")\n",
    "\n",
    "    for i in b:\n",
    "        prev_min = min(i , prev_min+i)\n",
    "        min_sum = min(min_sum, prev_min)\n",
    "        print(f\"{i=} : {prev_min=} : {min_sum=}\")\n",
    "    return min_sum\n",
    "\n",
    "print(minSum2(a))\n",
    "\n"
   ]
  },
  {
   "cell_type": "code",
   "execution_count": 59,
   "metadata": {},
   "outputs": [
    {
     "ename": "NameError",
     "evalue": "name 'Queue' is not defined",
     "output_type": "error",
     "traceback": [
      "\u001b[1;31m---------------------------------------------------------------------------\u001b[0m",
      "\u001b[1;31mNameError\u001b[0m                                 Traceback (most recent call last)",
      "Cell \u001b[1;32mIn[59], line 1\u001b[0m\n\u001b[1;32m----> 1\u001b[0m q \u001b[39m=\u001b[39m Queue()\n",
      "\u001b[1;31mNameError\u001b[0m: name 'Queue' is not defined"
     ]
    }
   ],
   "source": []
  }
 ],
 "metadata": {
  "kernelspec": {
   "display_name": "Python 3",
   "language": "python",
   "name": "python3"
  },
  "language_info": {
   "codemirror_mode": {
    "name": "ipython",
    "version": 3
   },
   "file_extension": ".py",
   "mimetype": "text/x-python",
   "name": "python",
   "nbconvert_exporter": "python",
   "pygments_lexer": "ipython3",
   "version": "3.10.5"
  },
  "orig_nbformat": 4
 },
 "nbformat": 4,
 "nbformat_minor": 2
}
