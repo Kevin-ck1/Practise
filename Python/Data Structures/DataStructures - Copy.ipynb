{
 "cells": [
  {
   "cell_type": "code",
   "execution_count": 1,
   "metadata": {},
   "outputs": [],
   "source": [
    "# Data structure - It is a way to store and organise data in a computer\n",
    "'''\n",
    "Data Structures can either be:-\n",
    "    1. Mathematical/Logical models/ Abstract data types e.g list, arrays, \n",
    "    2. Implementation ;- Linked list, \n",
    "\n",
    "\n",
    "## Abstract Data Types- ADT\n",
    "\n",
    "They define data and operations but no implementatins\n",
    "\n",
    "For a data sturcture, we will discuss:\n",
    "    1. Logical view\n",
    "    2. Operations\n",
    "    3. Cost of operations i.e time\n",
    "    4. Implementation\n"
   ]
  },
  {
   "cell_type": "code",
   "execution_count": 1,
   "metadata": {},
   "outputs": [
    {
     "name": "stdout",
     "output_type": "stream",
     "text": [
      "%history\n"
     ]
    }
   ],
   "source": [
    "%history"
   ]
  },
  {
   "cell_type": "code",
   "execution_count": null,
   "metadata": {},
   "outputs": [],
   "source": [
    "''' \n",
    "## LIST as ADT\n",
    "\n",
    "#With we list we are able to;\n",
    "    1. Store a given number of elements of a given data type\n",
    "    2. Write/Modify element at a position\n",
    "    3. Read element at a position\n",
    "\n",
    "### List operations\n",
    "They include :- insert, remove, count, read/modify, element at a position, specify data-type\n",
    "\n",
    "### Insert\n",
    "To insert at the end of the array\n",
    "insert(2)\n",
    "insert(4)\n",
    "insert(6)\n",
    "insert(9)\n",
    "\n",
    "To insert at a particular index point, i.e to insert 5 after 4\n",
    "inisert(5, 2)\n",
    "\n",
    "### Remove, remove at a specific index point\n",
    "remove(0)"
   ]
  }
 ],
 "metadata": {
  "kernelspec": {
   "display_name": "Python 3",
   "language": "python",
   "name": "python3"
  },
  "language_info": {
   "codemirror_mode": {
    "name": "ipython",
    "version": 3
   },
   "file_extension": ".py",
   "mimetype": "text/x-python",
   "name": "python",
   "nbconvert_exporter": "python",
   "pygments_lexer": "ipython3",
   "version": "3.10.5"
  },
  "orig_nbformat": 4
 },
 "nbformat": 4,
 "nbformat_minor": 2
}
