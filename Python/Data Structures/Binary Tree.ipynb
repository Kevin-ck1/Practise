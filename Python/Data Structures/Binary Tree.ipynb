{
 "cells": [
  {
   "cell_type": "code",
   "execution_count": null,
   "metadata": {},
   "outputs": [],
   "source": [
    "#Defining a node class\n",
    "class Node(object):\n",
    "    def __init__(self, value):\n",
    "        self.value = value\n",
    "        self.left = None\n",
    "        self.right = None\n",
    "        \n",
    "#Defining the binary tree class\n",
    "class BinaryTree(object):\n",
    "    def __init__(self, root):\n",
    "        self.root = Node(root)"
   ]
  },
  {
   "cell_type": "code",
   "execution_count": null,
   "metadata": {},
   "outputs": [],
   "source": [
    "#To fill the root\n",
    "\n",
    "#First create a binary tree instance, with inital value 1 as our ancestor or root element\n",
    "tree = BinaryTree(1)\n",
    "\n",
    "#To fill in the node\n",
    "tree.root.left = Node(2)\n",
    "tree.root.right = Node(3)\n",
    "\n",
    "#Next level on the left node\n",
    "tree.root.left.left = Node(4)\n",
    "tree.root.left.right = Node(5)\n",
    "\n",
    "#Next level on the right node\n",
    "tree.root.right.left = Node(6)\n",
    "tree.root.right.right = Node(7)\n",
    "\n",
    "tree.root.right.right.right = Node(8)\n",
    "\n"
   ]
  },
  {
   "cell_type": "code",
   "execution_count": null,
   "metadata": {},
   "outputs": [],
   "source": [
    "#Binary Tree Traversals\n",
    "#Depth-first search -- in-order, pre-oder, and post-order\n",
    "#Breadth-first order\n",
    "\n",
    "## Pre-order Traversal\n",
    "#In this case, we will start at the root, then to the left, if this node has children to traverse to the left, till the last \n",
    "#Item on the left is hit, once we hit the last left item, we traverse up the node an check if it has a right child, if so we \n",
    "#use we traverse the left side again, and repeat the process.\n"
   ]
  },
  {
   "cell_type": "code",
   "execution_count": null,
   "metadata": {},
   "outputs": [],
   "source": [
    "# To write of preoder search function \n",
    "\n",
    "#Defining the binary tree class\n",
    "class BinaryTree(object):\n",
    "    def __init__(self, root):\n",
    "        self.root = Node(root)\n",
    "    \n",
    "    #Helper function\n",
    "    def print_tree(self,traversal_type):\n",
    "        if traversal_type == \"preorder\":\n",
    "            return self.preorder_print(tree.root, \"\")\n",
    "        else:\n",
    "            print(f\"Traversal type {traversal_type} is not supported\")\n",
    "        \n",
    "    #Preorder function\n",
    "    def preorder_print(self, start, traversal):\n",
    "        if start:\n",
    "            traversal += (str(start.value) + \"-\")\n",
    "            traversal = self.preorder_print(start.left, traversal)\n",
    "            traversal = self.preorder_print(start.right, traversal)\n",
    "        return traversal "
   ]
  },
  {
   "cell_type": "code",
   "execution_count": null,
   "metadata": {},
   "outputs": [],
   "source": [
    "#To fill the root, again\n",
    "\n",
    "#First create a binary tree instance, with inital value 1 as our ancestor or root element\n",
    "tree = BinaryTree(1)\n",
    "\n",
    "#To fill in the node\n",
    "tree.root.left = Node(2)\n",
    "tree.root.right = Node(3)\n",
    "\n",
    "#Next level on the left node\n",
    "tree.root.left.left = Node(4)\n",
    "tree.root.left.right = Node(5)\n",
    "\n",
    "#Next level on the right node\n",
    "tree.root.right.left = Node(6)\n",
    "tree.root.right.right = Node(7)\n",
    "\n",
    "tree.root.right.right.right = Node(8)\n"
   ]
  },
  {
   "cell_type": "code",
   "execution_count": null,
   "metadata": {},
   "outputs": [
    {
     "data": {
      "text/plain": [
       "'1-2-4-5-3-6-7-8-'"
      ]
     },
     "execution_count": 10,
     "metadata": {},
     "output_type": "execute_result"
    }
   ],
   "source": [
    "#To fire the print_tree function and Subsequently the preorder_print\n",
    "tree.print_tree(\"preorder\")"
   ]
  },
  {
   "cell_type": "code",
   "execution_count": null,
   "metadata": {},
   "outputs": [],
   "source": [
    "#In-order traversal\n",
    "#We start form the left most child going up, "
   ]
  },
  {
   "cell_type": "code",
   "execution_count": null,
   "metadata": {},
   "outputs": [],
   "source": [
    "#Adding the in-order function\n",
    "\n",
    "#Defining the binary tree class\n",
    "class BinaryTree(object):\n",
    "    def __init__(self, root):\n",
    "        self.root = Node(root)\n",
    "    \n",
    "    #Helper function\n",
    "    def print_tree(self,traversal_type):\n",
    "        if traversal_type == \"preorder\":\n",
    "            return self.preorder_print(tree.root, \"\")\n",
    "        elif traversal_type == \"inorder\":\n",
    "            return self.inorder_print(tree.root, \"\")\n",
    "        else:\n",
    "            print(f\"Traversal type {traversal_type} is not supported\")\n",
    "        \n",
    "    #Preorder traversal function\n",
    "    def preorder_print(self, start, traversal):\n",
    "        #Root => Left => Right\n",
    "        if start:\n",
    "            traversal += (str(start.value) + \"-\") #root\n",
    "            traversal = self.preorder_print(start.left, traversal) #left\n",
    "            traversal = self.preorder_print(start.right, traversal) #right\n",
    "        return traversal \n",
    "    \n",
    "    #In-order traversal function\n",
    "    def inorder_print(self, start, traversal):\n",
    "        #Left => Root => Right\n",
    "        if start:\n",
    "            traversal = self.inorder_print(start.left, traversal) #left\n",
    "            traversal += (str(start.value) + \"-\") #root\n",
    "            traversal = self.inorder_print(start.right, traversal) #right\n",
    "        return traversal   \n",
    "        "
   ]
  },
  {
   "cell_type": "code",
   "execution_count": null,
   "metadata": {},
   "outputs": [
    {
     "data": {
      "text/plain": [
       "'4-2-5-1-6-3-7-8-'"
      ]
     },
     "execution_count": 14,
     "metadata": {},
     "output_type": "execute_result"
    }
   ],
   "source": [
    "#To fire the print_tree function and Subsequently the inorder_print\n",
    "tree.print_tree(\"inorder\")\n"
   ]
  },
  {
   "cell_type": "code",
   "execution_count": null,
   "metadata": {},
   "outputs": [],
   "source": [
    "#Post order\n",
    "\n",
    "#Defining the binary tree class\n",
    "class BinaryTree(object):\n",
    "    def __init__(self, root):\n",
    "        self.root = Node(root)\n",
    "    \n",
    "    #Helper function\n",
    "    def print_tree(self,traversal_type):\n",
    "        if traversal_type == \"preorder\":\n",
    "            return self.preorder_print(tree.root, \"\")\n",
    "        elif traversal_type == \"inorder\":\n",
    "            return self.inorder_print(tree.root, \"\")\n",
    "        elif traversal_type == \"postorder\":\n",
    "            return self.postorder_print(tree.root, \"\")\n",
    "        else:\n",
    "            print(f\"Traversal type {traversal_type} is not supported\")\n",
    "        \n",
    "    #Preorder traversal function\n",
    "    def preorder_print(self, start, traversal):\n",
    "        #Root => Left => Right\n",
    "        if start:\n",
    "            traversal += (str(start.value) + \"-\") #root\n",
    "            traversal = self.preorder_print(start.left, traversal) #left\n",
    "            traversal = self.preorder_print(start.right, traversal) #right\n",
    "        return traversal \n",
    "    \n",
    "    #In-order traversal function\n",
    "    def inorder_print(self, start, traversal):\n",
    "        #Left => Root => Right\n",
    "        if start:\n",
    "            traversal = self.inorder_print(start.left, traversal) #left\n",
    "            traversal += (str(start.value) + \"-\") #root\n",
    "            traversal = self.inorder_print(start.right, traversal) #right\n",
    "        return traversal   \n",
    "    \n",
    "    #Post-order traversal function\n",
    "    def postorder_print(self, start, traversal):\n",
    "        #Left => Right => Root\n",
    "        if start:\n",
    "            traversal = self.postorder_print(start.left, traversal) #left\n",
    "            traversal = self.postorder_print(start.right, traversal) #right\n",
    "            traversal += (str(start.value) + \"-\") #root\n",
    "        return traversal   "
   ]
  },
  {
   "cell_type": "code",
   "execution_count": null,
   "metadata": {},
   "outputs": [
    {
     "data": {
      "text/plain": [
       "'4-5-2-6-8-7-3-1-'"
      ]
     },
     "execution_count": 21,
     "metadata": {},
     "output_type": "execute_result"
    }
   ],
   "source": [
    "#To fire the print_tree function and Subsequently the post-order_print\n",
    "tree.print_tree(\"postorder\")"
   ]
  },
  {
   "cell_type": "code",
   "execution_count": null,
   "metadata": {},
   "outputs": [
    {
     "data": {
      "text/plain": [
       "<__main__.BinaryTree at 0x23e8a3ffee0>"
      ]
     },
     "execution_count": 22,
     "metadata": {},
     "output_type": "execute_result"
    }
   ],
   "source": [
    "tree"
   ]
  },
  {
   "cell_type": "code",
   "execution_count": null,
   "metadata": {},
   "outputs": [
    {
     "data": {
      "text/plain": [
       "1"
      ]
     },
     "execution_count": 25,
     "metadata": {},
     "output_type": "execute_result"
    }
   ],
   "source": [
    "tree.root.value"
   ]
  },
  {
   "cell_type": "code",
   "execution_count": null,
   "metadata": {},
   "outputs": [
    {
     "data": {
      "text/plain": [
       "2"
      ]
     },
     "execution_count": 27,
     "metadata": {},
     "output_type": "execute_result"
    }
   ],
   "source": [
    "tree.root.left.value"
   ]
  },
  {
   "cell_type": "code",
   "execution_count": null,
   "metadata": {},
   "outputs": [],
   "source": [
    "#Level-order traversal- Breadth\n",
    "\n",
    "      1\n",
    "    /   \\\n",
    "   2      3\n",
    "  / \\\n",
    " 4   5\n",
    "\n",
    "#Expected result for this will be\n",
    "12345\n",
    "'''\n",
    "To get the above sequence, we place the root as the first element in a queue, and the left and \n",
    "right element placed as the second and third elements of the queue. We then pick the next element\n",
    "in the queue and get its corresponding left and right element and place them in the queue, so on \n",
    "and so on"
   ]
  },
  {
   "cell_type": "code",
   "execution_count": null,
   "metadata": {},
   "outputs": [],
   "source": [
    "# Writing the code\n",
    "#We will have to create a queue class, that is a modified version of python list data structure\n",
    "class Queue(object):\n",
    "    def __init__(self, *args, **kwargs):\n",
    "        self.items = []\n",
    "    #For adding items to the queue\n",
    "    def enqueue(self, item):\n",
    "        self.items.insert(0, item)\n",
    "        \n",
    "    #Removing element from the front of the line\n",
    "    def dequeue(self):\n",
    "        if not self.is_empty():\n",
    "            return self.items.pop()\n",
    "\n",
    "    #Checking if the items list is empty\n",
    "    def is_empty(self):\n",
    "        return len(self.items) == 0\n",
    "\n",
    "    #Return the last element of the items array\n",
    "    def peek(self):\n",
    "        if not self.is_empty():\n",
    "            return self.items[-1].value\n",
    "\n",
    "    #Check size of the items lists\n",
    "    def __len__(self):\n",
    "        return self.size()\n",
    "    def size(size):\n",
    "        return len(self.items) "
   ]
  },
  {
   "cell_type": "code",
   "execution_count": null,
   "metadata": {},
   "outputs": [],
   "source": [
    "# Creating the Level-order function\n",
    "\n",
    "#Defining the binary tree class\n",
    "class BinaryTree(object):\n",
    "    def __init__(self, root):\n",
    "        self.root = Node(root)\n",
    "    \n",
    "    #Helper function\n",
    "    def print_tree(self,traversal_type):\n",
    "        if traversal_type == \"preorder\":\n",
    "            return self.preorder_print(tree.root, \"\")\n",
    "        elif traversal_type == \"inorder\":\n",
    "            return self.inorder_print(tree.root, \"\")\n",
    "        elif traversal_type == \"postorder\":\n",
    "            return self.postorder_print(tree.root, \"\")\n",
    "        elif traversal_type == \"levelorder\":\n",
    "            return self.levelorder_print(tree.root)\n",
    "        else:\n",
    "            print(f\"Traversal type {traversal_type} is not supported\")\n",
    "        \n",
    "    #Preorder traversal function\n",
    "    def preorder_print(self, start, traversal):\n",
    "        #Root => Left => Right\n",
    "        if start:\n",
    "            traversal += (str(start.value) + \"-\") #root\n",
    "            traversal = self.preorder_print(start.left, traversal) #left\n",
    "            traversal = self.preorder_print(start.right, traversal) #right\n",
    "        return traversal \n",
    "    \n",
    "    #In-order traversal function\n",
    "    def inorder_print(self, start, traversal):\n",
    "        #Left => Root => Right\n",
    "        if start:\n",
    "            traversal = self.inorder_print(start.left, traversal) #left\n",
    "            traversal += (str(start.value) + \"-\") #root\n",
    "            traversal = self.inorder_print(start.right, traversal) #right\n",
    "        return traversal   \n",
    "    \n",
    "    #Post-order traversal function\n",
    "    def postorder_print(self, start, traversal):\n",
    "        #Left => Right => Root\n",
    "        if start:\n",
    "            traversal = self.postorder_print(start.left, traversal) #left\n",
    "            traversal = self.postorder_print(start.right, traversal) #right\n",
    "            traversal += (str(start.value) + \"-\") #root\n",
    "        return traversal  \n",
    "\n",
    "    #Level-order traversal function\n",
    "    def levelorder_print(self, start):\n",
    "        if start is None:\n",
    "            return\n",
    "        #Creating a queue items\n",
    "        queue = Queue()\n",
    "\n",
    "        #populating the queue with the first item\n",
    "        queue.enqueue(start)\n",
    "        traversal = ''\n",
    "        while len(queue) > 0:\n",
    "            traversal += str(queue.peek()) + \"-\"\n",
    "            node = queue.dequeue()\n",
    "            if node.left:\n",
    "                queue.enqueue(node.left)\n",
    "            if node.right:\n",
    "                queue.enqueue(node.right)\n",
    "        return traversal\n"
   ]
  },
  {
   "cell_type": "code",
   "execution_count": null,
   "metadata": {},
   "outputs": [],
   "source": [
    "tree.print_tree(\"levelorder\")"
   ]
  },
  {
   "cell_type": "code",
   "execution_count": null,
   "metadata": {},
   "outputs": [],
   "source": []
  }
 ],
 "metadata": {
  "kernelspec": {
   "display_name": "Python 3",
   "language": "python",
   "name": "python3"
  },
  "language_info": {
   "codemirror_mode": {
    "name": "ipython",
    "version": 3
   },
   "file_extension": ".py",
   "mimetype": "text/x-python",
   "name": "python",
   "nbconvert_exporter": "python",
   "pygments_lexer": "ipython3",
   "version": "3.8.3"
  }
 },
 "nbformat": 4,
 "nbformat_minor": 4
}
