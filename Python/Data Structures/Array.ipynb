{
 "cells": [
  {
   "cell_type": "code",
   "execution_count": null,
   "metadata": {},
   "outputs": [],
   "source": [
    "# Array Advance Game\n",
    "'''   \n",
    "Given an array of non-negative intergers, e.g\n",
    "[3,3,1,0,2,1]\n",
    "Each number represents the maximum steps we can advance in the array\n",
    "\n",
    "Target is to check if we can advance to the last element\n",
    "\n",
    "There are two methods that can be used\n",
    "1. The greedy approach\n",
    "2. The furtherest reach\n",
    "\n",
    "1. The greedy approach\n",
    "It is not ideal, it fails in some array\n",
    "In this case we take the element and the steps to advance will be the value of the element \n",
    "we land on\n",
    "\n",
    "2. Furthest reach\n",
    "In this case we iterate through each value of the array and check the value of furthes reach\n",
    "And where by the value of furthest reached should be less than the current index of the item\n",
    "to get furthest reached\n",
    "\n",
    "A = []\n",
    "index = i\n",
    "furthest_reached = max(furthest_reached, A[index] + index )"
   ]
  },
  {
   "cell_type": "code",
   "execution_count": 16,
   "metadata": {},
   "outputs": [
    {
     "name": "stdout",
     "output_type": "stream",
     "text": [
      "3\n",
      "4\n",
      "4\n",
      "4\n",
      "6\n",
      "6\n"
     ]
    },
    {
     "data": {
      "text/plain": [
       "True"
      ]
     },
     "execution_count": 16,
     "metadata": {},
     "output_type": "execute_result"
    }
   ],
   "source": [
    "#\n",
    "def can_advance(a):\n",
    "    index = 0\n",
    "    furthest_reached = 1\n",
    "    # while index < furthest_reached and furthest_reached < len(a)-1\n",
    "    while index < len(a) and index <= furthest_reached:\n",
    "        furthest_reached = max(furthest_reached, a[index]+index)\n",
    "        index += 1\n",
    "        print(furthest_reached)\n",
    "\n",
    "    # return a[furthest_reached - 1] == a[-1]\n",
    "    return furthest_reached == len(a) \n",
    "can_advance([3,3,1,0,2,1])\n",
    "can_advance([3,3,1,0,2,0,1])\n",
    "\n",
    "# can_advance([3,2,0,0,2,0,1])\n"
   ]
  },
  {
   "cell_type": "code",
   "execution_count": null,
   "metadata": {},
   "outputs": [],
   "source": []
  },
  {
   "cell_type": "code",
   "execution_count": 14,
   "metadata": {},
   "outputs": [
    {
     "name": "stdout",
     "output_type": "stream",
     "text": [
      "0\n",
      "0\n"
     ]
    },
    {
     "data": {
      "text/plain": [
       "[1, 0, 0, 0]"
      ]
     },
     "execution_count": 14,
     "metadata": {},
     "output_type": "execute_result"
    }
   ],
   "source": [
    "#Arbitrary Precision Increment\n",
    "#In this problem, you are given an array of a certain size, which each item of the array been a number between 0 and 9, \n",
    "# i.e < 10,\n",
    "# the goal is to add 1 to the array and get the below results, e.g if the array is [1,4,9] + 1 = [1,5,0] i,e 149+1 = 150\n",
    "\n",
    "def precision(a):\n",
    "    i = len(a)-1\n",
    "    a[-1] += 1\n",
    "    while i != 0:\n",
    "        if a[i] == 10:\n",
    "            a[i] = 0\n",
    "            a[i-1] += 1\n",
    "        i -= 1\n",
    "    if a[0] == 10:\n",
    "        a[0] = 1\n",
    "        a.append(0)\n",
    "    return a \n",
    "\n",
    "a = [1,4,9]\n",
    "b = [9,9,9]\n",
    "precision(b)\n"
   ]
  },
  {
   "cell_type": "code",
   "execution_count": 22,
   "metadata": {},
   "outputs": [
    {
     "data": {
      "text/plain": [
       "[9, 8, 8, 8]"
      ]
     },
     "execution_count": 22,
     "metadata": {},
     "output_type": "execute_result"
    }
   ],
   "source": [
    "#Refactoring the above code, so that we can add more than 1\n",
    "def precision(a, add):\n",
    "    j = 0\n",
    "    \n",
    "    while j < add:\n",
    "        i = len(a)-1\n",
    "        a[-1] += 1\n",
    "        while i != 0:\n",
    "            if a[i] == 10:\n",
    "                a[i] = 0\n",
    "                a[i-1] += 1\n",
    "            i -= 1\n",
    "        if a[0] == 10:\n",
    "            a[0] = 1\n",
    "            a.append(0)\n",
    "        j+=1\n",
    "    return a \n",
    "\n",
    "a = [1,4,9]\n",
    "b = [9,9,9]\n",
    "c = [9,8,7,8]\n",
    "precision(c, 10)"
   ]
  },
  {
   "cell_type": "code",
   "execution_count": 28,
   "metadata": {},
   "outputs": [
    {
     "name": "stdout",
     "output_type": "stream",
     "text": [
      "150\n",
      "[1, 5, 0]\n"
     ]
    }
   ],
   "source": [
    "#We can also change the array to a string then interger then add one and reverse back\n",
    "def precision(a):\n",
    "    #Converting the array to a string, interger\n",
    "    num = int(\"\".join(map(str, a)))\n",
    "    print(num+1)\n",
    "    #Converting back to array\n",
    "    new_list  = [int(digit) for digit in str(num+1)]\n",
    "    print(new_list)\n",
    "\n",
    "a = [1,4,9]\n",
    "precision(a)"
   ]
  },
  {
   "cell_type": "code",
   "execution_count": 35,
   "metadata": {},
   "outputs": [
    {
     "data": {
      "text/plain": [
       "[(2, 11)]"
      ]
     },
     "execution_count": 35,
     "metadata": {},
     "output_type": "execute_result"
    }
   ],
   "source": [
    "#Two sum problem: Given an array check for two digits that their sum is equal to the target value\n",
    "# E.g given the array [1,2,3,4] and check for the target value 5, we are to use the below appoach to avoid doing an operation\n",
    "# more than once\n",
    "\n",
    "# There are three methods\n",
    "#Method 1: Brute Force\n",
    "# In this:\n",
    "# Time complexity: o(n^2) - It uses two loops\n",
    "# Space Complexity: O(n) - We create a list to store the values\n",
    "\n",
    "#(1,2), (1,3), (1,4)\n",
    "#(2,3), (2,4)\n",
    "#(3,4)\n",
    "\n",
    "def sum_check(a, target):\n",
    "    answ = []\n",
    "    i = 0\n",
    "    while i < len(a)-1:\n",
    "        j = i+1\n",
    "        while j < len(a):\n",
    "            if a[i] + a[j] == target:\n",
    "                answ.append((a[i], a[j]))\n",
    "            j += 1\n",
    "        i += 1\n",
    "    return answ\n",
    "\n",
    "a = [1,2,3,4]\n",
    "b = [-2, 1, 2, 7, 11]\n",
    "\n",
    "sum_check(b, 13)"
   ]
  },
  {
   "cell_type": "code",
   "execution_count": 46,
   "metadata": {},
   "outputs": [
    {
     "data": {
      "text/plain": [
       "[(7, -2)]"
      ]
     },
     "execution_count": 46,
     "metadata": {},
     "output_type": "execute_result"
    }
   ],
   "source": [
    "# Method two : Hash Table\n",
    "#In this method we create a hash table whose key are the difference between the item in the list and target,\n",
    "#And for each element in the list, we check if it has a similar key in the hashtable\n",
    "# a = []\n",
    "# ht = {}\n",
    "# ht[target - a[i]] = a[i],\n",
    "#if an item in the list has a corresponding key in the hashtable, we take it as true\n",
    "\n",
    "#Time complexity: o(n) - It uses one loop\n",
    "# Space Complexity: O(2n) - We create a list to store the values + to create the hash table\n",
    "\n",
    "def sum_check(a, target):\n",
    "    answ = []\n",
    "    ht = {}\n",
    "    for i in range(len(a)):\n",
    "        if a[i] in ht:\n",
    "            answ.append((a[i], ht[a[i]]))\n",
    "        else:\n",
    "            ht[target - a[i]] = a[i]\n",
    "    return answ\n",
    "\n",
    "a = [1,2,3,4]\n",
    "b = [-2, 1, 2, 7, 11]\n",
    "\n",
    "sum_check(b, 5)"
   ]
  },
  {
   "cell_type": "code",
   "execution_count": 56,
   "metadata": {},
   "outputs": [
    {
     "data": {
      "text/plain": [
       "[]"
      ]
     },
     "execution_count": 56,
     "metadata": {},
     "output_type": "execute_result"
    }
   ],
   "source": [
    "#Adding from the furthest right\n",
    "#In this method we are assuming the list is sorted.\n",
    "# First we will start the end as our fixed point, and add it to the first value.\n",
    "#If the result of the two is greater than the target, we add the last value to the second value,\n",
    "# if the target value is less instead, we reamin at the first point, but for the last value we drop by one\n",
    "\n",
    "#In this case;\n",
    "#Time complexity: o(n) - It uses one loops\n",
    "# Space Complexity: O(n) - We create a list to store the values\n",
    "\n",
    "def check_sum(a, target):\n",
    "    # since we are to operate on an ascending list\n",
    "    a.sort()\n",
    "    i = 0  # Start of list\n",
    "    j = len(a) - 1 #End of list\n",
    "    answ = []\n",
    "\n",
    "    while i <= j:\n",
    "        if a[i] + a[j] == target:\n",
    "            answ.append((a[i], a[j]))\n",
    "            i += 1\n",
    "        elif a[i] + a[j] < target:\n",
    "            i += 1\n",
    "        else:\n",
    "            j -= 1\n",
    "    return (answ)\n",
    "\n",
    "a = [1,2,3,4]\n",
    "b = [-2, 1, 2, 7, 11]\n",
    "\n",
    "check_sum(b, 11)"
   ]
  },
  {
   "cell_type": "code",
   "execution_count": 63,
   "metadata": {},
   "outputs": [
    {
     "data": {
      "text/plain": [
       "30"
      ]
     },
     "execution_count": 63,
     "metadata": {},
     "output_type": "execute_result"
    }
   ],
   "source": [
    "# Stock: Buy and Sell to Find Max Profit\n",
    "# We can use the brute force approach, where we iterate twice, or the below method\n",
    "# In this case we are going to loop through once, and each step, take note of the \n",
    "# minume item seen, and in each step, find the max profit\n",
    "\n",
    "def profit(a):\n",
    "    max_profit = 0\n",
    "    min_entry = a[0]\n",
    "    for i in range(len(a)):\n",
    "        min_entry = min(min_entry, a[i])\n",
    "        max_profit = max(max_profit, a[i]-min_entry)\n",
    "    return max_profit\n",
    "\n",
    "a = [310, 315, 275, 295, 260, 270, 290, 230, 255, 250]\n",
    "profit(a)"
   ]
  },
  {
   "cell_type": "code",
   "execution_count": null,
   "metadata": {},
   "outputs": [],
   "source": []
  }
 ],
 "metadata": {
  "kernelspec": {
   "display_name": "Python 3",
   "language": "python",
   "name": "python3"
  },
  "language_info": {
   "codemirror_mode": {
    "name": "ipython",
    "version": 3
   },
   "file_extension": ".py",
   "mimetype": "text/x-python",
   "name": "python",
   "nbconvert_exporter": "python",
   "pygments_lexer": "ipython3",
   "version": "3.10.5"
  },
  "orig_nbformat": 4
 },
 "nbformat": 4,
 "nbformat_minor": 2
}
